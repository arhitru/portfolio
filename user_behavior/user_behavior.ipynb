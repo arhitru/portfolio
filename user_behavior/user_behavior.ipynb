{
 "cells": [
  {
   "cell_type": "markdown",
   "metadata": {},
   "source": [
    "# Анализ поведения пользователей мобильного приложения."
   ]
  },
  {
   "cell_type": "markdown",
   "metadata": {},
   "source": [
    "Изучение воронки продаж и пути пользователей к покупке, выявление количества пользователей, доходящих до покупки и проблемных этапов. <br>\n",
    "Исследование результатов А/А/В-эксперимента, для выяснения целесообразности измениения шрифта."
   ]
  },
  {
   "cell_type": "code",
   "execution_count": 1,
   "metadata": {},
   "outputs": [],
   "source": [
    "import pandas as pd\n",
    "import numpy as np\n",
    "from IPython.display import display\n",
    "import matplotlib as mpl\n",
    "import matplotlib.pyplot as plt \n",
    "import os\n",
    "import datetime as dt\n",
    "import scipy.stats as st\n",
    "import math as mth"
   ]
  },
  {
   "cell_type": "code",
   "execution_count": 2,
   "metadata": {},
   "outputs": [],
   "source": [
    "pd.options.display.max_colwidth = 150"
   ]
  },
  {
   "cell_type": "code",
   "execution_count": 3,
   "metadata": {},
   "outputs": [],
   "source": [
    "pthl1 = '/datasets/logs_exp.csv'\n",
    "pthw1 = 'datasets\\logs_exp.csv'"
   ]
  },
  {
   "cell_type": "code",
   "execution_count": 4,
   "metadata": {},
   "outputs": [],
   "source": [
    "# критический уровень статистической значимости\n",
    "alpha5 = 0.05  \n",
    "alpha1 = 0.01  "
   ]
  },
  {
   "cell_type": "markdown",
   "metadata": {},
   "source": [
    "Зададим необходимые функции"
   ]
  },
  {
   "cell_type": "code",
   "execution_count": 5,
   "metadata": {},
   "outputs": [],
   "source": [
    "# перекрёстная уникальность пользователей\n",
    "def users_not_unique(dataset1, dataset2):\n",
    "    users_not_uniq = np.intersect1d(dataset1, dataset2)\n",
    "    return len(users_not_uniq)"
   ]
  },
  {
   "cell_type": "code",
   "execution_count": 6,
   "metadata": {},
   "outputs": [],
   "source": [
    "# Создание таблиц по группам\n",
    "def fil_no_dup(dataset, col, group):\n",
    "    dataset = dataset[dataset[col] == group]\n",
    "    return dataset"
   ]
  },
  {
   "cell_type": "code",
   "execution_count": 7,
   "metadata": {},
   "outputs": [],
   "source": [
    "# Создание таблицы без указанной группы\n",
    "def fil_no_dup_excl(dataset, col, group):\n",
    "    dataset = dataset[dataset[col] != group]\n",
    "    return dataset"
   ]
  },
  {
   "cell_type": "code",
   "execution_count": 8,
   "metadata": {},
   "outputs": [],
   "source": [
    "# Уникальные пользователи в группe и их количество\n",
    "def fil_no_dup_uniq(dataset, col):\n",
    "    dataset = dataset[col].unique()\n",
    "    users_unique = len(dataset) #['device_id_hash'].nunique()\n",
    "    return dataset, users_unique"
   ]
  },
  {
   "cell_type": "code",
   "execution_count": 9,
   "metadata": {},
   "outputs": [],
   "source": [
    "# Даты начала и окончания теста\n",
    "def exp_timedelta(dataset, col):\n",
    "    date_min = dataset[col].min()\n",
    "    date_max = dataset[col].max()\n",
    "    return date_min, date_max"
   ]
  },
  {
   "cell_type": "code",
   "execution_count": 10,
   "metadata": {},
   "outputs": [],
   "source": [
    "# Воронка событий\n",
    "def funnel_events(dataset, event, id_hash):\n",
    "    dataset = dataset.groupby(event).agg({id_hash: 'count'}).sort_values(by=id_hash, ascending=False)\n",
    "    column = id_hash + '_count'\n",
    "    dataset.columns = [column]\n",
    "    return dataset"
   ]
  },
  {
   "cell_type": "code",
   "execution_count": 11,
   "metadata": {},
   "outputs": [],
   "source": [
    "# Уникальные пользователи в шаг\n",
    "def funnel_events_uniq_step (dataset, event_col, event_list, id_hash):\n",
    "    usr_uniq_step=[]\n",
    "    for i in event_list:\n",
    "        usr_uniq_step.append(dataset.loc[(dataset[event_col] == i)][id_hash].nunique())\n",
    "    return usr_uniq_step"
   ]
  },
  {
   "cell_type": "code",
   "execution_count": 12,
   "metadata": {},
   "outputs": [],
   "source": [
    "# Доля уникальных пользователей в шаг\n",
    "def funnel_events_uniq_step_fraction(usr_uniq_step, usr_uniq_cohort):\n",
    "    usr_uniq_step_frac=[]\n",
    "    for i in usr_uniq_step:\n",
    "        usr_uniq_step_frac.append(i / usr_uniq_cohort)\n",
    "    return usr_uniq_step_frac"
   ]
  },
  {
   "cell_type": "code",
   "execution_count": 13,
   "metadata": {},
   "outputs": [],
   "source": [
    "### Сложение данных двух датасетов\n",
    "def funnel_events_uniq_step_combined(dataset1, dataset2):\n",
    "    dataset_combined=[]\n",
    "    if len(dataset1) >= len(dataset2):\n",
    "        for i in range(len(dataset1)):\n",
    "            dataset_combined.append(dataset1[i] + dataset2[i])\n",
    "    else:\n",
    "         for i in range(len(dataset2)):\n",
    "            dataset_combined.append(dataset2[i] + dataset1[i])\n",
    "    return dataset_combined"
   ]
  },
  {
   "cell_type": "code",
   "execution_count": 14,
   "metadata": {},
   "outputs": [],
   "source": [
    "# Проверка гипотезы о равенстве долей на шаге\n",
    "def checking_equality_shares(dataset1, dataset2, usr_uniq_cohort1, usr_uniq_cohort2, alpha):\n",
    "    alpha_str = str(alpha)\n",
    "    # задаем стандартное нормальное распределение (среднее 0, ст.отклонение 1)\n",
    "    distr = st.norm(0, 1) \n",
    "    if len(dataset1) >= len(dataset2):\n",
    "        for i in range(len(dataset1)):\n",
    "            dataset3 = dataset1\n",
    "    else:\n",
    "         for i in range(len(dataset2)):\n",
    "            dataset3 = dataset2\n",
    "            dataset2 = dataset1\n",
    "    for i in range(len(dataset3)-1):\n",
    "        step = logs_exp_event_name[i]\n",
    "        # пропорция успехов в первой группе на шаге:\n",
    "        d1 = dataset3[i] / usr_uniq_cohort1\n",
    "        # пропорция успехов во второй группе на шаге:\n",
    "        d2 = dataset2[i] / usr_uniq_cohort2\n",
    "        # разница пропорций в датасетах\n",
    "        difference = d1 - d2\n",
    "        # пропорция успехов в комбинированном датасете:\n",
    "        d_combined = (dataset1[i] + dataset2[i]) / (usr_uniq_cohort1 + usr_uniq_cohort2)\n",
    "        # считаем статистику в ст.отклонениях стандартного нормального распределения\n",
    "        z_value = difference / mth.sqrt(d_combined * (1 - d_combined) * (1/usr_uniq_cohort1 + 1/usr_uniq_cohort2))\n",
    "        p_value = (1 - distr.cdf(abs(z_value))) * 2\n",
    "        \n",
    "        print('p-значение на шаге ' + step + ':', p_value)\n",
    "        if p_value < alpha:\n",
    "            print('Hа имеющихся данных, на уровне значимости ' + alpha_str + '% есть основания отвергнуть нулевую гипотезу о равенстве долей в пользу альтернативной гипотезы')\n",
    "        else:\n",
    "            print(\n",
    "                    'Не получилось отвергнуть нулевую гипотезу, на уровне значимости ' + alpha_str + '% нет оснований считать доли разными'\n",
    "                    )\n",
    "    return"
   ]
  },
  {
   "cell_type": "markdown",
   "metadata": {},
   "source": [
    "## Обзор данных"
   ]
  },
  {
   "cell_type": "code",
   "execution_count": 15,
   "metadata": {},
   "outputs": [],
   "source": [
    "if os.path.exists(pthl1):\n",
    "    logs_exp = pd.read_csv(pthl1, sep='\\t')\n",
    "elif os.path.exists(pthw1):\n",
    "    logs_exp = pd.read_csv(pthw1, sep='\\t')\n",
    "else:\n",
    "    print('Something is wrong')"
   ]
  },
  {
   "cell_type": "code",
   "execution_count": 16,
   "metadata": {
    "scrolled": true
   },
   "outputs": [
    {
     "data": {
      "text/html": [
       "<div>\n",
       "<style scoped>\n",
       "    .dataframe tbody tr th:only-of-type {\n",
       "        vertical-align: middle;\n",
       "    }\n",
       "\n",
       "    .dataframe tbody tr th {\n",
       "        vertical-align: top;\n",
       "    }\n",
       "\n",
       "    .dataframe thead th {\n",
       "        text-align: right;\n",
       "    }\n",
       "</style>\n",
       "<table border=\"1\" class=\"dataframe\">\n",
       "  <thead>\n",
       "    <tr style=\"text-align: right;\">\n",
       "      <th></th>\n",
       "      <th>EventName</th>\n",
       "      <th>DeviceIDHash</th>\n",
       "      <th>EventTimestamp</th>\n",
       "      <th>ExpId</th>\n",
       "    </tr>\n",
       "  </thead>\n",
       "  <tbody>\n",
       "    <tr>\n",
       "      <th>0</th>\n",
       "      <td>MainScreenAppear</td>\n",
       "      <td>4575588528974610257</td>\n",
       "      <td>1564029816</td>\n",
       "      <td>246</td>\n",
       "    </tr>\n",
       "    <tr>\n",
       "      <th>1</th>\n",
       "      <td>MainScreenAppear</td>\n",
       "      <td>7416695313311560658</td>\n",
       "      <td>1564053102</td>\n",
       "      <td>246</td>\n",
       "    </tr>\n",
       "    <tr>\n",
       "      <th>2</th>\n",
       "      <td>PaymentScreenSuccessful</td>\n",
       "      <td>3518123091307005509</td>\n",
       "      <td>1564054127</td>\n",
       "      <td>248</td>\n",
       "    </tr>\n",
       "    <tr>\n",
       "      <th>3</th>\n",
       "      <td>CartScreenAppear</td>\n",
       "      <td>3518123091307005509</td>\n",
       "      <td>1564054127</td>\n",
       "      <td>248</td>\n",
       "    </tr>\n",
       "    <tr>\n",
       "      <th>4</th>\n",
       "      <td>PaymentScreenSuccessful</td>\n",
       "      <td>6217807653094995999</td>\n",
       "      <td>1564055322</td>\n",
       "      <td>248</td>\n",
       "    </tr>\n",
       "  </tbody>\n",
       "</table>\n",
       "</div>"
      ],
      "text/plain": [
       "                 EventName         DeviceIDHash  EventTimestamp  ExpId\n",
       "0         MainScreenAppear  4575588528974610257      1564029816    246\n",
       "1         MainScreenAppear  7416695313311560658      1564053102    246\n",
       "2  PaymentScreenSuccessful  3518123091307005509      1564054127    248\n",
       "3         CartScreenAppear  3518123091307005509      1564054127    248\n",
       "4  PaymentScreenSuccessful  6217807653094995999      1564055322    248"
      ]
     },
     "metadata": {},
     "output_type": "display_data"
    }
   ],
   "source": [
    "display(logs_exp.head())"
   ]
  },
  {
   "cell_type": "markdown",
   "metadata": {},
   "source": [
    "## Подготовка данных"
   ]
  },
  {
   "cell_type": "code",
   "execution_count": 17,
   "metadata": {},
   "outputs": [],
   "source": [
    "logs_exp = logs_exp.rename(columns={'EventName':'event_name', 'DeviceIDHash':'device_id_hash', 'EventTimestamp':'event_timestamp', 'ExpId':'exp_id'})"
   ]
  },
  {
   "cell_type": "code",
   "execution_count": 18,
   "metadata": {
    "scrolled": true
   },
   "outputs": [
    {
     "name": "stdout",
     "output_type": "stream",
     "text": [
      "<class 'pandas.core.frame.DataFrame'>\n",
      "RangeIndex: 244126 entries, 0 to 244125\n",
      "Data columns (total 4 columns):\n",
      " #   Column           Non-Null Count   Dtype \n",
      "---  ------           --------------   ----- \n",
      " 0   event_name       244126 non-null  object\n",
      " 1   device_id_hash   244126 non-null  int64 \n",
      " 2   event_timestamp  244126 non-null  int64 \n",
      " 3   exp_id           244126 non-null  int64 \n",
      "dtypes: int64(3), object(1)\n",
      "memory usage: 7.5+ MB\n"
     ]
    }
   ],
   "source": [
    "logs_exp.info()"
   ]
  },
  {
   "cell_type": "code",
   "execution_count": 19,
   "metadata": {},
   "outputs": [],
   "source": [
    "logs_exp['event_datetime'] = pd.to_datetime(logs_exp['event_timestamp'], unit='s')\n",
    "logs_exp['event_date'] = pd.to_datetime(logs_exp['event_timestamp'], unit='s').dt.date"
   ]
  },
  {
   "cell_type": "code",
   "execution_count": 20,
   "metadata": {},
   "outputs": [
    {
     "name": "stdout",
     "output_type": "stream",
     "text": [
      "Пропусков не обнаружено\n"
     ]
    }
   ],
   "source": [
    "resume = 'Пропусков не обнаружено'\n",
    "for i in logs_exp:\n",
    "    if len(logs_exp[logs_exp[i].isna()]) != 0:\n",
    "        resume = 'Пропуски обнаружены'\n",
    "        print(i, '-', len(logs_exp[logs_exp[i].isna()])) # выводим только пропуски\n",
    "print(resume)"
   ]
  },
  {
   "cell_type": "code",
   "execution_count": 21,
   "metadata": {},
   "outputs": [],
   "source": [
    "logs_exp_len = len(logs_exp) # Количество строк в датасете"
   ]
  },
  {
   "cell_type": "code",
   "execution_count": 22,
   "metadata": {},
   "outputs": [],
   "source": [
    "logs_exp_dup = logs_exp.duplicated().sum() # Количество дубликатов"
   ]
  },
  {
   "cell_type": "code",
   "execution_count": 23,
   "metadata": {},
   "outputs": [],
   "source": [
    "logs_exp_dup_pers = round(logs_exp.duplicated().sum()/len(logs_exp)*100, 2).astype('str') # Процент дубликатов в датасете"
   ]
  },
  {
   "cell_type": "code",
   "execution_count": 24,
   "metadata": {},
   "outputs": [],
   "source": [
    "msg = 'Процент дубликатов в датасете - ' + logs_exp_dup_pers + '%'"
   ]
  },
  {
   "cell_type": "code",
   "execution_count": 25,
   "metadata": {},
   "outputs": [],
   "source": [
    "logs_exp_mea = round(logs_exp.groupby('device_id_hash').agg({'event_name': 'count'}).mean()) # Среднее количество событий на одного пользователя"
   ]
  },
  {
   "cell_type": "code",
   "execution_count": 26,
   "metadata": {},
   "outputs": [],
   "source": [
    "logs_exp_id_hash_count = logs_exp['device_id_hash'].nunique()"
   ]
  },
  {
   "cell_type": "code",
   "execution_count": 27,
   "metadata": {
    "scrolled": true
   },
   "outputs": [
    {
     "name": "stdout",
     "output_type": "stream",
     "text": [
      "Количество уникальных пользователей - 7551\n",
      "Количество строк в датасете - 244126\n",
      "Количество дубликатов - 413\n",
      "Процент дубликатов в датасете - 0.17%\n",
      "Количество пользователей в логе - 7551\n",
      "Среднее количество событий на одного пользователя - 32.0\n",
      "Начало периода - 2019-07-25 04:43:36\n",
      "Окончание периода - 2019-08-07 21:15:17\n"
     ]
    }
   ],
   "source": [
    "print('Количество уникальных пользователей -', logs_exp_id_hash_count)\n",
    "print('Количество строк в датасете -', logs_exp_len)\n",
    "print('Количество дубликатов -', logs_exp_dup)\n",
    "print(msg)\n",
    "print('Количество пользователей в логе -', logs_exp['device_id_hash'].nunique())\n",
    "print('Среднее количество событий на одного пользователя -', logs_exp_mea[0])\n",
    "print('Начало периода -', logs_exp['event_datetime'].min())\n",
    "print('Окончание периода -', logs_exp['event_datetime'].max())"
   ]
  },
  {
   "cell_type": "markdown",
   "metadata": {},
   "source": [
    "Дубликаты имеются, удалим их."
   ]
  },
  {
   "cell_type": "code",
   "execution_count": 28,
   "metadata": {},
   "outputs": [],
   "source": [
    "logs_exp = logs_exp.drop_duplicates()"
   ]
  },
  {
   "cell_type": "code",
   "execution_count": 29,
   "metadata": {},
   "outputs": [],
   "source": [
    "logs_exp = logs_exp.reset_index(drop=True)"
   ]
  },
  {
   "cell_type": "markdown",
   "metadata": {},
   "source": [
    "## Проверка данных"
   ]
  },
  {
   "cell_type": "code",
   "execution_count": 30,
   "metadata": {},
   "outputs": [],
   "source": [
    "logs_exp_len = len(logs_exp) # Количество строк в датасете"
   ]
  },
  {
   "cell_type": "code",
   "execution_count": 31,
   "metadata": {},
   "outputs": [],
   "source": [
    "logs_exp_dup = logs_exp.duplicated().sum() # Количество дубликатов"
   ]
  },
  {
   "cell_type": "code",
   "execution_count": 32,
   "metadata": {},
   "outputs": [],
   "source": [
    "logs_exp_dup_pers = round(logs_exp.duplicated().sum()/len(logs_exp)*100, 2).astype('str') # Процент дубликатов в датасете"
   ]
  },
  {
   "cell_type": "code",
   "execution_count": 33,
   "metadata": {},
   "outputs": [],
   "source": [
    "msg = 'Процент дубликатов в датасете - ' + logs_exp_dup_pers + '%'"
   ]
  },
  {
   "cell_type": "code",
   "execution_count": 34,
   "metadata": {},
   "outputs": [],
   "source": [
    "logs_exp_mea = round(logs_exp.groupby('device_id_hash').agg({'event_name': 'count'}).mean()) # Среднее количество событий на одного пользователя"
   ]
  },
  {
   "cell_type": "code",
   "execution_count": 35,
   "metadata": {},
   "outputs": [],
   "source": [
    "log_exp_usr_uniq = logs_exp['device_id_hash'].nunique()"
   ]
  },
  {
   "cell_type": "code",
   "execution_count": 36,
   "metadata": {
    "scrolled": true
   },
   "outputs": [
    {
     "name": "stdout",
     "output_type": "stream",
     "text": [
      "Количество строк в датасете - 243713\n",
      "Количество дубликатов - 0\n",
      "Процент дубликатов в датасете - 0.0%\n",
      "Количество пользователей в логе - 7551\n",
      "Среднее количество событий на одного пользователя - 32.0\n",
      "Начало периода - 2019-07-25 04:43:36\n",
      "Окончание периода - 2019-08-07 21:15:17\n"
     ]
    }
   ],
   "source": [
    "print('Количество строк в датасете -', logs_exp_len)\n",
    "print('Количество дубликатов -', logs_exp_dup)\n",
    "print(msg)\n",
    "print('Количество пользователей в логе -', log_exp_usr_uniq)\n",
    "print('Среднее количество событий на одного пользователя -', logs_exp_mea[0])\n",
    "print('Начало периода -', logs_exp['event_datetime'].min())\n",
    "print('Окончание периода -', logs_exp['event_datetime'].max())"
   ]
  },
  {
   "cell_type": "code",
   "execution_count": 39,
   "metadata": {},
   "outputs": [],
   "source": [
    "logs_exp_device_id_hash_events = logs_exp.groupby('device_id_hash').agg({'event_name': 'count'}).reset_index()"
   ]
  },
  {
   "cell_type": "code",
   "execution_count": 44,
   "metadata": {
    "scrolled": false
   },
   "outputs": [
    {
     "data": {
      "image/png": "[encoded data removed]",
      "text/plain": [
       "<Figure size 1008x360 with 1 Axes>"
      ]
     },
     "metadata": {
      "needs_background": "light"
     },
     "output_type": "display_data"
    }
   ],
   "source": [
    "logs_exp_device_id_hash_events['device_id_hash'].hist(bins=7551, figsize=(14, 5));"
   ]
  },
  {
   "cell_type": "code",
   "execution_count": 45,
   "metadata": {
    "scrolled": false
   },
   "outputs": [],
   "source": [
    "logs_exp_date = logs_exp.groupby('event_date').agg({'event_name': 'count'})#.reset_index\n",
    "logs_exp_date.columns=['events']\n",
    "#print(logs_exp_date)"
   ]
  },
  {
   "cell_type": "code",
   "execution_count": 46,
   "metadata": {
    "scrolled": false
   },
   "outputs": [
    {
     "data": {
      "image/png": "[encoded data removed]",
      "text/plain": [
       "<Figure size 1224x360 with 1 Axes>"
      ]
     },
     "metadata": {
      "needs_background": "light"
     },
     "output_type": "display_data"
    }
   ],
   "source": [
    "logs_exp_date.plot(y='events', kind='bar', figsize=(17,5), \n",
    "                   title='График количества заказов по дням',\n",
    "                   xlabel='Дата заказа',\n",
    "                   ylabel='Количество заказов');"
   ]
  },
  {
   "cell_type": "code",
   "execution_count": 47,
   "metadata": {},
   "outputs": [
    {
     "data": {
      "image/png": "[encoded data removed]",
      "text/plain": [
       "<Figure size 1008x360 with 1 Axes>"
      ]
     },
     "metadata": {
      "needs_background": "light"
     },
     "output_type": "display_data"
    }
   ],
   "source": [
    "logs_exp['event_datetime'].hist(bins=14*24, figsize=(14, 5));"
   ]
  },
  {
   "cell_type": "markdown",
   "metadata": {},
   "source": [
    "Данных с 25.07.19 по 31.07.19 ничтожно мало по сравнению с первой неделей августа. Ими придётся пожертвовать."
   ]
  },
  {
   "cell_type": "code",
   "execution_count": 48,
   "metadata": {},
   "outputs": [],
   "source": [
    "logs_exp_filtered = logs_exp[(logs_exp['event_datetime'] >= \"2019-08-01\")]"
   ]
  },
  {
   "cell_type": "code",
   "execution_count": 49,
   "metadata": {
    "scrolled": true
   },
   "outputs": [
    {
     "name": "stdout",
     "output_type": "stream",
     "text": [
      "Потери в данных составят 1.16 процента.\n"
     ]
    }
   ],
   "source": [
    "print('Потери в данных составят', round((1-logs_exp_filtered.shape[0]/logs_exp.shape[0])*100, 2), 'процента.')"
   ]
  },
  {
   "cell_type": "code",
   "execution_count": 62,
   "metadata": {},
   "outputs": [],
   "source": [
    "logs_exp_del = logs_exp[(logs_exp['event_datetime'] <= \"2019-07-31\")]"
   ]
  },
  {
   "cell_type": "code",
   "execution_count": 63,
   "metadata": {},
   "outputs": [],
   "source": [
    "log_exp_del_usr_count = logs_exp_del['device_id_hash'].nunique()"
   ]
  },
  {
   "cell_type": "code",
   "execution_count": 64,
   "metadata": {},
   "outputs": [],
   "source": [
    "msg = 'Возможные потери составят - ' + str(round(log_exp_del_usr_count/log_exp_usr_uniq*100, 2)) + '%.'"
   ]
  },
  {
   "cell_type": "code",
   "execution_count": 65,
   "metadata": {
    "scrolled": true
   },
   "outputs": [
    {
     "name": "stdout",
     "output_type": "stream",
     "text": [
      "Количество утрачиваемых пользователей в логе - 555\n",
      "Возможные потери составят - 7.35%.\n"
     ]
    }
   ],
   "source": [
    "print('Количество утрачиваемых пользователей в логе -', log_exp_del_usr_count)\n",
    "print(msg)"
   ]
  },
  {
   "cell_type": "markdown",
   "metadata": {},
   "source": [
    "Посмотрим, сколько пользователей из этого диапазона дат попали в группы."
   ]
  },
  {
   "cell_type": "code",
   "execution_count": 66,
   "metadata": {},
   "outputs": [],
   "source": [
    "logs_exp_fil_no_dup = logs_exp_filtered.drop_duplicates()"
   ]
  },
  {
   "cell_type": "code",
   "execution_count": 67,
   "metadata": {},
   "outputs": [],
   "source": [
    "log_exp_del_usr_uniq = logs_exp_del['device_id_hash'].unique()"
   ]
  },
  {
   "cell_type": "code",
   "execution_count": 68,
   "metadata": {},
   "outputs": [],
   "source": [
    "log_exp_del_usr_uniq = np.unique(log_exp_del_usr_uniq)"
   ]
  },
  {
   "cell_type": "code",
   "execution_count": 69,
   "metadata": {},
   "outputs": [],
   "source": [
    "logs_exp_filtered_uniq = logs_exp_filtered['device_id_hash'].unique()"
   ]
  },
  {
   "cell_type": "code",
   "execution_count": 70,
   "metadata": {},
   "outputs": [],
   "source": [
    "logs_exp_filtered_uniq = np.unique(logs_exp_filtered_uniq)"
   ]
  },
  {
   "cell_type": "code",
   "execution_count": 71,
   "metadata": {},
   "outputs": [],
   "source": [
    "log_exp_del_usr_uniq_end = []\n",
    "for i in log_exp_del_usr_uniq:\n",
    "    if i not in logs_exp_filtered_uniq:\n",
    "        log_exp_del_usr_uniq_end.append(i)"
   ]
  },
  {
   "cell_type": "code",
   "execution_count": 72,
   "metadata": {
    "scrolled": true
   },
   "outputs": [
    {
     "name": "stdout",
     "output_type": "stream",
     "text": [
      "Количество утраченых пользователей в логе - 11\n",
      "Возможные потери составят - 7.35%.\n"
     ]
    }
   ],
   "source": [
    "print('Количество утраченых пользователей в логе -', len(log_exp_del_usr_uniq_end))\n",
    "print(msg)"
   ]
  },
  {
   "cell_type": "code",
   "execution_count": 73,
   "metadata": {},
   "outputs": [],
   "source": [
    "logs_exp_filt_id_hash_count = logs_exp_filtered['device_id_hash'].nunique()"
   ]
  },
  {
   "cell_type": "code",
   "execution_count": 74,
   "metadata": {},
   "outputs": [],
   "source": [
    "msg = 'Потери составили - ' + str(round((1-logs_exp_filt_id_hash_count/logs_exp_id_hash_count)*100, 2)) + '%.'"
   ]
  },
  {
   "cell_type": "code",
   "execution_count": 75,
   "metadata": {},
   "outputs": [
    {
     "name": "stdout",
     "output_type": "stream",
     "text": [
      "Количество утраченых пользователей в логе - 17\n",
      "Потери составили - 0.23%.\n"
     ]
    }
   ],
   "source": [
    "print('Количество утраченых пользователей в логе -', logs_exp_id_hash_count - logs_exp_filt_id_hash_count)\n",
    "print(msg)"
   ]
  },
  {
   "cell_type": "code",
   "execution_count": 76,
   "metadata": {},
   "outputs": [],
   "source": [
    "logs_exp_fil_date = logs_exp_filtered.groupby('event_date').agg({'event_name': 'count'})#.reset_index\n",
    "logs_exp_fil_date.columns=['events']"
   ]
  },
  {
   "cell_type": "code",
   "execution_count": 77,
   "metadata": {},
   "outputs": [
    {
     "data": {
      "image/png": "[encoded data removed]",
      "text/plain": [
       "<Figure size 1224x360 with 1 Axes>"
      ]
     },
     "metadata": {
      "needs_background": "light"
     },
     "output_type": "display_data"
    }
   ],
   "source": [
    "logs_exp_fil_date.plot(y='events', kind='bar', figsize=(17,5), \n",
    "                   title='График количества заказов по дням',\n",
    "                   xlabel='Дата заказа',\n",
    "                   ylabel='Количество заказов');"
   ]
  },
  {
   "cell_type": "code",
   "execution_count": 79,
   "metadata": {},
   "outputs": [],
   "source": [
    "plt.xlabel='Дата заказа'"
   ]
  },
  {
   "cell_type": "code",
   "execution_count": 82,
   "metadata": {
    "scrolled": true
   },
   "outputs": [
    {
     "data": {
      "image/png": "[encoded data removed]",
      "text/plain": [
       "<Figure size 1224x360 with 1 Axes>"
      ]
     },
     "metadata": {
      "needs_background": "light"
     },
     "output_type": "display_data"
    }
   ],
   "source": [
    "logs_exp_filtered['event_datetime'].hist(bins=7*24, figsize=(17, 5));"
   ]
  },
  {
   "cell_type": "markdown",
   "metadata": {},
   "source": [
    "Теперь картина ровнее."
   ]
  },
  {
   "cell_type": "markdown",
   "metadata": {},
   "source": [
    "Все ли группы в наличии?"
   ]
  },
  {
   "cell_type": "code",
   "execution_count": 83,
   "metadata": {},
   "outputs": [
    {
     "data": {
      "text/plain": [
       "array([246, 247, 248])"
      ]
     },
     "execution_count": 83,
     "metadata": {},
     "output_type": "execute_result"
    }
   ],
   "source": [
    "logs_exp_fil_no_dup['exp_id'].unique()"
   ]
  },
  {
   "cell_type": "markdown",
   "metadata": {},
   "source": [
    "Eсть пользователи из всех трёх экспериментальных групп."
   ]
  },
  {
   "cell_type": "markdown",
   "metadata": {},
   "source": [
    "## Изучение воронки событий"
   ]
  },
  {
   "cell_type": "code",
   "execution_count": 84,
   "metadata": {},
   "outputs": [],
   "source": [
    "logs_exp_id_hash_uniq_step = logs_exp_fil_no_dup.groupby(['event_name', 'device_id_hash', 'exp_id']).agg({'event_timestamp': 'count'}).sort_values(by='device_id_hash', ascending=False).reset_index()"
   ]
  },
  {
   "cell_type": "code",
   "execution_count": 85,
   "metadata": {
    "scrolled": true
   },
   "outputs": [],
   "source": [
    "logs_exp_id_hash_count = logs_exp_id_hash_uniq_step.groupby('event_name').agg({'device_id_hash': 'count'}).sort_values(by='device_id_hash', ascending=False)\n",
    "logs_exp_id_hash_count.columns = ['user_count']\n",
    "logs_exp_event_name = logs_exp_id_hash_count.index"
   ]
  },
  {
   "cell_type": "code",
   "execution_count": 86,
   "metadata": {
    "scrolled": true
   },
   "outputs": [
    {
     "name": "stdout",
     "output_type": "stream",
     "text": [
      "Index(['MainScreenAppear', 'OffersScreenAppear', 'CartScreenAppear',\n",
      "       'PaymentScreenSuccessful', 'Tutorial'],\n",
      "      dtype='object', name='event_name')\n"
     ]
    },
    {
     "data": {
      "text/html": [
       "<div>\n",
       "<style scoped>\n",
       "    .dataframe tbody tr th:only-of-type {\n",
       "        vertical-align: middle;\n",
       "    }\n",
       "\n",
       "    .dataframe tbody tr th {\n",
       "        vertical-align: top;\n",
       "    }\n",
       "\n",
       "    .dataframe thead th {\n",
       "        text-align: right;\n",
       "    }\n",
       "</style>\n",
       "<table border=\"1\" class=\"dataframe\">\n",
       "  <thead>\n",
       "    <tr style=\"text-align: right;\">\n",
       "      <th></th>\n",
       "      <th>user_count</th>\n",
       "    </tr>\n",
       "    <tr>\n",
       "      <th>event_name</th>\n",
       "      <th></th>\n",
       "    </tr>\n",
       "  </thead>\n",
       "  <tbody>\n",
       "    <tr>\n",
       "      <th>MainScreenAppear</th>\n",
       "      <td>7419</td>\n",
       "    </tr>\n",
       "    <tr>\n",
       "      <th>OffersScreenAppear</th>\n",
       "      <td>4593</td>\n",
       "    </tr>\n",
       "    <tr>\n",
       "      <th>CartScreenAppear</th>\n",
       "      <td>3734</td>\n",
       "    </tr>\n",
       "    <tr>\n",
       "      <th>PaymentScreenSuccessful</th>\n",
       "      <td>3539</td>\n",
       "    </tr>\n",
       "    <tr>\n",
       "      <th>Tutorial</th>\n",
       "      <td>840</td>\n",
       "    </tr>\n",
       "  </tbody>\n",
       "</table>\n",
       "</div>"
      ],
      "text/plain": [
       "                         user_count\n",
       "event_name                         \n",
       "MainScreenAppear               7419\n",
       "OffersScreenAppear             4593\n",
       "CartScreenAppear               3734\n",
       "PaymentScreenSuccessful        3539\n",
       "Tutorial                        840"
      ]
     },
     "metadata": {},
     "output_type": "display_data"
    }
   ],
   "source": [
    "print(logs_exp_event_name)\n",
    "display(logs_exp_id_hash_count)"
   ]
  },
  {
   "cell_type": "markdown",
   "metadata": {},
   "source": [
    "Предположительная последовательность событий:<br>\n",
    "MainScreenAppear -> OffersScreenAppear -> CartScreenAppear -> PaymentScreenSuccessful"
   ]
  },
  {
   "cell_type": "code",
   "execution_count": 90,
   "metadata": {},
   "outputs": [],
   "source": [
    "logs_exp_fil_no_dup_funn = logs_exp_fil_no_dup.groupby('event_name').agg({'device_id_hash':'nunique'}).sort_values(by='device_id_hash', ascending=False).reset_index()\n",
    "logs_exp_fil_no_dup_funn['fraction'] = logs_exp_fil_no_dup_funn['device_id_hash']/logs_exp_filt_id_hash_count"
   ]
  },
  {
   "cell_type": "code",
   "execution_count": 91,
   "metadata": {},
   "outputs": [
    {
     "data": {
      "text/html": [
       "<div>\n",
       "<style scoped>\n",
       "    .dataframe tbody tr th:only-of-type {\n",
       "        vertical-align: middle;\n",
       "    }\n",
       "\n",
       "    .dataframe tbody tr th {\n",
       "        vertical-align: top;\n",
       "    }\n",
       "\n",
       "    .dataframe thead th {\n",
       "        text-align: right;\n",
       "    }\n",
       "</style>\n",
       "<table border=\"1\" class=\"dataframe\">\n",
       "  <thead>\n",
       "    <tr style=\"text-align: right;\">\n",
       "      <th></th>\n",
       "      <th>event_name</th>\n",
       "      <th>device_id_hash</th>\n",
       "      <th>fraction</th>\n",
       "    </tr>\n",
       "  </thead>\n",
       "  <tbody>\n",
       "    <tr>\n",
       "      <th>0</th>\n",
       "      <td>MainScreenAppear</td>\n",
       "      <td>7419</td>\n",
       "      <td>0.984736</td>\n",
       "    </tr>\n",
       "    <tr>\n",
       "      <th>1</th>\n",
       "      <td>OffersScreenAppear</td>\n",
       "      <td>4593</td>\n",
       "      <td>0.609636</td>\n",
       "    </tr>\n",
       "    <tr>\n",
       "      <th>2</th>\n",
       "      <td>CartScreenAppear</td>\n",
       "      <td>3734</td>\n",
       "      <td>0.495620</td>\n",
       "    </tr>\n",
       "    <tr>\n",
       "      <th>3</th>\n",
       "      <td>PaymentScreenSuccessful</td>\n",
       "      <td>3539</td>\n",
       "      <td>0.469737</td>\n",
       "    </tr>\n",
       "    <tr>\n",
       "      <th>4</th>\n",
       "      <td>Tutorial</td>\n",
       "      <td>840</td>\n",
       "      <td>0.111495</td>\n",
       "    </tr>\n",
       "  </tbody>\n",
       "</table>\n",
       "</div>"
      ],
      "text/plain": [
       "                event_name  device_id_hash  fraction\n",
       "0         MainScreenAppear            7419  0.984736\n",
       "1       OffersScreenAppear            4593  0.609636\n",
       "2         CartScreenAppear            3734  0.495620\n",
       "3  PaymentScreenSuccessful            3539  0.469737\n",
       "4                 Tutorial             840  0.111495"
      ]
     },
     "execution_count": 91,
     "metadata": {},
     "output_type": "execute_result"
    }
   ],
   "source": [
    "logs_exp_fil_no_dup_funn"
   ]
  },
  {
   "cell_type": "markdown",
   "metadata": {},
   "source": [
    "Событие \"Tutorial\" может происходить параллельно с любым событием, кроме \"MainScreenAppear\"."
   ]
  },
  {
   "cell_type": "code",
   "execution_count": 92,
   "metadata": {},
   "outputs": [
    {
     "name": "stdout",
     "output_type": "stream",
     "text": [
      "Конверсия на шаге MainScreenAppear -> OffersScreenAppear - 61.91%\n",
      "Конверсия на шаге OffersScreenAppear -> CartScreenAppear - 81.3%\n",
      "Конверсия на шаге CartScreenAppear -> PaymentScreenSuccessful - 94.78%\n"
     ]
    }
   ],
   "source": [
    "for i in range(len(logs_exp_id_hash_count.head(4))-1):\n",
    "    i0 = logs_exp_id_hash_count['user_count'][i]\n",
    "    i1 = logs_exp_id_hash_count['user_count'][i+1]\n",
    "    conv = round(i1/i0*100, 2).astype('str') \n",
    "    print('Конверсия на шаге ' + logs_exp_id_hash_count.index[i] + ' -> ' + logs_exp_id_hash_count.index[i+1] + ' - ' + conv + '%')"
   ]
  },
  {
   "cell_type": "markdown",
   "metadata": {},
   "source": [
    "Наибольшее количество пользователей теряется на первом шаге"
   ]
  },
  {
   "cell_type": "code",
   "execution_count": 93,
   "metadata": {},
   "outputs": [
    {
     "name": "stdout",
     "output_type": "stream",
     "text": [
      "Доля пользователей доходящих от первого события до оплаты - 47.7%\n"
     ]
    }
   ],
   "source": [
    "print('Доля пользователей доходящих от первого события до оплаты - ' + \n",
    "        round(logs_exp_id_hash_count['user_count'][-2]/\n",
    "              logs_exp_id_hash_count['user_count'][0]*100, 2).astype('str') +\n",
    "      '%')"
   ]
  },
  {
   "cell_type": "markdown",
   "metadata": {},
   "source": [
    "## Изучение результатов эксперимента"
   ]
  },
  {
   "cell_type": "markdown",
   "metadata": {},
   "source": [
    "### Количество уникальных пользователей в группах"
   ]
  },
  {
   "cell_type": "markdown",
   "metadata": {},
   "source": [
    "Создадим таблицы по группам."
   ]
  },
  {
   "cell_type": "code",
   "execution_count": 94,
   "metadata": {},
   "outputs": [],
   "source": [
    "logs_exp_fil_no_dup_246 = fil_no_dup(logs_exp_fil_no_dup, 'exp_id', 246)\n",
    "logs_exp_fil_no_dup_247 = fil_no_dup(logs_exp_fil_no_dup, 'exp_id', 247)\n",
    "logs_exp_fil_no_dup_248 = fil_no_dup(logs_exp_fil_no_dup, 'exp_id', 248)"
   ]
  },
  {
   "cell_type": "code",
   "execution_count": 95,
   "metadata": {},
   "outputs": [],
   "source": [
    "logs_exp_fil_no_dup_unique_246, logs_exp_fil_no_dup_uniq_count_246 = fil_no_dup_uniq(logs_exp_fil_no_dup_246, 'device_id_hash')\n",
    "logs_exp_fil_no_dup_unique_247, logs_exp_fil_no_dup_uniq_count_247 = fil_no_dup_uniq(logs_exp_fil_no_dup_247, 'device_id_hash')\n",
    "logs_exp_fil_no_dup_unique_248, logs_exp_fil_no_dup_uniq_count_248 = fil_no_dup_uniq(logs_exp_fil_no_dup_248, 'device_id_hash')"
   ]
  },
  {
   "cell_type": "code",
   "execution_count": 96,
   "metadata": {
    "scrolled": true
   },
   "outputs": [
    {
     "name": "stdout",
     "output_type": "stream",
     "text": [
      "Количество уникальных пользователей в группах:\n",
      "2484\n",
      "2513\n",
      "2537\n"
     ]
    }
   ],
   "source": [
    "print('Количество уникальных пользователей в группах:')\n",
    "print(logs_exp_fil_no_dup_uniq_count_246)\n",
    "print(logs_exp_fil_no_dup_uniq_count_247)\n",
    "print(logs_exp_fil_no_dup_uniq_count_248)"
   ]
  },
  {
   "cell_type": "markdown",
   "metadata": {},
   "source": [
    "Проверим перекрёстную уникальность пользователей"
   ]
  },
  {
   "cell_type": "code",
   "execution_count": 97,
   "metadata": {
    "scrolled": true
   },
   "outputs": [
    {
     "name": "stdout",
     "output_type": "stream",
     "text": [
      "0\n",
      "0\n",
      "0\n"
     ]
    }
   ],
   "source": [
    "print(users_not_unique(logs_exp_fil_no_dup_unique_246, logs_exp_fil_no_dup_unique_247))\n",
    "print(users_not_unique(logs_exp_fil_no_dup_unique_247, logs_exp_fil_no_dup_unique_248))\n",
    "print(users_not_unique(logs_exp_fil_no_dup_unique_246, logs_exp_fil_no_dup_unique_248))"
   ]
  },
  {
   "cell_type": "markdown",
   "metadata": {},
   "source": [
    "Пользователи каждой группы уникальны по отношению к любой другой группе."
   ]
  },
  {
   "cell_type": "code",
   "execution_count": 98,
   "metadata": {},
   "outputs": [],
   "source": [
    "date_min_246, date_max_246 = exp_timedelta(logs_exp_fil_no_dup_246, 'event_date')\n",
    "date_min_247, date_max_247 = exp_timedelta(logs_exp_fil_no_dup_247, 'event_date')\n",
    "date_min_248, date_max_248 = exp_timedelta(logs_exp_fil_no_dup_248, 'event_date')"
   ]
  },
  {
   "cell_type": "code",
   "execution_count": 99,
   "metadata": {},
   "outputs": [
    {
     "name": "stdout",
     "output_type": "stream",
     "text": [
      "Начало теста группы 246: 2019-08-01 , Окончание: 2019-08-07\n",
      "Начало теста группы 247: 2019-08-01 , Окончание: 2019-08-07\n",
      "Начало теста группы 248: 2019-08-01 , Окончание: 2019-08-07\n"
     ]
    }
   ],
   "source": [
    "print('Начало теста группы 246:', date_min_246, ', Окончание:', date_max_246)\n",
    "print('Начало теста группы 247:', date_min_247, ', Окончание:', date_max_247)\n",
    "print('Начало теста группы 248:', date_min_248, ', Окончание:', date_max_248)"
   ]
  },
  {
   "cell_type": "markdown",
   "metadata": {},
   "source": [
    "Тест по всем трём группам начат и закончен одновременно."
   ]
  },
  {
   "cell_type": "markdown",
   "metadata": {},
   "source": [
    "#### Cтатистическая разница между выборками"
   ]
  },
  {
   "cell_type": "markdown",
   "metadata": {},
   "source": [
    "Взглянем на воронки событий по группам в разрезе уникальных пользователей"
   ]
  },
  {
   "cell_type": "code",
   "execution_count": 100,
   "metadata": {},
   "outputs": [],
   "source": [
    "logs_exp_fil_no_dup_246 = fil_no_dup(logs_exp_id_hash_uniq_step, 'exp_id', 246)\n",
    "logs_exp_fil_no_dup_247 = fil_no_dup(logs_exp_id_hash_uniq_step, 'exp_id', 247)\n",
    "logs_exp_fil_no_dup_248 = fil_no_dup(logs_exp_id_hash_uniq_step, 'exp_id', 248)"
   ]
  },
  {
   "cell_type": "code",
   "execution_count": 101,
   "metadata": {},
   "outputs": [],
   "source": [
    "logs_exp_event_name_count_246 = funnel_events(logs_exp_fil_no_dup_246, 'event_name', 'device_id_hash')\n",
    "logs_exp_event_name_count_247 = funnel_events(logs_exp_fil_no_dup_247, 'event_name', 'device_id_hash')\n",
    "logs_exp_event_name_count_248 = funnel_events(logs_exp_fil_no_dup_248, 'event_name', 'device_id_hash')"
   ]
  },
  {
   "cell_type": "code",
   "execution_count": 102,
   "metadata": {
    "scrolled": false
   },
   "outputs": [
    {
     "data": {
      "text/html": [
       "<div>\n",
       "<style scoped>\n",
       "    .dataframe tbody tr th:only-of-type {\n",
       "        vertical-align: middle;\n",
       "    }\n",
       "\n",
       "    .dataframe tbody tr th {\n",
       "        vertical-align: top;\n",
       "    }\n",
       "\n",
       "    .dataframe thead th {\n",
       "        text-align: right;\n",
       "    }\n",
       "</style>\n",
       "<table border=\"1\" class=\"dataframe\">\n",
       "  <thead>\n",
       "    <tr style=\"text-align: right;\">\n",
       "      <th></th>\n",
       "      <th>device_id_hash_count</th>\n",
       "    </tr>\n",
       "    <tr>\n",
       "      <th>event_name</th>\n",
       "      <th></th>\n",
       "    </tr>\n",
       "  </thead>\n",
       "  <tbody>\n",
       "    <tr>\n",
       "      <th>MainScreenAppear</th>\n",
       "      <td>2450</td>\n",
       "    </tr>\n",
       "    <tr>\n",
       "      <th>OffersScreenAppear</th>\n",
       "      <td>1542</td>\n",
       "    </tr>\n",
       "    <tr>\n",
       "      <th>CartScreenAppear</th>\n",
       "      <td>1266</td>\n",
       "    </tr>\n",
       "    <tr>\n",
       "      <th>PaymentScreenSuccessful</th>\n",
       "      <td>1200</td>\n",
       "    </tr>\n",
       "    <tr>\n",
       "      <th>Tutorial</th>\n",
       "      <td>278</td>\n",
       "    </tr>\n",
       "  </tbody>\n",
       "</table>\n",
       "</div>"
      ],
      "text/plain": [
       "                         device_id_hash_count\n",
       "event_name                                   \n",
       "MainScreenAppear                         2450\n",
       "OffersScreenAppear                       1542\n",
       "CartScreenAppear                         1266\n",
       "PaymentScreenSuccessful                  1200\n",
       "Tutorial                                  278"
      ]
     },
     "metadata": {},
     "output_type": "display_data"
    },
    {
     "data": {
      "text/html": [
       "<div>\n",
       "<style scoped>\n",
       "    .dataframe tbody tr th:only-of-type {\n",
       "        vertical-align: middle;\n",
       "    }\n",
       "\n",
       "    .dataframe tbody tr th {\n",
       "        vertical-align: top;\n",
       "    }\n",
       "\n",
       "    .dataframe thead th {\n",
       "        text-align: right;\n",
       "    }\n",
       "</style>\n",
       "<table border=\"1\" class=\"dataframe\">\n",
       "  <thead>\n",
       "    <tr style=\"text-align: right;\">\n",
       "      <th></th>\n",
       "      <th>device_id_hash_count</th>\n",
       "    </tr>\n",
       "    <tr>\n",
       "      <th>event_name</th>\n",
       "      <th></th>\n",
       "    </tr>\n",
       "  </thead>\n",
       "  <tbody>\n",
       "    <tr>\n",
       "      <th>MainScreenAppear</th>\n",
       "      <td>2476</td>\n",
       "    </tr>\n",
       "    <tr>\n",
       "      <th>OffersScreenAppear</th>\n",
       "      <td>1520</td>\n",
       "    </tr>\n",
       "    <tr>\n",
       "      <th>CartScreenAppear</th>\n",
       "      <td>1238</td>\n",
       "    </tr>\n",
       "    <tr>\n",
       "      <th>PaymentScreenSuccessful</th>\n",
       "      <td>1158</td>\n",
       "    </tr>\n",
       "    <tr>\n",
       "      <th>Tutorial</th>\n",
       "      <td>283</td>\n",
       "    </tr>\n",
       "  </tbody>\n",
       "</table>\n",
       "</div>"
      ],
      "text/plain": [
       "                         device_id_hash_count\n",
       "event_name                                   \n",
       "MainScreenAppear                         2476\n",
       "OffersScreenAppear                       1520\n",
       "CartScreenAppear                         1238\n",
       "PaymentScreenSuccessful                  1158\n",
       "Tutorial                                  283"
      ]
     },
     "metadata": {},
     "output_type": "display_data"
    },
    {
     "data": {
      "text/html": [
       "<div>\n",
       "<style scoped>\n",
       "    .dataframe tbody tr th:only-of-type {\n",
       "        vertical-align: middle;\n",
       "    }\n",
       "\n",
       "    .dataframe tbody tr th {\n",
       "        vertical-align: top;\n",
       "    }\n",
       "\n",
       "    .dataframe thead th {\n",
       "        text-align: right;\n",
       "    }\n",
       "</style>\n",
       "<table border=\"1\" class=\"dataframe\">\n",
       "  <thead>\n",
       "    <tr style=\"text-align: right;\">\n",
       "      <th></th>\n",
       "      <th>device_id_hash_count</th>\n",
       "    </tr>\n",
       "    <tr>\n",
       "      <th>event_name</th>\n",
       "      <th></th>\n",
       "    </tr>\n",
       "  </thead>\n",
       "  <tbody>\n",
       "    <tr>\n",
       "      <th>MainScreenAppear</th>\n",
       "      <td>2493</td>\n",
       "    </tr>\n",
       "    <tr>\n",
       "      <th>OffersScreenAppear</th>\n",
       "      <td>1531</td>\n",
       "    </tr>\n",
       "    <tr>\n",
       "      <th>CartScreenAppear</th>\n",
       "      <td>1230</td>\n",
       "    </tr>\n",
       "    <tr>\n",
       "      <th>PaymentScreenSuccessful</th>\n",
       "      <td>1181</td>\n",
       "    </tr>\n",
       "    <tr>\n",
       "      <th>Tutorial</th>\n",
       "      <td>279</td>\n",
       "    </tr>\n",
       "  </tbody>\n",
       "</table>\n",
       "</div>"
      ],
      "text/plain": [
       "                         device_id_hash_count\n",
       "event_name                                   \n",
       "MainScreenAppear                         2493\n",
       "OffersScreenAppear                       1531\n",
       "CartScreenAppear                         1230\n",
       "PaymentScreenSuccessful                  1181\n",
       "Tutorial                                  279"
      ]
     },
     "metadata": {},
     "output_type": "display_data"
    }
   ],
   "source": [
    "display(logs_exp_event_name_count_246)\n",
    "display(logs_exp_event_name_count_247)\n",
    "display(logs_exp_event_name_count_248)"
   ]
  },
  {
   "cell_type": "markdown",
   "metadata": {},
   "source": [
    "Взглянем на воронку событий по объединённым группам 246 и 247"
   ]
  },
  {
   "cell_type": "code",
   "execution_count": 103,
   "metadata": {},
   "outputs": [],
   "source": [
    "logs_exp_fil_no_dup_246_247 = fil_no_dup_excl(logs_exp_id_hash_uniq_step, 'exp_id', 248)"
   ]
  },
  {
   "cell_type": "code",
   "execution_count": 104,
   "metadata": {},
   "outputs": [],
   "source": [
    "logs_exp_event_name_count_246_247 = funnel_events(logs_exp_fil_no_dup_246_247, 'event_name', 'device_id_hash')"
   ]
  },
  {
   "cell_type": "code",
   "execution_count": 105,
   "metadata": {},
   "outputs": [
    {
     "data": {
      "text/html": [
       "<div>\n",
       "<style scoped>\n",
       "    .dataframe tbody tr th:only-of-type {\n",
       "        vertical-align: middle;\n",
       "    }\n",
       "\n",
       "    .dataframe tbody tr th {\n",
       "        vertical-align: top;\n",
       "    }\n",
       "\n",
       "    .dataframe thead th {\n",
       "        text-align: right;\n",
       "    }\n",
       "</style>\n",
       "<table border=\"1\" class=\"dataframe\">\n",
       "  <thead>\n",
       "    <tr style=\"text-align: right;\">\n",
       "      <th></th>\n",
       "      <th>device_id_hash_count</th>\n",
       "    </tr>\n",
       "    <tr>\n",
       "      <th>event_name</th>\n",
       "      <th></th>\n",
       "    </tr>\n",
       "  </thead>\n",
       "  <tbody>\n",
       "    <tr>\n",
       "      <th>MainScreenAppear</th>\n",
       "      <td>4926</td>\n",
       "    </tr>\n",
       "    <tr>\n",
       "      <th>OffersScreenAppear</th>\n",
       "      <td>3062</td>\n",
       "    </tr>\n",
       "    <tr>\n",
       "      <th>CartScreenAppear</th>\n",
       "      <td>2504</td>\n",
       "    </tr>\n",
       "    <tr>\n",
       "      <th>PaymentScreenSuccessful</th>\n",
       "      <td>2358</td>\n",
       "    </tr>\n",
       "    <tr>\n",
       "      <th>Tutorial</th>\n",
       "      <td>561</td>\n",
       "    </tr>\n",
       "  </tbody>\n",
       "</table>\n",
       "</div>"
      ],
      "text/plain": [
       "                         device_id_hash_count\n",
       "event_name                                   \n",
       "MainScreenAppear                         4926\n",
       "OffersScreenAppear                       3062\n",
       "CartScreenAppear                         2504\n",
       "PaymentScreenSuccessful                  2358\n",
       "Tutorial                                  561"
      ]
     },
     "execution_count": 105,
     "metadata": {},
     "output_type": "execute_result"
    }
   ],
   "source": [
    "logs_exp_event_name_count_246_247"
   ]
  },
  {
   "cell_type": "code",
   "execution_count": 106,
   "metadata": {
    "scrolled": false
   },
   "outputs": [],
   "source": [
    "usr_uniq_step_246 = funnel_events_uniq_step(logs_exp_fil_no_dup_246, 'event_name', logs_exp_event_name, 'device_id_hash')\n",
    "usr_uniq_step_247 = funnel_events_uniq_step(logs_exp_fil_no_dup_247, 'event_name', logs_exp_event_name, 'device_id_hash')\n",
    "usr_uniq_step_248 = funnel_events_uniq_step(logs_exp_fil_no_dup_248, 'event_name', logs_exp_event_name, 'device_id_hash')"
   ]
  },
  {
   "cell_type": "code",
   "execution_count": 107,
   "metadata": {},
   "outputs": [],
   "source": [
    "usr_uniq_step_246_247 = funnel_events_uniq_step(logs_exp_fil_no_dup_246_247, 'event_name', logs_exp_event_name, 'device_id_hash')"
   ]
  },
  {
   "cell_type": "raw",
   "metadata": {
    "scrolled": true
   },
   "source": [
    "usr_uniq_step_246_247_1 = funnel_events_uniq_step_combined(usr_uniq_step_246, usr_uniq_step_247)"
   ]
  },
  {
   "cell_type": "code",
   "execution_count": 108,
   "metadata": {},
   "outputs": [],
   "source": [
    "logs_exp_fil_no_dup_unique_246_247, logs_exp_fil_no_dup_uniq_count_246_247 = fil_no_dup_uniq(logs_exp_fil_no_dup_246_247, 'device_id_hash')"
   ]
  },
  {
   "cell_type": "raw",
   "metadata": {},
   "source": [
    "logs_exp_event_name_count_246 = funnel_events(usr_uniq_step_246_247, 'event_name', 'device_id_hash')"
   ]
  },
  {
   "cell_type": "raw",
   "metadata": {
    "scrolled": true
   },
   "source": [
    "usr_uniq_step_fraction_246 = funnel_events_uniq_step_fraction(usr_uniq_step_246, logs_exp_fil_no_dup_uniq_count_246)\n",
    "usr_uniq_step_fraction_247 = funnel_events_uniq_step_fraction(usr_uniq_step_246, logs_exp_fil_no_dup_uniq_count_247)\n",
    "usr_uniq_step_fraction_248 = funnel_events_uniq_step_fraction(usr_uniq_step_246, logs_exp_fil_no_dup_uniq_count_248)"
   ]
  },
  {
   "cell_type": "raw",
   "metadata": {},
   "source": [
    "usr_uniq_step_fraction_246_247 = funnel_events_uniq_step_fraction(usr_uniq_step_246_247, (logs_exp_fil_no_dup_uniq_count_246+logs_exp_fil_no_dup_uniq_count_247))"
   ]
  },
  {
   "cell_type": "markdown",
   "metadata": {},
   "source": [
    "#### Проверка гипотезы о равенстве долей"
   ]
  },
  {
   "cell_type": "markdown",
   "metadata": {},
   "source": [
    "##### Проверка гипотезы о равенстве долей на каждом шаге в экспериментах 246 и 247"
   ]
  },
  {
   "cell_type": "markdown",
   "metadata": {},
   "source": [
    "Гипотезы:\n",
    "* нулевая: доли пользователей на каждом шаге в экспериментах 246 и 247 равны;\n",
    "* альтернативная: доли пользователей на каждом шаге в экспериментах 246 и 247 различны."
   ]
  },
  {
   "cell_type": "code",
   "execution_count": 109,
   "metadata": {},
   "outputs": [
    {
     "name": "stdout",
     "output_type": "stream",
     "text": [
      "p-значение на шаге MainScreenAppear: 0.7570597232046099\n",
      "Не получилось отвергнуть нулевую гипотезу, на уровне значимости 0.01% нет оснований считать доли разными\n",
      "p-значение на шаге OffersScreenAppear: 0.2480954578522181\n",
      "Не получилось отвергнуть нулевую гипотезу, на уровне значимости 0.01% нет оснований считать доли разными\n",
      "p-значение на шаге CartScreenAppear: 0.22883372237997213\n",
      "Не получилось отвергнуть нулевую гипотезу, на уровне значимости 0.01% нет оснований считать доли разными\n",
      "p-значение на шаге PaymentScreenSuccessful: 0.11456679313141849\n",
      "Не получилось отвергнуть нулевую гипотезу, на уровне значимости 0.01% нет оснований считать доли разными\n"
     ]
    }
   ],
   "source": [
    "checking_equality_shares(usr_uniq_step_246, usr_uniq_step_247, logs_exp_fil_no_dup_uniq_count_246, logs_exp_fil_no_dup_uniq_count_247, alpha1)"
   ]
  },
  {
   "cell_type": "code",
   "execution_count": 110,
   "metadata": {},
   "outputs": [
    {
     "name": "stdout",
     "output_type": "stream",
     "text": [
      "p-значение на шаге MainScreenAppear: 0.7570597232046099\n",
      "Не получилось отвергнуть нулевую гипотезу, на уровне значимости 0.05% нет оснований считать доли разными\n",
      "p-значение на шаге OffersScreenAppear: 0.2480954578522181\n",
      "Не получилось отвергнуть нулевую гипотезу, на уровне значимости 0.05% нет оснований считать доли разными\n",
      "p-значение на шаге CartScreenAppear: 0.22883372237997213\n",
      "Не получилось отвергнуть нулевую гипотезу, на уровне значимости 0.05% нет оснований считать доли разными\n",
      "p-значение на шаге PaymentScreenSuccessful: 0.11456679313141849\n",
      "Не получилось отвергнуть нулевую гипотезу, на уровне значимости 0.05% нет оснований считать доли разными\n"
     ]
    }
   ],
   "source": [
    "checking_equality_shares(usr_uniq_step_246, usr_uniq_step_247, logs_exp_fil_no_dup_uniq_count_246, logs_exp_fil_no_dup_uniq_count_247, alpha5)"
   ]
  },
  {
   "cell_type": "code",
   "execution_count": 111,
   "metadata": {},
   "outputs": [
    {
     "name": "stdout",
     "output_type": "stream",
     "text": [
      "p-значение на шаге MainScreenAppear: 0.7570597232046099\n",
      "Не получилось отвергнуть нулевую гипотезу, на уровне значимости 0.1% нет оснований считать доли разными\n",
      "p-значение на шаге OffersScreenAppear: 0.2480954578522181\n",
      "Не получилось отвергнуть нулевую гипотезу, на уровне значимости 0.1% нет оснований считать доли разными\n",
      "p-значение на шаге CartScreenAppear: 0.22883372237997213\n",
      "Не получилось отвергнуть нулевую гипотезу, на уровне значимости 0.1% нет оснований считать доли разными\n",
      "p-значение на шаге PaymentScreenSuccessful: 0.11456679313141849\n",
      "Не получилось отвергнуть нулевую гипотезу, на уровне значимости 0.1% нет оснований считать доли разными\n"
     ]
    }
   ],
   "source": [
    "checking_equality_shares(usr_uniq_step_246, usr_uniq_step_247, logs_exp_fil_no_dup_uniq_count_246, logs_exp_fil_no_dup_uniq_count_247, 0.1)"
   ]
  },
  {
   "cell_type": "markdown",
   "metadata": {},
   "source": [
    "##### Проверка гипотезы о равенстве долей на каждом шаге в экспериментах 246 и 247"
   ]
  },
  {
   "cell_type": "markdown",
   "metadata": {},
   "source": [
    "Гипотезы:\n",
    "* нулевая: доли пользователей на каждом шаге в экспериментах 246 и 248 равны;\n",
    "* альтернативная: доли пользователей на каждом шаге в экспериментах 246 и 248 различны."
   ]
  },
  {
   "cell_type": "code",
   "execution_count": 112,
   "metadata": {
    "scrolled": true
   },
   "outputs": [
    {
     "name": "stdout",
     "output_type": "stream",
     "text": [
      "p-значение на шаге MainScreenAppear: 0.2949721933554552\n",
      "Не получилось отвергнуть нулевую гипотезу, на уровне значимости 0.01% нет оснований считать доли разными\n",
      "p-значение на шаге OffersScreenAppear: 0.20836205402738917\n",
      "Не получилось отвергнуть нулевую гипотезу, на уровне значимости 0.01% нет оснований считать доли разными\n",
      "p-значение на шаге CartScreenAppear: 0.07842923237520116\n",
      "Не получилось отвергнуть нулевую гипотезу, на уровне значимости 0.01% нет оснований считать доли разными\n",
      "p-значение на шаге PaymentScreenSuccessful: 0.2122553275697796\n",
      "Не получилось отвергнуть нулевую гипотезу, на уровне значимости 0.01% нет оснований считать доли разными\n"
     ]
    }
   ],
   "source": [
    "checking_equality_shares(usr_uniq_step_246, usr_uniq_step_248, logs_exp_fil_no_dup_uniq_count_246, logs_exp_fil_no_dup_uniq_count_248, alpha1)"
   ]
  },
  {
   "cell_type": "code",
   "execution_count": 113,
   "metadata": {},
   "outputs": [
    {
     "name": "stdout",
     "output_type": "stream",
     "text": [
      "p-значение на шаге MainScreenAppear: 0.2949721933554552\n",
      "Не получилось отвергнуть нулевую гипотезу, на уровне значимости 0.05% нет оснований считать доли разными\n",
      "p-значение на шаге OffersScreenAppear: 0.20836205402738917\n",
      "Не получилось отвергнуть нулевую гипотезу, на уровне значимости 0.05% нет оснований считать доли разными\n",
      "p-значение на шаге CartScreenAppear: 0.07842923237520116\n",
      "Не получилось отвергнуть нулевую гипотезу, на уровне значимости 0.05% нет оснований считать доли разными\n",
      "p-значение на шаге PaymentScreenSuccessful: 0.2122553275697796\n",
      "Не получилось отвергнуть нулевую гипотезу, на уровне значимости 0.05% нет оснований считать доли разными\n"
     ]
    }
   ],
   "source": [
    "checking_equality_shares(usr_uniq_step_246, usr_uniq_step_248, logs_exp_fil_no_dup_uniq_count_246, logs_exp_fil_no_dup_uniq_count_248, alpha5)"
   ]
  },
  {
   "cell_type": "code",
   "execution_count": 114,
   "metadata": {
    "scrolled": true
   },
   "outputs": [
    {
     "name": "stdout",
     "output_type": "stream",
     "text": [
      "p-значение на шаге MainScreenAppear: 0.2949721933554552\n",
      "Не получилось отвергнуть нулевую гипотезу, на уровне значимости 0.1% нет оснований считать доли разными\n",
      "p-значение на шаге OffersScreenAppear: 0.20836205402738917\n",
      "Не получилось отвергнуть нулевую гипотезу, на уровне значимости 0.1% нет оснований считать доли разными\n",
      "p-значение на шаге CartScreenAppear: 0.07842923237520116\n",
      "Hа имеющихся данных, на уровне значимости 0.1% есть основания отвергнуть нулевую гипотезу о равенстве долей в пользу альтернативной гипотезы\n",
      "p-значение на шаге PaymentScreenSuccessful: 0.2122553275697796\n",
      "Не получилось отвергнуть нулевую гипотезу, на уровне значимости 0.1% нет оснований считать доли разными\n"
     ]
    }
   ],
   "source": [
    "checking_equality_shares(usr_uniq_step_246, usr_uniq_step_248, logs_exp_fil_no_dup_uniq_count_246, logs_exp_fil_no_dup_uniq_count_248, 0.1)"
   ]
  },
  {
   "cell_type": "markdown",
   "metadata": {},
   "source": [
    "##### Проверка гипотезы о равенстве долей на каждом шаге в экспериментах 247 и 248"
   ]
  },
  {
   "cell_type": "markdown",
   "metadata": {},
   "source": [
    "Гипотезы:\n",
    "* нулевая: доли пользователей на каждом шаге в экспериментах 248 и 247 равны;\n",
    "* альтернативная: доли пользователей на каждом шаге в экспериментах 248 и 247 различны."
   ]
  },
  {
   "cell_type": "code",
   "execution_count": 115,
   "metadata": {},
   "outputs": [
    {
     "name": "stdout",
     "output_type": "stream",
     "text": [
      "p-значение на шаге MainScreenAppear: 0.4587053616621515\n",
      "Не получилось отвергнуть нулевую гипотезу, на уровне значимости 0.01% нет оснований считать доли разными\n",
      "p-значение на шаге OffersScreenAppear: 0.9197817830592261\n",
      "Не получилось отвергнуть нулевую гипотезу, на уровне значимости 0.01% нет оснований считать доли разными\n",
      "p-значение на шаге CartScreenAppear: 0.5786197879539783\n",
      "Не получилось отвергнуть нулевую гипотезу, на уровне значимости 0.01% нет оснований считать доли разными\n",
      "p-значение на шаге PaymentScreenSuccessful: 0.7373415053803964\n",
      "Не получилось отвергнуть нулевую гипотезу, на уровне значимости 0.01% нет оснований считать доли разными\n"
     ]
    }
   ],
   "source": [
    "checking_equality_shares(usr_uniq_step_247, usr_uniq_step_248, logs_exp_fil_no_dup_uniq_count_247, logs_exp_fil_no_dup_uniq_count_248, alpha1)"
   ]
  },
  {
   "cell_type": "code",
   "execution_count": 116,
   "metadata": {},
   "outputs": [
    {
     "name": "stdout",
     "output_type": "stream",
     "text": [
      "p-значение на шаге MainScreenAppear: 0.4587053616621515\n",
      "Не получилось отвергнуть нулевую гипотезу, на уровне значимости 0.05% нет оснований считать доли разными\n",
      "p-значение на шаге OffersScreenAppear: 0.9197817830592261\n",
      "Не получилось отвергнуть нулевую гипотезу, на уровне значимости 0.05% нет оснований считать доли разными\n",
      "p-значение на шаге CartScreenAppear: 0.5786197879539783\n",
      "Не получилось отвергнуть нулевую гипотезу, на уровне значимости 0.05% нет оснований считать доли разными\n",
      "p-значение на шаге PaymentScreenSuccessful: 0.7373415053803964\n",
      "Не получилось отвергнуть нулевую гипотезу, на уровне значимости 0.05% нет оснований считать доли разными\n"
     ]
    }
   ],
   "source": [
    "checking_equality_shares(usr_uniq_step_247, usr_uniq_step_248, logs_exp_fil_no_dup_uniq_count_247, logs_exp_fil_no_dup_uniq_count_248, alpha5)"
   ]
  },
  {
   "cell_type": "code",
   "execution_count": 117,
   "metadata": {
    "scrolled": false
   },
   "outputs": [
    {
     "name": "stdout",
     "output_type": "stream",
     "text": [
      "p-значение на шаге MainScreenAppear: 0.4587053616621515\n",
      "Не получилось отвергнуть нулевую гипотезу, на уровне значимости 0.1% нет оснований считать доли разными\n",
      "p-значение на шаге OffersScreenAppear: 0.9197817830592261\n",
      "Не получилось отвергнуть нулевую гипотезу, на уровне значимости 0.1% нет оснований считать доли разными\n",
      "p-значение на шаге CartScreenAppear: 0.5786197879539783\n",
      "Не получилось отвергнуть нулевую гипотезу, на уровне значимости 0.1% нет оснований считать доли разными\n",
      "p-значение на шаге PaymentScreenSuccessful: 0.7373415053803964\n",
      "Не получилось отвергнуть нулевую гипотезу, на уровне значимости 0.1% нет оснований считать доли разными\n"
     ]
    }
   ],
   "source": [
    "checking_equality_shares(usr_uniq_step_247, usr_uniq_step_248, logs_exp_fil_no_dup_uniq_count_247, logs_exp_fil_no_dup_uniq_count_248, 0.1)"
   ]
  },
  {
   "cell_type": "markdown",
   "metadata": {},
   "source": [
    "##### Проверка гипотезы о равенстве долей на каждом шаге в экспериментах объединённой группы и 248"
   ]
  },
  {
   "cell_type": "markdown",
   "metadata": {},
   "source": [
    "Гипотезы:\n",
    "* нулевая: доли пользователей на каждом шаге в экспериментах объединённой группы и группы 248 равны;\n",
    "* альтернативная: доли пользователей на каждом шаге в экспериментах объединённой группы и группы 248 различны."
   ]
  },
  {
   "cell_type": "code",
   "execution_count": 118,
   "metadata": {},
   "outputs": [
    {
     "name": "stdout",
     "output_type": "stream",
     "text": [
      "p-значение на шаге MainScreenAppear: 0.29424526837179577\n",
      "Не получилось отвергнуть нулевую гипотезу, на уровне значимости 0.01% нет оснований считать доли разными\n",
      "p-значение на шаге OffersScreenAppear: 0.43425549655188256\n",
      "Не получилось отвергнуть нулевую гипотезу, на уровне значимости 0.01% нет оснований считать доли разными\n",
      "p-значение на шаге CartScreenAppear: 0.18175875284404386\n",
      "Не получилось отвергнуть нулевую гипотезу, на уровне значимости 0.01% нет оснований считать доли разными\n",
      "p-значение на шаге PaymentScreenSuccessful: 0.6004294282308704\n",
      "Не получилось отвергнуть нулевую гипотезу, на уровне значимости 0.01% нет оснований считать доли разными\n"
     ]
    }
   ],
   "source": [
    "checking_equality_shares(usr_uniq_step_246_247, usr_uniq_step_248, logs_exp_fil_no_dup_uniq_count_246_247, logs_exp_fil_no_dup_uniq_count_248, alpha1)"
   ]
  },
  {
   "cell_type": "code",
   "execution_count": 119,
   "metadata": {},
   "outputs": [
    {
     "name": "stdout",
     "output_type": "stream",
     "text": [
      "p-значение на шаге MainScreenAppear: 0.29424526837179577\n",
      "Не получилось отвергнуть нулевую гипотезу, на уровне значимости 0.05% нет оснований считать доли разными\n",
      "p-значение на шаге OffersScreenAppear: 0.43425549655188256\n",
      "Не получилось отвергнуть нулевую гипотезу, на уровне значимости 0.05% нет оснований считать доли разными\n",
      "p-значение на шаге CartScreenAppear: 0.18175875284404386\n",
      "Не получилось отвергнуть нулевую гипотезу, на уровне значимости 0.05% нет оснований считать доли разными\n",
      "p-значение на шаге PaymentScreenSuccessful: 0.6004294282308704\n",
      "Не получилось отвергнуть нулевую гипотезу, на уровне значимости 0.05% нет оснований считать доли разными\n"
     ]
    }
   ],
   "source": [
    "checking_equality_shares(usr_uniq_step_246_247, usr_uniq_step_248, logs_exp_fil_no_dup_uniq_count_246_247, logs_exp_fil_no_dup_uniq_count_248, alpha5)"
   ]
  },
  {
   "cell_type": "code",
   "execution_count": 120,
   "metadata": {
    "scrolled": true
   },
   "outputs": [
    {
     "name": "stdout",
     "output_type": "stream",
     "text": [
      "p-значение на шаге MainScreenAppear: 0.29424526837179577\n",
      "Не получилось отвергнуть нулевую гипотезу, на уровне значимости 0.1% нет оснований считать доли разными\n",
      "p-значение на шаге OffersScreenAppear: 0.43425549655188256\n",
      "Не получилось отвергнуть нулевую гипотезу, на уровне значимости 0.1% нет оснований считать доли разными\n",
      "p-значение на шаге CartScreenAppear: 0.18175875284404386\n",
      "Не получилось отвергнуть нулевую гипотезу, на уровне значимости 0.1% нет оснований считать доли разными\n",
      "p-значение на шаге PaymentScreenSuccessful: 0.6004294282308704\n",
      "Не получилось отвергнуть нулевую гипотезу, на уровне значимости 0.1% нет оснований считать доли разными\n"
     ]
    }
   ],
   "source": [
    "checking_equality_shares(usr_uniq_step_246_247, usr_uniq_step_248, logs_exp_fil_no_dup_uniq_count_246_247, logs_exp_fil_no_dup_uniq_count_248, 0.1)"
   ]
  },
  {
   "cell_type": "markdown",
   "metadata": {},
   "source": [
    "При увеличении количества сравнений, вероятность получить различие между группами возраситает, поэтому уровень статистической значимости стоит понизить. В исследуемых данных мы производим 4 парных сравнения, вероятность получения, результата, позволяющего отвергнуть нулевую гипотезу, возрастает в 4 раза. Т.о., уровень статистической значимости стоит понизить в 4 раза, до 0.0125%."
   ]
  },
  {
   "cell_type": "markdown",
   "metadata": {},
   "source": [
    "##### Вывод"
   ]
  },
  {
   "cell_type": "markdown",
   "metadata": {},
   "source": [
    "При уровнях статистической значимости от 0.01% до 0.05%  доли пользователей на каждом шаге в экспериментах можно считать равными."
   ]
  },
  {
   "cell_type": "markdown",
   "metadata": {},
   "source": [
    "Разбиение на группы АА теста работает корректно."
   ]
  },
  {
   "cell_type": "markdown",
   "metadata": {},
   "source": [
    "## Результат"
   ]
  },
  {
   "cell_type": "markdown",
   "metadata": {},
   "source": [
    "Во время проведения исследования были обработаны пропуски в данных, удалены явные дубликаты и отброшены дни с недостаточным количеством данных, определены истинные сроки проведения эксперимента.<br>\n",
    "Количество утраченых пользователей в логе - 17. Потери составили - 0.23%.<br>\n",
    "Общие потери в данных после фильтрации составили 1.16%.<br>\n",
    "Определена воронка событий: MainScreenAppear -> OffersScreenAppear -> CartScreenAppear -> PaymentScreenSuccessful. <br>\n",
    "Определён шаг c максимальной потерей пользователей: MainScreenAppear -> OffersScreenAppear - 38.09%.<br>\n",
    "Определена доля пользователей доходящих от первого события до оплаты - 47.7%"
   ]
  },
  {
   "cell_type": "markdown",
   "metadata": {},
   "source": [
    "## Вывод"
   ]
  },
  {
   "cell_type": "markdown",
   "metadata": {},
   "source": [
    "Разбиение на группы АА теста работает корректно.<br>\n",
    "Уровень значимости следует принять равным 0,01%.<br>\n",
    "Доли пользователей на каждом шаге в экспериментах всех групп равны."
   ]
  }
 ],
 "metadata": {
  "ExecuteTimeLog": [
   {
    "duration": 1272,
    "start_time": "2023-04-24T11:36:50.028Z"
   },
   {
    "duration": 3,
    "start_time": "2023-04-24T11:36:51.302Z"
   },
   {
    "duration": 12,
    "start_time": "2023-04-24T11:36:51.307Z"
   },
   {
    "duration": 2,
    "start_time": "2023-04-24T11:36:51.791Z"
   },
   {
    "duration": 1163,
    "start_time": "2023-04-24T11:36:52.345Z"
   },
   {
    "duration": 342,
    "start_time": "2023-04-24T11:37:29.785Z"
   },
   {
    "duration": 14,
    "start_time": "2023-04-24T11:37:30.129Z"
   },
   {
    "duration": 183,
    "start_time": "2023-04-24T11:38:09.759Z"
   },
   {
    "duration": 177,
    "start_time": "2023-04-24T11:38:12.648Z"
   },
   {
    "duration": 11,
    "start_time": "2023-04-24T11:38:13.148Z"
   },
   {
    "duration": 178,
    "start_time": "2023-04-24T11:38:32.727Z"
   },
   {
    "duration": 11,
    "start_time": "2023-04-24T11:38:43.824Z"
   },
   {
    "duration": 25,
    "start_time": "2023-04-24T11:39:00.053Z"
   },
   {
    "duration": 20,
    "start_time": "2023-04-24T11:39:02.769Z"
   },
   {
    "duration": 4,
    "start_time": "2023-04-24T11:40:47.017Z"
   },
   {
    "duration": 8,
    "start_time": "2023-04-24T11:40:50.299Z"
   },
   {
    "duration": 4,
    "start_time": "2023-04-24T11:40:59.141Z"
   },
   {
    "duration": 10,
    "start_time": "2023-04-24T11:41:00.852Z"
   },
   {
    "duration": 3,
    "start_time": "2023-04-24T11:41:31.699Z"
   },
   {
    "duration": 21,
    "start_time": "2023-04-24T11:41:33.644Z"
   },
   {
    "duration": 7,
    "start_time": "2023-04-24T11:41:42.350Z"
   },
   {
    "duration": 63,
    "start_time": "2023-04-24T11:43:16.523Z"
   },
   {
    "duration": 16,
    "start_time": "2023-04-24T11:43:44.055Z"
   },
   {
    "duration": 4,
    "start_time": "2023-04-24T11:44:28.075Z"
   },
   {
    "duration": 56,
    "start_time": "2023-04-24T11:44:54.053Z"
   },
   {
    "duration": 70,
    "start_time": "2023-04-24T11:45:16.487Z"
   },
   {
    "duration": 60,
    "start_time": "2023-04-24T11:46:16.112Z"
   },
   {
    "duration": 59,
    "start_time": "2023-04-24T11:46:35.667Z"
   },
   {
    "duration": 64,
    "start_time": "2023-04-24T11:47:00.735Z"
   },
   {
    "duration": 3,
    "start_time": "2023-04-24T11:52:29.825Z"
   },
   {
    "duration": 60,
    "start_time": "2023-04-24T11:52:30.224Z"
   },
   {
    "duration": 61,
    "start_time": "2023-04-24T11:52:30.629Z"
   },
   {
    "duration": 4,
    "start_time": "2023-04-24T11:52:31.164Z"
   },
   {
    "duration": 4,
    "start_time": "2023-04-24T11:52:47.697Z"
   },
   {
    "duration": 3,
    "start_time": "2023-04-24T11:53:21.675Z"
   },
   {
    "duration": 7,
    "start_time": "2023-04-24T11:53:24.227Z"
   },
   {
    "duration": 100,
    "start_time": "2023-04-24T11:54:51.319Z"
   },
   {
    "duration": 10,
    "start_time": "2023-04-24T11:54:59.918Z"
   },
   {
    "duration": 36,
    "start_time": "2023-04-24T12:01:30.865Z"
   },
   {
    "duration": 8,
    "start_time": "2023-04-24T12:01:37.601Z"
   },
   {
    "duration": 170,
    "start_time": "2023-04-24T12:01:49.755Z"
   },
   {
    "duration": 12,
    "start_time": "2023-04-24T12:01:50.575Z"
   },
   {
    "duration": 1331,
    "start_time": "2023-04-24T12:06:14.356Z"
   },
   {
    "duration": 8,
    "start_time": "2023-04-24T12:06:52.638Z"
   },
   {
    "duration": 3,
    "start_time": "2023-04-24T12:06:55.940Z"
   },
   {
    "duration": 62,
    "start_time": "2023-04-24T12:06:59.065Z"
   },
   {
    "duration": 11,
    "start_time": "2023-04-24T12:07:03.960Z"
   },
   {
    "duration": 79,
    "start_time": "2023-04-24T12:07:35.250Z"
   },
   {
    "duration": 90,
    "start_time": "2023-04-24T12:08:13.956Z"
   },
   {
    "duration": 650,
    "start_time": "2023-04-24T12:08:38.569Z"
   },
   {
    "duration": 9,
    "start_time": "2023-04-24T12:08:41.514Z"
   },
   {
    "duration": 678,
    "start_time": "2023-04-24T12:11:58.070Z"
   },
   {
    "duration": 9,
    "start_time": "2023-04-24T12:26:18.862Z"
   },
   {
    "duration": 76,
    "start_time": "2023-04-24T12:27:02.636Z"
   },
   {
    "duration": 8,
    "start_time": "2023-04-24T12:27:07.596Z"
   },
   {
    "duration": 130,
    "start_time": "2023-04-24T12:38:19.027Z"
   },
   {
    "duration": 9,
    "start_time": "2023-04-24T12:38:26.837Z"
   },
   {
    "duration": 17,
    "start_time": "2023-04-24T12:42:49.276Z"
   },
   {
    "duration": 10,
    "start_time": "2023-04-24T12:42:59.758Z"
   },
   {
    "duration": 26,
    "start_time": "2023-04-24T12:43:21.811Z"
   },
   {
    "duration": 22,
    "start_time": "2023-04-24T12:45:32.402Z"
   },
   {
    "duration": 22,
    "start_time": "2023-04-24T12:47:18.160Z"
   },
   {
    "duration": 22,
    "start_time": "2023-04-24T12:48:09.556Z"
   },
   {
    "duration": 10,
    "start_time": "2023-04-24T12:49:19.494Z"
   },
   {
    "duration": 4,
    "start_time": "2023-04-24T12:49:34.973Z"
   },
   {
    "duration": 9,
    "start_time": "2023-04-24T12:49:45.140Z"
   },
   {
    "duration": 105,
    "start_time": "2023-04-24T12:49:51.131Z"
   },
   {
    "duration": 5,
    "start_time": "2023-04-24T12:49:58.008Z"
   },
   {
    "duration": 32,
    "start_time": "2023-04-24T12:50:05.368Z"
   },
   {
    "duration": 21,
    "start_time": "2023-04-24T12:50:10.065Z"
   },
   {
    "duration": 109,
    "start_time": "2023-04-24T12:58:49.882Z"
   },
   {
    "duration": 10,
    "start_time": "2023-04-24T13:07:37.488Z"
   },
   {
    "duration": 23,
    "start_time": "2023-04-24T13:10:23.904Z"
   },
   {
    "duration": 9,
    "start_time": "2023-04-24T13:11:18.390Z"
   },
   {
    "duration": 16,
    "start_time": "2023-04-24T13:11:21.912Z"
   },
   {
    "duration": 3,
    "start_time": "2023-04-24T13:11:22.218Z"
   },
   {
    "duration": 41,
    "start_time": "2023-04-24T13:12:22.911Z"
   },
   {
    "duration": 345,
    "start_time": "2023-04-24T13:13:46.694Z"
   },
   {
    "duration": 36,
    "start_time": "2023-04-24T13:14:05.932Z"
   },
   {
    "duration": 4,
    "start_time": "2023-04-24T13:14:15.898Z"
   },
   {
    "duration": 4,
    "start_time": "2023-04-24T13:14:27.288Z"
   },
   {
    "duration": 7,
    "start_time": "2023-04-24T13:14:43.371Z"
   },
   {
    "duration": 49,
    "start_time": "2023-04-24T13:18:52.842Z"
   },
   {
    "duration": 40,
    "start_time": "2023-04-24T13:19:03.752Z"
   },
   {
    "duration": 41,
    "start_time": "2023-04-24T13:19:26.672Z"
   },
   {
    "duration": 36,
    "start_time": "2023-04-24T13:19:44.060Z"
   },
   {
    "duration": 7,
    "start_time": "2023-04-24T13:19:45.280Z"
   },
   {
    "duration": 35,
    "start_time": "2023-04-24T13:19:58.385Z"
   },
   {
    "duration": 9,
    "start_time": "2023-04-24T13:19:58.989Z"
   },
   {
    "duration": 39,
    "start_time": "2023-04-24T13:20:15.380Z"
   },
   {
    "duration": 8,
    "start_time": "2023-04-24T13:20:16.045Z"
   },
   {
    "duration": 8,
    "start_time": "2023-04-24T13:20:43.060Z"
   },
   {
    "duration": 7,
    "start_time": "2023-04-24T13:20:48.456Z"
   },
   {
    "duration": 40,
    "start_time": "2023-04-24T13:24:29.359Z"
   },
   {
    "duration": 10,
    "start_time": "2023-04-24T13:24:30.731Z"
   },
   {
    "duration": 9,
    "start_time": "2023-04-24T13:50:34.726Z"
   },
   {
    "duration": 3,
    "start_time": "2023-04-24T13:50:49.184Z"
   },
   {
    "duration": 5,
    "start_time": "2023-04-24T13:51:21.301Z"
   },
   {
    "duration": 5,
    "start_time": "2023-04-24T13:53:18.984Z"
   },
   {
    "duration": 7,
    "start_time": "2023-04-24T13:54:19.047Z"
   },
   {
    "duration": 5,
    "start_time": "2023-04-24T13:54:45.884Z"
   },
   {
    "duration": 6,
    "start_time": "2023-04-24T13:55:38.910Z"
   },
   {
    "duration": 6,
    "start_time": "2023-04-24T13:57:57.491Z"
   },
   {
    "duration": 5,
    "start_time": "2023-04-24T13:59:12.438Z"
   },
   {
    "duration": 1316,
    "start_time": "2023-04-25T05:22:22.323Z"
   },
   {
    "duration": 3,
    "start_time": "2023-04-25T05:22:23.641Z"
   },
   {
    "duration": 10,
    "start_time": "2023-04-25T05:22:23.645Z"
   },
   {
    "duration": 6,
    "start_time": "2023-04-25T05:22:23.657Z"
   },
   {
    "duration": 291,
    "start_time": "2023-04-25T05:22:23.664Z"
   },
   {
    "duration": 12,
    "start_time": "2023-04-25T05:22:23.957Z"
   },
   {
    "duration": 3,
    "start_time": "2023-04-25T05:22:23.970Z"
   },
   {
    "duration": 27,
    "start_time": "2023-04-25T05:22:23.975Z"
   },
   {
    "duration": 135,
    "start_time": "2023-04-25T05:22:24.004Z"
   },
   {
    "duration": 44,
    "start_time": "2023-04-25T05:22:24.141Z"
   },
   {
    "duration": 3,
    "start_time": "2023-04-25T05:22:24.187Z"
   },
   {
    "duration": 111,
    "start_time": "2023-04-25T05:22:24.191Z"
   },
   {
    "duration": 85,
    "start_time": "2023-04-25T05:22:24.303Z"
   },
   {
    "duration": 3,
    "start_time": "2023-04-25T05:22:24.390Z"
   },
   {
    "duration": 47,
    "start_time": "2023-04-25T05:22:24.395Z"
   },
   {
    "duration": 9,
    "start_time": "2023-04-25T05:22:24.444Z"
   },
   {
    "duration": 52,
    "start_time": "2023-04-25T05:22:24.455Z"
   },
   {
    "duration": 7,
    "start_time": "2023-04-25T05:22:24.509Z"
   },
   {
    "duration": 18,
    "start_time": "2023-04-25T05:22:24.518Z"
   },
   {
    "duration": 5,
    "start_time": "2023-04-25T05:23:23.033Z"
   },
   {
    "duration": 5,
    "start_time": "2023-04-25T05:23:49.053Z"
   },
   {
    "duration": 5,
    "start_time": "2023-04-25T05:25:04.357Z"
   },
   {
    "duration": 5,
    "start_time": "2023-04-25T05:25:49.859Z"
   },
   {
    "duration": 4,
    "start_time": "2023-04-25T05:26:05.503Z"
   },
   {
    "duration": 6,
    "start_time": "2023-04-25T05:26:31.205Z"
   },
   {
    "duration": 4,
    "start_time": "2023-04-25T05:26:52.576Z"
   },
   {
    "duration": 4,
    "start_time": "2023-04-25T05:27:01.156Z"
   },
   {
    "duration": 6,
    "start_time": "2023-04-25T05:27:22.543Z"
   },
   {
    "duration": 4,
    "start_time": "2023-04-25T05:27:26.418Z"
   },
   {
    "duration": 6,
    "start_time": "2023-04-25T05:29:15.030Z"
   },
   {
    "duration": 6,
    "start_time": "2023-04-25T05:29:19.545Z"
   },
   {
    "duration": 68,
    "start_time": "2023-04-25T05:43:11.723Z"
   },
   {
    "duration": 7,
    "start_time": "2023-04-25T05:43:16.837Z"
   },
   {
    "duration": 73,
    "start_time": "2023-04-25T05:43:39.167Z"
   },
   {
    "duration": 8,
    "start_time": "2023-04-25T05:43:42.582Z"
   },
   {
    "duration": 12,
    "start_time": "2023-04-25T05:46:45.525Z"
   },
   {
    "duration": 11,
    "start_time": "2023-04-25T05:47:12.096Z"
   },
   {
    "duration": 39,
    "start_time": "2023-04-25T05:49:54.718Z"
   },
   {
    "duration": 192,
    "start_time": "2023-04-25T05:50:05.829Z"
   },
   {
    "duration": 121,
    "start_time": "2023-04-25T05:51:08.134Z"
   },
   {
    "duration": 43,
    "start_time": "2023-04-25T05:51:28.622Z"
   },
   {
    "duration": 12,
    "start_time": "2023-04-25T05:51:43.551Z"
   },
   {
    "duration": 187,
    "start_time": "2023-04-25T05:51:53.492Z"
   },
   {
    "duration": 1139,
    "start_time": "2023-04-25T05:57:30.967Z"
   },
   {
    "duration": 32,
    "start_time": "2023-04-25T05:58:00.381Z"
   },
   {
    "duration": 30,
    "start_time": "2023-04-25T05:58:26.958Z"
   },
   {
    "duration": 32,
    "start_time": "2023-04-25T05:58:39.461Z"
   },
   {
    "duration": 190,
    "start_time": "2023-04-25T05:59:06.806Z"
   },
   {
    "duration": 46,
    "start_time": "2023-04-25T05:59:46.506Z"
   },
   {
    "duration": 1222,
    "start_time": "2023-04-25T06:00:23.164Z"
   },
   {
    "duration": 610,
    "start_time": "2023-04-25T06:00:36.036Z"
   },
   {
    "duration": 398,
    "start_time": "2023-04-25T06:25:30.468Z"
   },
   {
    "duration": 290,
    "start_time": "2023-04-25T06:26:24.044Z"
   },
   {
    "duration": 66348,
    "start_time": "2023-04-25T06:35:57.774Z"
   },
   {
    "duration": 0,
    "start_time": "2023-04-25T06:37:04.140Z"
   },
   {
    "duration": 43,
    "start_time": "2023-04-25T06:38:32.416Z"
   },
   {
    "duration": 174,
    "start_time": "2023-04-25T06:38:41.845Z"
   },
   {
    "duration": 224,
    "start_time": "2023-04-25T06:57:59.282Z"
   },
   {
    "duration": 229,
    "start_time": "2023-04-25T06:59:04.542Z"
   },
   {
    "duration": 53,
    "start_time": "2023-04-25T07:01:05.301Z"
   },
   {
    "duration": 1360,
    "start_time": "2023-04-25T07:01:13.797Z"
   },
   {
    "duration": 3,
    "start_time": "2023-04-25T07:01:15.890Z"
   },
   {
    "duration": 2,
    "start_time": "2023-04-25T07:01:16.424Z"
   },
   {
    "duration": 4,
    "start_time": "2023-04-25T07:01:16.847Z"
   },
   {
    "duration": 307,
    "start_time": "2023-04-25T07:01:17.680Z"
   },
   {
    "duration": 14,
    "start_time": "2023-04-25T07:01:18.245Z"
   },
   {
    "duration": 4,
    "start_time": "2023-04-25T07:01:19.766Z"
   },
   {
    "duration": 25,
    "start_time": "2023-04-25T07:01:20.147Z"
   },
   {
    "duration": 109,
    "start_time": "2023-04-25T07:01:20.552Z"
   },
   {
    "duration": 46,
    "start_time": "2023-04-25T07:01:21.171Z"
   },
   {
    "duration": 3,
    "start_time": "2023-04-25T07:01:22.071Z"
   },
   {
    "duration": 117,
    "start_time": "2023-04-25T07:01:22.501Z"
   },
   {
    "duration": 96,
    "start_time": "2023-04-25T07:01:22.790Z"
   },
   {
    "duration": 3,
    "start_time": "2023-04-25T07:01:23.012Z"
   },
   {
    "duration": 25,
    "start_time": "2023-04-25T07:01:23.247Z"
   },
   {
    "duration": 13,
    "start_time": "2023-04-25T07:01:23.459Z"
   },
   {
    "duration": 229,
    "start_time": "2023-04-25T07:01:23.728Z"
   },
   {
    "duration": 49,
    "start_time": "2023-04-25T07:02:32.021Z"
   },
   {
    "duration": 33,
    "start_time": "2023-04-25T07:02:55.640Z"
   },
   {
    "duration": 34,
    "start_time": "2023-04-25T07:03:21.318Z"
   },
   {
    "duration": 36,
    "start_time": "2023-04-25T07:04:05.102Z"
   },
   {
    "duration": 172,
    "start_time": "2023-04-25T07:04:12.720Z"
   },
   {
    "duration": 211,
    "start_time": "2023-04-25T07:04:20.572Z"
   },
   {
    "duration": 45,
    "start_time": "2023-04-25T07:04:29.349Z"
   },
   {
    "duration": 46,
    "start_time": "2023-04-25T07:34:55.548Z"
   },
   {
    "duration": 319,
    "start_time": "2023-04-25T07:37:27.377Z"
   },
   {
    "duration": 239,
    "start_time": "2023-04-25T07:41:31.056Z"
   },
   {
    "duration": 890,
    "start_time": "2023-04-25T07:50:12.646Z"
   },
   {
    "duration": 156,
    "start_time": "2023-04-25T07:50:30.196Z"
   },
   {
    "duration": 181,
    "start_time": "2023-04-25T07:50:51.486Z"
   },
   {
    "duration": 18,
    "start_time": "2023-04-25T09:01:12.323Z"
   },
   {
    "duration": 174,
    "start_time": "2023-04-25T09:01:16.258Z"
   },
   {
    "duration": 150,
    "start_time": "2023-04-25T09:01:30.809Z"
   },
   {
    "duration": 167,
    "start_time": "2023-04-25T09:01:48.901Z"
   },
   {
    "duration": 205,
    "start_time": "2023-04-25T09:02:10.977Z"
   },
   {
    "duration": 36,
    "start_time": "2023-04-25T09:03:08.849Z"
   },
   {
    "duration": 291,
    "start_time": "2023-04-25T09:03:17.807Z"
   },
   {
    "duration": 1293,
    "start_time": "2023-04-25T09:13:18.220Z"
   },
   {
    "duration": 3,
    "start_time": "2023-04-25T09:13:20.114Z"
   },
   {
    "duration": 7,
    "start_time": "2023-04-25T09:13:20.554Z"
   },
   {
    "duration": 3,
    "start_time": "2023-04-25T09:13:20.963Z"
   },
   {
    "duration": 377,
    "start_time": "2023-04-25T09:13:21.846Z"
   },
   {
    "duration": 12,
    "start_time": "2023-04-25T09:13:22.320Z"
   },
   {
    "duration": 4,
    "start_time": "2023-04-25T09:13:23.842Z"
   },
   {
    "duration": 22,
    "start_time": "2023-04-25T09:13:24.366Z"
   },
   {
    "duration": 104,
    "start_time": "2023-04-25T09:13:24.898Z"
   },
   {
    "duration": 55,
    "start_time": "2023-04-25T09:13:25.438Z"
   },
   {
    "duration": 3,
    "start_time": "2023-04-25T09:13:26.222Z"
   },
   {
    "duration": 165,
    "start_time": "2023-04-25T09:13:26.465Z"
   },
   {
    "duration": 122,
    "start_time": "2023-04-25T09:13:26.718Z"
   },
   {
    "duration": 5,
    "start_time": "2023-04-25T09:13:26.930Z"
   },
   {
    "duration": 30,
    "start_time": "2023-04-25T09:13:27.136Z"
   },
   {
    "duration": 12,
    "start_time": "2023-04-25T09:13:28.393Z"
   },
   {
    "duration": 35,
    "start_time": "2023-04-25T09:13:30.745Z"
   },
   {
    "duration": 310,
    "start_time": "2023-04-25T09:13:36.697Z"
   },
   {
    "duration": 410,
    "start_time": "2023-04-25T09:13:58.534Z"
   },
   {
    "duration": 428,
    "start_time": "2023-04-25T09:14:14.694Z"
   },
   {
    "duration": 259,
    "start_time": "2023-04-25T09:14:33.194Z"
   },
   {
    "duration": 224,
    "start_time": "2023-04-25T09:14:38.494Z"
   },
   {
    "duration": 244,
    "start_time": "2023-04-25T09:15:15.566Z"
   },
   {
    "duration": 49,
    "start_time": "2023-04-25T09:15:40.966Z"
   },
   {
    "duration": 248,
    "start_time": "2023-04-25T09:15:45.929Z"
   },
   {
    "duration": 345,
    "start_time": "2023-04-25T09:16:17.394Z"
   },
   {
    "duration": 31,
    "start_time": "2023-04-25T09:22:24.123Z"
   },
   {
    "duration": 10,
    "start_time": "2023-04-25T09:23:21.495Z"
   },
   {
    "duration": 31,
    "start_time": "2023-04-25T09:23:29.811Z"
   },
   {
    "duration": 141,
    "start_time": "2023-04-25T09:24:11.116Z"
   },
   {
    "duration": 221,
    "start_time": "2023-04-25T09:28:41.756Z"
   },
   {
    "duration": 15,
    "start_time": "2023-04-25T09:29:18.526Z"
   },
   {
    "duration": 19,
    "start_time": "2023-04-25T09:29:25.522Z"
   },
   {
    "duration": 16,
    "start_time": "2023-04-25T09:29:51.063Z"
   },
   {
    "duration": 13,
    "start_time": "2023-04-25T09:29:52.611Z"
   },
   {
    "duration": 8,
    "start_time": "2023-04-25T09:30:11.995Z"
   },
   {
    "duration": 5,
    "start_time": "2023-04-25T09:30:25.985Z"
   },
   {
    "duration": 4,
    "start_time": "2023-04-25T09:31:43.836Z"
   },
   {
    "duration": 6,
    "start_time": "2023-04-25T09:36:45.897Z"
   },
   {
    "duration": 10,
    "start_time": "2023-04-25T09:39:54.204Z"
   },
   {
    "duration": 5,
    "start_time": "2023-04-25T09:40:45.069Z"
   },
   {
    "duration": 5,
    "start_time": "2023-04-25T09:41:04.313Z"
   },
   {
    "duration": 6,
    "start_time": "2023-04-25T09:41:38.850Z"
   },
   {
    "duration": 5,
    "start_time": "2023-04-25T09:41:54.183Z"
   },
   {
    "duration": 10,
    "start_time": "2023-04-25T09:42:31.065Z"
   },
   {
    "duration": 5,
    "start_time": "2023-04-25T09:42:36.710Z"
   },
   {
    "duration": 95,
    "start_time": "2023-04-25T09:43:11.668Z"
   },
   {
    "duration": 84,
    "start_time": "2023-04-25T09:46:40.916Z"
   },
   {
    "duration": 4,
    "start_time": "2023-04-25T09:47:01.409Z"
   },
   {
    "duration": 9,
    "start_time": "2023-04-25T09:47:25.008Z"
   },
   {
    "duration": 4,
    "start_time": "2023-04-25T09:47:49.128Z"
   },
   {
    "duration": 3,
    "start_time": "2023-04-25T09:49:49.800Z"
   },
   {
    "duration": 4,
    "start_time": "2023-04-25T09:50:00.716Z"
   },
   {
    "duration": 9,
    "start_time": "2023-04-25T09:50:06.992Z"
   },
   {
    "duration": 4,
    "start_time": "2023-04-25T09:50:17.714Z"
   },
   {
    "duration": 5,
    "start_time": "2023-04-25T09:50:32.596Z"
   },
   {
    "duration": 10,
    "start_time": "2023-04-25T09:50:42.616Z"
   },
   {
    "duration": 3,
    "start_time": "2023-04-25T09:51:42.877Z"
   },
   {
    "duration": 5,
    "start_time": "2023-04-25T09:51:56.638Z"
   },
   {
    "duration": 14,
    "start_time": "2023-04-25T09:52:21.294Z"
   },
   {
    "duration": 5,
    "start_time": "2023-04-25T09:52:30.313Z"
   },
   {
    "duration": 6,
    "start_time": "2023-04-25T09:52:35.513Z"
   },
   {
    "duration": 4,
    "start_time": "2023-04-25T09:52:43.159Z"
   },
   {
    "duration": 5,
    "start_time": "2023-04-25T09:52:54.520Z"
   },
   {
    "duration": 10,
    "start_time": "2023-04-25T09:52:57.662Z"
   },
   {
    "duration": 5,
    "start_time": "2023-04-25T09:53:19.562Z"
   },
   {
    "duration": 8,
    "start_time": "2023-04-25T09:54:25.849Z"
   },
   {
    "duration": 4,
    "start_time": "2023-04-25T09:54:36.121Z"
   },
   {
    "duration": 4,
    "start_time": "2023-04-25T09:56:27.095Z"
   },
   {
    "duration": 3,
    "start_time": "2023-04-25T09:57:00.055Z"
   },
   {
    "duration": 4,
    "start_time": "2023-04-25T09:57:01.009Z"
   },
   {
    "duration": 129,
    "start_time": "2023-04-25T09:58:18.872Z"
   },
   {
    "duration": 9,
    "start_time": "2023-04-25T09:59:34.926Z"
   },
   {
    "duration": 9,
    "start_time": "2023-04-25T10:00:00.353Z"
   },
   {
    "duration": 46,
    "start_time": "2023-04-25T10:01:31.145Z"
   },
   {
    "duration": 205,
    "start_time": "2023-04-25T10:01:44.991Z"
   },
   {
    "duration": 55,
    "start_time": "2023-04-25T10:03:27.205Z"
   },
   {
    "duration": 8,
    "start_time": "2023-04-25T10:03:28.609Z"
   },
   {
    "duration": 5,
    "start_time": "2023-04-25T10:03:40.706Z"
   },
   {
    "duration": 6,
    "start_time": "2023-04-25T10:15:49.506Z"
   },
   {
    "duration": 5,
    "start_time": "2023-04-25T10:16:02.600Z"
   },
   {
    "duration": 18,
    "start_time": "2023-04-25T10:16:27.675Z"
   },
   {
    "duration": 7,
    "start_time": "2023-04-25T10:16:48.011Z"
   },
   {
    "duration": 6,
    "start_time": "2023-04-25T10:18:08.763Z"
   },
   {
    "duration": 5,
    "start_time": "2023-04-25T10:18:14.927Z"
   },
   {
    "duration": 36,
    "start_time": "2023-04-25T10:18:53.157Z"
   },
   {
    "duration": 14,
    "start_time": "2023-04-25T10:20:32.459Z"
   },
   {
    "duration": 28,
    "start_time": "2023-04-25T10:20:58.250Z"
   },
   {
    "duration": 11,
    "start_time": "2023-04-25T10:21:56.169Z"
   },
   {
    "duration": 10,
    "start_time": "2023-04-25T10:22:23.236Z"
   },
   {
    "duration": 11,
    "start_time": "2023-04-25T10:23:10.851Z"
   },
   {
    "duration": 41,
    "start_time": "2023-04-25T10:27:24.619Z"
   },
   {
    "duration": 61,
    "start_time": "2023-04-25T10:28:17.618Z"
   },
   {
    "duration": 6,
    "start_time": "2023-04-25T10:30:32.792Z"
   },
   {
    "duration": 5,
    "start_time": "2023-04-25T10:31:02.269Z"
   },
   {
    "duration": 5,
    "start_time": "2023-04-25T10:31:22.041Z"
   },
   {
    "duration": 7,
    "start_time": "2023-04-25T10:31:40.030Z"
   },
   {
    "duration": 4,
    "start_time": "2023-04-25T10:31:47.927Z"
   },
   {
    "duration": 29,
    "start_time": "2023-04-25T10:48:37.240Z"
   },
   {
    "duration": 7,
    "start_time": "2023-04-25T10:48:39.323Z"
   },
   {
    "duration": 7,
    "start_time": "2023-04-25T10:48:51.827Z"
   },
   {
    "duration": 13,
    "start_time": "2023-04-25T10:49:28.966Z"
   },
   {
    "duration": 19,
    "start_time": "2023-04-25T10:50:01.583Z"
   },
   {
    "duration": 25,
    "start_time": "2023-04-25T10:50:21.309Z"
   },
   {
    "duration": 10,
    "start_time": "2023-04-25T10:50:22.344Z"
   },
   {
    "duration": 6,
    "start_time": "2023-04-25T10:50:23.352Z"
   },
   {
    "duration": 4,
    "start_time": "2023-04-25T10:50:23.736Z"
   },
   {
    "duration": 4,
    "start_time": "2023-04-25T10:50:24.140Z"
   },
   {
    "duration": 4,
    "start_time": "2023-04-25T10:50:24.537Z"
   },
   {
    "duration": 42,
    "start_time": "2023-04-25T10:50:25.774Z"
   },
   {
    "duration": 21,
    "start_time": "2023-04-25T10:50:27.280Z"
   },
   {
    "duration": 9,
    "start_time": "2023-04-25T10:50:28.312Z"
   },
   {
    "duration": 18,
    "start_time": "2023-04-25T10:50:57.727Z"
   },
   {
    "duration": 33,
    "start_time": "2023-04-25T10:51:02.069Z"
   },
   {
    "duration": 14,
    "start_time": "2023-04-25T10:51:02.300Z"
   },
   {
    "duration": 81,
    "start_time": "2023-04-25T13:59:39.791Z"
   },
   {
    "duration": 1370,
    "start_time": "2023-04-26T06:12:05.001Z"
   },
   {
    "duration": 3,
    "start_time": "2023-04-26T06:12:06.373Z"
   },
   {
    "duration": 5,
    "start_time": "2023-04-26T06:12:06.377Z"
   },
   {
    "duration": 4,
    "start_time": "2023-04-26T06:12:06.384Z"
   },
   {
    "duration": 846,
    "start_time": "2023-04-26T06:12:06.390Z"
   },
   {
    "duration": 12,
    "start_time": "2023-04-26T06:12:07.238Z"
   },
   {
    "duration": 3,
    "start_time": "2023-04-26T06:12:07.252Z"
   },
   {
    "duration": 28,
    "start_time": "2023-04-26T06:12:07.256Z"
   },
   {
    "duration": 95,
    "start_time": "2023-04-26T06:12:07.285Z"
   },
   {
    "duration": 46,
    "start_time": "2023-04-26T06:12:07.383Z"
   },
   {
    "duration": 2,
    "start_time": "2023-04-26T06:12:07.431Z"
   },
   {
    "duration": 122,
    "start_time": "2023-04-26T06:12:07.435Z"
   },
   {
    "duration": 109,
    "start_time": "2023-04-26T06:12:07.559Z"
   },
   {
    "duration": 3,
    "start_time": "2023-04-26T06:12:07.670Z"
   },
   {
    "duration": 32,
    "start_time": "2023-04-26T06:12:07.675Z"
   },
   {
    "duration": 11,
    "start_time": "2023-04-26T06:12:07.712Z"
   },
   {
    "duration": 40,
    "start_time": "2023-04-26T06:12:07.725Z"
   },
   {
    "duration": 266,
    "start_time": "2023-04-26T06:12:07.767Z"
   },
   {
    "duration": 17,
    "start_time": "2023-04-26T06:12:08.034Z"
   },
   {
    "duration": 3,
    "start_time": "2023-04-26T06:12:08.053Z"
   },
   {
    "duration": 104,
    "start_time": "2023-04-26T06:12:08.058Z"
   },
   {
    "duration": 3,
    "start_time": "2023-04-26T06:12:08.164Z"
   },
   {
    "duration": 6,
    "start_time": "2023-04-26T06:12:08.168Z"
   },
   {
    "duration": 109,
    "start_time": "2023-04-26T06:12:08.176Z"
   },
   {
    "duration": 35,
    "start_time": "2023-04-26T06:12:08.287Z"
   },
   {
    "duration": 201,
    "start_time": "2023-04-26T06:12:08.324Z"
   },
   {
    "duration": 6,
    "start_time": "2023-04-26T06:12:08.527Z"
   },
   {
    "duration": 47,
    "start_time": "2023-04-26T06:12:08.536Z"
   },
   {
    "duration": 26,
    "start_time": "2023-04-26T06:12:08.585Z"
   },
   {
    "duration": 5,
    "start_time": "2023-04-26T06:12:08.613Z"
   },
   {
    "duration": 31,
    "start_time": "2023-04-26T06:12:08.620Z"
   },
   {
    "duration": 48,
    "start_time": "2023-04-26T06:12:08.653Z"
   },
   {
    "duration": 10,
    "start_time": "2023-04-26T06:12:08.703Z"
   },
   {
    "duration": 7,
    "start_time": "2023-04-26T06:12:08.715Z"
   },
   {
    "duration": 21,
    "start_time": "2023-04-26T06:12:08.723Z"
   },
   {
    "duration": 10,
    "start_time": "2023-04-26T06:12:08.746Z"
   },
   {
    "duration": 20,
    "start_time": "2023-04-26T06:12:08.758Z"
   },
   {
    "duration": 62,
    "start_time": "2023-04-26T06:12:08.780Z"
   },
   {
    "duration": 33,
    "start_time": "2023-04-26T06:12:08.844Z"
   },
   {
    "duration": 34,
    "start_time": "2023-04-26T06:12:08.879Z"
   },
   {
    "duration": 77,
    "start_time": "2023-04-26T06:12:08.915Z"
   },
   {
    "duration": 0,
    "start_time": "2023-04-26T06:12:08.994Z"
   },
   {
    "duration": 14,
    "start_time": "2023-04-26T06:12:16.980Z"
   },
   {
    "duration": 1386,
    "start_time": "2023-04-26T06:13:51.151Z"
   },
   {
    "duration": 10,
    "start_time": "2023-04-26T06:17:17.116Z"
   },
   {
    "duration": 1171,
    "start_time": "2023-04-26T06:18:54.418Z"
   },
   {
    "duration": 1232,
    "start_time": "2023-04-26T06:21:48.123Z"
   },
   {
    "duration": 22,
    "start_time": "2023-04-26T06:22:22.676Z"
   },
   {
    "duration": 15,
    "start_time": "2023-04-26T06:22:47.133Z"
   },
   {
    "duration": 73,
    "start_time": "2023-04-26T06:22:54.762Z"
   },
   {
    "duration": 14,
    "start_time": "2023-04-26T06:23:02.122Z"
   },
   {
    "duration": 37,
    "start_time": "2023-04-26T06:24:13.309Z"
   },
   {
    "duration": 11,
    "start_time": "2023-04-26T06:26:23.781Z"
   },
   {
    "duration": 30,
    "start_time": "2023-04-26T06:26:58.374Z"
   },
   {
    "duration": 31,
    "start_time": "2023-04-26T06:27:07.341Z"
   },
   {
    "duration": 33,
    "start_time": "2023-04-26T06:27:44.437Z"
   },
   {
    "duration": 113,
    "start_time": "2023-04-26T06:28:46.069Z"
   },
   {
    "duration": 3,
    "start_time": "2023-04-26T06:39:34.116Z"
   },
   {
    "duration": 3,
    "start_time": "2023-04-26T06:41:01.660Z"
   },
   {
    "duration": 10,
    "start_time": "2023-04-26T06:41:32.713Z"
   },
   {
    "duration": 12,
    "start_time": "2023-04-26T06:41:35.924Z"
   },
   {
    "duration": 2,
    "start_time": "2023-04-26T06:42:49.776Z"
   },
   {
    "duration": 9,
    "start_time": "2023-04-26T06:42:52.034Z"
   },
   {
    "duration": 11,
    "start_time": "2023-04-26T06:42:52.805Z"
   },
   {
    "duration": 3,
    "start_time": "2023-04-26T06:44:48.198Z"
   },
   {
    "duration": 26,
    "start_time": "2023-04-26T06:45:13.446Z"
   },
   {
    "duration": 13,
    "start_time": "2023-04-26T06:45:16.460Z"
   },
   {
    "duration": 4,
    "start_time": "2023-04-26T06:45:48.579Z"
   },
   {
    "duration": 7,
    "start_time": "2023-04-26T06:46:38.661Z"
   },
   {
    "duration": 3,
    "start_time": "2023-04-26T06:46:39.441Z"
   },
   {
    "duration": 3,
    "start_time": "2023-04-26T06:50:18.422Z"
   },
   {
    "duration": 13,
    "start_time": "2023-04-26T06:51:24.534Z"
   },
   {
    "duration": 3,
    "start_time": "2023-04-26T06:54:34.287Z"
   },
   {
    "duration": 5,
    "start_time": "2023-04-26T06:54:37.256Z"
   },
   {
    "duration": 3,
    "start_time": "2023-04-26T06:54:39.416Z"
   },
   {
    "duration": 5,
    "start_time": "2023-04-26T06:55:11.311Z"
   },
   {
    "duration": 5,
    "start_time": "2023-04-26T06:55:12.332Z"
   },
   {
    "duration": 5,
    "start_time": "2023-04-26T06:55:12.755Z"
   },
   {
    "duration": 2,
    "start_time": "2023-04-26T06:59:54.063Z"
   },
   {
    "duration": 4,
    "start_time": "2023-04-26T07:00:10.640Z"
   },
   {
    "duration": 5,
    "start_time": "2023-04-26T07:01:04.725Z"
   },
   {
    "duration": 3,
    "start_time": "2023-04-26T07:07:30.203Z"
   },
   {
    "duration": 16,
    "start_time": "2023-04-26T07:08:15.513Z"
   },
   {
    "duration": 4,
    "start_time": "2023-04-26T07:09:11.671Z"
   },
   {
    "duration": 14,
    "start_time": "2023-04-26T07:09:26.424Z"
   },
   {
    "duration": 5,
    "start_time": "2023-04-26T07:09:37.070Z"
   },
   {
    "duration": 10,
    "start_time": "2023-04-26T07:10:27.731Z"
   },
   {
    "duration": 33,
    "start_time": "2023-04-26T07:10:30.545Z"
   },
   {
    "duration": 5,
    "start_time": "2023-04-26T07:10:30.890Z"
   },
   {
    "duration": 3,
    "start_time": "2023-04-26T07:10:50.930Z"
   },
   {
    "duration": 36,
    "start_time": "2023-04-26T07:10:52.266Z"
   },
   {
    "duration": 5,
    "start_time": "2023-04-26T07:10:52.971Z"
   },
   {
    "duration": 9,
    "start_time": "2023-04-26T07:12:34.335Z"
   },
   {
    "duration": 3,
    "start_time": "2023-04-26T07:12:40.984Z"
   },
   {
    "duration": 23,
    "start_time": "2023-04-26T07:12:43.420Z"
   },
   {
    "duration": 8,
    "start_time": "2023-04-26T07:12:53.848Z"
   },
   {
    "duration": 3,
    "start_time": "2023-04-26T07:12:54.190Z"
   },
   {
    "duration": 3,
    "start_time": "2023-04-26T07:13:04.199Z"
   },
   {
    "duration": 20,
    "start_time": "2023-04-26T07:13:06.777Z"
   },
   {
    "duration": 6,
    "start_time": "2023-04-26T07:13:07.041Z"
   },
   {
    "duration": 4,
    "start_time": "2023-04-26T07:13:07.359Z"
   },
   {
    "duration": 3,
    "start_time": "2023-04-26T07:15:12.245Z"
   },
   {
    "duration": 3,
    "start_time": "2023-04-26T07:16:00.171Z"
   },
   {
    "duration": 3,
    "start_time": "2023-04-26T07:16:00.466Z"
   },
   {
    "duration": 4,
    "start_time": "2023-04-26T07:16:01.103Z"
   },
   {
    "duration": 23,
    "start_time": "2023-04-26T07:16:02.828Z"
   },
   {
    "duration": 5,
    "start_time": "2023-04-26T07:16:03.363Z"
   },
   {
    "duration": 5,
    "start_time": "2023-04-26T07:16:03.861Z"
   },
   {
    "duration": 5,
    "start_time": "2023-04-26T07:16:05.740Z"
   },
   {
    "duration": 34,
    "start_time": "2023-04-26T07:16:10.052Z"
   },
   {
    "duration": 4,
    "start_time": "2023-04-26T07:16:11.529Z"
   },
   {
    "duration": 4,
    "start_time": "2023-04-26T07:29:18.752Z"
   },
   {
    "duration": 13,
    "start_time": "2023-04-26T07:29:22.339Z"
   },
   {
    "duration": 13,
    "start_time": "2023-04-26T07:29:23.546Z"
   },
   {
    "duration": 4,
    "start_time": "2023-04-26T07:30:02.441Z"
   },
   {
    "duration": 27,
    "start_time": "2023-04-26T07:30:02.867Z"
   },
   {
    "duration": 16,
    "start_time": "2023-04-26T07:30:03.648Z"
   },
   {
    "duration": 3,
    "start_time": "2023-04-26T07:43:23.684Z"
   },
   {
    "duration": 8,
    "start_time": "2023-04-26T07:43:24.285Z"
   },
   {
    "duration": 16,
    "start_time": "2023-04-26T07:50:37.898Z"
   },
   {
    "duration": 124,
    "start_time": "2023-04-26T07:51:38.317Z"
   },
   {
    "duration": 16,
    "start_time": "2023-04-26T07:51:43.960Z"
   },
   {
    "duration": 110,
    "start_time": "2023-04-26T07:51:44.968Z"
   },
   {
    "duration": 3,
    "start_time": "2023-04-26T07:51:48.024Z"
   },
   {
    "duration": 3,
    "start_time": "2023-04-26T07:52:30.318Z"
   },
   {
    "duration": 109,
    "start_time": "2023-04-26T07:52:34.357Z"
   },
   {
    "duration": 12,
    "start_time": "2023-04-26T07:52:36.882Z"
   },
   {
    "duration": 10,
    "start_time": "2023-04-26T07:52:45.074Z"
   },
   {
    "duration": 3,
    "start_time": "2023-04-26T07:58:05.472Z"
   },
   {
    "duration": 12,
    "start_time": "2023-04-26T07:58:07.342Z"
   },
   {
    "duration": 3,
    "start_time": "2023-04-26T07:58:10.969Z"
   },
   {
    "duration": 4,
    "start_time": "2023-04-26T07:58:32.955Z"
   },
   {
    "duration": 13,
    "start_time": "2023-04-26T07:58:34.408Z"
   },
   {
    "duration": 3,
    "start_time": "2023-04-26T07:58:38.501Z"
   },
   {
    "duration": 3,
    "start_time": "2023-04-26T07:58:44.539Z"
   },
   {
    "duration": 13,
    "start_time": "2023-04-26T07:58:44.896Z"
   },
   {
    "duration": 3,
    "start_time": "2023-04-26T07:58:47.729Z"
   },
   {
    "duration": 3,
    "start_time": "2023-04-26T07:58:56.561Z"
   },
   {
    "duration": 12,
    "start_time": "2023-04-26T07:58:58.363Z"
   },
   {
    "duration": 4,
    "start_time": "2023-04-26T07:59:01.795Z"
   },
   {
    "duration": 3,
    "start_time": "2023-04-26T07:59:43.430Z"
   },
   {
    "duration": 14,
    "start_time": "2023-04-26T07:59:43.898Z"
   },
   {
    "duration": 4,
    "start_time": "2023-04-26T07:59:46.581Z"
   },
   {
    "duration": 25,
    "start_time": "2023-04-26T08:00:14.857Z"
   },
   {
    "duration": 21,
    "start_time": "2023-04-26T08:00:21.380Z"
   },
   {
    "duration": 4,
    "start_time": "2023-04-26T08:00:34.423Z"
   },
   {
    "duration": 29,
    "start_time": "2023-04-26T08:01:09.844Z"
   },
   {
    "duration": 4,
    "start_time": "2023-04-26T08:01:12.495Z"
   },
   {
    "duration": 3,
    "start_time": "2023-04-26T08:01:24.199Z"
   },
   {
    "duration": 37,
    "start_time": "2023-04-26T08:01:26.663Z"
   },
   {
    "duration": 4,
    "start_time": "2023-04-26T08:01:29.279Z"
   },
   {
    "duration": 4,
    "start_time": "2023-04-26T08:06:12.717Z"
   },
   {
    "duration": 14773,
    "start_time": "2023-04-26T08:06:33.149Z"
   },
   {
    "duration": 3,
    "start_time": "2023-04-26T08:07:00.325Z"
   },
   {
    "duration": 32274,
    "start_time": "2023-04-26T08:07:01.610Z"
   },
   {
    "duration": 235784,
    "start_time": "2023-04-26T08:11:11.898Z"
   },
   {
    "duration": 44,
    "start_time": "2023-04-26T08:15:21.875Z"
   },
   {
    "duration": 13,
    "start_time": "2023-04-26T08:16:13.052Z"
   },
   {
    "duration": 28,
    "start_time": "2023-04-26T08:17:32.481Z"
   },
   {
    "duration": 16,
    "start_time": "2023-04-26T08:17:33.411Z"
   },
   {
    "duration": 5,
    "start_time": "2023-04-26T08:18:55.718Z"
   },
   {
    "duration": 48,
    "start_time": "2023-04-26T08:20:23.042Z"
   },
   {
    "duration": 9,
    "start_time": "2023-04-26T08:20:23.767Z"
   },
   {
    "duration": 1377,
    "start_time": "2023-04-26T08:20:35.365Z"
   },
   {
    "duration": 0,
    "start_time": "2023-04-26T08:20:36.744Z"
   },
   {
    "duration": 24,
    "start_time": "2023-04-26T08:20:57.307Z"
   },
   {
    "duration": 8,
    "start_time": "2023-04-26T08:21:00.098Z"
   },
   {
    "duration": 24,
    "start_time": "2023-04-26T08:21:15.995Z"
   },
   {
    "duration": 8,
    "start_time": "2023-04-26T08:21:16.253Z"
   },
   {
    "duration": 47,
    "start_time": "2023-04-26T08:22:12.747Z"
   },
   {
    "duration": 3,
    "start_time": "2023-04-26T08:23:59.419Z"
   },
   {
    "duration": 37,
    "start_time": "2023-04-26T08:24:06.500Z"
   },
   {
    "duration": 3,
    "start_time": "2023-04-26T08:29:01.509Z"
   },
   {
    "duration": 36,
    "start_time": "2023-04-26T08:29:02.016Z"
   },
   {
    "duration": 3,
    "start_time": "2023-04-26T08:35:35.239Z"
   },
   {
    "duration": 13,
    "start_time": "2023-04-26T08:35:38.049Z"
   },
   {
    "duration": 4,
    "start_time": "2023-04-26T08:36:07.000Z"
   },
   {
    "duration": 11,
    "start_time": "2023-04-26T08:36:09.707Z"
   },
   {
    "duration": 4,
    "start_time": "2023-04-26T08:44:54.806Z"
   },
   {
    "duration": 19,
    "start_time": "2023-04-26T08:44:57.241Z"
   },
   {
    "duration": 4,
    "start_time": "2023-04-26T08:45:08.474Z"
   },
   {
    "duration": 57,
    "start_time": "2023-04-26T08:45:10.768Z"
   },
   {
    "duration": 4,
    "start_time": "2023-04-26T08:45:24.616Z"
   },
   {
    "duration": 39,
    "start_time": "2023-04-26T08:45:26.130Z"
   },
   {
    "duration": 4,
    "start_time": "2023-04-26T08:52:23.769Z"
   },
   {
    "duration": 35,
    "start_time": "2023-04-26T08:52:27.178Z"
   },
   {
    "duration": 4,
    "start_time": "2023-04-26T08:53:00.716Z"
   },
   {
    "duration": 79,
    "start_time": "2023-04-26T08:53:42.368Z"
   },
   {
    "duration": 79,
    "start_time": "2023-04-26T08:54:53.557Z"
   },
   {
    "duration": 3,
    "start_time": "2023-04-26T09:16:02.800Z"
   },
   {
    "duration": 12,
    "start_time": "2023-04-26T09:16:04.960Z"
   },
   {
    "duration": 3,
    "start_time": "2023-04-26T09:16:13.512Z"
   },
   {
    "duration": 39,
    "start_time": "2023-04-26T09:16:15.843Z"
   },
   {
    "duration": 4,
    "start_time": "2023-04-26T09:39:32.353Z"
   },
   {
    "duration": 36,
    "start_time": "2023-04-26T09:39:35.607Z"
   },
   {
    "duration": 5,
    "start_time": "2023-04-26T09:39:46.676Z"
   },
   {
    "duration": 37,
    "start_time": "2023-04-26T09:45:43.498Z"
   },
   {
    "duration": 112,
    "start_time": "2023-04-26T09:46:42.703Z"
   },
   {
    "duration": 3,
    "start_time": "2023-04-26T09:50:37.256Z"
   },
   {
    "duration": 2,
    "start_time": "2023-04-26T09:50:45.255Z"
   },
   {
    "duration": 4,
    "start_time": "2023-04-26T09:50:50.800Z"
   },
   {
    "duration": 4,
    "start_time": "2023-04-26T09:51:24.946Z"
   },
   {
    "duration": 12,
    "start_time": "2023-04-26T09:51:25.728Z"
   },
   {
    "duration": 4,
    "start_time": "2023-04-26T09:51:36.180Z"
   },
   {
    "duration": 3,
    "start_time": "2023-04-26T09:51:36.824Z"
   },
   {
    "duration": 4,
    "start_time": "2023-04-26T09:51:38.224Z"
   },
   {
    "duration": 4,
    "start_time": "2023-04-26T10:17:57.593Z"
   },
   {
    "duration": 42,
    "start_time": "2023-04-26T10:42:08.945Z"
   },
   {
    "duration": 4,
    "start_time": "2023-04-26T10:45:04.800Z"
   },
   {
    "duration": 4,
    "start_time": "2023-04-26T10:49:50.012Z"
   },
   {
    "duration": 10,
    "start_time": "2023-04-26T11:58:54.212Z"
   },
   {
    "duration": 3,
    "start_time": "2023-04-26T11:58:56.827Z"
   },
   {
    "duration": 13,
    "start_time": "2023-04-26T11:58:59.248Z"
   },
   {
    "duration": 4,
    "start_time": "2023-04-26T11:59:14.686Z"
   },
   {
    "duration": 12,
    "start_time": "2023-04-26T11:59:16.808Z"
   },
   {
    "duration": 4,
    "start_time": "2023-04-26T12:00:29.902Z"
   },
   {
    "duration": 8,
    "start_time": "2023-04-26T12:02:56.980Z"
   },
   {
    "duration": 8,
    "start_time": "2023-04-26T12:03:09.269Z"
   },
   {
    "duration": 3,
    "start_time": "2023-04-26T12:03:39.827Z"
   },
   {
    "duration": 9,
    "start_time": "2023-04-26T12:03:55.460Z"
   },
   {
    "duration": 4,
    "start_time": "2023-04-26T12:04:15.907Z"
   },
   {
    "duration": 4,
    "start_time": "2023-04-26T12:04:24.670Z"
   },
   {
    "duration": 10,
    "start_time": "2023-04-26T12:04:29.113Z"
   },
   {
    "duration": 4,
    "start_time": "2023-04-26T12:04:49.085Z"
   },
   {
    "duration": 9,
    "start_time": "2023-04-26T12:05:21.905Z"
   },
   {
    "duration": 3,
    "start_time": "2023-04-26T12:05:28.154Z"
   },
   {
    "duration": 3,
    "start_time": "2023-04-26T12:05:29.283Z"
   },
   {
    "duration": 4,
    "start_time": "2023-04-26T12:05:57.140Z"
   },
   {
    "duration": 4,
    "start_time": "2023-04-26T12:06:05.608Z"
   },
   {
    "duration": 4,
    "start_time": "2023-04-26T12:06:07.924Z"
   },
   {
    "duration": 4,
    "start_time": "2023-04-26T12:06:58.441Z"
   },
   {
    "duration": 3,
    "start_time": "2023-04-26T12:07:05.823Z"
   },
   {
    "duration": 4,
    "start_time": "2023-04-26T12:07:08.904Z"
   },
   {
    "duration": 4,
    "start_time": "2023-04-26T12:07:19.121Z"
   },
   {
    "duration": 106,
    "start_time": "2023-04-26T12:11:02.257Z"
   },
   {
    "duration": 4,
    "start_time": "2023-04-26T12:11:28.721Z"
   },
   {
    "duration": 4,
    "start_time": "2023-04-26T12:12:09.445Z"
   },
   {
    "duration": 3,
    "start_time": "2023-04-26T12:13:25.458Z"
   },
   {
    "duration": 12,
    "start_time": "2023-04-26T12:25:37.939Z"
   },
   {
    "duration": 1280,
    "start_time": "2023-04-27T06:42:07.879Z"
   },
   {
    "duration": 3,
    "start_time": "2023-04-27T06:42:09.875Z"
   },
   {
    "duration": 3,
    "start_time": "2023-04-27T06:42:10.598Z"
   },
   {
    "duration": 3,
    "start_time": "2023-04-27T06:42:11.466Z"
   },
   {
    "duration": 785,
    "start_time": "2023-04-27T06:42:12.747Z"
   },
   {
    "duration": 12,
    "start_time": "2023-04-27T06:42:13.534Z"
   },
   {
    "duration": 3,
    "start_time": "2023-04-27T06:42:15.323Z"
   },
   {
    "duration": 20,
    "start_time": "2023-04-27T06:42:15.916Z"
   },
   {
    "duration": 84,
    "start_time": "2023-04-27T06:42:17.596Z"
   },
   {
    "duration": 41,
    "start_time": "2023-04-27T06:42:18.925Z"
   },
   {
    "duration": 2,
    "start_time": "2023-04-27T06:42:20.594Z"
   },
   {
    "duration": 95,
    "start_time": "2023-04-27T06:42:21.677Z"
   },
   {
    "duration": 81,
    "start_time": "2023-04-27T06:42:23.087Z"
   },
   {
    "duration": 3,
    "start_time": "2023-04-27T06:42:24.007Z"
   },
   {
    "duration": 19,
    "start_time": "2023-04-27T06:42:25.188Z"
   },
   {
    "duration": 11,
    "start_time": "2023-04-27T06:42:26.770Z"
   },
   {
    "duration": 32,
    "start_time": "2023-04-27T06:42:29.681Z"
   },
   {
    "duration": 251,
    "start_time": "2023-04-27T06:42:30.406Z"
   },
   {
    "duration": 14,
    "start_time": "2023-04-27T06:42:35.440Z"
   },
   {
    "duration": 4,
    "start_time": "2023-04-27T06:42:36.244Z"
   },
   {
    "duration": 87,
    "start_time": "2023-04-27T06:42:37.670Z"
   },
   {
    "duration": 3,
    "start_time": "2023-04-27T06:42:38.102Z"
   },
   {
    "duration": 4,
    "start_time": "2023-04-27T06:42:38.813Z"
   },
   {
    "duration": 94,
    "start_time": "2023-04-27T06:42:40.262Z"
   },
   {
    "duration": 31,
    "start_time": "2023-04-27T06:42:41.417Z"
   },
   {
    "duration": 182,
    "start_time": "2023-04-27T06:42:41.780Z"
   },
   {
    "duration": 6,
    "start_time": "2023-04-27T06:42:46.330Z"
   },
   {
    "duration": 27,
    "start_time": "2023-04-27T06:42:49.521Z"
   },
   {
    "duration": 16,
    "start_time": "2023-04-27T06:42:49.550Z"
   },
   {
    "duration": 5,
    "start_time": "2023-04-27T06:42:55.269Z"
   },
   {
    "duration": 4,
    "start_time": "2023-04-27T06:42:58.535Z"
   },
   {
    "duration": 3,
    "start_time": "2023-04-27T06:43:02.456Z"
   },
   {
    "duration": 3,
    "start_time": "2023-04-27T06:43:05.304Z"
   },
   {
    "duration": 3,
    "start_time": "2023-04-27T06:43:05.720Z"
   },
   {
    "duration": 4,
    "start_time": "2023-04-27T06:43:06.175Z"
   },
   {
    "duration": 27,
    "start_time": "2023-04-27T06:43:07.947Z"
   },
   {
    "duration": 7,
    "start_time": "2023-04-27T06:43:08.661Z"
   },
   {
    "duration": 4,
    "start_time": "2023-04-27T06:43:10.261Z"
   },
   {
    "duration": 5,
    "start_time": "2023-04-27T06:43:13.526Z"
   },
   {
    "duration": 32,
    "start_time": "2023-04-27T06:43:18.048Z"
   },
   {
    "duration": 5,
    "start_time": "2023-04-27T06:43:18.750Z"
   },
   {
    "duration": 4,
    "start_time": "2023-04-27T06:43:21.149Z"
   },
   {
    "duration": 27,
    "start_time": "2023-04-27T06:43:24.377Z"
   },
   {
    "duration": 5,
    "start_time": "2023-04-27T06:43:28.301Z"
   },
   {
    "duration": 3,
    "start_time": "2023-04-27T06:43:28.976Z"
   },
   {
    "duration": 3,
    "start_time": "2023-04-27T06:43:30.310Z"
   },
   {
    "duration": 93,
    "start_time": "2023-04-27T06:43:31.991Z"
   },
   {
    "duration": 3,
    "start_time": "2023-04-27T06:43:32.972Z"
   },
   {
    "duration": 4,
    "start_time": "2023-04-27T06:43:34.571Z"
   },
   {
    "duration": 2,
    "start_time": "2023-04-27T06:43:34.762Z"
   },
   {
    "duration": 4,
    "start_time": "2023-04-27T06:43:39.143Z"
   },
   {
    "duration": 101,
    "start_time": "2023-04-27T06:43:40.380Z"
   },
   {
    "duration": 5,
    "start_time": "2023-04-27T07:21:16.781Z"
   },
   {
    "duration": 12,
    "start_time": "2023-04-27T07:21:17.890Z"
   },
   {
    "duration": 7,
    "start_time": "2023-04-27T07:21:56.449Z"
   },
   {
    "duration": 14,
    "start_time": "2023-04-27T07:21:57.262Z"
   },
   {
    "duration": 5,
    "start_time": "2023-04-27T07:22:25.824Z"
   },
   {
    "duration": 14,
    "start_time": "2023-04-27T07:22:26.698Z"
   },
   {
    "duration": 4,
    "start_time": "2023-04-27T07:22:56.131Z"
   },
   {
    "duration": 6,
    "start_time": "2023-04-27T07:22:59.932Z"
   },
   {
    "duration": 9,
    "start_time": "2023-04-27T07:23:01.004Z"
   },
   {
    "duration": 5,
    "start_time": "2023-04-27T07:33:06.826Z"
   },
   {
    "duration": 7,
    "start_time": "2023-04-27T07:33:11.639Z"
   },
   {
    "duration": 7,
    "start_time": "2023-04-27T07:35:22.307Z"
   },
   {
    "duration": 6,
    "start_time": "2023-04-27T07:36:39.413Z"
   },
   {
    "duration": 11,
    "start_time": "2023-04-27T07:36:41.379Z"
   },
   {
    "duration": 6,
    "start_time": "2023-04-27T07:39:02.069Z"
   },
   {
    "duration": 6,
    "start_time": "2023-04-27T07:39:02.807Z"
   },
   {
    "duration": 6,
    "start_time": "2023-04-27T07:39:26.131Z"
   },
   {
    "duration": 7,
    "start_time": "2023-04-27T07:39:26.644Z"
   },
   {
    "duration": 15,
    "start_time": "2023-04-27T07:42:00.036Z"
   },
   {
    "duration": 4,
    "start_time": "2023-04-27T07:42:29.510Z"
   },
   {
    "duration": 6,
    "start_time": "2023-04-27T07:44:45.832Z"
   },
   {
    "duration": 6,
    "start_time": "2023-04-27T07:44:48.651Z"
   },
   {
    "duration": 5,
    "start_time": "2023-04-27T07:44:59.647Z"
   },
   {
    "duration": 6,
    "start_time": "2023-04-27T07:45:00.145Z"
   },
   {
    "duration": 6,
    "start_time": "2023-04-27T07:47:41.385Z"
   },
   {
    "duration": 13,
    "start_time": "2023-04-27T07:53:28.685Z"
   },
   {
    "duration": 12,
    "start_time": "2023-04-27T07:55:08.864Z"
   },
   {
    "duration": 6,
    "start_time": "2023-04-27T07:57:32.186Z"
   },
   {
    "duration": 7,
    "start_time": "2023-04-27T07:57:33.154Z"
   },
   {
    "duration": 7,
    "start_time": "2023-04-27T07:59:11.076Z"
   },
   {
    "duration": 7,
    "start_time": "2023-04-27T08:47:52.637Z"
   },
   {
    "duration": 6,
    "start_time": "2023-04-27T08:48:27.412Z"
   },
   {
    "duration": 7,
    "start_time": "2023-04-27T08:48:40.924Z"
   },
   {
    "duration": 7,
    "start_time": "2023-04-27T08:49:12.079Z"
   },
   {
    "duration": 6,
    "start_time": "2023-04-27T08:50:17.570Z"
   },
   {
    "duration": 6,
    "start_time": "2023-04-27T08:50:38.897Z"
   },
   {
    "duration": 6,
    "start_time": "2023-04-27T08:50:57.253Z"
   },
   {
    "duration": 6,
    "start_time": "2023-04-27T08:51:04.901Z"
   },
   {
    "duration": 6,
    "start_time": "2023-04-27T08:51:06.061Z"
   },
   {
    "duration": 7,
    "start_time": "2023-04-27T08:59:54.100Z"
   },
   {
    "duration": 6,
    "start_time": "2023-04-27T09:00:02.865Z"
   },
   {
    "duration": 8,
    "start_time": "2023-04-27T09:00:07.335Z"
   },
   {
    "duration": 6,
    "start_time": "2023-04-27T09:00:11.435Z"
   },
   {
    "duration": 3,
    "start_time": "2023-04-27T09:02:56.145Z"
   },
   {
    "duration": 4,
    "start_time": "2023-04-27T09:05:43.711Z"
   },
   {
    "duration": 4,
    "start_time": "2023-04-27T09:06:14.132Z"
   },
   {
    "duration": 4,
    "start_time": "2023-04-27T09:06:38.371Z"
   },
   {
    "duration": 2,
    "start_time": "2023-04-27T09:06:49.654Z"
   },
   {
    "duration": 12,
    "start_time": "2023-04-27T09:07:13.084Z"
   },
   {
    "duration": 3,
    "start_time": "2023-04-27T09:17:16.916Z"
   },
   {
    "duration": 8,
    "start_time": "2023-04-27T09:17:49.556Z"
   },
   {
    "duration": 15,
    "start_time": "2023-04-27T09:18:00.725Z"
   },
   {
    "duration": 3,
    "start_time": "2023-04-27T09:18:40.239Z"
   },
   {
    "duration": 14,
    "start_time": "2023-04-27T09:18:44.331Z"
   },
   {
    "duration": 3,
    "start_time": "2023-04-27T09:21:32.638Z"
   },
   {
    "duration": 14,
    "start_time": "2023-04-27T09:21:49.232Z"
   },
   {
    "duration": 15,
    "start_time": "2023-04-27T09:22:56.837Z"
   },
   {
    "duration": 14,
    "start_time": "2023-04-27T09:23:01.884Z"
   },
   {
    "duration": 17,
    "start_time": "2023-04-27T09:24:20.043Z"
   },
   {
    "duration": 6,
    "start_time": "2023-04-27T09:24:24.950Z"
   },
   {
    "duration": 61,
    "start_time": "2023-04-27T09:26:27.716Z"
   },
   {
    "duration": 4,
    "start_time": "2023-04-27T09:26:33.954Z"
   },
   {
    "duration": 4,
    "start_time": "2023-04-27T09:26:46.765Z"
   },
   {
    "duration": 3,
    "start_time": "2023-04-27T09:26:50.388Z"
   },
   {
    "duration": 4,
    "start_time": "2023-04-27T09:31:26.449Z"
   },
   {
    "duration": 5,
    "start_time": "2023-04-27T09:32:23.924Z"
   },
   {
    "duration": 13,
    "start_time": "2023-04-27T09:33:50.578Z"
   },
   {
    "duration": 6,
    "start_time": "2023-04-27T09:34:13.505Z"
   },
   {
    "duration": 6,
    "start_time": "2023-04-27T09:34:29.431Z"
   },
   {
    "duration": 7,
    "start_time": "2023-04-27T09:34:42.036Z"
   },
   {
    "duration": 1128,
    "start_time": "2023-04-27T09:36:51.733Z"
   },
   {
    "duration": 3,
    "start_time": "2023-04-27T09:36:52.864Z"
   },
   {
    "duration": 42,
    "start_time": "2023-04-27T09:36:52.869Z"
   },
   {
    "duration": 13,
    "start_time": "2023-04-27T09:36:52.914Z"
   },
   {
    "duration": 167,
    "start_time": "2023-04-27T09:36:52.929Z"
   },
   {
    "duration": 11,
    "start_time": "2023-04-27T09:36:53.097Z"
   },
   {
    "duration": 4,
    "start_time": "2023-04-27T09:36:53.109Z"
   },
   {
    "duration": 29,
    "start_time": "2023-04-27T09:36:53.114Z"
   },
   {
    "duration": 102,
    "start_time": "2023-04-27T09:36:53.145Z"
   },
   {
    "duration": 48,
    "start_time": "2023-04-27T09:36:53.250Z"
   },
   {
    "duration": 3,
    "start_time": "2023-04-27T09:36:53.299Z"
   },
   {
    "duration": 107,
    "start_time": "2023-04-27T09:36:53.303Z"
   },
   {
    "duration": 90,
    "start_time": "2023-04-27T09:36:53.412Z"
   },
   {
    "duration": 3,
    "start_time": "2023-04-27T09:36:53.503Z"
   },
   {
    "duration": 32,
    "start_time": "2023-04-27T09:36:53.508Z"
   },
   {
    "duration": 11,
    "start_time": "2023-04-27T09:36:53.542Z"
   },
   {
    "duration": 45,
    "start_time": "2023-04-27T09:36:53.554Z"
   },
   {
    "duration": 252,
    "start_time": "2023-04-27T09:36:53.601Z"
   },
   {
    "duration": 17,
    "start_time": "2023-04-27T09:36:53.854Z"
   },
   {
    "duration": 5,
    "start_time": "2023-04-27T09:36:53.886Z"
   },
   {
    "duration": 115,
    "start_time": "2023-04-27T09:36:53.893Z"
   },
   {
    "duration": 3,
    "start_time": "2023-04-27T09:36:54.011Z"
   },
   {
    "duration": 20,
    "start_time": "2023-04-27T09:36:54.016Z"
   },
   {
    "duration": 130,
    "start_time": "2023-04-27T09:36:54.038Z"
   },
   {
    "duration": 39,
    "start_time": "2023-04-27T09:36:54.170Z"
   },
   {
    "duration": 213,
    "start_time": "2023-04-27T09:36:54.212Z"
   },
   {
    "duration": 7,
    "start_time": "2023-04-27T09:36:54.427Z"
   },
   {
    "duration": 28,
    "start_time": "2023-04-27T09:36:54.438Z"
   },
   {
    "duration": 23,
    "start_time": "2023-04-27T09:36:54.467Z"
   },
   {
    "duration": 8,
    "start_time": "2023-04-27T09:36:54.492Z"
   },
   {
    "duration": 5,
    "start_time": "2023-04-27T09:36:54.501Z"
   },
   {
    "duration": 5,
    "start_time": "2023-04-27T09:36:54.508Z"
   },
   {
    "duration": 4,
    "start_time": "2023-04-27T09:36:54.515Z"
   },
   {
    "duration": 6,
    "start_time": "2023-04-27T09:36:54.520Z"
   },
   {
    "duration": 4,
    "start_time": "2023-04-27T09:36:54.527Z"
   },
   {
    "duration": 9,
    "start_time": "2023-04-27T09:36:54.533Z"
   },
   {
    "duration": 10,
    "start_time": "2023-04-27T09:36:54.543Z"
   },
   {
    "duration": 9,
    "start_time": "2023-04-27T09:36:54.554Z"
   },
   {
    "duration": 4,
    "start_time": "2023-04-27T09:36:54.586Z"
   },
   {
    "duration": 8,
    "start_time": "2023-04-27T09:36:54.591Z"
   },
   {
    "duration": 10,
    "start_time": "2023-04-27T09:36:54.600Z"
   },
   {
    "duration": 33,
    "start_time": "2023-04-27T09:36:54.611Z"
   },
   {
    "duration": 6,
    "start_time": "2023-04-27T09:36:54.646Z"
   },
   {
    "duration": 7,
    "start_time": "2023-04-27T09:36:54.653Z"
   },
   {
    "duration": 26,
    "start_time": "2023-04-27T09:36:54.662Z"
   },
   {
    "duration": 33,
    "start_time": "2023-04-27T09:36:54.690Z"
   },
   {
    "duration": 5,
    "start_time": "2023-04-27T09:36:54.725Z"
   },
   {
    "duration": 27,
    "start_time": "2023-04-27T09:36:54.731Z"
   },
   {
    "duration": 14,
    "start_time": "2023-04-27T09:36:54.785Z"
   },
   {
    "duration": 16,
    "start_time": "2023-04-27T09:36:54.801Z"
   },
   {
    "duration": 18,
    "start_time": "2023-04-27T09:36:54.819Z"
   },
   {
    "duration": 13,
    "start_time": "2023-04-27T09:36:54.838Z"
   },
   {
    "duration": 125,
    "start_time": "2023-04-27T09:36:54.852Z"
   },
   {
    "duration": 60,
    "start_time": "2023-04-27T09:36:54.979Z"
   },
   {
    "duration": 4,
    "start_time": "2023-04-27T09:36:55.041Z"
   },
   {
    "duration": 25,
    "start_time": "2023-04-27T09:36:55.046Z"
   },
   {
    "duration": 7,
    "start_time": "2023-04-27T09:36:55.073Z"
   },
   {
    "duration": 7,
    "start_time": "2023-04-27T09:36:55.085Z"
   },
   {
    "duration": 7,
    "start_time": "2023-04-27T09:36:55.093Z"
   },
   {
    "duration": 5,
    "start_time": "2023-04-27T09:36:55.102Z"
   },
   {
    "duration": 14,
    "start_time": "2023-04-27T09:36:55.109Z"
   },
   {
    "duration": 6,
    "start_time": "2023-04-27T09:36:55.124Z"
   },
   {
    "duration": 10,
    "start_time": "2023-04-27T09:36:55.131Z"
   },
   {
    "duration": 6,
    "start_time": "2023-04-27T09:36:55.142Z"
   },
   {
    "duration": 39,
    "start_time": "2023-04-27T09:36:55.149Z"
   },
   {
    "duration": 8,
    "start_time": "2023-04-27T09:36:55.189Z"
   },
   {
    "duration": 6,
    "start_time": "2023-04-27T09:36:55.199Z"
   },
   {
    "duration": 1173,
    "start_time": "2023-04-27T11:11:10.077Z"
   },
   {
    "duration": 2,
    "start_time": "2023-04-27T11:11:11.252Z"
   },
   {
    "duration": 5,
    "start_time": "2023-04-27T11:11:11.255Z"
   },
   {
    "duration": 4,
    "start_time": "2023-04-27T11:11:11.262Z"
   },
   {
    "duration": 157,
    "start_time": "2023-04-27T11:11:11.267Z"
   },
   {
    "duration": 11,
    "start_time": "2023-04-27T11:11:11.425Z"
   },
   {
    "duration": 3,
    "start_time": "2023-04-27T11:11:11.438Z"
   },
   {
    "duration": 24,
    "start_time": "2023-04-27T11:11:11.442Z"
   },
   {
    "duration": 95,
    "start_time": "2023-04-27T11:11:11.468Z"
   },
   {
    "duration": 45,
    "start_time": "2023-04-27T11:11:11.566Z"
   },
   {
    "duration": 3,
    "start_time": "2023-04-27T11:11:11.613Z"
   },
   {
    "duration": 107,
    "start_time": "2023-04-27T11:11:11.617Z"
   },
   {
    "duration": 93,
    "start_time": "2023-04-27T11:11:11.725Z"
   },
   {
    "duration": 3,
    "start_time": "2023-04-27T11:11:11.820Z"
   },
   {
    "duration": 20,
    "start_time": "2023-04-27T11:11:11.825Z"
   },
   {
    "duration": 12,
    "start_time": "2023-04-27T11:11:11.846Z"
   },
   {
    "duration": 45,
    "start_time": "2023-04-27T11:11:11.860Z"
   },
   {
    "duration": 244,
    "start_time": "2023-04-27T11:11:11.907Z"
   },
   {
    "duration": 15,
    "start_time": "2023-04-27T11:11:12.153Z"
   },
   {
    "duration": 5,
    "start_time": "2023-04-27T11:11:12.169Z"
   },
   {
    "duration": 84,
    "start_time": "2023-04-27T11:11:12.191Z"
   },
   {
    "duration": 3,
    "start_time": "2023-04-27T11:11:12.276Z"
   },
   {
    "duration": 3,
    "start_time": "2023-04-27T11:11:12.291Z"
   },
   {
    "duration": 107,
    "start_time": "2023-04-27T11:11:12.296Z"
   },
   {
    "duration": 32,
    "start_time": "2023-04-27T11:11:12.405Z"
   },
   {
    "duration": 210,
    "start_time": "2023-04-27T11:11:12.439Z"
   },
   {
    "duration": 5,
    "start_time": "2023-04-27T11:11:12.650Z"
   },
   {
    "duration": 44,
    "start_time": "2023-04-27T11:11:12.659Z"
   },
   {
    "duration": 7,
    "start_time": "2023-04-27T11:11:12.705Z"
   },
   {
    "duration": 7,
    "start_time": "2023-04-27T11:11:12.714Z"
   },
   {
    "duration": 13,
    "start_time": "2023-04-27T11:11:12.722Z"
   },
   {
    "duration": 5,
    "start_time": "2023-04-27T11:11:12.736Z"
   },
   {
    "duration": 7,
    "start_time": "2023-04-27T11:11:12.742Z"
   },
   {
    "duration": 4,
    "start_time": "2023-04-27T11:11:12.750Z"
   },
   {
    "duration": 4,
    "start_time": "2023-04-27T11:11:12.756Z"
   },
   {
    "duration": 31,
    "start_time": "2023-04-27T11:11:12.761Z"
   },
   {
    "duration": 5,
    "start_time": "2023-04-27T11:11:12.793Z"
   },
   {
    "duration": 5,
    "start_time": "2023-04-27T11:11:12.799Z"
   },
   {
    "duration": 8,
    "start_time": "2023-04-27T11:11:12.805Z"
   },
   {
    "duration": 4,
    "start_time": "2023-04-27T11:11:12.815Z"
   },
   {
    "duration": 8,
    "start_time": "2023-04-27T11:11:12.821Z"
   },
   {
    "duration": 31,
    "start_time": "2023-04-27T11:11:12.831Z"
   },
   {
    "duration": 29,
    "start_time": "2023-04-27T11:11:12.863Z"
   },
   {
    "duration": 4,
    "start_time": "2023-04-27T11:11:12.894Z"
   },
   {
    "duration": 11,
    "start_time": "2023-04-27T11:11:12.899Z"
   },
   {
    "duration": 30,
    "start_time": "2023-04-27T11:11:12.912Z"
   },
   {
    "duration": 5,
    "start_time": "2023-04-27T11:11:12.943Z"
   },
   {
    "duration": 56,
    "start_time": "2023-04-27T11:11:12.950Z"
   },
   {
    "duration": 14,
    "start_time": "2023-04-27T11:11:13.008Z"
   },
   {
    "duration": 17,
    "start_time": "2023-04-27T11:11:13.024Z"
   },
   {
    "duration": 19,
    "start_time": "2023-04-27T11:11:13.043Z"
   },
   {
    "duration": 29,
    "start_time": "2023-04-27T11:11:13.064Z"
   },
   {
    "duration": 126,
    "start_time": "2023-04-27T11:11:13.095Z"
   },
   {
    "duration": 82,
    "start_time": "2023-04-27T11:11:13.223Z"
   },
   {
    "duration": 5,
    "start_time": "2023-04-27T11:11:13.306Z"
   },
   {
    "duration": 9,
    "start_time": "2023-04-27T11:11:13.312Z"
   },
   {
    "duration": 7,
    "start_time": "2023-04-27T11:11:13.323Z"
   },
   {
    "duration": 10,
    "start_time": "2023-04-27T11:11:13.332Z"
   },
   {
    "duration": 7,
    "start_time": "2023-04-27T11:11:13.344Z"
   },
   {
    "duration": 41,
    "start_time": "2023-04-27T11:11:13.353Z"
   },
   {
    "duration": 6,
    "start_time": "2023-04-27T11:11:13.396Z"
   },
   {
    "duration": 8,
    "start_time": "2023-04-27T11:11:13.403Z"
   },
   {
    "duration": 7,
    "start_time": "2023-04-27T11:11:13.413Z"
   },
   {
    "duration": 10,
    "start_time": "2023-04-27T11:11:13.422Z"
   },
   {
    "duration": 8,
    "start_time": "2023-04-27T11:11:13.434Z"
   },
   {
    "duration": 8,
    "start_time": "2023-04-27T11:11:13.444Z"
   },
   {
    "duration": 6,
    "start_time": "2023-04-27T11:11:13.492Z"
   },
   {
    "duration": 15,
    "start_time": "2023-04-27T11:19:57.644Z"
   },
   {
    "duration": 666,
    "start_time": "2023-04-27T11:20:01.431Z"
   },
   {
    "duration": 52,
    "start_time": "2023-04-27T11:49:56.213Z"
   },
   {
    "duration": 1260,
    "start_time": "2023-04-27T11:50:02.770Z"
   },
   {
    "duration": 3,
    "start_time": "2023-04-27T11:50:06.011Z"
   },
   {
    "duration": 4,
    "start_time": "2023-04-27T11:50:06.608Z"
   },
   {
    "duration": 3,
    "start_time": "2023-04-27T11:50:07.307Z"
   },
   {
    "duration": 331,
    "start_time": "2023-04-27T11:50:08.360Z"
   },
   {
    "duration": 12,
    "start_time": "2023-04-27T11:50:08.991Z"
   },
   {
    "duration": 4,
    "start_time": "2023-04-27T11:50:23.828Z"
   },
   {
    "duration": 19,
    "start_time": "2023-04-27T11:50:48.708Z"
   },
   {
    "duration": 89,
    "start_time": "2023-04-27T11:51:41.562Z"
   },
   {
    "duration": 40,
    "start_time": "2023-04-27T11:51:42.640Z"
   },
   {
    "duration": 91,
    "start_time": "2023-04-27T11:51:44.344Z"
   },
   {
    "duration": 65,
    "start_time": "2023-04-27T11:51:45.094Z"
   },
   {
    "duration": 96,
    "start_time": "2023-04-27T11:52:03.266Z"
   },
   {
    "duration": 2,
    "start_time": "2023-04-27T11:52:03.967Z"
   },
   {
    "duration": 10,
    "start_time": "2023-04-27T11:52:22.609Z"
   },
   {
    "duration": 3,
    "start_time": "2023-04-27T11:52:36.650Z"
   },
   {
    "duration": 92,
    "start_time": "2023-04-27T11:52:39.353Z"
   },
   {
    "duration": 87,
    "start_time": "2023-04-27T11:52:39.811Z"
   },
   {
    "duration": 2,
    "start_time": "2023-04-27T11:52:40.355Z"
   },
   {
    "duration": 17,
    "start_time": "2023-04-27T11:52:41.115Z"
   },
   {
    "duration": 3,
    "start_time": "2023-04-27T11:52:59.053Z"
   },
   {
    "duration": 19,
    "start_time": "2023-04-27T11:52:59.266Z"
   },
   {
    "duration": 19,
    "start_time": "2023-04-27T11:53:21.411Z"
   },
   {
    "duration": 10,
    "start_time": "2023-04-27T11:53:22.039Z"
   },
   {
    "duration": 100,
    "start_time": "2023-04-27T11:55:07.252Z"
   },
   {
    "duration": 9,
    "start_time": "2023-04-27T11:55:10.670Z"
   },
   {
    "duration": 101,
    "start_time": "2023-04-27T11:55:11.166Z"
   },
   {
    "duration": 95,
    "start_time": "2023-04-27T11:55:11.536Z"
   },
   {
    "duration": 5,
    "start_time": "2023-04-27T11:55:11.822Z"
   },
   {
    "duration": 17,
    "start_time": "2023-04-27T11:55:12.223Z"
   },
   {
    "duration": 10,
    "start_time": "2023-04-27T11:55:12.848Z"
   },
   {
    "duration": 46,
    "start_time": "2023-04-27T11:55:35.192Z"
   },
   {
    "duration": 219,
    "start_time": "2023-04-27T11:55:35.892Z"
   },
   {
    "duration": 4,
    "start_time": "2023-04-27T12:03:07.844Z"
   },
   {
    "duration": 4,
    "start_time": "2023-04-27T12:04:18.966Z"
   },
   {
    "duration": 5,
    "start_time": "2023-04-27T12:04:26.288Z"
   },
   {
    "duration": 7,
    "start_time": "2023-04-27T12:05:29.124Z"
   },
   {
    "duration": 8,
    "start_time": "2023-04-27T12:05:34.729Z"
   },
   {
    "duration": 4,
    "start_time": "2023-04-27T12:06:19.692Z"
   },
   {
    "duration": 3,
    "start_time": "2023-04-27T12:06:20.066Z"
   },
   {
    "duration": 4,
    "start_time": "2023-04-27T13:43:41.560Z"
   },
   {
    "duration": 3,
    "start_time": "2023-04-27T13:45:21.114Z"
   },
   {
    "duration": 5,
    "start_time": "2023-04-27T13:45:22.914Z"
   },
   {
    "duration": 12,
    "start_time": "2023-04-27T13:45:40.625Z"
   },
   {
    "duration": 2,
    "start_time": "2023-04-27T13:45:56.030Z"
   },
   {
    "duration": 3,
    "start_time": "2023-04-27T13:45:56.891Z"
   },
   {
    "duration": 8,
    "start_time": "2023-04-27T13:46:56.506Z"
   },
   {
    "duration": 1209,
    "start_time": "2023-04-27T13:47:15.438Z"
   },
   {
    "duration": 3,
    "start_time": "2023-04-27T13:47:16.649Z"
   },
   {
    "duration": 57,
    "start_time": "2023-04-27T13:47:16.654Z"
   },
   {
    "duration": 15,
    "start_time": "2023-04-27T13:47:16.713Z"
   },
   {
    "duration": 215,
    "start_time": "2023-04-27T13:47:16.729Z"
   },
   {
    "duration": 11,
    "start_time": "2023-04-27T13:47:16.946Z"
   },
   {
    "duration": 11,
    "start_time": "2023-04-27T13:47:16.959Z"
   },
   {
    "duration": 42,
    "start_time": "2023-04-27T13:47:16.972Z"
   },
   {
    "duration": 94,
    "start_time": "2023-04-27T13:47:17.016Z"
   },
   {
    "duration": 43,
    "start_time": "2023-04-27T13:47:17.115Z"
   },
   {
    "duration": 2,
    "start_time": "2023-04-27T13:47:17.160Z"
   },
   {
    "duration": 132,
    "start_time": "2023-04-27T13:47:17.165Z"
   },
   {
    "duration": 84,
    "start_time": "2023-04-27T13:47:17.299Z"
   },
   {
    "duration": 5,
    "start_time": "2023-04-27T13:47:17.385Z"
   },
   {
    "duration": 49,
    "start_time": "2023-04-27T13:47:17.392Z"
   },
   {
    "duration": 12,
    "start_time": "2023-04-27T13:47:17.442Z"
   },
   {
    "duration": 110,
    "start_time": "2023-04-27T13:47:17.456Z"
   },
   {
    "duration": 11,
    "start_time": "2023-04-27T13:47:17.567Z"
   },
   {
    "duration": 104,
    "start_time": "2023-04-27T13:47:17.579Z"
   },
   {
    "duration": 84,
    "start_time": "2023-04-27T13:47:17.684Z"
   },
   {
    "duration": 4,
    "start_time": "2023-04-27T13:47:17.769Z"
   },
   {
    "duration": 54,
    "start_time": "2023-04-27T13:47:17.775Z"
   },
   {
    "duration": 11,
    "start_time": "2023-04-27T13:47:17.830Z"
   },
   {
    "duration": 22,
    "start_time": "2023-04-27T13:47:17.842Z"
   },
   {
    "duration": 47,
    "start_time": "2023-04-27T13:47:17.865Z"
   },
   {
    "duration": 255,
    "start_time": "2023-04-27T13:47:17.913Z"
   },
   {
    "duration": 605,
    "start_time": "2023-04-27T13:47:18.169Z"
   },
   {
    "duration": 19,
    "start_time": "2023-04-27T13:47:18.779Z"
   },
   {
    "duration": 23,
    "start_time": "2023-04-27T13:47:18.801Z"
   },
   {
    "duration": 13,
    "start_time": "2023-04-27T13:47:18.826Z"
   },
   {
    "duration": 49,
    "start_time": "2023-04-27T13:47:18.841Z"
   },
   {
    "duration": 22,
    "start_time": "2023-04-27T13:47:18.894Z"
   },
   {
    "duration": 20,
    "start_time": "2023-04-27T13:47:18.918Z"
   },
   {
    "duration": 104,
    "start_time": "2023-04-27T13:47:18.940Z"
   },
   {
    "duration": 4,
    "start_time": "2023-04-27T13:47:19.046Z"
   },
   {
    "duration": 30,
    "start_time": "2023-04-27T13:47:19.051Z"
   },
   {
    "duration": 124,
    "start_time": "2023-04-27T13:47:19.083Z"
   },
   {
    "duration": 27,
    "start_time": "2023-04-27T13:47:19.208Z"
   },
   {
    "duration": 190,
    "start_time": "2023-04-27T13:47:19.237Z"
   },
   {
    "duration": 5,
    "start_time": "2023-04-27T13:47:19.429Z"
   },
   {
    "duration": 28,
    "start_time": "2023-04-27T13:47:19.435Z"
   },
   {
    "duration": 14,
    "start_time": "2023-04-27T13:47:19.471Z"
   },
   {
    "duration": 22,
    "start_time": "2023-04-27T13:47:19.488Z"
   },
   {
    "duration": 21,
    "start_time": "2023-04-27T13:47:19.511Z"
   },
   {
    "duration": 5,
    "start_time": "2023-04-27T13:47:19.534Z"
   },
   {
    "duration": 22,
    "start_time": "2023-04-27T13:47:19.540Z"
   },
   {
    "duration": 69,
    "start_time": "2023-04-27T13:47:19.563Z"
   },
   {
    "duration": 17,
    "start_time": "2023-04-27T13:47:19.633Z"
   },
   {
    "duration": 11,
    "start_time": "2023-04-27T13:47:19.651Z"
   },
   {
    "duration": 7,
    "start_time": "2023-04-27T13:47:19.663Z"
   },
   {
    "duration": 44,
    "start_time": "2023-04-27T13:47:19.677Z"
   },
   {
    "duration": 12,
    "start_time": "2023-04-27T13:47:19.723Z"
   },
   {
    "duration": 6,
    "start_time": "2023-04-27T13:47:19.737Z"
   },
   {
    "duration": 18,
    "start_time": "2023-04-27T13:47:19.744Z"
   },
   {
    "duration": 55,
    "start_time": "2023-04-27T13:47:19.763Z"
   },
   {
    "duration": 6,
    "start_time": "2023-04-27T13:47:19.820Z"
   },
   {
    "duration": 11,
    "start_time": "2023-04-27T13:47:19.827Z"
   },
   {
    "duration": 15,
    "start_time": "2023-04-27T13:47:19.839Z"
   },
   {
    "duration": 57,
    "start_time": "2023-04-27T13:47:19.855Z"
   },
   {
    "duration": 7,
    "start_time": "2023-04-27T13:47:19.914Z"
   },
   {
    "duration": 45,
    "start_time": "2023-04-27T13:47:19.922Z"
   },
   {
    "duration": 82,
    "start_time": "2023-04-27T13:47:19.969Z"
   },
   {
    "duration": 66,
    "start_time": "2023-04-27T13:47:20.052Z"
   },
   {
    "duration": 55,
    "start_time": "2023-04-27T13:47:20.120Z"
   },
   {
    "duration": 49,
    "start_time": "2023-04-27T13:47:20.176Z"
   },
   {
    "duration": 153,
    "start_time": "2023-04-27T13:47:20.226Z"
   },
   {
    "duration": 72,
    "start_time": "2023-04-27T13:47:20.381Z"
   },
   {
    "duration": 4,
    "start_time": "2023-04-27T13:47:20.455Z"
   },
   {
    "duration": 27,
    "start_time": "2023-04-27T13:47:20.460Z"
   },
   {
    "duration": 18,
    "start_time": "2023-04-27T13:47:20.489Z"
   },
   {
    "duration": 29,
    "start_time": "2023-04-27T13:47:20.509Z"
   },
   {
    "duration": 13,
    "start_time": "2023-04-27T13:47:20.539Z"
   },
   {
    "duration": 48,
    "start_time": "2023-04-27T13:47:20.554Z"
   },
   {
    "duration": 33,
    "start_time": "2023-04-27T13:47:20.604Z"
   },
   {
    "duration": 46,
    "start_time": "2023-04-27T13:47:20.639Z"
   },
   {
    "duration": 118,
    "start_time": "2023-04-27T13:47:20.687Z"
   },
   {
    "duration": 27,
    "start_time": "2023-04-27T13:47:20.807Z"
   },
   {
    "duration": 13,
    "start_time": "2023-04-27T13:47:20.835Z"
   },
   {
    "duration": 27,
    "start_time": "2023-04-27T13:47:20.849Z"
   },
   {
    "duration": 53,
    "start_time": "2023-04-27T13:47:20.877Z"
   },
   {
    "duration": 3,
    "start_time": "2023-04-27T13:49:34.924Z"
   },
   {
    "duration": 3,
    "start_time": "2023-04-27T13:49:35.608Z"
   },
   {
    "duration": 3,
    "start_time": "2023-04-27T13:50:00.056Z"
   },
   {
    "duration": 5,
    "start_time": "2023-04-27T13:53:09.966Z"
   },
   {
    "duration": 3,
    "start_time": "2023-04-27T14:00:36.020Z"
   },
   {
    "duration": 98,
    "start_time": "2023-04-27T14:00:54.430Z"
   },
   {
    "duration": 10,
    "start_time": "2023-04-27T14:01:10.427Z"
   },
   {
    "duration": 4,
    "start_time": "2023-04-27T14:01:30.791Z"
   },
   {
    "duration": 8,
    "start_time": "2023-04-27T14:01:32.360Z"
   },
   {
    "duration": 1444,
    "start_time": "2023-04-28T11:35:41.091Z"
   },
   {
    "duration": 3,
    "start_time": "2023-04-28T11:35:42.538Z"
   },
   {
    "duration": 19,
    "start_time": "2023-04-28T11:35:42.543Z"
   },
   {
    "duration": 16,
    "start_time": "2023-04-28T11:35:42.565Z"
   },
   {
    "duration": 15,
    "start_time": "2023-04-28T11:35:42.583Z"
   },
   {
    "duration": 600,
    "start_time": "2023-04-28T11:35:42.601Z"
   },
   {
    "duration": 12,
    "start_time": "2023-04-28T11:35:43.204Z"
   },
   {
    "duration": 24,
    "start_time": "2023-04-28T11:35:43.223Z"
   },
   {
    "duration": 36,
    "start_time": "2023-04-28T11:35:43.249Z"
   },
   {
    "duration": 97,
    "start_time": "2023-04-28T11:35:43.289Z"
   },
   {
    "duration": 63,
    "start_time": "2023-04-28T11:35:43.388Z"
   },
   {
    "duration": 7,
    "start_time": "2023-04-28T11:35:43.453Z"
   },
   {
    "duration": 124,
    "start_time": "2023-04-28T11:35:43.461Z"
   },
   {
    "duration": 98,
    "start_time": "2023-04-28T11:35:43.587Z"
   },
   {
    "duration": 3,
    "start_time": "2023-04-28T11:35:43.686Z"
   },
   {
    "duration": 58,
    "start_time": "2023-04-28T11:35:43.691Z"
   },
   {
    "duration": 21,
    "start_time": "2023-04-28T11:35:43.750Z"
   },
   {
    "duration": 133,
    "start_time": "2023-04-28T11:35:43.774Z"
   },
   {
    "duration": 3,
    "start_time": "2023-04-28T11:35:43.909Z"
   },
   {
    "duration": 148,
    "start_time": "2023-04-28T11:35:43.914Z"
   },
   {
    "duration": 90,
    "start_time": "2023-04-28T11:35:44.064Z"
   },
   {
    "duration": 3,
    "start_time": "2023-04-28T11:35:44.156Z"
   },
   {
    "duration": 45,
    "start_time": "2023-04-28T11:35:44.161Z"
   },
   {
    "duration": 28,
    "start_time": "2023-04-28T11:35:44.208Z"
   },
   {
    "duration": 56,
    "start_time": "2023-04-28T11:35:44.237Z"
   },
   {
    "duration": 57,
    "start_time": "2023-04-28T11:35:44.295Z"
   },
   {
    "duration": 306,
    "start_time": "2023-04-28T11:35:44.353Z"
   },
   {
    "duration": 732,
    "start_time": "2023-04-28T11:35:44.664Z"
   },
   {
    "duration": 13,
    "start_time": "2023-04-28T11:35:45.398Z"
   },
   {
    "duration": 18,
    "start_time": "2023-04-28T11:35:45.417Z"
   },
   {
    "duration": 14,
    "start_time": "2023-04-28T11:35:45.436Z"
   },
   {
    "duration": 31,
    "start_time": "2023-04-28T11:35:45.451Z"
   },
   {
    "duration": 27,
    "start_time": "2023-04-28T11:35:45.483Z"
   },
   {
    "duration": 60,
    "start_time": "2023-04-28T11:35:45.512Z"
   },
   {
    "duration": 68,
    "start_time": "2023-04-28T11:35:45.573Z"
   },
   {
    "duration": 130,
    "start_time": "2023-04-28T11:35:45.643Z"
   },
   {
    "duration": 0,
    "start_time": "2023-04-28T11:35:45.774Z"
   },
   {
    "duration": 0,
    "start_time": "2023-04-28T11:35:45.776Z"
   },
   {
    "duration": 0,
    "start_time": "2023-04-28T11:35:45.777Z"
   },
   {
    "duration": 0,
    "start_time": "2023-04-28T11:35:45.778Z"
   },
   {
    "duration": 0,
    "start_time": "2023-04-28T11:35:45.779Z"
   },
   {
    "duration": 0,
    "start_time": "2023-04-28T11:35:45.780Z"
   },
   {
    "duration": 0,
    "start_time": "2023-04-28T11:35:45.781Z"
   },
   {
    "duration": 0,
    "start_time": "2023-04-28T11:35:45.782Z"
   },
   {
    "duration": 0,
    "start_time": "2023-04-28T11:35:45.783Z"
   },
   {
    "duration": 0,
    "start_time": "2023-04-28T11:35:45.784Z"
   },
   {
    "duration": 0,
    "start_time": "2023-04-28T11:35:45.785Z"
   },
   {
    "duration": 0,
    "start_time": "2023-04-28T11:35:45.787Z"
   },
   {
    "duration": 0,
    "start_time": "2023-04-28T11:35:45.788Z"
   },
   {
    "duration": 0,
    "start_time": "2023-04-28T11:35:45.789Z"
   },
   {
    "duration": 0,
    "start_time": "2023-04-28T11:35:45.790Z"
   },
   {
    "duration": 0,
    "start_time": "2023-04-28T11:35:45.791Z"
   },
   {
    "duration": 0,
    "start_time": "2023-04-28T11:35:45.830Z"
   },
   {
    "duration": 0,
    "start_time": "2023-04-28T11:35:45.831Z"
   },
   {
    "duration": 0,
    "start_time": "2023-04-28T11:35:45.833Z"
   },
   {
    "duration": 0,
    "start_time": "2023-04-28T11:35:45.834Z"
   },
   {
    "duration": 0,
    "start_time": "2023-04-28T11:35:45.835Z"
   },
   {
    "duration": 0,
    "start_time": "2023-04-28T11:35:45.836Z"
   },
   {
    "duration": 0,
    "start_time": "2023-04-28T11:35:45.837Z"
   },
   {
    "duration": 0,
    "start_time": "2023-04-28T11:35:45.838Z"
   },
   {
    "duration": 0,
    "start_time": "2023-04-28T11:35:45.839Z"
   },
   {
    "duration": 0,
    "start_time": "2023-04-28T11:35:45.840Z"
   },
   {
    "duration": 0,
    "start_time": "2023-04-28T11:35:45.841Z"
   },
   {
    "duration": 0,
    "start_time": "2023-04-28T11:35:45.843Z"
   },
   {
    "duration": 0,
    "start_time": "2023-04-28T11:35:45.844Z"
   },
   {
    "duration": 0,
    "start_time": "2023-04-28T11:35:45.845Z"
   },
   {
    "duration": 0,
    "start_time": "2023-04-28T11:35:45.847Z"
   },
   {
    "duration": 0,
    "start_time": "2023-04-28T11:35:45.848Z"
   },
   {
    "duration": 0,
    "start_time": "2023-04-28T11:35:45.849Z"
   },
   {
    "duration": 0,
    "start_time": "2023-04-28T11:35:45.850Z"
   },
   {
    "duration": 0,
    "start_time": "2023-04-28T11:35:45.851Z"
   },
   {
    "duration": 0,
    "start_time": "2023-04-28T11:35:45.851Z"
   },
   {
    "duration": 0,
    "start_time": "2023-04-28T11:35:45.853Z"
   },
   {
    "duration": 0,
    "start_time": "2023-04-28T11:35:45.855Z"
   },
   {
    "duration": 0,
    "start_time": "2023-04-28T11:35:45.856Z"
   },
   {
    "duration": 0,
    "start_time": "2023-04-28T11:35:45.857Z"
   },
   {
    "duration": 0,
    "start_time": "2023-04-28T11:35:45.858Z"
   },
   {
    "duration": 0,
    "start_time": "2023-04-28T11:35:45.859Z"
   },
   {
    "duration": 0,
    "start_time": "2023-04-28T11:35:45.860Z"
   },
   {
    "duration": 0,
    "start_time": "2023-04-28T11:35:45.861Z"
   },
   {
    "duration": 0,
    "start_time": "2023-04-28T11:35:45.862Z"
   },
   {
    "duration": 0,
    "start_time": "2023-04-28T11:35:45.863Z"
   },
   {
    "duration": 0,
    "start_time": "2023-04-28T11:35:45.865Z"
   },
   {
    "duration": 0,
    "start_time": "2023-04-28T11:35:45.866Z"
   },
   {
    "duration": 101,
    "start_time": "2023-04-28T11:38:15.255Z"
   },
   {
    "duration": 48,
    "start_time": "2023-04-28T11:38:41.340Z"
   },
   {
    "duration": 9,
    "start_time": "2023-04-28T11:39:41.638Z"
   },
   {
    "duration": 10,
    "start_time": "2023-04-28T11:40:09.671Z"
   },
   {
    "duration": 15,
    "start_time": "2023-04-28T11:40:21.421Z"
   },
   {
    "duration": 9,
    "start_time": "2023-04-28T11:40:22.294Z"
   },
   {
    "duration": 91,
    "start_time": "2023-04-28T11:40:23.023Z"
   },
   {
    "duration": 4,
    "start_time": "2023-04-28T11:40:23.968Z"
   },
   {
    "duration": 4,
    "start_time": "2023-04-28T11:40:24.551Z"
   },
   {
    "duration": 110,
    "start_time": "2023-04-28T11:40:25.118Z"
   },
   {
    "duration": 34,
    "start_time": "2023-04-28T11:40:25.667Z"
   },
   {
    "duration": 206,
    "start_time": "2023-04-28T11:40:26.196Z"
   },
   {
    "duration": 7,
    "start_time": "2023-04-28T11:40:27.765Z"
   },
   {
    "duration": 28,
    "start_time": "2023-04-28T11:40:29.935Z"
   },
   {
    "duration": 8,
    "start_time": "2023-04-28T11:40:30.583Z"
   },
   {
    "duration": 5,
    "start_time": "2023-04-28T11:40:33.932Z"
   },
   {
    "duration": 5,
    "start_time": "2023-04-28T11:40:35.950Z"
   },
   {
    "duration": 4,
    "start_time": "2023-04-28T11:40:38.203Z"
   },
   {
    "duration": 6,
    "start_time": "2023-04-28T11:40:38.816Z"
   },
   {
    "duration": 3,
    "start_time": "2023-04-28T11:40:39.512Z"
   },
   {
    "duration": 3,
    "start_time": "2023-04-28T11:40:40.200Z"
   },
   {
    "duration": 4,
    "start_time": "2023-04-28T11:40:40.763Z"
   },
   {
    "duration": 3,
    "start_time": "2023-04-28T11:40:41.053Z"
   },
   {
    "duration": 3,
    "start_time": "2023-04-28T11:40:41.297Z"
   },
   {
    "duration": 3,
    "start_time": "2023-04-28T11:40:41.585Z"
   },
   {
    "duration": 6,
    "start_time": "2023-04-28T11:40:42.105Z"
   },
   {
    "duration": 24,
    "start_time": "2023-04-28T11:40:44.365Z"
   },
   {
    "duration": 5,
    "start_time": "2023-04-28T11:40:45.178Z"
   },
   {
    "duration": 4,
    "start_time": "2023-04-28T11:40:45.976Z"
   },
   {
    "duration": 5,
    "start_time": "2023-04-28T11:40:47.897Z"
   },
   {
    "duration": 4,
    "start_time": "2023-04-28T11:41:01.011Z"
   },
   {
    "duration": 9,
    "start_time": "2023-04-28T11:41:13.594Z"
   },
   {
    "duration": 4,
    "start_time": "2023-04-28T11:41:36.945Z"
   },
   {
    "duration": 6,
    "start_time": "2023-04-28T11:41:39.070Z"
   },
   {
    "duration": 4,
    "start_time": "2023-04-28T11:42:09.048Z"
   },
   {
    "duration": 6,
    "start_time": "2023-04-28T11:42:49.293Z"
   },
   {
    "duration": 5,
    "start_time": "2023-04-28T11:42:56.172Z"
   },
   {
    "duration": 10,
    "start_time": "2023-04-28T11:48:13.153Z"
   },
   {
    "duration": 9,
    "start_time": "2023-04-28T11:48:26.162Z"
   },
   {
    "duration": 84,
    "start_time": "2023-04-28T12:00:33.143Z"
   },
   {
    "duration": 6,
    "start_time": "2023-04-28T12:09:58.045Z"
   },
   {
    "duration": 7,
    "start_time": "2023-04-28T12:10:29.276Z"
   },
   {
    "duration": 5,
    "start_time": "2023-04-28T12:10:56.090Z"
   },
   {
    "duration": 3,
    "start_time": "2023-04-28T12:12:51.042Z"
   },
   {
    "duration": 5,
    "start_time": "2023-04-28T12:12:51.838Z"
   },
   {
    "duration": 5,
    "start_time": "2023-04-28T12:12:53.336Z"
   },
   {
    "duration": 9,
    "start_time": "2023-04-28T12:16:07.555Z"
   },
   {
    "duration": 8,
    "start_time": "2023-04-28T12:16:22.141Z"
   },
   {
    "duration": 11,
    "start_time": "2023-04-28T12:16:22.845Z"
   },
   {
    "duration": 9,
    "start_time": "2023-04-28T12:16:32.275Z"
   },
   {
    "duration": 54,
    "start_time": "2023-04-28T12:21:18.135Z"
   },
   {
    "duration": 51,
    "start_time": "2023-04-28T12:21:49.834Z"
   },
   {
    "duration": 11,
    "start_time": "2023-04-28T12:21:54.630Z"
   },
   {
    "duration": 61,
    "start_time": "2023-04-28T12:22:01.293Z"
   },
   {
    "duration": 6,
    "start_time": "2023-04-28T12:22:08.252Z"
   },
   {
    "duration": 7,
    "start_time": "2023-04-28T12:22:44.735Z"
   },
   {
    "duration": 2,
    "start_time": "2023-04-28T12:24:57.540Z"
   },
   {
    "duration": 6,
    "start_time": "2023-04-28T12:25:02.992Z"
   },
   {
    "duration": 14,
    "start_time": "2023-04-28T12:25:04.015Z"
   },
   {
    "duration": 68,
    "start_time": "2023-04-28T12:25:09.193Z"
   },
   {
    "duration": 7,
    "start_time": "2023-04-28T12:25:23.447Z"
   },
   {
    "duration": 4,
    "start_time": "2023-04-28T12:25:24.500Z"
   },
   {
    "duration": 7,
    "start_time": "2023-04-28T12:25:52.964Z"
   },
   {
    "duration": 5,
    "start_time": "2023-04-28T12:25:53.592Z"
   },
   {
    "duration": 15,
    "start_time": "2023-04-28T12:27:22.415Z"
   },
   {
    "duration": 22,
    "start_time": "2023-04-28T12:27:29.206Z"
   },
   {
    "duration": 5,
    "start_time": "2023-04-28T12:27:29.763Z"
   },
   {
    "duration": 3,
    "start_time": "2023-04-28T12:27:50.910Z"
   },
   {
    "duration": 20,
    "start_time": "2023-04-28T12:27:51.960Z"
   },
   {
    "duration": 143,
    "start_time": "2023-04-28T12:29:15.285Z"
   },
   {
    "duration": 128,
    "start_time": "2023-04-28T12:29:16.903Z"
   },
   {
    "duration": 39,
    "start_time": "2023-04-28T12:29:17.458Z"
   },
   {
    "duration": 250,
    "start_time": "2023-04-28T12:29:18.146Z"
   },
   {
    "duration": 7,
    "start_time": "2023-04-28T12:29:20.787Z"
   },
   {
    "duration": 38,
    "start_time": "2023-04-28T12:29:23.897Z"
   },
   {
    "duration": 15,
    "start_time": "2023-04-28T12:29:25.242Z"
   },
   {
    "duration": 7,
    "start_time": "2023-04-28T12:39:06.792Z"
   },
   {
    "duration": 23,
    "start_time": "2023-04-28T12:40:02.862Z"
   },
   {
    "duration": 17,
    "start_time": "2023-04-28T12:40:14.846Z"
   },
   {
    "duration": 5,
    "start_time": "2023-04-28T12:40:29.881Z"
   },
   {
    "duration": 10,
    "start_time": "2023-04-28T12:40:44.800Z"
   },
   {
    "duration": 9,
    "start_time": "2023-04-28T12:40:59.199Z"
   },
   {
    "duration": 9,
    "start_time": "2023-04-28T12:41:04.510Z"
   },
   {
    "duration": 1577,
    "start_time": "2023-04-28T12:41:51.089Z"
   },
   {
    "duration": 4,
    "start_time": "2023-04-28T12:42:07.871Z"
   },
   {
    "duration": 70,
    "start_time": "2023-04-28T12:52:20.414Z"
   },
   {
    "duration": 10,
    "start_time": "2023-04-28T12:52:22.298Z"
   },
   {
    "duration": 18,
    "start_time": "2023-04-28T12:52:35.552Z"
   },
   {
    "duration": 6,
    "start_time": "2023-04-28T13:02:16.906Z"
   },
   {
    "duration": 11,
    "start_time": "2023-04-28T13:06:46.531Z"
   },
   {
    "duration": 10,
    "start_time": "2023-04-28T13:07:30.039Z"
   },
   {
    "duration": 2064,
    "start_time": "2023-04-28T13:08:43.146Z"
   },
   {
    "duration": 6,
    "start_time": "2023-04-28T13:08:48.870Z"
   },
   {
    "duration": 7,
    "start_time": "2023-04-28T13:16:46.713Z"
   },
   {
    "duration": 5,
    "start_time": "2023-04-28T13:21:42.215Z"
   },
   {
    "duration": 15,
    "start_time": "2023-04-28T13:23:39.360Z"
   },
   {
    "duration": 51,
    "start_time": "2023-04-28T13:24:10.907Z"
   },
   {
    "duration": 28,
    "start_time": "2023-04-28T13:24:28.576Z"
   },
   {
    "duration": 34,
    "start_time": "2023-04-28T13:25:31.844Z"
   },
   {
    "duration": 21,
    "start_time": "2023-04-28T13:25:44.440Z"
   },
   {
    "duration": 29,
    "start_time": "2023-04-28T13:27:31.651Z"
   },
   {
    "duration": 5,
    "start_time": "2023-04-28T13:27:32.463Z"
   },
   {
    "duration": 44,
    "start_time": "2023-04-28T13:28:00.123Z"
   },
   {
    "duration": 27,
    "start_time": "2023-04-28T13:29:13.700Z"
   },
   {
    "duration": 23,
    "start_time": "2023-04-28T13:29:14.375Z"
   },
   {
    "duration": 33,
    "start_time": "2023-04-28T13:29:15.134Z"
   },
   {
    "duration": 8,
    "start_time": "2023-04-28T13:30:54.547Z"
   },
   {
    "duration": 5,
    "start_time": "2023-04-28T13:31:41.052Z"
   },
   {
    "duration": 42,
    "start_time": "2023-04-28T13:32:22.650Z"
   },
   {
    "duration": 48,
    "start_time": "2023-04-28T13:32:24.016Z"
   },
   {
    "duration": 12,
    "start_time": "2023-04-28T13:32:24.572Z"
   },
   {
    "duration": 9,
    "start_time": "2023-04-28T13:32:35.710Z"
   },
   {
    "duration": 10,
    "start_time": "2023-04-28T13:32:43.667Z"
   },
   {
    "duration": 53,
    "start_time": "2023-04-28T13:37:03.902Z"
   },
   {
    "duration": 16,
    "start_time": "2023-04-28T13:37:22.258Z"
   },
   {
    "duration": 5,
    "start_time": "2023-04-28T13:37:32.848Z"
   },
   {
    "duration": 79,
    "start_time": "2023-04-28T13:38:08.205Z"
   },
   {
    "duration": 5,
    "start_time": "2023-04-28T13:38:08.995Z"
   },
   {
    "duration": 64,
    "start_time": "2023-04-28T13:39:14.106Z"
   },
   {
    "duration": 17,
    "start_time": "2023-04-28T13:39:22.139Z"
   },
   {
    "duration": 55,
    "start_time": "2023-04-28T13:39:39.802Z"
   },
   {
    "duration": 4,
    "start_time": "2023-04-28T13:40:03.841Z"
   },
   {
    "duration": 56,
    "start_time": "2023-04-28T13:40:13.317Z"
   },
   {
    "duration": 4,
    "start_time": "2023-04-28T13:40:20.052Z"
   },
   {
    "duration": 4,
    "start_time": "2023-04-28T13:40:26.271Z"
   },
   {
    "duration": 7,
    "start_time": "2023-04-28T13:40:40.424Z"
   },
   {
    "duration": 26,
    "start_time": "2023-04-28T13:42:18.249Z"
   },
   {
    "duration": 11,
    "start_time": "2023-04-28T13:42:21.415Z"
   },
   {
    "duration": 7,
    "start_time": "2023-04-28T13:42:30.951Z"
   },
   {
    "duration": 7,
    "start_time": "2023-04-28T13:43:12.565Z"
   },
   {
    "duration": 5,
    "start_time": "2023-04-28T13:43:22.270Z"
   },
   {
    "duration": 4,
    "start_time": "2023-04-28T13:43:41.502Z"
   },
   {
    "duration": 6,
    "start_time": "2023-04-28T13:44:08.395Z"
   },
   {
    "duration": 12,
    "start_time": "2023-04-28T13:44:23.814Z"
   },
   {
    "duration": 61,
    "start_time": "2023-04-28T13:46:19.845Z"
   },
   {
    "duration": 6,
    "start_time": "2023-04-28T13:47:00.497Z"
   },
   {
    "duration": 1380,
    "start_time": "2023-05-02T05:43:37.527Z"
   },
   {
    "duration": 2,
    "start_time": "2023-05-02T05:43:38.911Z"
   },
   {
    "duration": 3,
    "start_time": "2023-05-02T05:43:38.915Z"
   },
   {
    "duration": 11,
    "start_time": "2023-05-02T05:43:38.922Z"
   },
   {
    "duration": 13,
    "start_time": "2023-05-02T05:43:38.935Z"
   },
   {
    "duration": 897,
    "start_time": "2023-05-02T05:43:38.950Z"
   },
   {
    "duration": 14,
    "start_time": "2023-05-02T05:43:39.849Z"
   },
   {
    "duration": 4,
    "start_time": "2023-05-02T05:43:39.865Z"
   },
   {
    "duration": 40,
    "start_time": "2023-05-02T05:43:39.871Z"
   },
   {
    "duration": 104,
    "start_time": "2023-05-02T05:43:39.914Z"
   },
   {
    "duration": 69,
    "start_time": "2023-05-02T05:43:40.021Z"
   },
   {
    "duration": 8,
    "start_time": "2023-05-02T05:43:40.092Z"
   },
   {
    "duration": 141,
    "start_time": "2023-05-02T05:43:40.104Z"
   },
   {
    "duration": 108,
    "start_time": "2023-05-02T05:43:40.246Z"
   },
   {
    "duration": 4,
    "start_time": "2023-05-02T05:43:40.356Z"
   },
   {
    "duration": 58,
    "start_time": "2023-05-02T05:43:40.361Z"
   },
   {
    "duration": 15,
    "start_time": "2023-05-02T05:43:40.424Z"
   },
   {
    "duration": 152,
    "start_time": "2023-05-02T05:43:40.441Z"
   },
   {
    "duration": 3,
    "start_time": "2023-05-02T05:43:40.594Z"
   },
   {
    "duration": 122,
    "start_time": "2023-05-02T05:43:40.599Z"
   },
   {
    "duration": 107,
    "start_time": "2023-05-02T05:43:40.724Z"
   },
   {
    "duration": 3,
    "start_time": "2023-05-02T05:43:40.833Z"
   },
   {
    "duration": 28,
    "start_time": "2023-05-02T05:43:40.837Z"
   },
   {
    "duration": 32,
    "start_time": "2023-05-02T05:43:40.867Z"
   },
   {
    "duration": 8,
    "start_time": "2023-05-02T05:43:40.919Z"
   },
   {
    "duration": 37,
    "start_time": "2023-05-02T05:43:40.929Z"
   },
   {
    "duration": 299,
    "start_time": "2023-05-02T05:43:40.968Z"
   },
   {
    "duration": 718,
    "start_time": "2023-05-02T05:43:41.272Z"
   },
   {
    "duration": 24,
    "start_time": "2023-05-02T05:43:41.991Z"
   },
   {
    "duration": 9,
    "start_time": "2023-05-02T05:43:42.017Z"
   },
   {
    "duration": 8,
    "start_time": "2023-05-02T05:43:42.028Z"
   },
   {
    "duration": 5,
    "start_time": "2023-05-02T05:43:42.038Z"
   },
   {
    "duration": 4,
    "start_time": "2023-05-02T05:43:42.045Z"
   },
   {
    "duration": 5,
    "start_time": "2023-05-02T05:43:42.051Z"
   },
   {
    "duration": 4,
    "start_time": "2023-05-02T05:43:42.058Z"
   },
   {
    "duration": 30,
    "start_time": "2023-05-02T05:43:42.063Z"
   },
   {
    "duration": 118,
    "start_time": "2023-05-02T05:43:42.098Z"
   },
   {
    "duration": 0,
    "start_time": "2023-05-02T05:43:42.219Z"
   },
   {
    "duration": 0,
    "start_time": "2023-05-02T05:43:42.221Z"
   },
   {
    "duration": 0,
    "start_time": "2023-05-02T05:43:42.224Z"
   },
   {
    "duration": 0,
    "start_time": "2023-05-02T05:43:42.225Z"
   },
   {
    "duration": 0,
    "start_time": "2023-05-02T05:43:42.227Z"
   },
   {
    "duration": 0,
    "start_time": "2023-05-02T05:43:42.229Z"
   },
   {
    "duration": 0,
    "start_time": "2023-05-02T05:43:42.230Z"
   },
   {
    "duration": 0,
    "start_time": "2023-05-02T05:43:42.231Z"
   },
   {
    "duration": 0,
    "start_time": "2023-05-02T05:43:42.232Z"
   },
   {
    "duration": 0,
    "start_time": "2023-05-02T05:43:42.233Z"
   },
   {
    "duration": 0,
    "start_time": "2023-05-02T05:43:42.236Z"
   },
   {
    "duration": 0,
    "start_time": "2023-05-02T05:43:42.237Z"
   },
   {
    "duration": 0,
    "start_time": "2023-05-02T05:43:42.239Z"
   },
   {
    "duration": 0,
    "start_time": "2023-05-02T05:43:42.240Z"
   },
   {
    "duration": 0,
    "start_time": "2023-05-02T05:43:42.242Z"
   },
   {
    "duration": 0,
    "start_time": "2023-05-02T05:43:42.244Z"
   },
   {
    "duration": 0,
    "start_time": "2023-05-02T05:43:42.245Z"
   },
   {
    "duration": 0,
    "start_time": "2023-05-02T05:43:42.246Z"
   },
   {
    "duration": 0,
    "start_time": "2023-05-02T05:43:42.248Z"
   },
   {
    "duration": 0,
    "start_time": "2023-05-02T05:43:42.249Z"
   },
   {
    "duration": 0,
    "start_time": "2023-05-02T05:43:42.252Z"
   },
   {
    "duration": 0,
    "start_time": "2023-05-02T05:43:42.253Z"
   },
   {
    "duration": 0,
    "start_time": "2023-05-02T05:43:42.255Z"
   },
   {
    "duration": 0,
    "start_time": "2023-05-02T05:43:42.256Z"
   },
   {
    "duration": 0,
    "start_time": "2023-05-02T05:43:42.289Z"
   },
   {
    "duration": 0,
    "start_time": "2023-05-02T05:43:42.290Z"
   },
   {
    "duration": 0,
    "start_time": "2023-05-02T05:43:42.291Z"
   },
   {
    "duration": 0,
    "start_time": "2023-05-02T05:43:42.292Z"
   },
   {
    "duration": 0,
    "start_time": "2023-05-02T05:43:42.293Z"
   },
   {
    "duration": 0,
    "start_time": "2023-05-02T05:43:42.294Z"
   },
   {
    "duration": 0,
    "start_time": "2023-05-02T05:43:42.295Z"
   },
   {
    "duration": 0,
    "start_time": "2023-05-02T05:43:42.297Z"
   },
   {
    "duration": 1,
    "start_time": "2023-05-02T05:43:42.298Z"
   },
   {
    "duration": 0,
    "start_time": "2023-05-02T05:43:42.300Z"
   },
   {
    "duration": 0,
    "start_time": "2023-05-02T05:43:42.301Z"
   },
   {
    "duration": 0,
    "start_time": "2023-05-02T05:43:42.302Z"
   },
   {
    "duration": 0,
    "start_time": "2023-05-02T05:43:42.304Z"
   },
   {
    "duration": 0,
    "start_time": "2023-05-02T05:43:42.305Z"
   },
   {
    "duration": 0,
    "start_time": "2023-05-02T05:43:42.306Z"
   },
   {
    "duration": 0,
    "start_time": "2023-05-02T05:43:42.308Z"
   },
   {
    "duration": 0,
    "start_time": "2023-05-02T05:43:42.309Z"
   },
   {
    "duration": 0,
    "start_time": "2023-05-02T05:43:42.310Z"
   },
   {
    "duration": 0,
    "start_time": "2023-05-02T05:43:42.312Z"
   },
   {
    "duration": 0,
    "start_time": "2023-05-02T05:43:42.313Z"
   },
   {
    "duration": 0,
    "start_time": "2023-05-02T05:43:42.314Z"
   },
   {
    "duration": 0,
    "start_time": "2023-05-02T05:43:42.315Z"
   },
   {
    "duration": 0,
    "start_time": "2023-05-02T05:43:42.316Z"
   },
   {
    "duration": 0,
    "start_time": "2023-05-02T05:43:42.318Z"
   },
   {
    "duration": 0,
    "start_time": "2023-05-02T05:43:42.319Z"
   },
   {
    "duration": 0,
    "start_time": "2023-05-02T05:43:42.320Z"
   },
   {
    "duration": 0,
    "start_time": "2023-05-02T05:43:42.321Z"
   },
   {
    "duration": 0,
    "start_time": "2023-05-02T05:43:42.323Z"
   },
   {
    "duration": 0,
    "start_time": "2023-05-02T05:43:42.324Z"
   },
   {
    "duration": 0,
    "start_time": "2023-05-02T05:43:42.325Z"
   },
   {
    "duration": 0,
    "start_time": "2023-05-02T05:43:42.326Z"
   },
   {
    "duration": 0,
    "start_time": "2023-05-02T05:43:42.328Z"
   },
   {
    "duration": 0,
    "start_time": "2023-05-02T05:43:42.329Z"
   },
   {
    "duration": 0,
    "start_time": "2023-05-02T05:43:42.332Z"
   },
   {
    "duration": 0,
    "start_time": "2023-05-02T05:43:42.334Z"
   },
   {
    "duration": 1218,
    "start_time": "2023-05-02T05:51:23.255Z"
   },
   {
    "duration": 12,
    "start_time": "2023-05-02T05:51:24.475Z"
   },
   {
    "duration": 10,
    "start_time": "2023-05-02T05:51:24.491Z"
   },
   {
    "duration": 11,
    "start_time": "2023-05-02T05:51:24.504Z"
   },
   {
    "duration": 3,
    "start_time": "2023-05-02T05:51:24.519Z"
   },
   {
    "duration": 10,
    "start_time": "2023-05-02T05:51:24.524Z"
   },
   {
    "duration": 5,
    "start_time": "2023-05-02T05:51:24.535Z"
   },
   {
    "duration": 4,
    "start_time": "2023-05-02T05:51:24.542Z"
   },
   {
    "duration": 4,
    "start_time": "2023-05-02T05:51:24.548Z"
   },
   {
    "duration": 3,
    "start_time": "2023-05-02T05:51:24.554Z"
   },
   {
    "duration": 5,
    "start_time": "2023-05-02T05:51:24.558Z"
   },
   {
    "duration": 4,
    "start_time": "2023-05-02T05:51:24.564Z"
   },
   {
    "duration": 25,
    "start_time": "2023-05-02T05:51:24.569Z"
   },
   {
    "duration": 17,
    "start_time": "2023-05-02T05:51:24.598Z"
   },
   {
    "duration": 182,
    "start_time": "2023-05-02T05:51:24.617Z"
   },
   {
    "duration": 16,
    "start_time": "2023-05-02T05:51:24.808Z"
   },
   {
    "duration": 3,
    "start_time": "2023-05-02T05:51:24.826Z"
   },
   {
    "duration": 26,
    "start_time": "2023-05-02T05:51:24.831Z"
   },
   {
    "duration": 111,
    "start_time": "2023-05-02T05:51:24.858Z"
   },
   {
    "duration": 55,
    "start_time": "2023-05-02T05:51:24.970Z"
   },
   {
    "duration": 3,
    "start_time": "2023-05-02T05:51:25.027Z"
   },
   {
    "duration": 123,
    "start_time": "2023-05-02T05:51:25.031Z"
   },
   {
    "duration": 92,
    "start_time": "2023-05-02T05:51:25.156Z"
   },
   {
    "duration": 2,
    "start_time": "2023-05-02T05:51:25.250Z"
   },
   {
    "duration": 32,
    "start_time": "2023-05-02T05:51:25.254Z"
   },
   {
    "duration": 14,
    "start_time": "2023-05-02T05:51:25.289Z"
   },
   {
    "duration": 108,
    "start_time": "2023-05-02T05:51:25.307Z"
   },
   {
    "duration": 4,
    "start_time": "2023-05-02T05:51:25.420Z"
   },
   {
    "duration": 109,
    "start_time": "2023-05-02T05:51:25.425Z"
   },
   {
    "duration": 86,
    "start_time": "2023-05-02T05:51:25.536Z"
   },
   {
    "duration": 2,
    "start_time": "2023-05-02T05:51:25.625Z"
   },
   {
    "duration": 21,
    "start_time": "2023-05-02T05:51:25.628Z"
   },
   {
    "duration": 5,
    "start_time": "2023-05-02T05:51:25.651Z"
   },
   {
    "duration": 31,
    "start_time": "2023-05-02T05:51:25.658Z"
   },
   {
    "duration": 45,
    "start_time": "2023-05-02T05:51:25.691Z"
   },
   {
    "duration": 293,
    "start_time": "2023-05-02T05:51:25.737Z"
   },
   {
    "duration": 782,
    "start_time": "2023-05-02T05:51:26.032Z"
   },
   {
    "duration": 15,
    "start_time": "2023-05-02T05:51:26.816Z"
   },
   {
    "duration": 5,
    "start_time": "2023-05-02T05:51:26.833Z"
   },
   {
    "duration": 6,
    "start_time": "2023-05-02T05:51:26.840Z"
   },
   {
    "duration": 4,
    "start_time": "2023-05-02T05:51:26.848Z"
   },
   {
    "duration": 4,
    "start_time": "2023-05-02T05:51:26.854Z"
   },
   {
    "duration": 37,
    "start_time": "2023-05-02T05:51:26.860Z"
   },
   {
    "duration": 122,
    "start_time": "2023-05-02T05:51:26.904Z"
   },
   {
    "duration": 0,
    "start_time": "2023-05-02T05:51:27.028Z"
   },
   {
    "duration": 0,
    "start_time": "2023-05-02T05:51:27.030Z"
   },
   {
    "duration": 0,
    "start_time": "2023-05-02T05:51:27.031Z"
   },
   {
    "duration": 0,
    "start_time": "2023-05-02T05:51:27.032Z"
   },
   {
    "duration": 0,
    "start_time": "2023-05-02T05:51:27.034Z"
   },
   {
    "duration": 0,
    "start_time": "2023-05-02T05:51:27.035Z"
   },
   {
    "duration": 0,
    "start_time": "2023-05-02T05:51:27.036Z"
   },
   {
    "duration": 0,
    "start_time": "2023-05-02T05:51:27.037Z"
   },
   {
    "duration": 0,
    "start_time": "2023-05-02T05:51:27.038Z"
   },
   {
    "duration": 0,
    "start_time": "2023-05-02T05:51:27.039Z"
   },
   {
    "duration": 0,
    "start_time": "2023-05-02T05:51:27.040Z"
   },
   {
    "duration": 0,
    "start_time": "2023-05-02T05:51:27.041Z"
   },
   {
    "duration": 0,
    "start_time": "2023-05-02T05:51:27.042Z"
   },
   {
    "duration": 0,
    "start_time": "2023-05-02T05:51:27.044Z"
   },
   {
    "duration": 0,
    "start_time": "2023-05-02T05:51:27.045Z"
   },
   {
    "duration": 0,
    "start_time": "2023-05-02T05:51:27.046Z"
   },
   {
    "duration": 0,
    "start_time": "2023-05-02T05:51:27.047Z"
   },
   {
    "duration": 0,
    "start_time": "2023-05-02T05:51:27.048Z"
   },
   {
    "duration": 0,
    "start_time": "2023-05-02T05:51:27.049Z"
   },
   {
    "duration": 0,
    "start_time": "2023-05-02T05:51:27.050Z"
   },
   {
    "duration": 0,
    "start_time": "2023-05-02T05:51:27.089Z"
   },
   {
    "duration": 0,
    "start_time": "2023-05-02T05:51:27.090Z"
   },
   {
    "duration": 0,
    "start_time": "2023-05-02T05:51:27.091Z"
   },
   {
    "duration": 0,
    "start_time": "2023-05-02T05:51:27.092Z"
   },
   {
    "duration": 0,
    "start_time": "2023-05-02T05:51:27.093Z"
   },
   {
    "duration": 0,
    "start_time": "2023-05-02T05:51:27.094Z"
   },
   {
    "duration": 0,
    "start_time": "2023-05-02T05:51:27.096Z"
   },
   {
    "duration": 0,
    "start_time": "2023-05-02T05:51:27.097Z"
   },
   {
    "duration": 0,
    "start_time": "2023-05-02T05:51:27.097Z"
   },
   {
    "duration": 0,
    "start_time": "2023-05-02T05:51:27.098Z"
   },
   {
    "duration": 0,
    "start_time": "2023-05-02T05:51:27.099Z"
   },
   {
    "duration": 0,
    "start_time": "2023-05-02T05:51:27.105Z"
   },
   {
    "duration": 0,
    "start_time": "2023-05-02T05:51:27.106Z"
   },
   {
    "duration": 0,
    "start_time": "2023-05-02T05:51:27.107Z"
   },
   {
    "duration": 0,
    "start_time": "2023-05-02T05:51:27.107Z"
   },
   {
    "duration": 0,
    "start_time": "2023-05-02T05:51:27.108Z"
   },
   {
    "duration": 0,
    "start_time": "2023-05-02T05:51:27.109Z"
   },
   {
    "duration": 0,
    "start_time": "2023-05-02T05:51:27.110Z"
   },
   {
    "duration": 0,
    "start_time": "2023-05-02T05:51:27.110Z"
   },
   {
    "duration": 0,
    "start_time": "2023-05-02T05:51:27.113Z"
   },
   {
    "duration": 0,
    "start_time": "2023-05-02T05:51:27.114Z"
   },
   {
    "duration": 0,
    "start_time": "2023-05-02T05:51:27.115Z"
   },
   {
    "duration": 0,
    "start_time": "2023-05-02T05:51:27.119Z"
   },
   {
    "duration": 0,
    "start_time": "2023-05-02T05:51:27.121Z"
   },
   {
    "duration": 0,
    "start_time": "2023-05-02T05:51:27.124Z"
   },
   {
    "duration": 0,
    "start_time": "2023-05-02T05:51:27.125Z"
   },
   {
    "duration": 0,
    "start_time": "2023-05-02T05:51:27.126Z"
   },
   {
    "duration": 0,
    "start_time": "2023-05-02T05:51:27.128Z"
   },
   {
    "duration": 0,
    "start_time": "2023-05-02T05:51:27.129Z"
   },
   {
    "duration": 0,
    "start_time": "2023-05-02T05:51:27.130Z"
   },
   {
    "duration": 0,
    "start_time": "2023-05-02T05:51:27.131Z"
   },
   {
    "duration": 0,
    "start_time": "2023-05-02T05:51:27.132Z"
   },
   {
    "duration": 0,
    "start_time": "2023-05-02T05:51:27.134Z"
   },
   {
    "duration": 0,
    "start_time": "2023-05-02T05:51:27.135Z"
   },
   {
    "duration": 1307,
    "start_time": "2023-05-02T05:58:00.325Z"
   },
   {
    "duration": 3,
    "start_time": "2023-05-02T05:58:01.634Z"
   },
   {
    "duration": 28,
    "start_time": "2023-05-02T05:58:01.638Z"
   },
   {
    "duration": 23,
    "start_time": "2023-05-02T05:58:01.668Z"
   },
   {
    "duration": 55,
    "start_time": "2023-05-02T05:58:01.693Z"
   },
   {
    "duration": 19,
    "start_time": "2023-05-02T05:58:01.750Z"
   },
   {
    "duration": 37,
    "start_time": "2023-05-02T05:58:01.771Z"
   },
   {
    "duration": 11,
    "start_time": "2023-05-02T05:58:01.809Z"
   },
   {
    "duration": 18,
    "start_time": "2023-05-02T05:58:01.821Z"
   },
   {
    "duration": 7,
    "start_time": "2023-05-02T05:58:01.842Z"
   },
   {
    "duration": 10,
    "start_time": "2023-05-02T05:58:01.851Z"
   },
   {
    "duration": 15,
    "start_time": "2023-05-02T05:58:01.862Z"
   },
   {
    "duration": 16,
    "start_time": "2023-05-02T05:58:01.879Z"
   },
   {
    "duration": 41,
    "start_time": "2023-05-02T05:58:01.897Z"
   },
   {
    "duration": 210,
    "start_time": "2023-05-02T05:58:01.940Z"
   },
   {
    "duration": 15,
    "start_time": "2023-05-02T05:58:02.152Z"
   },
   {
    "duration": 7,
    "start_time": "2023-05-02T05:58:02.169Z"
   },
   {
    "duration": 47,
    "start_time": "2023-05-02T05:58:02.178Z"
   },
   {
    "duration": 103,
    "start_time": "2023-05-02T05:58:02.226Z"
   },
   {
    "duration": 41,
    "start_time": "2023-05-02T05:58:02.331Z"
   },
   {
    "duration": 27,
    "start_time": "2023-05-02T05:58:02.373Z"
   },
   {
    "duration": 112,
    "start_time": "2023-05-02T05:58:02.402Z"
   },
   {
    "duration": 83,
    "start_time": "2023-05-02T05:58:02.516Z"
   },
   {
    "duration": 5,
    "start_time": "2023-05-02T05:58:02.601Z"
   },
   {
    "duration": 37,
    "start_time": "2023-05-02T05:58:02.608Z"
   },
   {
    "duration": 12,
    "start_time": "2023-05-02T05:58:02.647Z"
   },
   {
    "duration": 111,
    "start_time": "2023-05-02T05:58:02.660Z"
   },
   {
    "duration": 3,
    "start_time": "2023-05-02T05:58:02.775Z"
   },
   {
    "duration": 91,
    "start_time": "2023-05-02T05:58:02.787Z"
   },
   {
    "duration": 83,
    "start_time": "2023-05-02T05:58:02.880Z"
   },
   {
    "duration": 3,
    "start_time": "2023-05-02T05:58:02.965Z"
   },
   {
    "duration": 47,
    "start_time": "2023-05-02T05:58:02.970Z"
   },
   {
    "duration": 6,
    "start_time": "2023-05-02T05:58:03.019Z"
   },
   {
    "duration": 30,
    "start_time": "2023-05-02T05:58:03.027Z"
   },
   {
    "duration": 46,
    "start_time": "2023-05-02T05:58:03.058Z"
   },
   {
    "duration": 275,
    "start_time": "2023-05-02T05:58:03.106Z"
   },
   {
    "duration": 678,
    "start_time": "2023-05-02T05:58:03.385Z"
   },
   {
    "duration": 23,
    "start_time": "2023-05-02T05:58:04.066Z"
   },
   {
    "duration": 11,
    "start_time": "2023-05-02T05:58:04.091Z"
   },
   {
    "duration": 8,
    "start_time": "2023-05-02T05:58:04.103Z"
   },
   {
    "duration": 4,
    "start_time": "2023-05-02T05:58:04.113Z"
   },
   {
    "duration": 7,
    "start_time": "2023-05-02T05:58:04.120Z"
   },
   {
    "duration": 12,
    "start_time": "2023-05-02T05:58:04.130Z"
   },
   {
    "duration": 140,
    "start_time": "2023-05-02T05:58:04.144Z"
   },
   {
    "duration": 38,
    "start_time": "2023-05-02T05:58:04.286Z"
   },
   {
    "duration": 7,
    "start_time": "2023-05-02T05:58:04.333Z"
   },
   {
    "duration": 6,
    "start_time": "2023-05-02T05:58:04.341Z"
   },
   {
    "duration": 5,
    "start_time": "2023-05-02T05:58:04.349Z"
   },
   {
    "duration": 8,
    "start_time": "2023-05-02T05:58:04.356Z"
   },
   {
    "duration": 5,
    "start_time": "2023-05-02T05:58:04.365Z"
   },
   {
    "duration": 14,
    "start_time": "2023-05-02T05:58:04.371Z"
   },
   {
    "duration": 3,
    "start_time": "2023-05-02T05:58:04.387Z"
   },
   {
    "duration": 7,
    "start_time": "2023-05-02T05:58:04.392Z"
   },
   {
    "duration": 4,
    "start_time": "2023-05-02T05:58:04.400Z"
   },
   {
    "duration": 8,
    "start_time": "2023-05-02T05:58:04.405Z"
   },
   {
    "duration": 72,
    "start_time": "2023-05-02T05:58:04.414Z"
   },
   {
    "duration": 208,
    "start_time": "2023-05-02T05:58:04.488Z"
   },
   {
    "duration": 7,
    "start_time": "2023-05-02T05:58:04.699Z"
   },
   {
    "duration": 27,
    "start_time": "2023-05-02T05:58:04.708Z"
   },
   {
    "duration": 7,
    "start_time": "2023-05-02T05:58:04.737Z"
   },
   {
    "duration": 50,
    "start_time": "2023-05-02T05:58:04.745Z"
   },
   {
    "duration": 21,
    "start_time": "2023-05-02T05:58:04.797Z"
   },
   {
    "duration": 21,
    "start_time": "2023-05-02T05:58:04.820Z"
   },
   {
    "duration": 19,
    "start_time": "2023-05-02T05:58:04.843Z"
   },
   {
    "duration": 46,
    "start_time": "2023-05-02T05:58:04.885Z"
   },
   {
    "duration": 2,
    "start_time": "2023-05-02T05:58:04.933Z"
   },
   {
    "duration": 28,
    "start_time": "2023-05-02T05:58:04.937Z"
   },
   {
    "duration": 20,
    "start_time": "2023-05-02T05:58:04.967Z"
   },
   {
    "duration": 31,
    "start_time": "2023-05-02T05:58:04.990Z"
   },
   {
    "duration": 5,
    "start_time": "2023-05-02T05:58:05.023Z"
   },
   {
    "duration": 15,
    "start_time": "2023-05-02T05:58:05.030Z"
   },
   {
    "duration": 5,
    "start_time": "2023-05-02T05:58:05.046Z"
   },
   {
    "duration": 47,
    "start_time": "2023-05-02T05:58:05.053Z"
   },
   {
    "duration": 9,
    "start_time": "2023-05-02T05:58:05.103Z"
   },
   {
    "duration": 17,
    "start_time": "2023-05-02T05:58:05.114Z"
   },
   {
    "duration": 8,
    "start_time": "2023-05-02T05:58:05.133Z"
   },
   {
    "duration": 45,
    "start_time": "2023-05-02T05:58:05.142Z"
   },
   {
    "duration": 9,
    "start_time": "2023-05-02T05:58:05.190Z"
   },
   {
    "duration": 30,
    "start_time": "2023-05-02T05:58:05.202Z"
   },
   {
    "duration": 13,
    "start_time": "2023-05-02T05:58:05.233Z"
   },
   {
    "duration": 38,
    "start_time": "2023-05-02T05:58:05.248Z"
   },
   {
    "duration": 27,
    "start_time": "2023-05-02T05:58:05.294Z"
   },
   {
    "duration": 7,
    "start_time": "2023-05-02T05:58:05.323Z"
   },
   {
    "duration": 127,
    "start_time": "2023-05-02T05:58:05.331Z"
   },
   {
    "duration": 76,
    "start_time": "2023-05-02T05:58:05.460Z"
   },
   {
    "duration": 4,
    "start_time": "2023-05-02T05:58:05.537Z"
   },
   {
    "duration": 8,
    "start_time": "2023-05-02T05:58:05.543Z"
   },
   {
    "duration": 7,
    "start_time": "2023-05-02T05:58:05.553Z"
   },
   {
    "duration": 27,
    "start_time": "2023-05-02T05:58:05.562Z"
   },
   {
    "duration": 17,
    "start_time": "2023-05-02T05:58:05.594Z"
   },
   {
    "duration": 24,
    "start_time": "2023-05-02T05:58:05.613Z"
   },
   {
    "duration": 22,
    "start_time": "2023-05-02T05:58:05.638Z"
   },
   {
    "duration": 10,
    "start_time": "2023-05-02T05:58:05.662Z"
   },
   {
    "duration": 33,
    "start_time": "2023-05-02T05:58:05.673Z"
   },
   {
    "duration": 17,
    "start_time": "2023-05-02T05:58:05.708Z"
   },
   {
    "duration": 25,
    "start_time": "2023-05-02T05:58:05.727Z"
   },
   {
    "duration": 34,
    "start_time": "2023-05-02T05:58:05.754Z"
   },
   {
    "duration": 9,
    "start_time": "2023-05-02T05:58:05.791Z"
   },
   {
    "duration": 7,
    "start_time": "2023-05-02T06:03:31.081Z"
   },
   {
    "duration": 5,
    "start_time": "2023-05-02T06:03:32.652Z"
   },
   {
    "duration": 4,
    "start_time": "2023-05-02T06:03:33.163Z"
   },
   {
    "duration": 6,
    "start_time": "2023-05-02T06:03:33.740Z"
   },
   {
    "duration": 4,
    "start_time": "2023-05-02T06:03:48.513Z"
   },
   {
    "duration": 1139,
    "start_time": "2023-05-02T06:04:16.915Z"
   },
   {
    "duration": 3,
    "start_time": "2023-05-02T06:04:18.056Z"
   },
   {
    "duration": 30,
    "start_time": "2023-05-02T06:04:18.060Z"
   },
   {
    "duration": 26,
    "start_time": "2023-05-02T06:04:18.092Z"
   },
   {
    "duration": 39,
    "start_time": "2023-05-02T06:04:18.121Z"
   },
   {
    "duration": 31,
    "start_time": "2023-05-02T06:04:18.161Z"
   },
   {
    "duration": 10,
    "start_time": "2023-05-02T06:04:18.194Z"
   },
   {
    "duration": 17,
    "start_time": "2023-05-02T06:04:18.206Z"
   },
   {
    "duration": 6,
    "start_time": "2023-05-02T06:04:18.225Z"
   },
   {
    "duration": 12,
    "start_time": "2023-05-02T06:04:18.233Z"
   },
   {
    "duration": 33,
    "start_time": "2023-05-02T06:04:18.247Z"
   },
   {
    "duration": 12,
    "start_time": "2023-05-02T06:04:18.282Z"
   },
   {
    "duration": 15,
    "start_time": "2023-05-02T06:04:18.296Z"
   },
   {
    "duration": 10,
    "start_time": "2023-05-02T06:04:18.315Z"
   },
   {
    "duration": 198,
    "start_time": "2023-05-02T06:04:18.327Z"
   },
   {
    "duration": 10,
    "start_time": "2023-05-02T06:04:18.527Z"
   },
   {
    "duration": 10,
    "start_time": "2023-05-02T06:04:18.539Z"
   },
   {
    "duration": 36,
    "start_time": "2023-05-02T06:04:18.550Z"
   },
   {
    "duration": 97,
    "start_time": "2023-05-02T06:04:18.588Z"
   },
   {
    "duration": 46,
    "start_time": "2023-05-02T06:04:18.687Z"
   },
   {
    "duration": 3,
    "start_time": "2023-05-02T06:04:18.735Z"
   },
   {
    "duration": 116,
    "start_time": "2023-05-02T06:04:18.740Z"
   },
   {
    "duration": 96,
    "start_time": "2023-05-02T06:04:18.858Z"
   },
   {
    "duration": 3,
    "start_time": "2023-05-02T06:04:18.956Z"
   },
   {
    "duration": 34,
    "start_time": "2023-05-02T06:04:18.960Z"
   },
   {
    "duration": 12,
    "start_time": "2023-05-02T06:04:18.995Z"
   },
   {
    "duration": 112,
    "start_time": "2023-05-02T06:04:19.009Z"
   },
   {
    "duration": 4,
    "start_time": "2023-05-02T06:04:19.122Z"
   },
   {
    "duration": 110,
    "start_time": "2023-05-02T06:04:19.127Z"
   },
   {
    "duration": 90,
    "start_time": "2023-05-02T06:04:19.238Z"
   },
   {
    "duration": 4,
    "start_time": "2023-05-02T06:04:19.329Z"
   },
   {
    "duration": 29,
    "start_time": "2023-05-02T06:04:19.334Z"
   },
   {
    "duration": 8,
    "start_time": "2023-05-02T06:04:19.365Z"
   },
   {
    "duration": 16,
    "start_time": "2023-05-02T06:04:19.375Z"
   },
   {
    "duration": 41,
    "start_time": "2023-05-02T06:04:19.393Z"
   },
   {
    "duration": 275,
    "start_time": "2023-05-02T06:04:19.436Z"
   },
   {
    "duration": 672,
    "start_time": "2023-05-02T06:04:19.713Z"
   },
   {
    "duration": 19,
    "start_time": "2023-05-02T06:04:20.387Z"
   },
   {
    "duration": 6,
    "start_time": "2023-05-02T06:04:20.409Z"
   },
   {
    "duration": 21,
    "start_time": "2023-05-02T06:04:20.417Z"
   },
   {
    "duration": 11,
    "start_time": "2023-05-02T06:04:20.445Z"
   },
   {
    "duration": 21,
    "start_time": "2023-05-02T06:04:20.458Z"
   },
   {
    "duration": 5,
    "start_time": "2023-05-02T06:04:20.480Z"
   },
   {
    "duration": 105,
    "start_time": "2023-05-02T06:04:20.487Z"
   },
   {
    "duration": 4,
    "start_time": "2023-05-02T06:04:20.594Z"
   },
   {
    "duration": 15,
    "start_time": "2023-05-02T06:04:20.599Z"
   },
   {
    "duration": 21,
    "start_time": "2023-05-02T06:04:20.616Z"
   },
   {
    "duration": 5,
    "start_time": "2023-05-02T06:04:20.638Z"
   },
   {
    "duration": 21,
    "start_time": "2023-05-02T06:04:20.645Z"
   },
   {
    "duration": 4,
    "start_time": "2023-05-02T06:04:20.668Z"
   },
   {
    "duration": 15,
    "start_time": "2023-05-02T06:04:20.674Z"
   },
   {
    "duration": 54,
    "start_time": "2023-05-02T06:04:20.690Z"
   },
   {
    "duration": 202,
    "start_time": "2023-05-02T06:04:20.746Z"
   },
   {
    "duration": 7,
    "start_time": "2023-05-02T06:04:20.951Z"
   },
   {
    "duration": 41,
    "start_time": "2023-05-02T06:04:20.960Z"
   },
   {
    "duration": 13,
    "start_time": "2023-05-02T06:04:21.002Z"
   },
   {
    "duration": 24,
    "start_time": "2023-05-02T06:04:21.016Z"
   },
   {
    "duration": 46,
    "start_time": "2023-05-02T06:04:21.042Z"
   },
   {
    "duration": 21,
    "start_time": "2023-05-02T06:04:21.090Z"
   },
   {
    "duration": 24,
    "start_time": "2023-05-02T06:04:21.113Z"
   },
   {
    "duration": 61,
    "start_time": "2023-05-02T06:04:21.139Z"
   },
   {
    "duration": 3,
    "start_time": "2023-05-02T06:04:21.202Z"
   },
   {
    "duration": 31,
    "start_time": "2023-05-02T06:04:21.206Z"
   },
   {
    "duration": 3,
    "start_time": "2023-05-02T06:04:21.239Z"
   },
   {
    "duration": 43,
    "start_time": "2023-05-02T06:04:21.244Z"
   },
   {
    "duration": 4,
    "start_time": "2023-05-02T06:04:21.289Z"
   },
   {
    "duration": 13,
    "start_time": "2023-05-02T06:04:21.295Z"
   },
   {
    "duration": 7,
    "start_time": "2023-05-02T06:04:21.310Z"
   },
   {
    "duration": 36,
    "start_time": "2023-05-02T06:04:21.319Z"
   },
   {
    "duration": 7,
    "start_time": "2023-05-02T06:04:21.356Z"
   },
   {
    "duration": 22,
    "start_time": "2023-05-02T06:04:21.365Z"
   },
   {
    "duration": 8,
    "start_time": "2023-05-02T06:04:21.388Z"
   },
   {
    "duration": 37,
    "start_time": "2023-05-02T06:04:21.398Z"
   },
   {
    "duration": 6,
    "start_time": "2023-05-02T06:04:21.437Z"
   },
   {
    "duration": 71,
    "start_time": "2023-05-02T06:04:21.445Z"
   },
   {
    "duration": 13,
    "start_time": "2023-05-02T06:04:21.518Z"
   },
   {
    "duration": 13,
    "start_time": "2023-05-02T06:04:21.532Z"
   },
   {
    "duration": 39,
    "start_time": "2023-05-02T06:04:21.547Z"
   },
   {
    "duration": 6,
    "start_time": "2023-05-02T06:04:21.588Z"
   },
   {
    "duration": 124,
    "start_time": "2023-05-02T06:04:21.596Z"
   },
   {
    "duration": 75,
    "start_time": "2023-05-02T06:04:21.721Z"
   },
   {
    "duration": 6,
    "start_time": "2023-05-02T06:04:21.798Z"
   },
   {
    "duration": 8,
    "start_time": "2023-05-02T06:04:21.806Z"
   },
   {
    "duration": 9,
    "start_time": "2023-05-02T06:04:21.816Z"
   },
   {
    "duration": 11,
    "start_time": "2023-05-02T06:04:21.826Z"
   },
   {
    "duration": 26,
    "start_time": "2023-05-02T06:04:21.838Z"
   },
   {
    "duration": 27,
    "start_time": "2023-05-02T06:04:21.865Z"
   },
   {
    "duration": 7,
    "start_time": "2023-05-02T06:04:21.894Z"
   },
   {
    "duration": 10,
    "start_time": "2023-05-02T06:04:21.903Z"
   },
   {
    "duration": 10,
    "start_time": "2023-05-02T06:04:21.915Z"
   },
   {
    "duration": 11,
    "start_time": "2023-05-02T06:04:21.927Z"
   },
   {
    "duration": 51,
    "start_time": "2023-05-02T06:04:21.940Z"
   },
   {
    "duration": 8,
    "start_time": "2023-05-02T06:04:21.994Z"
   },
   {
    "duration": 8,
    "start_time": "2023-05-02T06:04:22.005Z"
   },
   {
    "duration": 3,
    "start_time": "2023-05-02T06:14:27.380Z"
   },
   {
    "duration": 3,
    "start_time": "2023-05-02T06:14:27.984Z"
   },
   {
    "duration": 17,
    "start_time": "2023-05-02T06:14:36.681Z"
   },
   {
    "duration": 3,
    "start_time": "2023-05-02T06:15:01.698Z"
   },
   {
    "duration": 6,
    "start_time": "2023-05-02T06:15:03.788Z"
   },
   {
    "duration": 72,
    "start_time": "2023-05-02T06:16:09.489Z"
   },
   {
    "duration": 237,
    "start_time": "2023-05-02T06:43:52.217Z"
   },
   {
    "duration": 14,
    "start_time": "2023-05-02T06:43:52.485Z"
   },
   {
    "duration": 78,
    "start_time": "2023-05-02T06:44:03.240Z"
   },
   {
    "duration": 7,
    "start_time": "2023-05-02T06:44:10.938Z"
   },
   {
    "duration": 32,
    "start_time": "2023-05-02T06:44:11.989Z"
   },
   {
    "duration": 110,
    "start_time": "2023-05-02T06:46:43.689Z"
   },
   {
    "duration": 5,
    "start_time": "2023-05-02T06:49:24.756Z"
   },
   {
    "duration": 5,
    "start_time": "2023-05-02T07:03:34.338Z"
   },
   {
    "duration": 6,
    "start_time": "2023-05-02T07:04:17.360Z"
   },
   {
    "duration": 33,
    "start_time": "2023-05-02T07:04:51.414Z"
   },
   {
    "duration": 10,
    "start_time": "2023-05-02T07:04:52.218Z"
   },
   {
    "duration": 29,
    "start_time": "2023-05-02T07:06:53.571Z"
   },
   {
    "duration": 10,
    "start_time": "2023-05-02T07:06:54.334Z"
   },
   {
    "duration": 25,
    "start_time": "2023-05-02T07:07:46.341Z"
   },
   {
    "duration": 27,
    "start_time": "2023-05-02T07:07:48.717Z"
   },
   {
    "duration": 10,
    "start_time": "2023-05-02T07:07:49.117Z"
   },
   {
    "duration": 25,
    "start_time": "2023-05-02T07:08:42.218Z"
   },
   {
    "duration": 9,
    "start_time": "2023-05-02T07:08:42.780Z"
   },
   {
    "duration": 9,
    "start_time": "2023-05-02T07:08:55.101Z"
   },
   {
    "duration": 31,
    "start_time": "2023-05-02T07:09:15.205Z"
   },
   {
    "duration": 7,
    "start_time": "2023-05-02T07:09:15.916Z"
   },
   {
    "duration": 9,
    "start_time": "2023-05-02T07:09:31.253Z"
   },
   {
    "duration": 1164,
    "start_time": "2023-05-02T07:10:15.544Z"
   },
   {
    "duration": 3,
    "start_time": "2023-05-02T07:10:17.823Z"
   },
   {
    "duration": 3,
    "start_time": "2023-05-02T07:10:18.246Z"
   },
   {
    "duration": 4,
    "start_time": "2023-05-02T07:10:18.711Z"
   },
   {
    "duration": 4,
    "start_time": "2023-05-02T07:10:21.381Z"
   },
   {
    "duration": 4,
    "start_time": "2023-05-02T07:10:26.525Z"
   },
   {
    "duration": 3,
    "start_time": "2023-05-02T07:10:27.402Z"
   },
   {
    "duration": 3,
    "start_time": "2023-05-02T07:10:27.719Z"
   },
   {
    "duration": 3,
    "start_time": "2023-05-02T07:10:28.013Z"
   },
   {
    "duration": 5,
    "start_time": "2023-05-02T07:10:28.340Z"
   },
   {
    "duration": 4,
    "start_time": "2023-05-02T07:10:28.750Z"
   },
   {
    "duration": 4,
    "start_time": "2023-05-02T07:10:29.119Z"
   },
   {
    "duration": 5,
    "start_time": "2023-05-02T07:10:29.428Z"
   },
   {
    "duration": 10,
    "start_time": "2023-05-02T07:10:30.552Z"
   },
   {
    "duration": 177,
    "start_time": "2023-05-02T07:10:31.981Z"
   },
   {
    "duration": 14,
    "start_time": "2023-05-02T07:10:32.745Z"
   },
   {
    "duration": 4,
    "start_time": "2023-05-02T07:10:34.230Z"
   },
   {
    "duration": 21,
    "start_time": "2023-05-02T07:10:36.233Z"
   },
   {
    "duration": 96,
    "start_time": "2023-05-02T07:10:36.733Z"
   },
   {
    "duration": 64,
    "start_time": "2023-05-02T07:10:38.244Z"
   },
   {
    "duration": 2,
    "start_time": "2023-05-02T07:10:43.439Z"
   },
   {
    "duration": 106,
    "start_time": "2023-05-02T07:10:43.443Z"
   },
   {
    "duration": 100,
    "start_time": "2023-05-02T07:10:43.685Z"
   },
   {
    "duration": 3,
    "start_time": "2023-05-02T07:10:43.902Z"
   },
   {
    "duration": 38,
    "start_time": "2023-05-02T07:10:44.150Z"
   },
   {
    "duration": 14,
    "start_time": "2023-05-02T07:10:44.439Z"
   },
   {
    "duration": 126,
    "start_time": "2023-05-02T07:10:45.804Z"
   },
   {
    "duration": 3,
    "start_time": "2023-05-02T07:10:46.802Z"
   },
   {
    "duration": 94,
    "start_time": "2023-05-02T07:10:47.048Z"
   },
   {
    "duration": 77,
    "start_time": "2023-05-02T07:10:47.297Z"
   },
   {
    "duration": 3,
    "start_time": "2023-05-02T07:10:47.503Z"
   },
   {
    "duration": 32,
    "start_time": "2023-05-02T07:10:47.727Z"
   },
   {
    "duration": 9,
    "start_time": "2023-05-02T07:10:48.002Z"
   },
   {
    "duration": 10,
    "start_time": "2023-05-02T07:10:48.538Z"
   },
   {
    "duration": 35,
    "start_time": "2023-05-02T07:10:49.621Z"
   },
   {
    "duration": 271,
    "start_time": "2023-05-02T07:10:50.485Z"
   },
   {
    "duration": 759,
    "start_time": "2023-05-02T07:10:52.146Z"
   },
   {
    "duration": 14,
    "start_time": "2023-05-02T07:10:53.642Z"
   },
   {
    "duration": 4,
    "start_time": "2023-05-02T07:10:54.518Z"
   },
   {
    "duration": 6,
    "start_time": "2023-05-02T07:10:55.909Z"
   },
   {
    "duration": 4,
    "start_time": "2023-05-02T07:10:56.326Z"
   },
   {
    "duration": 3,
    "start_time": "2023-05-02T07:10:56.734Z"
   },
   {
    "duration": 6,
    "start_time": "2023-05-02T07:10:57.183Z"
   },
   {
    "duration": 135,
    "start_time": "2023-05-02T07:10:58.176Z"
   },
   {
    "duration": 4,
    "start_time": "2023-05-02T07:10:58.415Z"
   },
   {
    "duration": 4,
    "start_time": "2023-05-02T07:10:58.601Z"
   },
   {
    "duration": 6,
    "start_time": "2023-05-02T07:10:58.819Z"
   },
   {
    "duration": 3,
    "start_time": "2023-05-02T07:10:59.270Z"
   },
   {
    "duration": 7,
    "start_time": "2023-05-02T07:11:00.149Z"
   },
   {
    "duration": 3,
    "start_time": "2023-05-02T07:11:00.517Z"
   },
   {
    "duration": 5,
    "start_time": "2023-05-02T07:11:01.002Z"
   },
   {
    "duration": 29,
    "start_time": "2023-05-02T07:11:01.229Z"
   },
   {
    "duration": 217,
    "start_time": "2023-05-02T07:11:01.404Z"
   },
   {
    "duration": 8,
    "start_time": "2023-05-02T07:11:02.838Z"
   },
   {
    "duration": 27,
    "start_time": "2023-05-02T07:11:04.852Z"
   },
   {
    "duration": 10,
    "start_time": "2023-05-02T07:11:06.476Z"
   },
   {
    "duration": 24,
    "start_time": "2023-05-02T07:11:08.729Z"
   },
   {
    "duration": 30,
    "start_time": "2023-05-02T07:11:09.189Z"
   },
   {
    "duration": 21,
    "start_time": "2023-05-02T07:11:09.618Z"
   },
   {
    "duration": 21,
    "start_time": "2023-05-02T07:11:10.042Z"
   },
   {
    "duration": 38,
    "start_time": "2023-05-02T07:11:10.715Z"
   },
   {
    "duration": 3,
    "start_time": "2023-05-02T07:11:11.235Z"
   },
   {
    "duration": 30,
    "start_time": "2023-05-02T07:11:11.597Z"
   },
   {
    "duration": 2,
    "start_time": "2023-05-02T07:11:11.934Z"
   },
   {
    "duration": 23,
    "start_time": "2023-05-02T07:11:12.424Z"
   },
   {
    "duration": 4,
    "start_time": "2023-05-02T07:11:13.919Z"
   },
   {
    "duration": 122,
    "start_time": "2023-05-02T07:11:15.086Z"
   },
   {
    "duration": 6,
    "start_time": "2023-05-02T07:11:52.544Z"
   },
   {
    "duration": 8,
    "start_time": "2023-05-02T07:12:06.189Z"
   },
   {
    "duration": 6,
    "start_time": "2023-05-02T07:12:06.714Z"
   },
   {
    "duration": 5,
    "start_time": "2023-05-02T07:12:07.933Z"
   },
   {
    "duration": 9,
    "start_time": "2023-05-02T07:12:09.838Z"
   },
   {
    "duration": 4,
    "start_time": "2023-05-02T07:12:20.133Z"
   },
   {
    "duration": 28,
    "start_time": "2023-05-02T07:12:33.822Z"
   },
   {
    "duration": 9,
    "start_time": "2023-05-02T07:12:34.325Z"
   },
   {
    "duration": 4,
    "start_time": "2023-05-02T07:12:34.818Z"
   },
   {
    "duration": 6,
    "start_time": "2023-05-02T07:12:35.919Z"
   },
   {
    "duration": 60,
    "start_time": "2023-05-02T07:12:37.821Z"
   },
   {
    "duration": 6,
    "start_time": "2023-05-02T07:12:38.253Z"
   },
   {
    "duration": 32,
    "start_time": "2023-05-02T07:12:40.318Z"
   },
   {
    "duration": 3,
    "start_time": "2023-05-02T07:12:40.758Z"
   },
   {
    "duration": 12,
    "start_time": "2023-05-02T07:12:42.218Z"
   },
   {
    "duration": 35,
    "start_time": "2023-05-02T07:12:49.624Z"
   },
   {
    "duration": 15,
    "start_time": "2023-05-02T07:12:51.617Z"
   },
   {
    "duration": 17,
    "start_time": "2023-05-02T07:13:19.837Z"
   },
   {
    "duration": 30,
    "start_time": "2023-05-02T07:13:20.306Z"
   },
   {
    "duration": 6,
    "start_time": "2023-05-02T07:13:21.204Z"
   },
   {
    "duration": 122,
    "start_time": "2023-05-02T07:13:35.617Z"
   },
   {
    "duration": 84,
    "start_time": "2023-05-02T07:13:36.234Z"
   },
   {
    "duration": 4,
    "start_time": "2023-05-02T07:13:36.955Z"
   },
   {
    "duration": 7,
    "start_time": "2023-05-02T07:13:41.326Z"
   },
   {
    "duration": 7,
    "start_time": "2023-05-02T07:13:42.042Z"
   },
   {
    "duration": 10,
    "start_time": "2023-05-02T07:13:42.788Z"
   },
   {
    "duration": 6,
    "start_time": "2023-05-02T07:13:43.757Z"
   },
   {
    "duration": 10,
    "start_time": "2023-05-02T07:13:44.302Z"
   },
   {
    "duration": 8,
    "start_time": "2023-05-02T07:13:44.702Z"
   },
   {
    "duration": 7,
    "start_time": "2023-05-02T07:13:45.360Z"
   },
   {
    "duration": 10,
    "start_time": "2023-05-02T07:13:45.602Z"
   },
   {
    "duration": 8,
    "start_time": "2023-05-02T07:13:45.803Z"
   },
   {
    "duration": 7,
    "start_time": "2023-05-02T07:13:46.217Z"
   },
   {
    "duration": 6,
    "start_time": "2023-05-02T07:13:46.426Z"
   },
   {
    "duration": 7,
    "start_time": "2023-05-02T07:13:46.603Z"
   },
   {
    "duration": 1505,
    "start_time": "2023-05-02T07:18:56.301Z"
   },
   {
    "duration": 3,
    "start_time": "2023-05-02T07:18:57.809Z"
   },
   {
    "duration": 4,
    "start_time": "2023-05-02T07:18:57.814Z"
   },
   {
    "duration": 4,
    "start_time": "2023-05-02T07:18:57.820Z"
   },
   {
    "duration": 4,
    "start_time": "2023-05-02T07:18:57.827Z"
   },
   {
    "duration": 6,
    "start_time": "2023-05-02T07:18:57.833Z"
   },
   {
    "duration": 6,
    "start_time": "2023-05-02T07:18:57.841Z"
   },
   {
    "duration": 36,
    "start_time": "2023-05-02T07:18:57.849Z"
   },
   {
    "duration": 26,
    "start_time": "2023-05-02T07:18:57.887Z"
   },
   {
    "duration": 14,
    "start_time": "2023-05-02T07:18:57.916Z"
   },
   {
    "duration": 10,
    "start_time": "2023-05-02T07:18:57.932Z"
   },
   {
    "duration": 5,
    "start_time": "2023-05-02T07:18:57.945Z"
   },
   {
    "duration": 7,
    "start_time": "2023-05-02T07:18:57.953Z"
   },
   {
    "duration": 10,
    "start_time": "2023-05-02T07:18:57.964Z"
   },
   {
    "duration": 282,
    "start_time": "2023-05-02T07:18:57.984Z"
   },
   {
    "duration": 33,
    "start_time": "2023-05-02T07:18:58.268Z"
   },
   {
    "duration": 12,
    "start_time": "2023-05-02T07:18:58.308Z"
   },
   {
    "duration": 34,
    "start_time": "2023-05-02T07:18:58.322Z"
   },
   {
    "duration": 148,
    "start_time": "2023-05-02T07:18:58.359Z"
   },
   {
    "duration": 58,
    "start_time": "2023-05-02T07:18:58.509Z"
   },
   {
    "duration": 4,
    "start_time": "2023-05-02T07:18:58.569Z"
   },
   {
    "duration": 137,
    "start_time": "2023-05-02T07:18:58.586Z"
   },
   {
    "duration": 118,
    "start_time": "2023-05-02T07:18:58.725Z"
   },
   {
    "duration": 3,
    "start_time": "2023-05-02T07:18:58.845Z"
   },
   {
    "duration": 36,
    "start_time": "2023-05-02T07:18:58.850Z"
   },
   {
    "duration": 23,
    "start_time": "2023-05-02T07:18:58.889Z"
   },
   {
    "duration": 138,
    "start_time": "2023-05-02T07:18:58.917Z"
   },
   {
    "duration": 3,
    "start_time": "2023-05-02T07:18:59.058Z"
   },
   {
    "duration": 106,
    "start_time": "2023-05-02T07:18:59.064Z"
   },
   {
    "duration": 102,
    "start_time": "2023-05-02T07:18:59.173Z"
   },
   {
    "duration": 6,
    "start_time": "2023-05-02T07:18:59.277Z"
   },
   {
    "duration": 38,
    "start_time": "2023-05-02T07:18:59.286Z"
   },
   {
    "duration": 16,
    "start_time": "2023-05-02T07:18:59.326Z"
   },
   {
    "duration": 10,
    "start_time": "2023-05-02T07:18:59.344Z"
   },
   {
    "duration": 75,
    "start_time": "2023-05-02T07:18:59.356Z"
   },
   {
    "duration": 323,
    "start_time": "2023-05-02T07:18:59.433Z"
   },
   {
    "duration": 830,
    "start_time": "2023-05-02T07:18:59.758Z"
   },
   {
    "duration": 18,
    "start_time": "2023-05-02T07:19:00.591Z"
   },
   {
    "duration": 20,
    "start_time": "2023-05-02T07:19:00.611Z"
   },
   {
    "duration": 25,
    "start_time": "2023-05-02T07:19:00.633Z"
   },
   {
    "duration": 57,
    "start_time": "2023-05-02T07:19:00.665Z"
   },
   {
    "duration": 54,
    "start_time": "2023-05-02T07:19:00.725Z"
   },
   {
    "duration": 38,
    "start_time": "2023-05-02T07:19:00.781Z"
   },
   {
    "duration": 149,
    "start_time": "2023-05-02T07:19:00.821Z"
   },
   {
    "duration": 4,
    "start_time": "2023-05-02T07:19:00.973Z"
   },
   {
    "duration": 48,
    "start_time": "2023-05-02T07:19:00.979Z"
   },
   {
    "duration": 69,
    "start_time": "2023-05-02T07:19:01.029Z"
   },
   {
    "duration": 36,
    "start_time": "2023-05-02T07:19:01.100Z"
   },
   {
    "duration": 36,
    "start_time": "2023-05-02T07:19:01.139Z"
   },
   {
    "duration": 37,
    "start_time": "2023-05-02T07:19:01.177Z"
   },
   {
    "duration": 48,
    "start_time": "2023-05-02T07:19:01.216Z"
   },
   {
    "duration": 72,
    "start_time": "2023-05-02T07:19:01.267Z"
   },
   {
    "duration": 257,
    "start_time": "2023-05-02T07:19:01.341Z"
   },
   {
    "duration": 8,
    "start_time": "2023-05-02T07:19:01.601Z"
   },
   {
    "duration": 57,
    "start_time": "2023-05-02T07:19:01.612Z"
   },
   {
    "duration": 39,
    "start_time": "2023-05-02T07:19:01.671Z"
   },
   {
    "duration": 56,
    "start_time": "2023-05-02T07:19:01.713Z"
   },
   {
    "duration": 48,
    "start_time": "2023-05-02T07:19:01.771Z"
   },
   {
    "duration": 49,
    "start_time": "2023-05-02T07:19:01.822Z"
   },
   {
    "duration": 61,
    "start_time": "2023-05-02T07:19:01.874Z"
   },
   {
    "duration": 92,
    "start_time": "2023-05-02T07:19:01.938Z"
   },
   {
    "duration": 2,
    "start_time": "2023-05-02T07:19:02.032Z"
   },
   {
    "duration": 54,
    "start_time": "2023-05-02T07:19:02.036Z"
   },
   {
    "duration": 31,
    "start_time": "2023-05-02T07:19:02.093Z"
   },
   {
    "duration": 56,
    "start_time": "2023-05-02T07:19:02.126Z"
   },
   {
    "duration": 6,
    "start_time": "2023-05-02T07:19:02.184Z"
   },
   {
    "duration": 31,
    "start_time": "2023-05-02T07:19:02.194Z"
   },
   {
    "duration": 27,
    "start_time": "2023-05-02T07:19:02.227Z"
   },
   {
    "duration": 56,
    "start_time": "2023-05-02T07:19:02.256Z"
   },
   {
    "duration": 6,
    "start_time": "2023-05-02T07:19:02.314Z"
   },
   {
    "duration": 22,
    "start_time": "2023-05-02T07:19:02.322Z"
   },
   {
    "duration": 37,
    "start_time": "2023-05-02T07:19:02.346Z"
   },
   {
    "duration": 62,
    "start_time": "2023-05-02T07:19:02.385Z"
   },
   {
    "duration": 10,
    "start_time": "2023-05-02T07:19:02.449Z"
   },
   {
    "duration": 57,
    "start_time": "2023-05-02T07:19:02.461Z"
   },
   {
    "duration": 16,
    "start_time": "2023-05-02T07:19:02.520Z"
   },
   {
    "duration": 29,
    "start_time": "2023-05-02T07:19:02.538Z"
   },
   {
    "duration": 42,
    "start_time": "2023-05-02T07:19:02.570Z"
   },
   {
    "duration": 7,
    "start_time": "2023-05-02T07:19:02.614Z"
   },
   {
    "duration": 126,
    "start_time": "2023-05-02T07:19:02.623Z"
   },
   {
    "duration": 89,
    "start_time": "2023-05-02T07:19:02.751Z"
   },
   {
    "duration": 5,
    "start_time": "2023-05-02T07:19:02.844Z"
   },
   {
    "duration": 38,
    "start_time": "2023-05-02T07:19:02.850Z"
   },
   {
    "duration": 30,
    "start_time": "2023-05-02T07:19:02.893Z"
   },
   {
    "duration": 27,
    "start_time": "2023-05-02T07:19:02.925Z"
   },
   {
    "duration": 19,
    "start_time": "2023-05-02T07:19:02.953Z"
   },
   {
    "duration": 20,
    "start_time": "2023-05-02T07:19:02.974Z"
   },
   {
    "duration": 12,
    "start_time": "2023-05-02T07:19:02.999Z"
   },
   {
    "duration": 18,
    "start_time": "2023-05-02T07:19:03.014Z"
   },
   {
    "duration": 14,
    "start_time": "2023-05-02T07:19:03.034Z"
   },
   {
    "duration": 30,
    "start_time": "2023-05-02T07:19:03.050Z"
   },
   {
    "duration": 27,
    "start_time": "2023-05-02T07:19:03.082Z"
   },
   {
    "duration": 36,
    "start_time": "2023-05-02T07:19:03.111Z"
   },
   {
    "duration": 20,
    "start_time": "2023-05-02T07:19:03.149Z"
   },
   {
    "duration": 1107,
    "start_time": "2023-05-02T07:25:24.157Z"
   },
   {
    "duration": 41,
    "start_time": "2023-05-02T07:25:41.331Z"
   },
   {
    "duration": 298,
    "start_time": "2023-05-02T07:25:57.334Z"
   },
   {
    "duration": 36,
    "start_time": "2023-05-02T07:27:21.541Z"
   },
   {
    "duration": 14,
    "start_time": "2023-05-02T07:27:27.754Z"
   },
   {
    "duration": 950,
    "start_time": "2023-05-02T07:27:47.840Z"
   },
   {
    "duration": 5,
    "start_time": "2023-05-02T07:28:23.707Z"
   },
   {
    "duration": 433,
    "start_time": "2023-05-02T07:28:30.011Z"
   },
   {
    "duration": 371,
    "start_time": "2023-05-02T07:29:04.644Z"
   },
   {
    "duration": 18349,
    "start_time": "2023-05-02T07:29:36.524Z"
   },
   {
    "duration": 35,
    "start_time": "2023-05-02T07:33:51.741Z"
   },
   {
    "duration": 18529,
    "start_time": "2023-05-02T07:33:52.041Z"
   },
   {
    "duration": 324,
    "start_time": "2023-05-02T07:35:56.143Z"
   },
   {
    "duration": 1950,
    "start_time": "2023-05-02T07:36:27.289Z"
   },
   {
    "duration": 9,
    "start_time": "2023-05-02T07:36:54.759Z"
   },
   {
    "duration": 18,
    "start_time": "2023-05-02T07:38:13.318Z"
   },
   {
    "duration": 577,
    "start_time": "2023-05-02T07:38:35.258Z"
   },
   {
    "duration": 303,
    "start_time": "2023-05-02T07:38:47.319Z"
   },
   {
    "duration": 610,
    "start_time": "2023-05-02T07:38:54.518Z"
   },
   {
    "duration": 1883,
    "start_time": "2023-05-02T07:39:03.311Z"
   },
   {
    "duration": 1635,
    "start_time": "2023-05-02T07:39:21.733Z"
   },
   {
    "duration": 245,
    "start_time": "2023-05-02T07:39:40.128Z"
   },
   {
    "duration": 121,
    "start_time": "2023-05-02T07:40:03.630Z"
   },
   {
    "duration": 650,
    "start_time": "2023-05-02T07:40:26.919Z"
   },
   {
    "duration": 598,
    "start_time": "2023-05-02T07:40:43.915Z"
   },
   {
    "duration": 98,
    "start_time": "2023-05-02T07:41:47.555Z"
   },
   {
    "duration": 697,
    "start_time": "2023-05-02T07:42:03.803Z"
   },
   {
    "duration": 654,
    "start_time": "2023-05-02T07:44:28.461Z"
   },
   {
    "duration": 538,
    "start_time": "2023-05-02T07:44:53.716Z"
   },
   {
    "duration": 421,
    "start_time": "2023-05-02T07:47:40.719Z"
   },
   {
    "duration": 299,
    "start_time": "2023-05-02T07:49:37.928Z"
   },
   {
    "duration": 462,
    "start_time": "2023-05-02T07:49:50.030Z"
   },
   {
    "duration": 487,
    "start_time": "2023-05-02T07:51:26.956Z"
   },
   {
    "duration": 461,
    "start_time": "2023-05-02T07:51:38.922Z"
   },
   {
    "duration": 569,
    "start_time": "2023-05-02T07:51:57.232Z"
   },
   {
    "duration": 80,
    "start_time": "2023-05-02T08:25:01.761Z"
   },
   {
    "duration": 1641,
    "start_time": "2023-05-02T08:25:37.242Z"
   },
   {
    "duration": 4,
    "start_time": "2023-05-02T08:25:38.885Z"
   },
   {
    "duration": 9,
    "start_time": "2023-05-02T08:25:38.892Z"
   },
   {
    "duration": 24,
    "start_time": "2023-05-02T08:25:38.904Z"
   },
   {
    "duration": 14,
    "start_time": "2023-05-02T08:25:38.930Z"
   },
   {
    "duration": 8,
    "start_time": "2023-05-02T08:25:38.948Z"
   },
   {
    "duration": 8,
    "start_time": "2023-05-02T08:25:38.959Z"
   },
   {
    "duration": 20,
    "start_time": "2023-05-02T08:25:38.972Z"
   },
   {
    "duration": 7,
    "start_time": "2023-05-02T08:25:38.994Z"
   },
   {
    "duration": 30,
    "start_time": "2023-05-02T08:25:39.005Z"
   },
   {
    "duration": 6,
    "start_time": "2023-05-02T08:25:39.040Z"
   },
   {
    "duration": 6,
    "start_time": "2023-05-02T08:25:39.048Z"
   },
   {
    "duration": 10,
    "start_time": "2023-05-02T08:25:39.057Z"
   },
   {
    "duration": 10,
    "start_time": "2023-05-02T08:25:39.069Z"
   },
   {
    "duration": 820,
    "start_time": "2023-05-02T08:25:39.084Z"
   },
   {
    "duration": 18,
    "start_time": "2023-05-02T08:25:39.910Z"
   },
   {
    "duration": 7,
    "start_time": "2023-05-02T08:25:39.931Z"
   },
   {
    "duration": 45,
    "start_time": "2023-05-02T08:25:39.942Z"
   },
   {
    "duration": 143,
    "start_time": "2023-05-02T08:25:39.990Z"
   },
   {
    "duration": 72,
    "start_time": "2023-05-02T08:25:40.136Z"
   },
   {
    "duration": 5,
    "start_time": "2023-05-02T08:25:40.210Z"
   },
   {
    "duration": 182,
    "start_time": "2023-05-02T08:25:40.217Z"
   },
   {
    "duration": 135,
    "start_time": "2023-05-02T08:25:40.404Z"
   },
   {
    "duration": 3,
    "start_time": "2023-05-02T08:25:40.542Z"
   },
   {
    "duration": 48,
    "start_time": "2023-05-02T08:25:40.547Z"
   },
   {
    "duration": 17,
    "start_time": "2023-05-02T08:25:40.598Z"
   },
   {
    "duration": 181,
    "start_time": "2023-05-02T08:25:40.618Z"
   },
   {
    "duration": 4,
    "start_time": "2023-05-02T08:25:40.806Z"
   },
   {
    "duration": 162,
    "start_time": "2023-05-02T08:25:40.813Z"
   },
   {
    "duration": 148,
    "start_time": "2023-05-02T08:25:40.977Z"
   },
   {
    "duration": 6,
    "start_time": "2023-05-02T08:25:41.128Z"
   },
   {
    "duration": 35,
    "start_time": "2023-05-02T08:25:41.136Z"
   },
   {
    "duration": 14,
    "start_time": "2023-05-02T08:25:41.173Z"
   },
   {
    "duration": 14,
    "start_time": "2023-05-02T08:25:41.192Z"
   },
   {
    "duration": 31,
    "start_time": "2023-05-02T08:25:41.210Z"
   },
   {
    "duration": 15827,
    "start_time": "2023-05-02T08:25:41.247Z"
   },
   {
    "duration": 45,
    "start_time": "2023-05-02T08:25:57.076Z"
   },
   {
    "duration": 325,
    "start_time": "2023-05-02T08:25:57.124Z"
   },
   {
    "duration": 1096,
    "start_time": "2023-05-02T08:25:57.451Z"
   },
   {
    "duration": 20,
    "start_time": "2023-05-02T08:25:58.551Z"
   },
   {
    "duration": 19,
    "start_time": "2023-05-02T08:25:58.576Z"
   },
   {
    "duration": 18,
    "start_time": "2023-05-02T08:25:58.605Z"
   },
   {
    "duration": 11,
    "start_time": "2023-05-02T08:25:58.632Z"
   },
   {
    "duration": 8,
    "start_time": "2023-05-02T08:25:58.648Z"
   },
   {
    "duration": 17,
    "start_time": "2023-05-02T08:25:58.661Z"
   },
   {
    "duration": 177,
    "start_time": "2023-05-02T08:25:58.680Z"
   },
   {
    "duration": 3,
    "start_time": "2023-05-02T08:25:58.859Z"
   },
   {
    "duration": 3,
    "start_time": "2023-05-02T08:25:58.865Z"
   },
   {
    "duration": 25,
    "start_time": "2023-05-02T08:25:58.870Z"
   },
   {
    "duration": 4,
    "start_time": "2023-05-02T08:25:58.897Z"
   },
   {
    "duration": 12,
    "start_time": "2023-05-02T08:25:58.903Z"
   },
   {
    "duration": 8,
    "start_time": "2023-05-02T08:25:58.917Z"
   },
   {
    "duration": 11,
    "start_time": "2023-05-02T08:25:58.927Z"
   },
   {
    "duration": 58,
    "start_time": "2023-05-02T08:25:58.941Z"
   },
   {
    "duration": 285,
    "start_time": "2023-05-02T08:25:59.002Z"
   },
   {
    "duration": 353,
    "start_time": "2023-05-02T08:25:59.290Z"
   },
   {
    "duration": 0,
    "start_time": "2023-05-02T08:25:59.646Z"
   },
   {
    "duration": 0,
    "start_time": "2023-05-02T08:25:59.648Z"
   },
   {
    "duration": 0,
    "start_time": "2023-05-02T08:25:59.649Z"
   },
   {
    "duration": 0,
    "start_time": "2023-05-02T08:25:59.651Z"
   },
   {
    "duration": 0,
    "start_time": "2023-05-02T08:25:59.653Z"
   },
   {
    "duration": 0,
    "start_time": "2023-05-02T08:25:59.654Z"
   },
   {
    "duration": 0,
    "start_time": "2023-05-02T08:25:59.656Z"
   },
   {
    "duration": 0,
    "start_time": "2023-05-02T08:25:59.657Z"
   },
   {
    "duration": 0,
    "start_time": "2023-05-02T08:25:59.660Z"
   },
   {
    "duration": 0,
    "start_time": "2023-05-02T08:25:59.664Z"
   },
   {
    "duration": 0,
    "start_time": "2023-05-02T08:25:59.666Z"
   },
   {
    "duration": 0,
    "start_time": "2023-05-02T08:25:59.667Z"
   },
   {
    "duration": 0,
    "start_time": "2023-05-02T08:25:59.670Z"
   },
   {
    "duration": 0,
    "start_time": "2023-05-02T08:25:59.672Z"
   },
   {
    "duration": 0,
    "start_time": "2023-05-02T08:25:59.674Z"
   },
   {
    "duration": 0,
    "start_time": "2023-05-02T08:25:59.676Z"
   },
   {
    "duration": 0,
    "start_time": "2023-05-02T08:25:59.677Z"
   },
   {
    "duration": 0,
    "start_time": "2023-05-02T08:25:59.679Z"
   },
   {
    "duration": 0,
    "start_time": "2023-05-02T08:25:59.681Z"
   },
   {
    "duration": 0,
    "start_time": "2023-05-02T08:25:59.682Z"
   },
   {
    "duration": 0,
    "start_time": "2023-05-02T08:25:59.684Z"
   },
   {
    "duration": 0,
    "start_time": "2023-05-02T08:25:59.686Z"
   },
   {
    "duration": 0,
    "start_time": "2023-05-02T08:25:59.687Z"
   },
   {
    "duration": 0,
    "start_time": "2023-05-02T08:25:59.689Z"
   },
   {
    "duration": 0,
    "start_time": "2023-05-02T08:25:59.690Z"
   },
   {
    "duration": 0,
    "start_time": "2023-05-02T08:25:59.692Z"
   },
   {
    "duration": 0,
    "start_time": "2023-05-02T08:25:59.694Z"
   },
   {
    "duration": 0,
    "start_time": "2023-05-02T08:25:59.696Z"
   },
   {
    "duration": 0,
    "start_time": "2023-05-02T08:25:59.698Z"
   },
   {
    "duration": 0,
    "start_time": "2023-05-02T08:25:59.700Z"
   },
   {
    "duration": 0,
    "start_time": "2023-05-02T08:25:59.701Z"
   },
   {
    "duration": 0,
    "start_time": "2023-05-02T08:25:59.703Z"
   },
   {
    "duration": 0,
    "start_time": "2023-05-02T08:25:59.704Z"
   },
   {
    "duration": 0,
    "start_time": "2023-05-02T08:25:59.706Z"
   },
   {
    "duration": 0,
    "start_time": "2023-05-02T08:25:59.707Z"
   },
   {
    "duration": 0,
    "start_time": "2023-05-02T08:25:59.709Z"
   },
   {
    "duration": 0,
    "start_time": "2023-05-02T08:25:59.711Z"
   },
   {
    "duration": 0,
    "start_time": "2023-05-02T08:25:59.712Z"
   },
   {
    "duration": 0,
    "start_time": "2023-05-02T08:25:59.714Z"
   },
   {
    "duration": 0,
    "start_time": "2023-05-02T08:25:59.716Z"
   },
   {
    "duration": 0,
    "start_time": "2023-05-02T08:25:59.718Z"
   },
   {
    "duration": 0,
    "start_time": "2023-05-02T08:25:59.720Z"
   },
   {
    "duration": 62,
    "start_time": "2023-05-02T08:29:50.406Z"
   },
   {
    "duration": 1679,
    "start_time": "2023-05-02T08:30:29.159Z"
   },
   {
    "duration": 9,
    "start_time": "2023-05-02T08:30:30.846Z"
   },
   {
    "duration": 64,
    "start_time": "2023-05-02T08:30:30.863Z"
   },
   {
    "duration": 18,
    "start_time": "2023-05-02T08:30:30.940Z"
   },
   {
    "duration": 35,
    "start_time": "2023-05-02T08:30:30.965Z"
   },
   {
    "duration": 25,
    "start_time": "2023-05-02T08:30:31.005Z"
   },
   {
    "duration": 45,
    "start_time": "2023-05-02T08:30:31.033Z"
   },
   {
    "duration": 54,
    "start_time": "2023-05-02T08:30:31.081Z"
   },
   {
    "duration": 104,
    "start_time": "2023-05-02T08:30:31.139Z"
   },
   {
    "duration": 52,
    "start_time": "2023-05-02T08:30:31.248Z"
   },
   {
    "duration": 40,
    "start_time": "2023-05-02T08:30:31.305Z"
   },
   {
    "duration": 34,
    "start_time": "2023-05-02T08:30:31.349Z"
   },
   {
    "duration": 27,
    "start_time": "2023-05-02T08:30:31.388Z"
   },
   {
    "duration": 31,
    "start_time": "2023-05-02T08:30:31.421Z"
   },
   {
    "duration": 304,
    "start_time": "2023-05-02T08:30:31.456Z"
   },
   {
    "duration": 23,
    "start_time": "2023-05-02T08:30:31.762Z"
   },
   {
    "duration": 14,
    "start_time": "2023-05-02T08:30:31.799Z"
   },
   {
    "duration": 56,
    "start_time": "2023-05-02T08:30:31.816Z"
   },
   {
    "duration": 156,
    "start_time": "2023-05-02T08:30:31.875Z"
   },
   {
    "duration": 82,
    "start_time": "2023-05-02T08:30:32.034Z"
   },
   {
    "duration": 3,
    "start_time": "2023-05-02T08:30:32.119Z"
   },
   {
    "duration": 207,
    "start_time": "2023-05-02T08:30:32.125Z"
   },
   {
    "duration": 184,
    "start_time": "2023-05-02T08:30:32.340Z"
   },
   {
    "duration": 5,
    "start_time": "2023-05-02T08:30:32.532Z"
   },
   {
    "duration": 67,
    "start_time": "2023-05-02T08:30:32.546Z"
   },
   {
    "duration": 24,
    "start_time": "2023-05-02T08:30:32.624Z"
   },
   {
    "duration": 193,
    "start_time": "2023-05-02T08:30:32.655Z"
   },
   {
    "duration": 6,
    "start_time": "2023-05-02T08:30:32.860Z"
   },
   {
    "duration": 169,
    "start_time": "2023-05-02T08:30:32.874Z"
   },
   {
    "duration": 144,
    "start_time": "2023-05-02T08:30:33.050Z"
   },
   {
    "duration": 5,
    "start_time": "2023-05-02T08:30:33.201Z"
   },
   {
    "duration": 55,
    "start_time": "2023-05-02T08:30:33.223Z"
   },
   {
    "duration": 12,
    "start_time": "2023-05-02T08:30:33.286Z"
   },
   {
    "duration": 15,
    "start_time": "2023-05-02T08:30:33.306Z"
   },
   {
    "duration": 37,
    "start_time": "2023-05-02T08:30:33.328Z"
   },
   {
    "duration": 19358,
    "start_time": "2023-05-02T08:30:33.375Z"
   },
   {
    "duration": 77,
    "start_time": "2023-05-02T08:30:52.736Z"
   },
   {
    "duration": 485,
    "start_time": "2023-05-02T08:30:52.820Z"
   },
   {
    "duration": 1112,
    "start_time": "2023-05-02T08:30:53.312Z"
   },
   {
    "duration": 26,
    "start_time": "2023-05-02T08:30:54.429Z"
   },
   {
    "duration": 5,
    "start_time": "2023-05-02T08:30:54.458Z"
   },
   {
    "duration": 10,
    "start_time": "2023-05-02T08:30:54.481Z"
   },
   {
    "duration": 22,
    "start_time": "2023-05-02T08:30:54.496Z"
   },
   {
    "duration": 17,
    "start_time": "2023-05-02T08:30:54.521Z"
   },
   {
    "duration": 28,
    "start_time": "2023-05-02T08:30:54.543Z"
   },
   {
    "duration": 189,
    "start_time": "2023-05-02T08:30:54.577Z"
   },
   {
    "duration": 3,
    "start_time": "2023-05-02T08:30:54.768Z"
   },
   {
    "duration": 13,
    "start_time": "2023-05-02T08:30:54.774Z"
   },
   {
    "duration": 18,
    "start_time": "2023-05-02T08:30:54.795Z"
   },
   {
    "duration": 8,
    "start_time": "2023-05-02T08:30:54.820Z"
   },
   {
    "duration": 15,
    "start_time": "2023-05-02T08:30:54.837Z"
   },
   {
    "duration": 5,
    "start_time": "2023-05-02T08:30:54.859Z"
   },
   {
    "duration": 12,
    "start_time": "2023-05-02T08:30:54.871Z"
   },
   {
    "duration": 66,
    "start_time": "2023-05-02T08:30:54.892Z"
   },
   {
    "duration": 326,
    "start_time": "2023-05-02T08:30:54.966Z"
   },
   {
    "duration": 57,
    "start_time": "2023-05-02T08:30:55.299Z"
   },
   {
    "duration": 2090,
    "start_time": "2023-05-02T08:30:55.362Z"
   },
   {
    "duration": 14,
    "start_time": "2023-05-02T08:30:57.458Z"
   },
   {
    "duration": 49,
    "start_time": "2023-05-02T08:30:57.478Z"
   },
   {
    "duration": 20,
    "start_time": "2023-05-02T08:30:57.537Z"
   },
   {
    "duration": 46,
    "start_time": "2023-05-02T08:30:57.572Z"
   },
   {
    "duration": 40,
    "start_time": "2023-05-02T08:30:57.625Z"
   },
   {
    "duration": 43,
    "start_time": "2023-05-02T08:30:57.674Z"
   },
   {
    "duration": 38,
    "start_time": "2023-05-02T08:30:57.728Z"
   },
   {
    "duration": 48,
    "start_time": "2023-05-02T08:30:57.774Z"
   },
   {
    "duration": 5,
    "start_time": "2023-05-02T08:30:57.825Z"
   },
   {
    "duration": 51,
    "start_time": "2023-05-02T08:30:57.833Z"
   },
   {
    "duration": 7,
    "start_time": "2023-05-02T08:30:57.888Z"
   },
   {
    "duration": 64,
    "start_time": "2023-05-02T08:30:57.899Z"
   },
   {
    "duration": 23,
    "start_time": "2023-05-02T08:30:57.980Z"
   },
   {
    "duration": 24,
    "start_time": "2023-05-02T08:30:58.023Z"
   },
   {
    "duration": 15,
    "start_time": "2023-05-02T08:30:58.064Z"
   },
   {
    "duration": 53,
    "start_time": "2023-05-02T08:30:58.099Z"
   },
   {
    "duration": 23,
    "start_time": "2023-05-02T08:30:58.168Z"
   },
   {
    "duration": 15,
    "start_time": "2023-05-02T08:30:58.204Z"
   },
   {
    "duration": 44,
    "start_time": "2023-05-02T08:30:58.235Z"
   },
   {
    "duration": 104,
    "start_time": "2023-05-02T08:30:58.287Z"
   },
   {
    "duration": 7,
    "start_time": "2023-05-02T08:30:58.394Z"
   },
   {
    "duration": 52,
    "start_time": "2023-05-02T08:30:58.403Z"
   },
   {
    "duration": 33,
    "start_time": "2023-05-02T08:30:58.460Z"
   },
   {
    "duration": 17,
    "start_time": "2023-05-02T08:30:58.500Z"
   },
   {
    "duration": 30,
    "start_time": "2023-05-02T08:30:58.528Z"
   },
   {
    "duration": 21,
    "start_time": "2023-05-02T08:30:58.565Z"
   },
   {
    "duration": 272,
    "start_time": "2023-05-02T08:30:58.597Z"
   },
   {
    "duration": 119,
    "start_time": "2023-05-02T08:30:58.877Z"
   },
   {
    "duration": 6,
    "start_time": "2023-05-02T08:30:58.998Z"
   },
   {
    "duration": 10,
    "start_time": "2023-05-02T08:30:59.005Z"
   },
   {
    "duration": 17,
    "start_time": "2023-05-02T08:30:59.020Z"
   },
   {
    "duration": 18,
    "start_time": "2023-05-02T08:30:59.039Z"
   },
   {
    "duration": 9,
    "start_time": "2023-05-02T08:30:59.060Z"
   },
   {
    "duration": 15,
    "start_time": "2023-05-02T08:30:59.073Z"
   },
   {
    "duration": 13,
    "start_time": "2023-05-02T08:30:59.091Z"
   },
   {
    "duration": 16,
    "start_time": "2023-05-02T08:30:59.107Z"
   },
   {
    "duration": 14,
    "start_time": "2023-05-02T08:30:59.125Z"
   },
   {
    "duration": 36,
    "start_time": "2023-05-02T08:30:59.142Z"
   },
   {
    "duration": 10,
    "start_time": "2023-05-02T08:30:59.181Z"
   },
   {
    "duration": 10,
    "start_time": "2023-05-02T08:30:59.193Z"
   },
   {
    "duration": 9,
    "start_time": "2023-05-02T08:30:59.205Z"
   },
   {
    "duration": 356,
    "start_time": "2023-05-02T08:57:27.080Z"
   },
   {
    "duration": 695,
    "start_time": "2023-05-02T08:57:33.621Z"
   },
   {
    "duration": 17,
    "start_time": "2023-05-02T08:58:44.198Z"
   },
   {
    "duration": 14,
    "start_time": "2023-05-02T08:58:59.222Z"
   },
   {
    "duration": 608,
    "start_time": "2023-05-02T08:59:08.838Z"
   },
   {
    "duration": 50,
    "start_time": "2023-05-02T20:50:54.433Z"
   },
   {
    "duration": 1110,
    "start_time": "2023-05-02T20:51:05.852Z"
   },
   {
    "duration": 3,
    "start_time": "2023-05-02T20:51:06.964Z"
   },
   {
    "duration": 20,
    "start_time": "2023-05-02T20:51:06.968Z"
   },
   {
    "duration": 17,
    "start_time": "2023-05-02T20:51:06.990Z"
   },
   {
    "duration": 16,
    "start_time": "2023-05-02T20:51:07.009Z"
   },
   {
    "duration": 20,
    "start_time": "2023-05-02T20:51:07.027Z"
   },
   {
    "duration": 14,
    "start_time": "2023-05-02T20:51:07.049Z"
   },
   {
    "duration": 13,
    "start_time": "2023-05-02T20:51:07.065Z"
   },
   {
    "duration": 19,
    "start_time": "2023-05-02T20:51:07.079Z"
   },
   {
    "duration": 15,
    "start_time": "2023-05-02T20:51:07.101Z"
   },
   {
    "duration": 14,
    "start_time": "2023-05-02T20:51:07.117Z"
   },
   {
    "duration": 24,
    "start_time": "2023-05-02T20:51:07.133Z"
   },
   {
    "duration": 9,
    "start_time": "2023-05-02T20:51:07.159Z"
   },
   {
    "duration": 23,
    "start_time": "2023-05-02T20:51:07.170Z"
   },
   {
    "duration": 167,
    "start_time": "2023-05-02T20:51:07.195Z"
   },
   {
    "duration": 12,
    "start_time": "2023-05-02T20:51:07.363Z"
   },
   {
    "duration": 17,
    "start_time": "2023-05-02T20:51:07.377Z"
   },
   {
    "duration": 27,
    "start_time": "2023-05-02T20:51:07.396Z"
   },
   {
    "duration": 85,
    "start_time": "2023-05-02T20:51:07.425Z"
   },
   {
    "duration": 38,
    "start_time": "2023-05-02T20:51:07.512Z"
   },
   {
    "duration": 3,
    "start_time": "2023-05-02T20:51:07.552Z"
   },
   {
    "duration": 117,
    "start_time": "2023-05-02T20:51:07.557Z"
   },
   {
    "duration": 96,
    "start_time": "2023-05-02T20:51:07.675Z"
   },
   {
    "duration": 3,
    "start_time": "2023-05-02T20:51:07.773Z"
   },
   {
    "duration": 31,
    "start_time": "2023-05-02T20:51:07.778Z"
   },
   {
    "duration": 10,
    "start_time": "2023-05-02T20:51:07.811Z"
   },
   {
    "duration": 108,
    "start_time": "2023-05-02T20:51:07.823Z"
   },
   {
    "duration": 2,
    "start_time": "2023-05-02T20:51:07.935Z"
   },
   {
    "duration": 98,
    "start_time": "2023-05-02T20:51:07.939Z"
   },
   {
    "duration": 85,
    "start_time": "2023-05-02T20:51:08.039Z"
   },
   {
    "duration": 3,
    "start_time": "2023-05-02T20:51:08.126Z"
   },
   {
    "duration": 30,
    "start_time": "2023-05-02T20:51:08.130Z"
   },
   {
    "duration": 17,
    "start_time": "2023-05-02T20:51:08.163Z"
   },
   {
    "duration": 24,
    "start_time": "2023-05-02T20:51:08.182Z"
   },
   {
    "duration": 37,
    "start_time": "2023-05-02T20:51:08.208Z"
   },
   {
    "duration": 10675,
    "start_time": "2023-05-02T20:51:08.247Z"
   },
   {
    "duration": 36,
    "start_time": "2023-05-02T20:51:18.923Z"
   },
   {
    "duration": 258,
    "start_time": "2023-05-02T20:51:18.962Z"
   },
   {
    "duration": 653,
    "start_time": "2023-05-02T20:51:19.222Z"
   },
   {
    "duration": 23,
    "start_time": "2023-05-02T20:51:19.877Z"
   },
   {
    "duration": 4,
    "start_time": "2023-05-02T20:51:19.902Z"
   },
   {
    "duration": 7,
    "start_time": "2023-05-02T20:51:19.908Z"
   },
   {
    "duration": 4,
    "start_time": "2023-05-02T20:51:19.916Z"
   },
   {
    "duration": 3,
    "start_time": "2023-05-02T20:51:19.922Z"
   },
   {
    "duration": 7,
    "start_time": "2023-05-02T20:51:19.927Z"
   },
   {
    "duration": 128,
    "start_time": "2023-05-02T20:51:19.935Z"
   },
   {
    "duration": 3,
    "start_time": "2023-05-02T20:51:20.065Z"
   },
   {
    "duration": 4,
    "start_time": "2023-05-02T20:51:20.069Z"
   },
   {
    "duration": 18,
    "start_time": "2023-05-02T20:51:20.075Z"
   },
   {
    "duration": 2,
    "start_time": "2023-05-02T20:51:20.095Z"
   },
   {
    "duration": 7,
    "start_time": "2023-05-02T20:51:20.099Z"
   },
   {
    "duration": 4,
    "start_time": "2023-05-02T20:51:20.107Z"
   },
   {
    "duration": 7,
    "start_time": "2023-05-02T20:51:20.113Z"
   },
   {
    "duration": 33,
    "start_time": "2023-05-02T20:51:20.121Z"
   },
   {
    "duration": 202,
    "start_time": "2023-05-02T20:51:20.155Z"
   },
   {
    "duration": 1411,
    "start_time": "2023-05-02T20:51:20.359Z"
   },
   {
    "duration": 8,
    "start_time": "2023-05-02T20:51:21.773Z"
   },
   {
    "duration": 28,
    "start_time": "2023-05-02T20:51:21.794Z"
   },
   {
    "duration": 8,
    "start_time": "2023-05-02T20:51:21.825Z"
   },
   {
    "duration": 32,
    "start_time": "2023-05-02T20:51:21.834Z"
   },
   {
    "duration": 41,
    "start_time": "2023-05-02T20:51:21.868Z"
   },
   {
    "duration": 23,
    "start_time": "2023-05-02T20:51:21.911Z"
   },
   {
    "duration": 24,
    "start_time": "2023-05-02T20:51:21.936Z"
   },
   {
    "duration": 60,
    "start_time": "2023-05-02T20:51:21.962Z"
   },
   {
    "duration": 2,
    "start_time": "2023-05-02T20:51:22.024Z"
   },
   {
    "duration": 43,
    "start_time": "2023-05-02T20:51:22.028Z"
   },
   {
    "duration": 2,
    "start_time": "2023-05-02T20:51:22.073Z"
   },
   {
    "duration": 26,
    "start_time": "2023-05-02T20:51:22.076Z"
   },
   {
    "duration": 3,
    "start_time": "2023-05-02T20:51:22.104Z"
   },
   {
    "duration": 8,
    "start_time": "2023-05-02T20:51:22.109Z"
   },
   {
    "duration": 5,
    "start_time": "2023-05-02T20:51:22.118Z"
   },
   {
    "duration": 30,
    "start_time": "2023-05-02T20:51:22.124Z"
   },
   {
    "duration": 5,
    "start_time": "2023-05-02T20:51:22.156Z"
   },
   {
    "duration": 7,
    "start_time": "2023-05-02T20:51:22.163Z"
   },
   {
    "duration": 6,
    "start_time": "2023-05-02T20:51:22.171Z"
   },
   {
    "duration": 28,
    "start_time": "2023-05-02T20:51:22.194Z"
   },
   {
    "duration": 5,
    "start_time": "2023-05-02T20:51:22.223Z"
   },
   {
    "duration": 37,
    "start_time": "2023-05-02T20:51:22.229Z"
   },
   {
    "duration": 29,
    "start_time": "2023-05-02T20:51:22.268Z"
   },
   {
    "duration": 11,
    "start_time": "2023-05-02T20:51:22.298Z"
   },
   {
    "duration": 18,
    "start_time": "2023-05-02T20:51:22.310Z"
   },
   {
    "duration": 8,
    "start_time": "2023-05-02T20:51:22.335Z"
   },
   {
    "duration": 126,
    "start_time": "2023-05-02T20:51:22.345Z"
   },
   {
    "duration": 68,
    "start_time": "2023-05-02T20:51:22.473Z"
   },
   {
    "duration": 5,
    "start_time": "2023-05-02T20:51:22.543Z"
   },
   {
    "duration": 8,
    "start_time": "2023-05-02T20:51:22.550Z"
   },
   {
    "duration": 7,
    "start_time": "2023-05-02T20:51:22.560Z"
   },
   {
    "duration": 29,
    "start_time": "2023-05-02T20:51:22.568Z"
   },
   {
    "duration": 11,
    "start_time": "2023-05-02T20:51:22.599Z"
   },
   {
    "duration": 9,
    "start_time": "2023-05-02T20:51:22.611Z"
   },
   {
    "duration": 21,
    "start_time": "2023-05-02T20:51:22.622Z"
   },
   {
    "duration": 8,
    "start_time": "2023-05-02T20:51:22.645Z"
   },
   {
    "duration": 7,
    "start_time": "2023-05-02T20:51:22.654Z"
   },
   {
    "duration": 30,
    "start_time": "2023-05-02T20:51:22.663Z"
   },
   {
    "duration": 5,
    "start_time": "2023-05-02T20:51:22.695Z"
   },
   {
    "duration": 8,
    "start_time": "2023-05-02T20:51:22.702Z"
   },
   {
    "duration": 7,
    "start_time": "2023-05-02T20:51:22.712Z"
   },
   {
    "duration": 10999,
    "start_time": "2023-05-02T20:51:46.116Z"
   },
   {
    "duration": 11815,
    "start_time": "2023-05-02T20:52:26.188Z"
   },
   {
    "duration": 5,
    "start_time": "2023-05-02T20:57:07.351Z"
   },
   {
    "duration": 54,
    "start_time": "2023-05-03T11:12:23.520Z"
   },
   {
    "duration": 1353,
    "start_time": "2023-05-03T11:12:33.897Z"
   },
   {
    "duration": 3,
    "start_time": "2023-05-03T11:12:35.254Z"
   },
   {
    "duration": 4,
    "start_time": "2023-05-03T11:12:35.511Z"
   },
   {
    "duration": 3,
    "start_time": "2023-05-03T11:12:35.924Z"
   },
   {
    "duration": 4,
    "start_time": "2023-05-03T11:12:36.716Z"
   },
   {
    "duration": 3,
    "start_time": "2023-05-03T11:12:37.250Z"
   },
   {
    "duration": 3,
    "start_time": "2023-05-03T11:12:37.765Z"
   },
   {
    "duration": 3,
    "start_time": "2023-05-03T11:12:38.246Z"
   },
   {
    "duration": 4,
    "start_time": "2023-05-03T11:12:46.807Z"
   },
   {
    "duration": 4,
    "start_time": "2023-05-03T11:12:47.361Z"
   },
   {
    "duration": 4,
    "start_time": "2023-05-03T11:12:47.741Z"
   },
   {
    "duration": 4,
    "start_time": "2023-05-03T11:12:48.123Z"
   },
   {
    "duration": 4,
    "start_time": "2023-05-03T11:12:48.535Z"
   },
   {
    "duration": 8,
    "start_time": "2023-05-03T11:12:49.608Z"
   },
   {
    "duration": 525,
    "start_time": "2023-05-03T11:12:50.818Z"
   },
   {
    "duration": 16,
    "start_time": "2023-05-03T11:12:51.345Z"
   },
   {
    "duration": 6,
    "start_time": "2023-05-03T11:12:52.806Z"
   },
   {
    "duration": 12,
    "start_time": "2023-05-03T11:13:06.294Z"
   },
   {
    "duration": 29,
    "start_time": "2023-05-03T11:13:09.209Z"
   },
   {
    "duration": 113,
    "start_time": "2023-05-03T11:13:10.865Z"
   },
   {
    "duration": 44,
    "start_time": "2023-05-03T11:13:11.841Z"
   },
   {
    "duration": 4,
    "start_time": "2023-05-03T11:13:15.711Z"
   },
   {
    "duration": 181,
    "start_time": "2023-05-03T11:13:16.822Z"
   },
   {
    "duration": 6,
    "start_time": "2023-05-03T11:13:17.303Z"
   },
   {
    "duration": 116,
    "start_time": "2023-05-03T11:13:28.421Z"
   },
   {
    "duration": 4,
    "start_time": "2023-05-03T11:13:32.832Z"
   },
   {
    "duration": 23,
    "start_time": "2023-05-03T11:13:35.133Z"
   },
   {
    "duration": 14,
    "start_time": "2023-05-03T11:13:35.554Z"
   },
   {
    "duration": 118,
    "start_time": "2023-05-03T11:13:37.807Z"
   },
   {
    "duration": 20,
    "start_time": "2023-05-03T11:13:46.244Z"
   },
   {
    "duration": 24,
    "start_time": "2023-05-03T11:14:03.081Z"
   },
   {
    "duration": 16,
    "start_time": "2023-05-03T11:14:17.962Z"
   },
   {
    "duration": 19,
    "start_time": "2023-05-03T11:14:21.662Z"
   },
   {
    "duration": 3,
    "start_time": "2023-05-03T11:14:53.036Z"
   },
   {
    "duration": 164,
    "start_time": "2023-05-03T11:14:53.608Z"
   },
   {
    "duration": 152,
    "start_time": "2023-05-03T11:14:54.008Z"
   },
   {
    "duration": 3,
    "start_time": "2023-05-03T11:14:54.452Z"
   },
   {
    "duration": 21,
    "start_time": "2023-05-03T11:14:54.891Z"
   },
   {
    "duration": 9,
    "start_time": "2023-05-03T11:14:55.458Z"
   },
   {
    "duration": 11,
    "start_time": "2023-05-03T11:14:55.906Z"
   },
   {
    "duration": 17,
    "start_time": "2023-05-03T11:15:44.803Z"
   },
   {
    "duration": 32,
    "start_time": "2023-05-03T11:21:10.251Z"
   },
   {
    "duration": 12260,
    "start_time": "2023-05-03T11:21:10.711Z"
   },
   {
    "duration": 451,
    "start_time": "2023-05-03T11:21:31.389Z"
   },
   {
    "duration": 206,
    "start_time": "2023-05-03T11:21:38.852Z"
   },
   {
    "duration": 33,
    "start_time": "2023-05-03T11:22:59.330Z"
   },
   {
    "duration": 23,
    "start_time": "2023-05-03T11:22:59.789Z"
   },
   {
    "duration": 23,
    "start_time": "2023-05-03T11:23:00.612Z"
   },
   {
    "duration": 13460,
    "start_time": "2023-05-03T11:23:00.856Z"
   },
   {
    "duration": 42,
    "start_time": "2023-05-03T11:23:14.321Z"
   },
   {
    "duration": 271,
    "start_time": "2023-05-03T11:23:14.365Z"
   },
   {
    "duration": 683,
    "start_time": "2023-05-03T11:23:14.641Z"
   },
   {
    "duration": 20,
    "start_time": "2023-05-03T11:23:23.589Z"
   },
   {
    "duration": 5,
    "start_time": "2023-05-03T11:23:28.490Z"
   },
   {
    "duration": 5,
    "start_time": "2023-05-03T11:23:37.560Z"
   },
   {
    "duration": 4,
    "start_time": "2023-05-03T11:23:38.436Z"
   },
   {
    "duration": 3,
    "start_time": "2023-05-03T11:23:39.030Z"
   },
   {
    "duration": 67,
    "start_time": "2023-05-03T11:33:33.450Z"
   },
   {
    "duration": 5,
    "start_time": "2023-05-03T11:34:00.986Z"
   },
   {
    "duration": 4,
    "start_time": "2023-05-03T11:34:02.608Z"
   },
   {
    "duration": 172,
    "start_time": "2023-05-03T11:34:03.333Z"
   },
   {
    "duration": 4,
    "start_time": "2023-05-03T11:34:03.720Z"
   },
   {
    "duration": 4,
    "start_time": "2023-05-03T11:34:04.052Z"
   },
   {
    "duration": 7,
    "start_time": "2023-05-03T11:34:04.382Z"
   },
   {
    "duration": 4,
    "start_time": "2023-05-03T11:34:05.213Z"
   },
   {
    "duration": 189,
    "start_time": "2023-05-03T11:34:05.219Z"
   },
   {
    "duration": 4,
    "start_time": "2023-05-03T11:34:05.723Z"
   },
   {
    "duration": 4,
    "start_time": "2023-05-03T11:34:06.164Z"
   },
   {
    "duration": 39,
    "start_time": "2023-05-03T11:34:06.616Z"
   },
   {
    "duration": 278,
    "start_time": "2023-05-03T11:34:07.317Z"
   },
   {
    "duration": 1815,
    "start_time": "2023-05-03T11:34:08.526Z"
   },
   {
    "duration": 7,
    "start_time": "2023-05-03T11:34:11.020Z"
   },
   {
    "duration": 25,
    "start_time": "2023-05-03T11:34:12.631Z"
   },
   {
    "duration": 8,
    "start_time": "2023-05-03T11:34:13.241Z"
   },
   {
    "duration": 10,
    "start_time": "2023-05-03T11:37:08.419Z"
   },
   {
    "duration": 12,
    "start_time": "2023-05-03T11:37:50.824Z"
   },
   {
    "duration": 8,
    "start_time": "2023-05-03T11:40:16.521Z"
   },
   {
    "duration": 4,
    "start_time": "2023-05-03T11:40:18.319Z"
   },
   {
    "duration": 5,
    "start_time": "2023-05-03T11:40:58.429Z"
   },
   {
    "duration": 3,
    "start_time": "2023-05-03T11:41:45.418Z"
   },
   {
    "duration": 4,
    "start_time": "2023-05-03T11:41:47.355Z"
   },
   {
    "duration": 4,
    "start_time": "2023-05-03T11:42:25.434Z"
   },
   {
    "duration": 10,
    "start_time": "2023-05-03T11:45:52.114Z"
   },
   {
    "duration": 3,
    "start_time": "2023-05-03T11:46:04.015Z"
   },
   {
    "duration": 12,
    "start_time": "2023-05-03T11:46:06.016Z"
   },
   {
    "duration": 3,
    "start_time": "2023-05-03T11:46:16.209Z"
   },
   {
    "duration": 3,
    "start_time": "2023-05-03T11:46:50.404Z"
   },
   {
    "duration": 7,
    "start_time": "2023-05-03T11:46:52.258Z"
   },
   {
    "duration": 34,
    "start_time": "2023-05-03T11:49:55.614Z"
   },
   {
    "duration": 239,
    "start_time": "2023-05-03T11:49:57.067Z"
   },
   {
    "duration": 444,
    "start_time": "2023-05-03T11:49:58.560Z"
   },
   {
    "duration": 6,
    "start_time": "2023-05-03T11:50:00.315Z"
   },
   {
    "duration": 28,
    "start_time": "2023-05-03T11:50:02.116Z"
   },
   {
    "duration": 8,
    "start_time": "2023-05-03T11:50:02.667Z"
   },
   {
    "duration": 17,
    "start_time": "2023-05-03T11:50:14.608Z"
   },
   {
    "duration": 4,
    "start_time": "2023-05-03T11:52:08.768Z"
   },
   {
    "duration": 5,
    "start_time": "2023-05-03T11:52:21.817Z"
   },
   {
    "duration": 33,
    "start_time": "2023-05-03T11:53:10.316Z"
   },
   {
    "duration": 40,
    "start_time": "2023-05-03T11:53:24.317Z"
   },
   {
    "duration": 37,
    "start_time": "2023-05-03T11:53:37.394Z"
   },
   {
    "duration": 39,
    "start_time": "2023-05-03T11:53:45.337Z"
   },
   {
    "duration": 38,
    "start_time": "2023-05-03T11:53:57.203Z"
   },
   {
    "duration": 11,
    "start_time": "2023-05-03T11:55:08.375Z"
   },
   {
    "duration": 42,
    "start_time": "2023-05-03T11:55:20.742Z"
   },
   {
    "duration": 37,
    "start_time": "2023-05-03T11:57:01.847Z"
   },
   {
    "duration": 33,
    "start_time": "2023-05-03T11:58:45.157Z"
   },
   {
    "duration": 9,
    "start_time": "2023-05-03T11:58:52.754Z"
   },
   {
    "duration": 38,
    "start_time": "2023-05-03T12:09:17.439Z"
   },
   {
    "duration": 26,
    "start_time": "2023-05-03T12:09:17.856Z"
   },
   {
    "duration": 23,
    "start_time": "2023-05-03T12:09:20.003Z"
   },
   {
    "duration": 24,
    "start_time": "2023-05-03T12:09:20.259Z"
   },
   {
    "duration": 22,
    "start_time": "2023-05-03T12:09:20.480Z"
   },
   {
    "duration": 49,
    "start_time": "2023-05-03T12:09:20.710Z"
   },
   {
    "duration": 4,
    "start_time": "2023-05-03T12:09:20.911Z"
   },
   {
    "duration": 33,
    "start_time": "2023-05-03T12:09:21.024Z"
   },
   {
    "duration": 3,
    "start_time": "2023-05-03T12:09:21.562Z"
   },
   {
    "duration": 22,
    "start_time": "2023-05-03T12:09:22.014Z"
   },
   {
    "duration": 6,
    "start_time": "2023-05-03T12:09:22.732Z"
   },
   {
    "duration": 8,
    "start_time": "2023-05-03T12:09:24.119Z"
   },
   {
    "duration": 9,
    "start_time": "2023-05-03T12:10:06.627Z"
   },
   {
    "duration": 43,
    "start_time": "2023-05-03T12:17:59.141Z"
   },
   {
    "duration": 30,
    "start_time": "2023-05-03T12:18:33.661Z"
   },
   {
    "duration": 16,
    "start_time": "2023-05-03T12:19:04.849Z"
   },
   {
    "duration": 13,
    "start_time": "2023-05-03T12:22:19.704Z"
   },
   {
    "duration": 27,
    "start_time": "2023-05-03T12:22:27.608Z"
   },
   {
    "duration": 4,
    "start_time": "2023-05-03T12:23:50.440Z"
   },
   {
    "duration": 5,
    "start_time": "2023-05-03T12:23:55.350Z"
   },
   {
    "duration": 7,
    "start_time": "2023-05-03T12:25:59.214Z"
   },
   {
    "duration": 21,
    "start_time": "2023-05-03T12:31:47.088Z"
   },
   {
    "duration": 72,
    "start_time": "2023-05-03T12:32:48.098Z"
   },
   {
    "duration": 19,
    "start_time": "2023-05-03T12:32:53.985Z"
   },
   {
    "duration": 54,
    "start_time": "2023-05-03T12:37:18.104Z"
   },
   {
    "duration": 14,
    "start_time": "2023-05-03T12:37:19.843Z"
   },
   {
    "duration": 72,
    "start_time": "2023-05-03T12:38:21.634Z"
   },
   {
    "duration": 18,
    "start_time": "2023-05-03T12:38:23.694Z"
   },
   {
    "duration": 54,
    "start_time": "2023-05-03T12:38:44.591Z"
   },
   {
    "duration": 13,
    "start_time": "2023-05-03T12:38:46.525Z"
   },
   {
    "duration": 17,
    "start_time": "2023-05-03T12:39:47.506Z"
   },
   {
    "duration": 11,
    "start_time": "2023-05-03T12:39:54.892Z"
   },
   {
    "duration": 13,
    "start_time": "2023-05-03T12:40:10.702Z"
   },
   {
    "duration": 44,
    "start_time": "2023-05-03T12:40:22.403Z"
   },
   {
    "duration": 12,
    "start_time": "2023-05-03T12:40:24.848Z"
   },
   {
    "duration": 51,
    "start_time": "2023-05-03T12:40:54.958Z"
   },
   {
    "duration": 14,
    "start_time": "2023-05-03T12:40:58.043Z"
   },
   {
    "duration": 17,
    "start_time": "2023-05-03T12:41:07.251Z"
   },
   {
    "duration": 54,
    "start_time": "2023-05-03T12:42:01.520Z"
   },
   {
    "duration": 13,
    "start_time": "2023-05-03T12:42:02.852Z"
   },
   {
    "duration": 9,
    "start_time": "2023-05-03T12:42:28.878Z"
   },
   {
    "duration": 8,
    "start_time": "2023-05-03T12:42:36.325Z"
   },
   {
    "duration": 11,
    "start_time": "2023-05-03T12:43:00.799Z"
   },
   {
    "duration": 9,
    "start_time": "2023-05-03T12:43:02.341Z"
   },
   {
    "duration": 53,
    "start_time": "2023-05-03T12:43:37.761Z"
   },
   {
    "duration": 51,
    "start_time": "2023-05-03T12:43:38.172Z"
   },
   {
    "duration": 9,
    "start_time": "2023-05-03T12:43:39.998Z"
   },
   {
    "duration": 8,
    "start_time": "2023-05-03T12:43:40.429Z"
   },
   {
    "duration": 30,
    "start_time": "2023-05-03T12:44:19.804Z"
   },
   {
    "duration": 9,
    "start_time": "2023-05-03T12:44:20.313Z"
   },
   {
    "duration": 26,
    "start_time": "2023-05-03T12:44:21.338Z"
   },
   {
    "duration": 22,
    "start_time": "2023-05-03T12:44:21.943Z"
   },
   {
    "duration": 24,
    "start_time": "2023-05-03T12:44:22.319Z"
   },
   {
    "duration": 26,
    "start_time": "2023-05-03T12:44:22.554Z"
   },
   {
    "duration": 44,
    "start_time": "2023-05-03T12:44:22.831Z"
   },
   {
    "duration": 4,
    "start_time": "2023-05-03T12:44:23.212Z"
   },
   {
    "duration": 27,
    "start_time": "2023-05-03T12:44:23.699Z"
   },
   {
    "duration": 3,
    "start_time": "2023-05-03T12:44:23.971Z"
   },
   {
    "duration": 21,
    "start_time": "2023-05-03T12:44:24.198Z"
   },
   {
    "duration": 5,
    "start_time": "2023-05-03T12:44:24.687Z"
   },
   {
    "duration": 8,
    "start_time": "2023-05-03T12:44:25.997Z"
   },
   {
    "duration": 5,
    "start_time": "2023-05-03T12:44:37.543Z"
   },
   {
    "duration": 5,
    "start_time": "2023-05-03T12:44:53.762Z"
   },
   {
    "duration": 9,
    "start_time": "2023-05-03T12:45:16.997Z"
   },
   {
    "duration": 26,
    "start_time": "2023-05-03T12:45:54.799Z"
   },
   {
    "duration": 32,
    "start_time": "2023-05-03T12:45:55.999Z"
   },
   {
    "duration": 7,
    "start_time": "2023-05-03T12:45:56.308Z"
   },
   {
    "duration": 5,
    "start_time": "2023-05-03T12:45:56.659Z"
   },
   {
    "duration": 6,
    "start_time": "2023-05-03T12:45:57.860Z"
   },
   {
    "duration": 40,
    "start_time": "2023-05-03T12:45:59.539Z"
   },
   {
    "duration": 6,
    "start_time": "2023-05-03T12:45:59.898Z"
   },
   {
    "duration": 30,
    "start_time": "2023-05-03T12:46:01.739Z"
   },
   {
    "duration": 19,
    "start_time": "2023-05-03T12:46:02.562Z"
   },
   {
    "duration": 18,
    "start_time": "2023-05-03T12:46:05.600Z"
   },
   {
    "duration": 25,
    "start_time": "2023-05-03T12:46:05.998Z"
   },
   {
    "duration": 7,
    "start_time": "2023-05-03T12:46:06.360Z"
   },
   {
    "duration": 8,
    "start_time": "2023-05-03T13:01:12.811Z"
   },
   {
    "duration": 166,
    "start_time": "2023-05-03T13:04:54.615Z"
   },
   {
    "duration": 13,
    "start_time": "2023-05-03T13:05:03.312Z"
   },
   {
    "duration": 4,
    "start_time": "2023-05-03T13:05:18.584Z"
   },
   {
    "duration": 1289,
    "start_time": "2023-05-03T13:05:42.167Z"
   },
   {
    "duration": 3,
    "start_time": "2023-05-03T13:05:43.459Z"
   },
   {
    "duration": 10,
    "start_time": "2023-05-03T13:05:43.464Z"
   },
   {
    "duration": 11,
    "start_time": "2023-05-03T13:05:43.476Z"
   },
   {
    "duration": 7,
    "start_time": "2023-05-03T13:05:43.489Z"
   },
   {
    "duration": 11,
    "start_time": "2023-05-03T13:05:43.498Z"
   },
   {
    "duration": 17,
    "start_time": "2023-05-03T13:05:43.511Z"
   },
   {
    "duration": 34,
    "start_time": "2023-05-03T13:05:43.530Z"
   },
   {
    "duration": 27,
    "start_time": "2023-05-03T13:05:43.566Z"
   },
   {
    "duration": 12,
    "start_time": "2023-05-03T13:05:43.596Z"
   },
   {
    "duration": 48,
    "start_time": "2023-05-03T13:05:43.610Z"
   },
   {
    "duration": 25,
    "start_time": "2023-05-03T13:05:43.660Z"
   },
   {
    "duration": 18,
    "start_time": "2023-05-03T13:05:43.687Z"
   },
   {
    "duration": 19,
    "start_time": "2023-05-03T13:05:43.707Z"
   },
   {
    "duration": 227,
    "start_time": "2023-05-03T13:05:43.728Z"
   },
   {
    "duration": 13,
    "start_time": "2023-05-03T13:05:43.957Z"
   },
   {
    "duration": 34,
    "start_time": "2023-05-03T13:05:43.972Z"
   },
   {
    "duration": 40,
    "start_time": "2023-05-03T13:05:44.008Z"
   },
   {
    "duration": 106,
    "start_time": "2023-05-03T13:05:44.050Z"
   },
   {
    "duration": 41,
    "start_time": "2023-05-03T13:05:44.158Z"
   },
   {
    "duration": 3,
    "start_time": "2023-05-03T13:05:44.202Z"
   },
   {
    "duration": 130,
    "start_time": "2023-05-03T13:05:44.207Z"
   },
   {
    "duration": 113,
    "start_time": "2023-05-03T13:05:44.340Z"
   },
   {
    "duration": 3,
    "start_time": "2023-05-03T13:05:44.455Z"
   },
   {
    "duration": 77,
    "start_time": "2023-05-03T13:05:44.460Z"
   },
   {
    "duration": 36,
    "start_time": "2023-05-03T13:05:44.539Z"
   },
   {
    "duration": 35,
    "start_time": "2023-05-03T13:05:44.577Z"
   },
   {
    "duration": 109,
    "start_time": "2023-05-03T13:05:44.616Z"
   },
   {
    "duration": 27,
    "start_time": "2023-05-03T13:05:44.727Z"
   },
   {
    "duration": 4,
    "start_time": "2023-05-03T13:05:44.756Z"
   },
   {
    "duration": 105,
    "start_time": "2023-05-03T13:05:44.762Z"
   },
   {
    "duration": 95,
    "start_time": "2023-05-03T13:05:44.869Z"
   },
   {
    "duration": 3,
    "start_time": "2023-05-03T13:05:44.967Z"
   },
   {
    "duration": 45,
    "start_time": "2023-05-03T13:05:44.972Z"
   },
   {
    "duration": 33,
    "start_time": "2023-05-03T13:05:45.019Z"
   },
   {
    "duration": 24,
    "start_time": "2023-05-03T13:05:45.054Z"
   },
   {
    "duration": 34,
    "start_time": "2023-05-03T13:05:45.080Z"
   },
   {
    "duration": 12055,
    "start_time": "2023-05-03T13:05:45.116Z"
   },
   {
    "duration": 37,
    "start_time": "2023-05-03T13:05:57.173Z"
   },
   {
    "duration": 284,
    "start_time": "2023-05-03T13:05:57.213Z"
   },
   {
    "duration": 767,
    "start_time": "2023-05-03T13:05:57.499Z"
   },
   {
    "duration": 16,
    "start_time": "2023-05-03T13:05:58.268Z"
   },
   {
    "duration": 5,
    "start_time": "2023-05-03T13:05:58.286Z"
   },
   {
    "duration": 22,
    "start_time": "2023-05-03T13:05:58.293Z"
   },
   {
    "duration": 16,
    "start_time": "2023-05-03T13:05:58.317Z"
   },
   {
    "duration": 33,
    "start_time": "2023-05-03T13:05:58.335Z"
   },
   {
    "duration": 7,
    "start_time": "2023-05-03T13:05:58.371Z"
   },
   {
    "duration": 132,
    "start_time": "2023-05-03T13:05:58.380Z"
   },
   {
    "duration": 4,
    "start_time": "2023-05-03T13:05:58.514Z"
   },
   {
    "duration": 37,
    "start_time": "2023-05-03T13:05:58.520Z"
   },
   {
    "duration": 17,
    "start_time": "2023-05-03T13:05:58.559Z"
   },
   {
    "duration": 13,
    "start_time": "2023-05-03T13:05:58.579Z"
   },
   {
    "duration": 17,
    "start_time": "2023-05-03T13:05:58.594Z"
   },
   {
    "duration": 28,
    "start_time": "2023-05-03T13:05:58.613Z"
   },
   {
    "duration": 28,
    "start_time": "2023-05-03T13:05:58.643Z"
   },
   {
    "duration": 5,
    "start_time": "2023-05-03T13:05:58.673Z"
   },
   {
    "duration": 23,
    "start_time": "2023-05-03T13:05:58.680Z"
   },
   {
    "duration": 49,
    "start_time": "2023-05-03T13:05:58.705Z"
   },
   {
    "duration": 218,
    "start_time": "2023-05-03T13:05:58.756Z"
   },
   {
    "duration": 1621,
    "start_time": "2023-05-03T13:05:58.976Z"
   },
   {
    "duration": 9,
    "start_time": "2023-05-03T13:06:00.599Z"
   },
   {
    "duration": 132,
    "start_time": "2023-05-03T13:06:00.610Z"
   },
   {
    "duration": 39,
    "start_time": "2023-05-03T13:06:00.745Z"
   },
   {
    "duration": 59,
    "start_time": "2023-05-03T13:06:00.786Z"
   },
   {
    "duration": 62,
    "start_time": "2023-05-03T13:06:00.847Z"
   },
   {
    "duration": 44,
    "start_time": "2023-05-03T13:06:00.911Z"
   },
   {
    "duration": 50,
    "start_time": "2023-05-03T13:06:00.958Z"
   },
   {
    "duration": 47,
    "start_time": "2023-05-03T13:06:01.011Z"
   },
   {
    "duration": 62,
    "start_time": "2023-05-03T13:06:01.062Z"
   },
   {
    "duration": 63,
    "start_time": "2023-05-03T13:06:01.127Z"
   },
   {
    "duration": 69,
    "start_time": "2023-05-03T13:06:01.192Z"
   },
   {
    "duration": 3,
    "start_time": "2023-05-03T13:06:01.263Z"
   },
   {
    "duration": 83,
    "start_time": "2023-05-03T13:06:01.268Z"
   },
   {
    "duration": 23,
    "start_time": "2023-05-03T13:06:01.355Z"
   },
   {
    "duration": 57,
    "start_time": "2023-05-03T13:06:01.380Z"
   },
   {
    "duration": 19,
    "start_time": "2023-05-03T13:06:01.439Z"
   },
   {
    "duration": 115,
    "start_time": "2023-05-03T13:06:01.460Z"
   },
   {
    "duration": 350,
    "start_time": "2023-05-03T13:06:01.578Z"
   },
   {
    "duration": 291,
    "start_time": "2023-05-03T13:06:01.930Z"
   },
   {
    "duration": 133,
    "start_time": "2023-05-03T13:06:02.223Z"
   },
   {
    "duration": 27,
    "start_time": "2023-05-03T13:06:02.358Z"
   },
   {
    "duration": 29,
    "start_time": "2023-05-03T13:06:02.391Z"
   },
   {
    "duration": 94,
    "start_time": "2023-05-03T13:06:02.422Z"
   },
   {
    "duration": 6,
    "start_time": "2023-05-03T13:06:02.518Z"
   },
   {
    "duration": 54,
    "start_time": "2023-05-03T13:06:02.526Z"
   },
   {
    "duration": 14,
    "start_time": "2023-05-03T13:06:02.582Z"
   },
   {
    "duration": 26,
    "start_time": "2023-05-03T13:06:02.597Z"
   },
   {
    "duration": 52,
    "start_time": "2023-05-03T13:06:02.625Z"
   },
   {
    "duration": 67,
    "start_time": "2023-05-03T13:06:02.679Z"
   },
   {
    "duration": 137,
    "start_time": "2023-05-03T13:06:02.748Z"
   },
   {
    "duration": 78,
    "start_time": "2023-05-03T13:06:02.887Z"
   },
   {
    "duration": 5,
    "start_time": "2023-05-03T13:06:02.967Z"
   },
   {
    "duration": 17,
    "start_time": "2023-05-03T13:06:02.974Z"
   },
   {
    "duration": 29,
    "start_time": "2023-05-03T13:06:02.993Z"
   },
   {
    "duration": 24,
    "start_time": "2023-05-03T13:06:03.024Z"
   },
   {
    "duration": 90,
    "start_time": "2023-05-03T13:06:03.051Z"
   },
   {
    "duration": 74,
    "start_time": "2023-05-03T13:06:03.150Z"
   },
   {
    "duration": 52,
    "start_time": "2023-05-03T13:06:03.226Z"
   },
   {
    "duration": 60,
    "start_time": "2023-05-03T13:06:03.280Z"
   },
   {
    "duration": 31,
    "start_time": "2023-05-03T13:06:03.355Z"
   },
   {
    "duration": 11,
    "start_time": "2023-05-03T13:06:03.389Z"
   },
   {
    "duration": 37,
    "start_time": "2023-05-03T13:06:03.402Z"
   },
   {
    "duration": 28,
    "start_time": "2023-05-03T13:06:03.443Z"
   },
   {
    "duration": 17,
    "start_time": "2023-05-03T13:06:03.474Z"
   },
   {
    "duration": 4,
    "start_time": "2023-05-03T13:07:19.097Z"
   },
   {
    "duration": 17,
    "start_time": "2023-05-03T13:07:38.802Z"
   },
   {
    "duration": 138,
    "start_time": "2023-05-03T13:08:35.989Z"
   },
   {
    "duration": 82,
    "start_time": "2023-05-03T13:09:27.878Z"
   },
   {
    "duration": 51,
    "start_time": "2023-05-03T13:11:08.656Z"
   },
   {
    "duration": 20,
    "start_time": "2023-05-03T13:11:45.000Z"
   },
   {
    "duration": 15,
    "start_time": "2023-05-03T13:12:20.305Z"
   },
   {
    "duration": 5,
    "start_time": "2023-05-03T13:13:06.504Z"
   },
   {
    "duration": 17,
    "start_time": "2023-05-03T13:13:18.097Z"
   },
   {
    "duration": 15,
    "start_time": "2023-05-03T13:13:56.933Z"
   },
   {
    "duration": 16,
    "start_time": "2023-05-03T13:14:55.194Z"
   },
   {
    "duration": 56,
    "start_time": "2023-05-03T13:15:02.752Z"
   },
   {
    "duration": 13,
    "start_time": "2023-05-03T13:15:03.519Z"
   },
   {
    "duration": 56,
    "start_time": "2023-05-03T13:15:28.973Z"
   },
   {
    "duration": 13,
    "start_time": "2023-05-03T13:15:29.508Z"
   },
   {
    "duration": 10,
    "start_time": "2023-05-03T13:15:40.705Z"
   },
   {
    "duration": 8,
    "start_time": "2023-05-03T13:15:43.484Z"
   },
   {
    "duration": 35,
    "start_time": "2023-05-03T13:15:49.549Z"
   },
   {
    "duration": 9,
    "start_time": "2023-05-03T13:15:50.121Z"
   },
   {
    "duration": 28,
    "start_time": "2023-05-03T13:15:58.598Z"
   },
   {
    "duration": 34,
    "start_time": "2023-05-03T13:15:58.823Z"
   },
   {
    "duration": 22,
    "start_time": "2023-05-03T13:15:59.106Z"
   },
   {
    "duration": 25,
    "start_time": "2023-05-03T13:15:59.332Z"
   },
   {
    "duration": 47,
    "start_time": "2023-05-03T13:16:00.028Z"
   },
   {
    "duration": 3,
    "start_time": "2023-05-03T13:16:00.256Z"
   },
   {
    "duration": 28,
    "start_time": "2023-05-03T13:16:00.455Z"
   },
   {
    "duration": 3,
    "start_time": "2023-05-03T13:16:00.617Z"
   },
   {
    "duration": 28,
    "start_time": "2023-05-03T13:16:00.835Z"
   },
   {
    "duration": 4,
    "start_time": "2023-05-03T13:16:01.204Z"
   },
   {
    "duration": 8,
    "start_time": "2023-05-03T13:16:02.252Z"
   },
   {
    "duration": 4,
    "start_time": "2023-05-03T13:16:12.219Z"
   },
   {
    "duration": 8,
    "start_time": "2023-05-03T13:17:27.008Z"
   },
   {
    "duration": 17,
    "start_time": "2023-05-03T13:17:56.936Z"
   },
   {
    "duration": 13,
    "start_time": "2023-05-03T13:18:23.540Z"
   },
   {
    "duration": 6,
    "start_time": "2023-05-03T13:18:25.763Z"
   },
   {
    "duration": 6,
    "start_time": "2023-05-03T13:18:26.308Z"
   },
   {
    "duration": 7,
    "start_time": "2023-05-03T13:18:30.708Z"
   },
   {
    "duration": 4480,
    "start_time": "2023-05-03T13:18:41.213Z"
   },
   {
    "duration": 0,
    "start_time": "2023-05-03T13:18:45.696Z"
   },
   {
    "duration": 21,
    "start_time": "2023-05-03T13:19:31.948Z"
   },
   {
    "duration": 22,
    "start_time": "2023-05-03T13:19:46.936Z"
   },
   {
    "duration": 94,
    "start_time": "2023-05-03T13:19:56.796Z"
   },
   {
    "duration": 27,
    "start_time": "2023-05-03T13:20:04.105Z"
   },
   {
    "duration": 71,
    "start_time": "2023-05-03T13:20:46.149Z"
   },
   {
    "duration": 15,
    "start_time": "2023-05-03T13:20:47.466Z"
   },
   {
    "duration": 31,
    "start_time": "2023-05-03T13:21:40.237Z"
   },
   {
    "duration": 32,
    "start_time": "2023-05-03T13:21:41.423Z"
   },
   {
    "duration": 9,
    "start_time": "2023-05-03T13:21:41.707Z"
   },
   {
    "duration": 11,
    "start_time": "2023-05-03T13:21:42.440Z"
   },
   {
    "duration": 7,
    "start_time": "2023-05-03T13:21:45.314Z"
   },
   {
    "duration": 51,
    "start_time": "2023-05-03T13:21:53.718Z"
   },
   {
    "duration": 24,
    "start_time": "2023-05-03T13:22:10.470Z"
   },
   {
    "duration": 13,
    "start_time": "2023-05-03T13:24:22.567Z"
   },
   {
    "duration": 15,
    "start_time": "2023-05-03T13:24:26.821Z"
   },
   {
    "duration": 28,
    "start_time": "2023-05-03T13:24:30.488Z"
   },
   {
    "duration": 10,
    "start_time": "2023-05-03T13:25:40.927Z"
   },
   {
    "duration": 10,
    "start_time": "2023-05-03T13:25:42.728Z"
   },
   {
    "duration": 8,
    "start_time": "2023-05-03T13:25:43.419Z"
   },
   {
    "duration": 22,
    "start_time": "2023-05-03T13:29:16.336Z"
   },
   {
    "duration": 13,
    "start_time": "2023-05-03T13:29:17.253Z"
   },
   {
    "duration": 4,
    "start_time": "2023-05-03T13:29:18.925Z"
   },
   {
    "duration": 9,
    "start_time": "2023-05-03T13:29:30.788Z"
   },
   {
    "duration": 8,
    "start_time": "2023-05-03T13:29:34.215Z"
   },
   {
    "duration": 8,
    "start_time": "2023-05-03T13:29:34.630Z"
   },
   {
    "duration": 8,
    "start_time": "2023-05-03T13:29:38.476Z"
   },
   {
    "duration": 7,
    "start_time": "2023-05-03T13:29:38.931Z"
   },
   {
    "duration": 7,
    "start_time": "2023-05-03T13:29:39.379Z"
   },
   {
    "duration": 7,
    "start_time": "2023-05-03T13:29:42.029Z"
   },
   {
    "duration": 8,
    "start_time": "2023-05-03T13:29:42.310Z"
   },
   {
    "duration": 8,
    "start_time": "2023-05-03T13:29:42.780Z"
   },
   {
    "duration": 8,
    "start_time": "2023-05-03T13:29:44.208Z"
   },
   {
    "duration": 9,
    "start_time": "2023-05-03T13:29:44.723Z"
   },
   {
    "duration": 7,
    "start_time": "2023-05-03T13:29:45.611Z"
   },
   {
    "duration": 101,
    "start_time": "2023-05-03T13:37:05.904Z"
   },
   {
    "duration": 5,
    "start_time": "2023-05-03T13:53:33.511Z"
   },
   {
    "duration": 2365,
    "start_time": "2023-05-04T11:15:40.543Z"
   },
   {
    "duration": 4,
    "start_time": "2023-05-04T11:15:42.910Z"
   },
   {
    "duration": 6,
    "start_time": "2023-05-04T11:15:42.915Z"
   },
   {
    "duration": 4,
    "start_time": "2023-05-04T11:15:42.923Z"
   },
   {
    "duration": 4,
    "start_time": "2023-05-04T11:15:42.929Z"
   },
   {
    "duration": 4,
    "start_time": "2023-05-04T11:15:42.934Z"
   },
   {
    "duration": 4,
    "start_time": "2023-05-04T11:15:42.939Z"
   },
   {
    "duration": 9,
    "start_time": "2023-05-04T11:15:42.945Z"
   },
   {
    "duration": 16,
    "start_time": "2023-05-04T11:15:42.956Z"
   },
   {
    "duration": 6,
    "start_time": "2023-05-04T11:15:42.974Z"
   },
   {
    "duration": 59,
    "start_time": "2023-05-04T11:15:42.981Z"
   },
   {
    "duration": 54,
    "start_time": "2023-05-04T11:15:43.042Z"
   },
   {
    "duration": 73,
    "start_time": "2023-05-04T11:15:43.098Z"
   },
   {
    "duration": 16,
    "start_time": "2023-05-04T11:15:43.173Z"
   },
   {
    "duration": 169,
    "start_time": "2023-05-04T11:15:43.191Z"
   },
   {
    "duration": 13,
    "start_time": "2023-05-04T11:15:43.362Z"
   },
   {
    "duration": 23,
    "start_time": "2023-05-04T11:15:43.378Z"
   },
   {
    "duration": 24,
    "start_time": "2023-05-04T11:15:43.403Z"
   },
   {
    "duration": 103,
    "start_time": "2023-05-04T11:15:43.429Z"
   },
   {
    "duration": 49,
    "start_time": "2023-05-04T11:15:43.534Z"
   },
   {
    "duration": 3,
    "start_time": "2023-05-04T11:15:43.585Z"
   },
   {
    "duration": 126,
    "start_time": "2023-05-04T11:15:43.590Z"
   },
   {
    "duration": 113,
    "start_time": "2023-05-04T11:15:43.718Z"
   },
   {
    "duration": 3,
    "start_time": "2023-05-04T11:15:43.834Z"
   },
   {
    "duration": 42,
    "start_time": "2023-05-04T11:15:43.839Z"
   },
   {
    "duration": 9,
    "start_time": "2023-05-04T11:15:43.884Z"
   },
   {
    "duration": 23,
    "start_time": "2023-05-04T11:15:43.896Z"
   },
   {
    "duration": 115,
    "start_time": "2023-05-04T11:15:43.925Z"
   },
   {
    "duration": 18,
    "start_time": "2023-05-04T11:15:44.042Z"
   },
   {
    "duration": 38,
    "start_time": "2023-05-04T11:15:44.062Z"
   },
   {
    "duration": 125,
    "start_time": "2023-05-04T11:15:44.103Z"
   },
   {
    "duration": 84,
    "start_time": "2023-05-04T11:15:44.231Z"
   },
   {
    "duration": 2,
    "start_time": "2023-05-04T11:15:44.318Z"
   },
   {
    "duration": 20,
    "start_time": "2023-05-04T11:15:44.322Z"
   },
   {
    "duration": 34,
    "start_time": "2023-05-04T11:15:44.344Z"
   },
   {
    "duration": 9,
    "start_time": "2023-05-04T11:15:44.379Z"
   },
   {
    "duration": 23,
    "start_time": "2023-05-04T11:15:44.390Z"
   },
   {
    "duration": 13133,
    "start_time": "2023-05-04T11:15:44.416Z"
   },
   {
    "duration": 36,
    "start_time": "2023-05-04T11:15:57.551Z"
   },
   {
    "duration": 237,
    "start_time": "2023-05-04T11:15:57.589Z"
   },
   {
    "duration": 760,
    "start_time": "2023-05-04T11:15:57.828Z"
   },
   {
    "duration": 15,
    "start_time": "2023-05-04T11:15:58.590Z"
   },
   {
    "duration": 5,
    "start_time": "2023-05-04T11:15:58.606Z"
   },
   {
    "duration": 14,
    "start_time": "2023-05-04T11:15:58.613Z"
   },
   {
    "duration": 39,
    "start_time": "2023-05-04T11:15:58.629Z"
   },
   {
    "duration": 3,
    "start_time": "2023-05-04T11:15:58.674Z"
   },
   {
    "duration": 6,
    "start_time": "2023-05-04T11:15:58.679Z"
   },
   {
    "duration": 131,
    "start_time": "2023-05-04T11:15:58.687Z"
   },
   {
    "duration": 3,
    "start_time": "2023-05-04T11:15:58.820Z"
   },
   {
    "duration": 8,
    "start_time": "2023-05-04T11:15:58.825Z"
   },
   {
    "duration": 24,
    "start_time": "2023-05-04T11:15:58.835Z"
   },
   {
    "duration": 3,
    "start_time": "2023-05-04T11:15:58.861Z"
   },
   {
    "duration": 13,
    "start_time": "2023-05-04T11:15:58.867Z"
   },
   {
    "duration": 4,
    "start_time": "2023-05-04T11:15:58.882Z"
   },
   {
    "duration": 9,
    "start_time": "2023-05-04T11:15:58.888Z"
   },
   {
    "duration": 4,
    "start_time": "2023-05-04T11:15:58.899Z"
   },
   {
    "duration": 10,
    "start_time": "2023-05-04T11:15:58.904Z"
   },
   {
    "duration": 57,
    "start_time": "2023-05-04T11:15:58.916Z"
   },
   {
    "duration": 227,
    "start_time": "2023-05-04T11:15:58.976Z"
   },
   {
    "duration": 1717,
    "start_time": "2023-05-04T11:15:59.205Z"
   },
   {
    "duration": 8,
    "start_time": "2023-05-04T11:16:00.924Z"
   },
   {
    "duration": 84,
    "start_time": "2023-05-04T11:16:00.934Z"
   },
   {
    "duration": 72,
    "start_time": "2023-05-04T11:16:01.019Z"
   },
   {
    "duration": 40,
    "start_time": "2023-05-04T11:16:01.093Z"
   },
   {
    "duration": 188,
    "start_time": "2023-05-04T11:16:01.134Z"
   },
   {
    "duration": 39,
    "start_time": "2023-05-04T11:16:01.324Z"
   },
   {
    "duration": 61,
    "start_time": "2023-05-04T11:16:01.364Z"
   },
   {
    "duration": 42,
    "start_time": "2023-05-04T11:16:01.427Z"
   },
   {
    "duration": 75,
    "start_time": "2023-05-04T11:16:01.471Z"
   },
   {
    "duration": 20,
    "start_time": "2023-05-04T11:16:01.548Z"
   },
   {
    "duration": 216,
    "start_time": "2023-05-04T11:16:01.571Z"
   },
   {
    "duration": 101,
    "start_time": "2023-05-04T11:16:01.789Z"
   },
   {
    "duration": 81,
    "start_time": "2023-05-04T11:16:01.892Z"
   },
   {
    "duration": 29,
    "start_time": "2023-05-04T11:16:01.975Z"
   },
   {
    "duration": 32,
    "start_time": "2023-05-04T11:16:02.006Z"
   },
   {
    "duration": 43,
    "start_time": "2023-05-04T11:16:02.040Z"
   },
   {
    "duration": 34,
    "start_time": "2023-05-04T11:16:02.085Z"
   },
   {
    "duration": 70,
    "start_time": "2023-05-04T11:16:02.122Z"
   },
   {
    "duration": 48,
    "start_time": "2023-05-04T11:16:02.194Z"
   },
   {
    "duration": 25,
    "start_time": "2023-05-04T11:16:02.245Z"
   },
   {
    "duration": 58,
    "start_time": "2023-05-04T11:16:02.274Z"
   },
   {
    "duration": 24,
    "start_time": "2023-05-04T11:16:02.342Z"
   },
   {
    "duration": 17,
    "start_time": "2023-05-04T11:16:02.370Z"
   },
   {
    "duration": 31,
    "start_time": "2023-05-04T11:16:02.389Z"
   },
   {
    "duration": 17,
    "start_time": "2023-05-04T11:16:02.422Z"
   },
   {
    "duration": 20,
    "start_time": "2023-05-04T11:16:02.441Z"
   },
   {
    "duration": 10,
    "start_time": "2023-05-04T11:16:02.468Z"
   },
   {
    "duration": 10,
    "start_time": "2023-05-04T11:16:02.480Z"
   },
   {
    "duration": 7,
    "start_time": "2023-05-04T11:16:02.492Z"
   },
   {
    "duration": 8,
    "start_time": "2023-05-04T11:16:02.500Z"
   },
   {
    "duration": 12,
    "start_time": "2023-05-04T11:16:02.510Z"
   },
   {
    "duration": 40,
    "start_time": "2023-05-04T11:16:02.523Z"
   },
   {
    "duration": 11,
    "start_time": "2023-05-04T11:16:02.566Z"
   },
   {
    "duration": 8,
    "start_time": "2023-05-04T11:16:02.578Z"
   },
   {
    "duration": 9,
    "start_time": "2023-05-04T11:16:02.588Z"
   },
   {
    "duration": 10,
    "start_time": "2023-05-04T11:16:57.787Z"
   },
   {
    "duration": 52,
    "start_time": "2023-05-04T11:22:49.376Z"
   },
   {
    "duration": 7,
    "start_time": "2023-05-04T11:22:50.271Z"
   },
   {
    "duration": 22,
    "start_time": "2023-05-04T11:22:55.771Z"
   },
   {
    "duration": 8,
    "start_time": "2023-05-04T11:22:55.974Z"
   },
   {
    "duration": 6,
    "start_time": "2023-05-04T11:26:56.494Z"
   },
   {
    "duration": 5,
    "start_time": "2023-05-04T11:27:20.616Z"
   },
   {
    "duration": 15,
    "start_time": "2023-05-04T11:28:26.684Z"
   },
   {
    "duration": 520,
    "start_time": "2023-05-04T11:29:06.593Z"
   },
   {
    "duration": 5,
    "start_time": "2023-05-04T11:29:19.670Z"
   },
   {
    "duration": 14,
    "start_time": "2023-05-04T11:29:24.822Z"
   },
   {
    "duration": 5,
    "start_time": "2023-05-04T11:29:36.598Z"
   },
   {
    "duration": 1711,
    "start_time": "2023-05-04T12:17:32.330Z"
   },
   {
    "duration": 5,
    "start_time": "2023-05-04T12:17:34.043Z"
   },
   {
    "duration": 7,
    "start_time": "2023-05-04T12:17:34.050Z"
   },
   {
    "duration": 5,
    "start_time": "2023-05-04T12:17:34.061Z"
   },
   {
    "duration": 8,
    "start_time": "2023-05-04T12:17:34.068Z"
   },
   {
    "duration": 21,
    "start_time": "2023-05-04T12:17:34.078Z"
   },
   {
    "duration": 9,
    "start_time": "2023-05-04T12:17:34.102Z"
   },
   {
    "duration": 5,
    "start_time": "2023-05-04T12:17:34.113Z"
   },
   {
    "duration": 5,
    "start_time": "2023-05-04T12:17:34.120Z"
   },
   {
    "duration": 4,
    "start_time": "2023-05-04T12:17:34.129Z"
   },
   {
    "duration": 7,
    "start_time": "2023-05-04T12:17:34.136Z"
   },
   {
    "duration": 3,
    "start_time": "2023-05-04T12:17:34.146Z"
   },
   {
    "duration": 45,
    "start_time": "2023-05-04T12:17:34.151Z"
   },
   {
    "duration": 8,
    "start_time": "2023-05-04T12:17:34.198Z"
   },
   {
    "duration": 1070,
    "start_time": "2023-05-04T12:17:34.208Z"
   },
   {
    "duration": 17,
    "start_time": "2023-05-04T12:17:35.279Z"
   },
   {
    "duration": 11,
    "start_time": "2023-05-04T12:17:35.298Z"
   },
   {
    "duration": 30,
    "start_time": "2023-05-04T12:17:35.312Z"
   },
   {
    "duration": 119,
    "start_time": "2023-05-04T12:17:35.344Z"
   },
   {
    "duration": 39,
    "start_time": "2023-05-04T12:17:35.465Z"
   },
   {
    "duration": 5,
    "start_time": "2023-05-04T12:17:35.506Z"
   },
   {
    "duration": 141,
    "start_time": "2023-05-04T12:17:35.514Z"
   },
   {
    "duration": 163,
    "start_time": "2023-05-04T12:17:35.660Z"
   },
   {
    "duration": 4,
    "start_time": "2023-05-04T12:17:35.826Z"
   },
   {
    "duration": 32,
    "start_time": "2023-05-04T12:17:35.834Z"
   },
   {
    "duration": 6,
    "start_time": "2023-05-04T12:17:35.868Z"
   },
   {
    "duration": 30,
    "start_time": "2023-05-04T12:17:35.876Z"
   },
   {
    "duration": 119,
    "start_time": "2023-05-04T12:17:35.912Z"
   },
   {
    "duration": 12,
    "start_time": "2023-05-04T12:17:36.033Z"
   },
   {
    "duration": 3,
    "start_time": "2023-05-04T12:17:36.047Z"
   },
   {
    "duration": 114,
    "start_time": "2023-05-04T12:17:36.051Z"
   },
   {
    "duration": 91,
    "start_time": "2023-05-04T12:17:36.166Z"
   },
   {
    "duration": 5,
    "start_time": "2023-05-04T12:17:36.259Z"
   },
   {
    "duration": 28,
    "start_time": "2023-05-04T12:17:36.266Z"
   },
   {
    "duration": 10,
    "start_time": "2023-05-04T12:17:36.299Z"
   },
   {
    "duration": 9,
    "start_time": "2023-05-04T12:17:36.312Z"
   },
   {
    "duration": 143,
    "start_time": "2023-05-04T12:17:36.324Z"
   },
   {
    "duration": 0,
    "start_time": "2023-05-04T12:17:36.470Z"
   },
   {
    "duration": 0,
    "start_time": "2023-05-04T12:17:36.471Z"
   },
   {
    "duration": 0,
    "start_time": "2023-05-04T12:17:36.472Z"
   },
   {
    "duration": 0,
    "start_time": "2023-05-04T12:17:36.474Z"
   },
   {
    "duration": 0,
    "start_time": "2023-05-04T12:17:36.475Z"
   },
   {
    "duration": 0,
    "start_time": "2023-05-04T12:17:36.476Z"
   },
   {
    "duration": 0,
    "start_time": "2023-05-04T12:17:36.478Z"
   },
   {
    "duration": 0,
    "start_time": "2023-05-04T12:17:36.479Z"
   },
   {
    "duration": 0,
    "start_time": "2023-05-04T12:17:36.480Z"
   },
   {
    "duration": 0,
    "start_time": "2023-05-04T12:17:36.482Z"
   },
   {
    "duration": 0,
    "start_time": "2023-05-04T12:17:36.493Z"
   },
   {
    "duration": 0,
    "start_time": "2023-05-04T12:17:36.495Z"
   },
   {
    "duration": 0,
    "start_time": "2023-05-04T12:17:36.496Z"
   },
   {
    "duration": 0,
    "start_time": "2023-05-04T12:17:36.499Z"
   },
   {
    "duration": 0,
    "start_time": "2023-05-04T12:17:36.501Z"
   },
   {
    "duration": 0,
    "start_time": "2023-05-04T12:17:36.503Z"
   },
   {
    "duration": 0,
    "start_time": "2023-05-04T12:17:36.506Z"
   },
   {
    "duration": 0,
    "start_time": "2023-05-04T12:17:36.507Z"
   },
   {
    "duration": 0,
    "start_time": "2023-05-04T12:17:36.509Z"
   },
   {
    "duration": 0,
    "start_time": "2023-05-04T12:17:36.512Z"
   },
   {
    "duration": 0,
    "start_time": "2023-05-04T12:17:36.514Z"
   },
   {
    "duration": 0,
    "start_time": "2023-05-04T12:17:36.516Z"
   },
   {
    "duration": 0,
    "start_time": "2023-05-04T12:17:36.520Z"
   },
   {
    "duration": 0,
    "start_time": "2023-05-04T12:17:36.522Z"
   },
   {
    "duration": 0,
    "start_time": "2023-05-04T12:17:36.525Z"
   },
   {
    "duration": 0,
    "start_time": "2023-05-04T12:17:36.527Z"
   },
   {
    "duration": 0,
    "start_time": "2023-05-04T12:17:36.530Z"
   },
   {
    "duration": 0,
    "start_time": "2023-05-04T12:17:36.531Z"
   },
   {
    "duration": 0,
    "start_time": "2023-05-04T12:17:36.533Z"
   },
   {
    "duration": 0,
    "start_time": "2023-05-04T12:17:36.537Z"
   },
   {
    "duration": 0,
    "start_time": "2023-05-04T12:17:36.538Z"
   },
   {
    "duration": 0,
    "start_time": "2023-05-04T12:17:36.538Z"
   },
   {
    "duration": 0,
    "start_time": "2023-05-04T12:17:36.540Z"
   },
   {
    "duration": 0,
    "start_time": "2023-05-04T12:17:36.541Z"
   },
   {
    "duration": 0,
    "start_time": "2023-05-04T12:17:36.541Z"
   },
   {
    "duration": 1,
    "start_time": "2023-05-04T12:17:36.542Z"
   },
   {
    "duration": 0,
    "start_time": "2023-05-04T12:17:36.543Z"
   },
   {
    "duration": 0,
    "start_time": "2023-05-04T12:17:36.544Z"
   },
   {
    "duration": 0,
    "start_time": "2023-05-04T12:17:36.547Z"
   },
   {
    "duration": 0,
    "start_time": "2023-05-04T12:17:36.548Z"
   },
   {
    "duration": 0,
    "start_time": "2023-05-04T12:17:36.549Z"
   },
   {
    "duration": 0,
    "start_time": "2023-05-04T12:17:36.550Z"
   },
   {
    "duration": 0,
    "start_time": "2023-05-04T12:17:36.551Z"
   },
   {
    "duration": 0,
    "start_time": "2023-05-04T12:17:36.552Z"
   },
   {
    "duration": 0,
    "start_time": "2023-05-04T12:17:36.554Z"
   },
   {
    "duration": 0,
    "start_time": "2023-05-04T12:17:36.555Z"
   },
   {
    "duration": 0,
    "start_time": "2023-05-04T12:17:36.557Z"
   },
   {
    "duration": 0,
    "start_time": "2023-05-04T12:17:36.559Z"
   },
   {
    "duration": 0,
    "start_time": "2023-05-04T12:17:36.560Z"
   },
   {
    "duration": 0,
    "start_time": "2023-05-04T12:17:36.565Z"
   },
   {
    "duration": 0,
    "start_time": "2023-05-04T12:17:36.597Z"
   },
   {
    "duration": 0,
    "start_time": "2023-05-04T12:17:36.599Z"
   },
   {
    "duration": 0,
    "start_time": "2023-05-04T12:17:36.602Z"
   },
   {
    "duration": 0,
    "start_time": "2023-05-04T12:17:36.605Z"
   },
   {
    "duration": 0,
    "start_time": "2023-05-04T12:17:36.607Z"
   },
   {
    "duration": 1,
    "start_time": "2023-05-04T12:17:36.609Z"
   },
   {
    "duration": 0,
    "start_time": "2023-05-04T12:17:36.611Z"
   },
   {
    "duration": 0,
    "start_time": "2023-05-04T12:17:36.614Z"
   },
   {
    "duration": 0,
    "start_time": "2023-05-04T12:17:36.618Z"
   },
   {
    "duration": 9,
    "start_time": "2023-05-04T12:18:05.513Z"
   },
   {
    "duration": 34,
    "start_time": "2023-05-04T12:18:15.884Z"
   },
   {
    "duration": 13473,
    "start_time": "2023-05-04T12:18:16.314Z"
   },
   {
    "duration": 26,
    "start_time": "2023-05-04T12:18:29.792Z"
   },
   {
    "duration": 14468,
    "start_time": "2023-05-04T12:19:31.291Z"
   },
   {
    "duration": 224,
    "start_time": "2023-05-04T12:20:09.828Z"
   },
   {
    "duration": 15327,
    "start_time": "2023-05-04T12:20:22.691Z"
   },
   {
    "duration": 28,
    "start_time": "2023-05-04T12:22:28.506Z"
   },
   {
    "duration": 281,
    "start_time": "2023-05-04T12:22:28.985Z"
   },
   {
    "duration": 884,
    "start_time": "2023-05-04T12:22:30.427Z"
   },
   {
    "duration": 16,
    "start_time": "2023-05-04T12:22:32.712Z"
   },
   {
    "duration": 6,
    "start_time": "2023-05-04T12:22:34.004Z"
   },
   {
    "duration": 4,
    "start_time": "2023-05-04T12:22:39.134Z"
   },
   {
    "duration": 4,
    "start_time": "2023-05-04T12:22:39.342Z"
   },
   {
    "duration": 7,
    "start_time": "2023-05-04T12:22:39.537Z"
   },
   {
    "duration": 5,
    "start_time": "2023-05-04T12:22:39.723Z"
   },
   {
    "duration": 117,
    "start_time": "2023-05-04T12:22:41.138Z"
   },
   {
    "duration": 8,
    "start_time": "2023-05-04T12:22:41.399Z"
   },
   {
    "duration": 8,
    "start_time": "2023-05-04T12:22:41.552Z"
   },
   {
    "duration": 7,
    "start_time": "2023-05-04T12:22:41.677Z"
   },
   {
    "duration": 3,
    "start_time": "2023-05-04T12:22:41.837Z"
   },
   {
    "duration": 11,
    "start_time": "2023-05-04T12:22:42.003Z"
   },
   {
    "duration": 6,
    "start_time": "2023-05-04T12:22:42.106Z"
   },
   {
    "duration": 8,
    "start_time": "2023-05-04T12:22:42.234Z"
   },
   {
    "duration": 4,
    "start_time": "2023-05-04T12:23:06.348Z"
   },
   {
    "duration": 4,
    "start_time": "2023-05-04T12:23:13.411Z"
   },
   {
    "duration": 4,
    "start_time": "2023-05-04T12:23:13.635Z"
   },
   {
    "duration": 7,
    "start_time": "2023-05-04T12:23:13.818Z"
   },
   {
    "duration": 117,
    "start_time": "2023-05-04T12:23:14.173Z"
   },
   {
    "duration": 4,
    "start_time": "2023-05-04T12:23:14.591Z"
   },
   {
    "duration": 4,
    "start_time": "2023-05-04T12:23:14.784Z"
   },
   {
    "duration": 6,
    "start_time": "2023-05-04T12:23:14.985Z"
   },
   {
    "duration": 4,
    "start_time": "2023-05-04T12:23:15.185Z"
   },
   {
    "duration": 14,
    "start_time": "2023-05-04T12:23:15.310Z"
   },
   {
    "duration": 6,
    "start_time": "2023-05-04T12:23:15.469Z"
   },
   {
    "duration": 11,
    "start_time": "2023-05-04T12:23:16.142Z"
   },
   {
    "duration": 4,
    "start_time": "2023-05-04T12:23:16.348Z"
   },
   {
    "duration": 6,
    "start_time": "2023-05-04T12:23:16.531Z"
   },
   {
    "duration": 66,
    "start_time": "2023-05-04T12:23:16.712Z"
   },
   {
    "duration": 426,
    "start_time": "2023-05-04T12:23:16.830Z"
   },
   {
    "duration": 1888,
    "start_time": "2023-05-04T12:23:22.211Z"
   },
   {
    "duration": 8,
    "start_time": "2023-05-04T12:23:45.506Z"
   },
   {
    "duration": 572,
    "start_time": "2023-05-04T12:23:47.432Z"
   },
   {
    "duration": 517,
    "start_time": "2023-05-04T12:24:25.717Z"
   },
   {
    "duration": 589,
    "start_time": "2023-05-04T12:24:27.589Z"
   },
   {
    "duration": 6,
    "start_time": "2023-05-04T12:24:29.179Z"
   },
   {
    "duration": 53,
    "start_time": "2023-05-04T12:24:36.535Z"
   },
   {
    "duration": 18,
    "start_time": "2023-05-04T12:24:36.709Z"
   },
   {
    "duration": 13,
    "start_time": "2023-05-04T12:24:36.821Z"
   },
   {
    "duration": 36,
    "start_time": "2023-05-04T12:24:55.919Z"
   },
   {
    "duration": 14,
    "start_time": "2023-05-04T12:24:58.021Z"
   },
   {
    "duration": 114,
    "start_time": "2023-05-04T12:25:06.940Z"
   },
   {
    "duration": 61,
    "start_time": "2023-05-04T12:25:08.328Z"
   },
   {
    "duration": 9,
    "start_time": "2023-05-04T12:25:08.601Z"
   },
   {
    "duration": 8,
    "start_time": "2023-05-04T12:25:27.514Z"
   },
   {
    "duration": 4,
    "start_time": "2023-05-04T12:25:39.085Z"
   },
   {
    "duration": 28,
    "start_time": "2023-05-04T12:25:42.703Z"
   },
   {
    "duration": 8,
    "start_time": "2023-05-04T12:25:42.865Z"
   },
   {
    "duration": 4,
    "start_time": "2023-05-04T12:25:43.071Z"
   },
   {
    "duration": 6,
    "start_time": "2023-05-04T12:25:44.387Z"
   },
   {
    "duration": 42,
    "start_time": "2023-05-04T12:25:46.497Z"
   },
   {
    "duration": 6,
    "start_time": "2023-05-04T12:25:47.669Z"
   },
   {
    "duration": 14,
    "start_time": "2023-05-04T12:25:49.306Z"
   },
   {
    "duration": 16,
    "start_time": "2023-05-04T12:25:49.436Z"
   },
   {
    "duration": 18,
    "start_time": "2023-05-04T12:25:49.610Z"
   },
   {
    "duration": 5,
    "start_time": "2023-05-04T12:25:50.180Z"
   },
   {
    "duration": 10,
    "start_time": "2023-05-04T12:25:50.585Z"
   },
   {
    "duration": 9,
    "start_time": "2023-05-04T12:25:50.750Z"
   },
   {
    "duration": 31,
    "start_time": "2023-05-04T12:25:54.480Z"
   },
   {
    "duration": 18,
    "start_time": "2023-05-04T12:25:54.825Z"
   },
   {
    "duration": 4,
    "start_time": "2023-05-04T12:25:55.279Z"
   },
   {
    "duration": 9,
    "start_time": "2023-05-04T12:25:57.587Z"
   },
   {
    "duration": 7,
    "start_time": "2023-05-04T12:25:57.928Z"
   },
   {
    "duration": 10,
    "start_time": "2023-05-04T12:25:58.404Z"
   },
   {
    "duration": 9,
    "start_time": "2023-05-04T12:25:59.680Z"
   },
   {
    "duration": 9,
    "start_time": "2023-05-04T12:25:59.914Z"
   },
   {
    "duration": 7,
    "start_time": "2023-05-04T12:26:00.113Z"
   },
   {
    "duration": 11,
    "start_time": "2023-05-04T12:26:00.705Z"
   },
   {
    "duration": 12,
    "start_time": "2023-05-04T12:26:00.909Z"
   },
   {
    "duration": 12,
    "start_time": "2023-05-04T12:26:01.122Z"
   },
   {
    "duration": 24,
    "start_time": "2023-05-04T12:26:01.694Z"
   },
   {
    "duration": 11,
    "start_time": "2023-05-04T12:26:01.920Z"
   },
   {
    "duration": 11,
    "start_time": "2023-05-04T12:26:02.120Z"
   }
  ],
  "kernelspec": {
   "display_name": "Python 3 (ipykernel)",
   "language": "python",
   "name": "python3"
  },
  "language_info": {
   "codemirror_mode": {
    "name": "ipython",
    "version": 3
   },
   "file_extension": ".py",
   "mimetype": "text/x-python",
   "name": "python",
   "nbconvert_exporter": "python",
   "pygments_lexer": "ipython3",
   "version": "3.9.13"
  },
  "toc": {
   "base_numbering": 1,
   "nav_menu": {},
   "number_sections": false,
   "sideBar": true,
   "skip_h1_title": false,
   "title_cell": "Table of Contents",
   "title_sidebar": "Contents",
   "toc_cell": false,
   "toc_position": {
    "height": "calc(100% - 180px)",
    "left": "10px",
    "top": "150px",
    "width": "277.244px"
   },
   "toc_section_display": true,
   "toc_window_display": true
  }
 },
 "nbformat": 4,
 "nbformat_minor": 2
}
