{
 "cells": [
  {
   "cell_type": "markdown",
   "metadata": {},
   "source": [
    "# Исследование объявлений о продаже квартир\n",
    "\n",
    "В нашем распоряжении данные сервиса Яндекс.Недвижимость — архив объявлений о продаже квартир в Санкт-Петербурге и соседних населённых пунктов за несколько лет. Нужно научиться определять рыночную стоимость объектов недвижимости. Наша задача — установить параметры. Это позволит построить автоматизированную систему: она отследит аномалии и мошенническую деятельность. \n",
    "\n",
    "По каждой квартире на продажу доступны два вида данных. Первые вписаны пользователем, вторые — получены автоматически на основе картографических данных. Например, расстояние до центра, аэропорта, ближайшего парка и водоёма. "
   ]
  },
  {
   "cell_type": "markdown",
   "metadata": {},
   "source": [
    "### Обзор данных"
   ]
  },
  {
   "cell_type": "code",
   "execution_count": 1,
   "metadata": {},
   "outputs": [],
   "source": [
    "import pandas as pd\n",
    "import numpy as np\n",
    "import seaborn as sns\n",
    "from IPython.display import display\n",
    "#from tabulate import tabulate "
   ]
  },
  {
   "cell_type": "code",
   "execution_count": 2,
   "metadata": {},
   "outputs": [
    {
     "name": "stdout",
     "output_type": "stream",
     "text": [
      "<class 'pandas.core.frame.DataFrame'>\n",
      "RangeIndex: 23699 entries, 0 to 23698\n",
      "Data columns (total 22 columns):\n",
      " #   Column                Non-Null Count  Dtype  \n",
      "---  ------                --------------  -----  \n",
      " 0   total_images          23699 non-null  int64  \n",
      " 1   last_price            23699 non-null  float64\n",
      " 2   total_area            23699 non-null  float64\n",
      " 3   first_day_exposition  23699 non-null  object \n",
      " 4   rooms                 23699 non-null  int64  \n",
      " 5   ceiling_height        14504 non-null  float64\n",
      " 6   floors_total          23613 non-null  float64\n",
      " 7   living_area           21796 non-null  float64\n",
      " 8   floor                 23699 non-null  int64  \n",
      " 9   is_apartment          2775 non-null   object \n",
      " 10  studio                23699 non-null  bool   \n",
      " 11  open_plan             23699 non-null  bool   \n",
      " 12  kitchen_area          21421 non-null  float64\n",
      " 13  balcony               12180 non-null  float64\n",
      " 14  locality_name         23650 non-null  object \n",
      " 15  airports_nearest      18157 non-null  float64\n",
      " 16  cityCenters_nearest   18180 non-null  float64\n",
      " 17  parks_around3000      18181 non-null  float64\n",
      " 18  parks_nearest         8079 non-null   float64\n",
      " 19  ponds_around3000      18181 non-null  float64\n",
      " 20  ponds_nearest         9110 non-null   float64\n",
      " 21  days_exposition       20518 non-null  float64\n",
      "dtypes: bool(2), float64(14), int64(3), object(3)\n",
      "memory usage: 3.7+ MB\n"
     ]
    }
   ],
   "source": [
    "data = pd.read_csv('/datasets/real_estate_data.csv', sep='\\t')\n",
    "data.info()"
   ]
  },
  {
   "cell_type": "code",
   "execution_count": 3,
   "metadata": {
    "scrolled": false
   },
   "outputs": [
    {
     "name": "stdout",
     "output_type": "stream",
     "text": [
      "    total_images  last_price  total_area first_day_exposition  rooms  \\\n",
      "0             20  13000000.0      108.00  2019-03-07T00:00:00      3   \n",
      "1              7   3350000.0       40.40  2018-12-04T00:00:00      1   \n",
      "2             10   5196000.0       56.00  2015-08-20T00:00:00      2   \n",
      "3              0  64900000.0      159.00  2015-07-24T00:00:00      3   \n",
      "4              2  10000000.0      100.00  2018-06-19T00:00:00      2   \n",
      "5             10   2890000.0       30.40  2018-09-10T00:00:00      1   \n",
      "6              6   3700000.0       37.30  2017-11-02T00:00:00      1   \n",
      "7              5   7915000.0       71.60  2019-04-18T00:00:00      2   \n",
      "8             20   2900000.0       33.16  2018-05-23T00:00:00      1   \n",
      "9             18   5400000.0       61.00  2017-02-26T00:00:00      3   \n",
      "10             5   5050000.0       39.60  2017-11-16T00:00:00      1   \n",
      "11             9   3300000.0       44.00  2018-08-27T00:00:00      2   \n",
      "12            10   3890000.0       54.00  2016-06-30T00:00:00      2   \n",
      "13            20   3550000.0       42.80  2017-07-01T00:00:00      2   \n",
      "14             1   4400000.0       36.00  2016-06-23T00:00:00      1   \n",
      "15            16   4650000.0       39.00  2017-11-18T00:00:00      1   \n",
      "16            11   6700000.0       82.00  2017-11-23T00:00:00      3   \n",
      "17             6   4180000.0       36.00  2016-09-09T00:00:00      1   \n",
      "18             8   3250000.0       31.00  2017-01-27T00:00:00      1   \n",
      "19            16  14200000.0      121.00  2019-01-09T00:00:00      3   \n",
      "\n",
      "    ceiling_height  floors_total  living_area  floor is_apartment  ...  \\\n",
      "0             2.70          16.0        51.00      8          NaN  ...   \n",
      "1              NaN          11.0        18.60      1          NaN  ...   \n",
      "2              NaN           5.0        34.30      4          NaN  ...   \n",
      "3              NaN          14.0          NaN      9          NaN  ...   \n",
      "4             3.03          14.0        32.00     13          NaN  ...   \n",
      "5              NaN          12.0        14.40      5          NaN  ...   \n",
      "6              NaN          26.0        10.60      6          NaN  ...   \n",
      "7              NaN          24.0          NaN     22          NaN  ...   \n",
      "8              NaN          27.0        15.43     26          NaN  ...   \n",
      "9             2.50           9.0        43.60      7          NaN  ...   \n",
      "10            2.67          12.0        20.30      3          NaN  ...   \n",
      "11             NaN           5.0        31.00      4        False  ...   \n",
      "12             NaN           5.0        30.00      5          NaN  ...   \n",
      "13            2.56           5.0        27.00      5          NaN  ...   \n",
      "14             NaN           6.0        17.00      1          NaN  ...   \n",
      "15             NaN          14.0        20.50      5          NaN  ...   \n",
      "16            3.05           5.0        55.60      1          NaN  ...   \n",
      "17             NaN          17.0        16.50      7          NaN  ...   \n",
      "18            2.50           5.0        19.40      2          NaN  ...   \n",
      "19            2.75          16.0        76.00      8          NaN  ...   \n",
      "\n",
      "    kitchen_area  balcony              locality_name  airports_nearest  \\\n",
      "0          25.00      NaN            Санкт-Петербург           18863.0   \n",
      "1          11.00      2.0             посёлок Шушары           12817.0   \n",
      "2           8.30      0.0            Санкт-Петербург           21741.0   \n",
      "3            NaN      0.0            Санкт-Петербург           28098.0   \n",
      "4          41.00      NaN            Санкт-Петербург           31856.0   \n",
      "5           9.10      NaN  городской посёлок Янино-1               NaN   \n",
      "6          14.40      1.0          посёлок Парголово           52996.0   \n",
      "7          18.90      2.0            Санкт-Петербург           23982.0   \n",
      "8           8.81      NaN             посёлок Мурино               NaN   \n",
      "9           6.50      2.0            Санкт-Петербург           50898.0   \n",
      "10          8.50      NaN            Санкт-Петербург           38357.0   \n",
      "11          6.00      1.0                  Ломоносов           48252.0   \n",
      "12          9.00      0.0                  Сертолово               NaN   \n",
      "13          5.20      1.0                   Петергоф           37868.0   \n",
      "14          8.00      0.0                     Пушкин           20782.0   \n",
      "15          7.60      1.0            Санкт-Петербург           12900.0   \n",
      "16          9.00      NaN            Санкт-Петербург           22108.0   \n",
      "17         11.00      1.0            Санкт-Петербург           33564.0   \n",
      "18          5.60      1.0            Санкт-Петербург           44060.0   \n",
      "19         12.00      NaN            Санкт-Петербург           38900.0   \n",
      "\n",
      "   cityCenters_nearest  parks_around3000  parks_nearest  ponds_around3000  \\\n",
      "0              16028.0               1.0          482.0               2.0   \n",
      "1              18603.0               0.0            NaN               0.0   \n",
      "2              13933.0               1.0           90.0               2.0   \n",
      "3               6800.0               2.0           84.0               3.0   \n",
      "4               8098.0               2.0          112.0               1.0   \n",
      "5                  NaN               NaN            NaN               NaN   \n",
      "6              19143.0               0.0            NaN               0.0   \n",
      "7              11634.0               0.0            NaN               0.0   \n",
      "8                  NaN               NaN            NaN               NaN   \n",
      "9              15008.0               0.0            NaN               0.0   \n",
      "10             13878.0               1.0          310.0               2.0   \n",
      "11             51677.0               0.0            NaN               0.0   \n",
      "12                 NaN               NaN            NaN               NaN   \n",
      "13             33058.0               1.0          294.0               3.0   \n",
      "14             30759.0               0.0            NaN               1.0   \n",
      "15             14259.0               1.0          590.0               1.0   \n",
      "16             10698.0               3.0          420.0               0.0   \n",
      "17             14616.0               0.0            NaN               1.0   \n",
      "18             10842.0               1.0          759.0               0.0   \n",
      "19             12843.0               0.0            NaN               0.0   \n",
      "\n",
      "    ponds_nearest  days_exposition  \n",
      "0           755.0              NaN  \n",
      "1             NaN             81.0  \n",
      "2           574.0            558.0  \n",
      "3           234.0            424.0  \n",
      "4            48.0            121.0  \n",
      "5             NaN             55.0  \n",
      "6             NaN            155.0  \n",
      "7             NaN              NaN  \n",
      "8             NaN            189.0  \n",
      "9             NaN            289.0  \n",
      "10          553.0            137.0  \n",
      "11            NaN              7.0  \n",
      "12            NaN             90.0  \n",
      "13          298.0            366.0  \n",
      "14           96.0            203.0  \n",
      "15          296.0             19.0  \n",
      "16            NaN            397.0  \n",
      "17          859.0            571.0  \n",
      "18            NaN            168.0  \n",
      "19            NaN             97.0  \n",
      "\n",
      "[20 rows x 22 columns]\n"
     ]
    }
   ],
   "source": [
    "print(data.head(20))"
   ]
  },
  {
   "cell_type": "code",
   "execution_count": 4,
   "metadata": {},
   "outputs": [
    {
     "data": {
      "text/html": [
       "<div>\n",
       "<style scoped>\n",
       "    .dataframe tbody tr th:only-of-type {\n",
       "        vertical-align: middle;\n",
       "    }\n",
       "\n",
       "    .dataframe tbody tr th {\n",
       "        vertical-align: top;\n",
       "    }\n",
       "\n",
       "    .dataframe thead th {\n",
       "        text-align: right;\n",
       "    }\n",
       "</style>\n",
       "<table border=\"1\" class=\"dataframe\">\n",
       "  <thead>\n",
       "    <tr style=\"text-align: right;\">\n",
       "      <th></th>\n",
       "      <th>total_images</th>\n",
       "      <th>last_price</th>\n",
       "      <th>total_area</th>\n",
       "      <th>first_day_exposition</th>\n",
       "      <th>rooms</th>\n",
       "      <th>ceiling_height</th>\n",
       "      <th>floors_total</th>\n",
       "      <th>living_area</th>\n",
       "      <th>floor</th>\n",
       "      <th>is_apartment</th>\n",
       "      <th>studio</th>\n",
       "      <th>open_plan</th>\n",
       "      <th>kitchen_area</th>\n",
       "      <th>balcony</th>\n",
       "      <th>locality_name</th>\n",
       "      <th>airports_nearest</th>\n",
       "      <th>cityCenters_nearest</th>\n",
       "      <th>parks_around3000</th>\n",
       "      <th>parks_nearest</th>\n",
       "      <th>ponds_around3000</th>\n",
       "      <th>ponds_nearest</th>\n",
       "      <th>days_exposition</th>\n",
       "    </tr>\n",
       "  </thead>\n",
       "  <tbody>\n",
       "    <tr>\n",
       "      <th>0</th>\n",
       "      <td>20</td>\n",
       "      <td>13000000.00</td>\n",
       "      <td>108.00</td>\n",
       "      <td>2019-03-07T00:00:00</td>\n",
       "      <td>3</td>\n",
       "      <td>2.70</td>\n",
       "      <td>16.00</td>\n",
       "      <td>51.00</td>\n",
       "      <td>8</td>\n",
       "      <td>NaN</td>\n",
       "      <td>False</td>\n",
       "      <td>False</td>\n",
       "      <td>25.00</td>\n",
       "      <td>NaN</td>\n",
       "      <td>Санкт-Петербург</td>\n",
       "      <td>18863.00</td>\n",
       "      <td>16028.00</td>\n",
       "      <td>1.00</td>\n",
       "      <td>482.00</td>\n",
       "      <td>2.00</td>\n",
       "      <td>755.00</td>\n",
       "      <td>NaN</td>\n",
       "    </tr>\n",
       "    <tr>\n",
       "      <th>1</th>\n",
       "      <td>7</td>\n",
       "      <td>3350000.00</td>\n",
       "      <td>40.40</td>\n",
       "      <td>2018-12-04T00:00:00</td>\n",
       "      <td>1</td>\n",
       "      <td>NaN</td>\n",
       "      <td>11.00</td>\n",
       "      <td>18.60</td>\n",
       "      <td>1</td>\n",
       "      <td>NaN</td>\n",
       "      <td>False</td>\n",
       "      <td>False</td>\n",
       "      <td>11.00</td>\n",
       "      <td>2.00</td>\n",
       "      <td>посёлок Шушары</td>\n",
       "      <td>12817.00</td>\n",
       "      <td>18603.00</td>\n",
       "      <td>0.00</td>\n",
       "      <td>NaN</td>\n",
       "      <td>0.00</td>\n",
       "      <td>NaN</td>\n",
       "      <td>81.00</td>\n",
       "    </tr>\n",
       "    <tr>\n",
       "      <th>2</th>\n",
       "      <td>10</td>\n",
       "      <td>5196000.00</td>\n",
       "      <td>56.00</td>\n",
       "      <td>2015-08-20T00:00:00</td>\n",
       "      <td>2</td>\n",
       "      <td>NaN</td>\n",
       "      <td>5.00</td>\n",
       "      <td>34.30</td>\n",
       "      <td>4</td>\n",
       "      <td>NaN</td>\n",
       "      <td>False</td>\n",
       "      <td>False</td>\n",
       "      <td>8.30</td>\n",
       "      <td>0.00</td>\n",
       "      <td>Санкт-Петербург</td>\n",
       "      <td>21741.00</td>\n",
       "      <td>13933.00</td>\n",
       "      <td>1.00</td>\n",
       "      <td>90.00</td>\n",
       "      <td>2.00</td>\n",
       "      <td>574.00</td>\n",
       "      <td>558.00</td>\n",
       "    </tr>\n",
       "    <tr>\n",
       "      <th>3</th>\n",
       "      <td>0</td>\n",
       "      <td>64900000.00</td>\n",
       "      <td>159.00</td>\n",
       "      <td>2015-07-24T00:00:00</td>\n",
       "      <td>3</td>\n",
       "      <td>NaN</td>\n",
       "      <td>14.00</td>\n",
       "      <td>NaN</td>\n",
       "      <td>9</td>\n",
       "      <td>NaN</td>\n",
       "      <td>False</td>\n",
       "      <td>False</td>\n",
       "      <td>NaN</td>\n",
       "      <td>0.00</td>\n",
       "      <td>Санкт-Петербург</td>\n",
       "      <td>28098.00</td>\n",
       "      <td>6800.00</td>\n",
       "      <td>2.00</td>\n",
       "      <td>84.00</td>\n",
       "      <td>3.00</td>\n",
       "      <td>234.00</td>\n",
       "      <td>424.00</td>\n",
       "    </tr>\n",
       "    <tr>\n",
       "      <th>4</th>\n",
       "      <td>2</td>\n",
       "      <td>10000000.00</td>\n",
       "      <td>100.00</td>\n",
       "      <td>2018-06-19T00:00:00</td>\n",
       "      <td>2</td>\n",
       "      <td>3.03</td>\n",
       "      <td>14.00</td>\n",
       "      <td>32.00</td>\n",
       "      <td>13</td>\n",
       "      <td>NaN</td>\n",
       "      <td>False</td>\n",
       "      <td>False</td>\n",
       "      <td>41.00</td>\n",
       "      <td>NaN</td>\n",
       "      <td>Санкт-Петербург</td>\n",
       "      <td>31856.00</td>\n",
       "      <td>8098.00</td>\n",
       "      <td>2.00</td>\n",
       "      <td>112.00</td>\n",
       "      <td>1.00</td>\n",
       "      <td>48.00</td>\n",
       "      <td>121.00</td>\n",
       "    </tr>\n",
       "    <tr>\n",
       "      <th>5</th>\n",
       "      <td>10</td>\n",
       "      <td>2890000.00</td>\n",
       "      <td>30.40</td>\n",
       "      <td>2018-09-10T00:00:00</td>\n",
       "      <td>1</td>\n",
       "      <td>NaN</td>\n",
       "      <td>12.00</td>\n",
       "      <td>14.40</td>\n",
       "      <td>5</td>\n",
       "      <td>NaN</td>\n",
       "      <td>False</td>\n",
       "      <td>False</td>\n",
       "      <td>9.10</td>\n",
       "      <td>NaN</td>\n",
       "      <td>городской посёлок Янино-1</td>\n",
       "      <td>NaN</td>\n",
       "      <td>NaN</td>\n",
       "      <td>NaN</td>\n",
       "      <td>NaN</td>\n",
       "      <td>NaN</td>\n",
       "      <td>NaN</td>\n",
       "      <td>55.00</td>\n",
       "    </tr>\n",
       "    <tr>\n",
       "      <th>6</th>\n",
       "      <td>6</td>\n",
       "      <td>3700000.00</td>\n",
       "      <td>37.30</td>\n",
       "      <td>2017-11-02T00:00:00</td>\n",
       "      <td>1</td>\n",
       "      <td>NaN</td>\n",
       "      <td>26.00</td>\n",
       "      <td>10.60</td>\n",
       "      <td>6</td>\n",
       "      <td>NaN</td>\n",
       "      <td>False</td>\n",
       "      <td>False</td>\n",
       "      <td>14.40</td>\n",
       "      <td>1.00</td>\n",
       "      <td>посёлок Парголово</td>\n",
       "      <td>52996.00</td>\n",
       "      <td>19143.00</td>\n",
       "      <td>0.00</td>\n",
       "      <td>NaN</td>\n",
       "      <td>0.00</td>\n",
       "      <td>NaN</td>\n",
       "      <td>155.00</td>\n",
       "    </tr>\n",
       "    <tr>\n",
       "      <th>7</th>\n",
       "      <td>5</td>\n",
       "      <td>7915000.00</td>\n",
       "      <td>71.60</td>\n",
       "      <td>2019-04-18T00:00:00</td>\n",
       "      <td>2</td>\n",
       "      <td>NaN</td>\n",
       "      <td>24.00</td>\n",
       "      <td>NaN</td>\n",
       "      <td>22</td>\n",
       "      <td>NaN</td>\n",
       "      <td>False</td>\n",
       "      <td>False</td>\n",
       "      <td>18.90</td>\n",
       "      <td>2.00</td>\n",
       "      <td>Санкт-Петербург</td>\n",
       "      <td>23982.00</td>\n",
       "      <td>11634.00</td>\n",
       "      <td>0.00</td>\n",
       "      <td>NaN</td>\n",
       "      <td>0.00</td>\n",
       "      <td>NaN</td>\n",
       "      <td>NaN</td>\n",
       "    </tr>\n",
       "    <tr>\n",
       "      <th>8</th>\n",
       "      <td>20</td>\n",
       "      <td>2900000.00</td>\n",
       "      <td>33.16</td>\n",
       "      <td>2018-05-23T00:00:00</td>\n",
       "      <td>1</td>\n",
       "      <td>NaN</td>\n",
       "      <td>27.00</td>\n",
       "      <td>15.43</td>\n",
       "      <td>26</td>\n",
       "      <td>NaN</td>\n",
       "      <td>False</td>\n",
       "      <td>False</td>\n",
       "      <td>8.81</td>\n",
       "      <td>NaN</td>\n",
       "      <td>посёлок Мурино</td>\n",
       "      <td>NaN</td>\n",
       "      <td>NaN</td>\n",
       "      <td>NaN</td>\n",
       "      <td>NaN</td>\n",
       "      <td>NaN</td>\n",
       "      <td>NaN</td>\n",
       "      <td>189.00</td>\n",
       "    </tr>\n",
       "    <tr>\n",
       "      <th>9</th>\n",
       "      <td>18</td>\n",
       "      <td>5400000.00</td>\n",
       "      <td>61.00</td>\n",
       "      <td>2017-02-26T00:00:00</td>\n",
       "      <td>3</td>\n",
       "      <td>2.50</td>\n",
       "      <td>9.00</td>\n",
       "      <td>43.60</td>\n",
       "      <td>7</td>\n",
       "      <td>NaN</td>\n",
       "      <td>False</td>\n",
       "      <td>False</td>\n",
       "      <td>6.50</td>\n",
       "      <td>2.00</td>\n",
       "      <td>Санкт-Петербург</td>\n",
       "      <td>50898.00</td>\n",
       "      <td>15008.00</td>\n",
       "      <td>0.00</td>\n",
       "      <td>NaN</td>\n",
       "      <td>0.00</td>\n",
       "      <td>NaN</td>\n",
       "      <td>289.00</td>\n",
       "    </tr>\n",
       "    <tr>\n",
       "      <th>10</th>\n",
       "      <td>5</td>\n",
       "      <td>5050000.00</td>\n",
       "      <td>39.60</td>\n",
       "      <td>2017-11-16T00:00:00</td>\n",
       "      <td>1</td>\n",
       "      <td>2.67</td>\n",
       "      <td>12.00</td>\n",
       "      <td>20.30</td>\n",
       "      <td>3</td>\n",
       "      <td>NaN</td>\n",
       "      <td>False</td>\n",
       "      <td>False</td>\n",
       "      <td>8.50</td>\n",
       "      <td>NaN</td>\n",
       "      <td>Санкт-Петербург</td>\n",
       "      <td>38357.00</td>\n",
       "      <td>13878.00</td>\n",
       "      <td>1.00</td>\n",
       "      <td>310.00</td>\n",
       "      <td>2.00</td>\n",
       "      <td>553.00</td>\n",
       "      <td>137.00</td>\n",
       "    </tr>\n",
       "    <tr>\n",
       "      <th>11</th>\n",
       "      <td>9</td>\n",
       "      <td>3300000.00</td>\n",
       "      <td>44.00</td>\n",
       "      <td>2018-08-27T00:00:00</td>\n",
       "      <td>2</td>\n",
       "      <td>NaN</td>\n",
       "      <td>5.00</td>\n",
       "      <td>31.00</td>\n",
       "      <td>4</td>\n",
       "      <td>False</td>\n",
       "      <td>False</td>\n",
       "      <td>False</td>\n",
       "      <td>6.00</td>\n",
       "      <td>1.00</td>\n",
       "      <td>Ломоносов</td>\n",
       "      <td>48252.00</td>\n",
       "      <td>51677.00</td>\n",
       "      <td>0.00</td>\n",
       "      <td>NaN</td>\n",
       "      <td>0.00</td>\n",
       "      <td>NaN</td>\n",
       "      <td>7.00</td>\n",
       "    </tr>\n",
       "    <tr>\n",
       "      <th>12</th>\n",
       "      <td>10</td>\n",
       "      <td>3890000.00</td>\n",
       "      <td>54.00</td>\n",
       "      <td>2016-06-30T00:00:00</td>\n",
       "      <td>2</td>\n",
       "      <td>NaN</td>\n",
       "      <td>5.00</td>\n",
       "      <td>30.00</td>\n",
       "      <td>5</td>\n",
       "      <td>NaN</td>\n",
       "      <td>False</td>\n",
       "      <td>False</td>\n",
       "      <td>9.00</td>\n",
       "      <td>0.00</td>\n",
       "      <td>Сертолово</td>\n",
       "      <td>NaN</td>\n",
       "      <td>NaN</td>\n",
       "      <td>NaN</td>\n",
       "      <td>NaN</td>\n",
       "      <td>NaN</td>\n",
       "      <td>NaN</td>\n",
       "      <td>90.00</td>\n",
       "    </tr>\n",
       "    <tr>\n",
       "      <th>13</th>\n",
       "      <td>20</td>\n",
       "      <td>3550000.00</td>\n",
       "      <td>42.80</td>\n",
       "      <td>2017-07-01T00:00:00</td>\n",
       "      <td>2</td>\n",
       "      <td>2.56</td>\n",
       "      <td>5.00</td>\n",
       "      <td>27.00</td>\n",
       "      <td>5</td>\n",
       "      <td>NaN</td>\n",
       "      <td>False</td>\n",
       "      <td>False</td>\n",
       "      <td>5.20</td>\n",
       "      <td>1.00</td>\n",
       "      <td>Петергоф</td>\n",
       "      <td>37868.00</td>\n",
       "      <td>33058.00</td>\n",
       "      <td>1.00</td>\n",
       "      <td>294.00</td>\n",
       "      <td>3.00</td>\n",
       "      <td>298.00</td>\n",
       "      <td>366.00</td>\n",
       "    </tr>\n",
       "    <tr>\n",
       "      <th>14</th>\n",
       "      <td>1</td>\n",
       "      <td>4400000.00</td>\n",
       "      <td>36.00</td>\n",
       "      <td>2016-06-23T00:00:00</td>\n",
       "      <td>1</td>\n",
       "      <td>NaN</td>\n",
       "      <td>6.00</td>\n",
       "      <td>17.00</td>\n",
       "      <td>1</td>\n",
       "      <td>NaN</td>\n",
       "      <td>False</td>\n",
       "      <td>False</td>\n",
       "      <td>8.00</td>\n",
       "      <td>0.00</td>\n",
       "      <td>Пушкин</td>\n",
       "      <td>20782.00</td>\n",
       "      <td>30759.00</td>\n",
       "      <td>0.00</td>\n",
       "      <td>NaN</td>\n",
       "      <td>1.00</td>\n",
       "      <td>96.00</td>\n",
       "      <td>203.00</td>\n",
       "    </tr>\n",
       "    <tr>\n",
       "      <th>15</th>\n",
       "      <td>16</td>\n",
       "      <td>4650000.00</td>\n",
       "      <td>39.00</td>\n",
       "      <td>2017-11-18T00:00:00</td>\n",
       "      <td>1</td>\n",
       "      <td>NaN</td>\n",
       "      <td>14.00</td>\n",
       "      <td>20.50</td>\n",
       "      <td>5</td>\n",
       "      <td>NaN</td>\n",
       "      <td>False</td>\n",
       "      <td>False</td>\n",
       "      <td>7.60</td>\n",
       "      <td>1.00</td>\n",
       "      <td>Санкт-Петербург</td>\n",
       "      <td>12900.00</td>\n",
       "      <td>14259.00</td>\n",
       "      <td>1.00</td>\n",
       "      <td>590.00</td>\n",
       "      <td>1.00</td>\n",
       "      <td>296.00</td>\n",
       "      <td>19.00</td>\n",
       "    </tr>\n",
       "    <tr>\n",
       "      <th>16</th>\n",
       "      <td>11</td>\n",
       "      <td>6700000.00</td>\n",
       "      <td>82.00</td>\n",
       "      <td>2017-11-23T00:00:00</td>\n",
       "      <td>3</td>\n",
       "      <td>3.05</td>\n",
       "      <td>5.00</td>\n",
       "      <td>55.60</td>\n",
       "      <td>1</td>\n",
       "      <td>NaN</td>\n",
       "      <td>False</td>\n",
       "      <td>False</td>\n",
       "      <td>9.00</td>\n",
       "      <td>NaN</td>\n",
       "      <td>Санкт-Петербург</td>\n",
       "      <td>22108.00</td>\n",
       "      <td>10698.00</td>\n",
       "      <td>3.00</td>\n",
       "      <td>420.00</td>\n",
       "      <td>0.00</td>\n",
       "      <td>NaN</td>\n",
       "      <td>397.00</td>\n",
       "    </tr>\n",
       "    <tr>\n",
       "      <th>17</th>\n",
       "      <td>6</td>\n",
       "      <td>4180000.00</td>\n",
       "      <td>36.00</td>\n",
       "      <td>2016-09-09T00:00:00</td>\n",
       "      <td>1</td>\n",
       "      <td>NaN</td>\n",
       "      <td>17.00</td>\n",
       "      <td>16.50</td>\n",
       "      <td>7</td>\n",
       "      <td>NaN</td>\n",
       "      <td>False</td>\n",
       "      <td>False</td>\n",
       "      <td>11.00</td>\n",
       "      <td>1.00</td>\n",
       "      <td>Санкт-Петербург</td>\n",
       "      <td>33564.00</td>\n",
       "      <td>14616.00</td>\n",
       "      <td>0.00</td>\n",
       "      <td>NaN</td>\n",
       "      <td>1.00</td>\n",
       "      <td>859.00</td>\n",
       "      <td>571.00</td>\n",
       "    </tr>\n",
       "    <tr>\n",
       "      <th>18</th>\n",
       "      <td>8</td>\n",
       "      <td>3250000.00</td>\n",
       "      <td>31.00</td>\n",
       "      <td>2017-01-27T00:00:00</td>\n",
       "      <td>1</td>\n",
       "      <td>2.50</td>\n",
       "      <td>5.00</td>\n",
       "      <td>19.40</td>\n",
       "      <td>2</td>\n",
       "      <td>NaN</td>\n",
       "      <td>False</td>\n",
       "      <td>False</td>\n",
       "      <td>5.60</td>\n",
       "      <td>1.00</td>\n",
       "      <td>Санкт-Петербург</td>\n",
       "      <td>44060.00</td>\n",
       "      <td>10842.00</td>\n",
       "      <td>1.00</td>\n",
       "      <td>759.00</td>\n",
       "      <td>0.00</td>\n",
       "      <td>NaN</td>\n",
       "      <td>168.00</td>\n",
       "    </tr>\n",
       "    <tr>\n",
       "      <th>19</th>\n",
       "      <td>16</td>\n",
       "      <td>14200000.00</td>\n",
       "      <td>121.00</td>\n",
       "      <td>2019-01-09T00:00:00</td>\n",
       "      <td>3</td>\n",
       "      <td>2.75</td>\n",
       "      <td>16.00</td>\n",
       "      <td>76.00</td>\n",
       "      <td>8</td>\n",
       "      <td>NaN</td>\n",
       "      <td>False</td>\n",
       "      <td>False</td>\n",
       "      <td>12.00</td>\n",
       "      <td>NaN</td>\n",
       "      <td>Санкт-Петербург</td>\n",
       "      <td>38900.00</td>\n",
       "      <td>12843.00</td>\n",
       "      <td>0.00</td>\n",
       "      <td>NaN</td>\n",
       "      <td>0.00</td>\n",
       "      <td>NaN</td>\n",
       "      <td>97.00</td>\n",
       "    </tr>\n",
       "  </tbody>\n",
       "</table>\n",
       "</div>"
      ],
      "text/plain": [
       "    total_images  last_price  total_area first_day_exposition  rooms  \\\n",
       "0             20 13000000.00      108.00  2019-03-07T00:00:00      3   \n",
       "1              7  3350000.00       40.40  2018-12-04T00:00:00      1   \n",
       "2             10  5196000.00       56.00  2015-08-20T00:00:00      2   \n",
       "3              0 64900000.00      159.00  2015-07-24T00:00:00      3   \n",
       "4              2 10000000.00      100.00  2018-06-19T00:00:00      2   \n",
       "5             10  2890000.00       30.40  2018-09-10T00:00:00      1   \n",
       "6              6  3700000.00       37.30  2017-11-02T00:00:00      1   \n",
       "7              5  7915000.00       71.60  2019-04-18T00:00:00      2   \n",
       "8             20  2900000.00       33.16  2018-05-23T00:00:00      1   \n",
       "9             18  5400000.00       61.00  2017-02-26T00:00:00      3   \n",
       "10             5  5050000.00       39.60  2017-11-16T00:00:00      1   \n",
       "11             9  3300000.00       44.00  2018-08-27T00:00:00      2   \n",
       "12            10  3890000.00       54.00  2016-06-30T00:00:00      2   \n",
       "13            20  3550000.00       42.80  2017-07-01T00:00:00      2   \n",
       "14             1  4400000.00       36.00  2016-06-23T00:00:00      1   \n",
       "15            16  4650000.00       39.00  2017-11-18T00:00:00      1   \n",
       "16            11  6700000.00       82.00  2017-11-23T00:00:00      3   \n",
       "17             6  4180000.00       36.00  2016-09-09T00:00:00      1   \n",
       "18             8  3250000.00       31.00  2017-01-27T00:00:00      1   \n",
       "19            16 14200000.00      121.00  2019-01-09T00:00:00      3   \n",
       "\n",
       "    ceiling_height  floors_total  living_area  floor is_apartment  studio  \\\n",
       "0             2.70         16.00        51.00      8          NaN   False   \n",
       "1              NaN         11.00        18.60      1          NaN   False   \n",
       "2              NaN          5.00        34.30      4          NaN   False   \n",
       "3              NaN         14.00          NaN      9          NaN   False   \n",
       "4             3.03         14.00        32.00     13          NaN   False   \n",
       "5              NaN         12.00        14.40      5          NaN   False   \n",
       "6              NaN         26.00        10.60      6          NaN   False   \n",
       "7              NaN         24.00          NaN     22          NaN   False   \n",
       "8              NaN         27.00        15.43     26          NaN   False   \n",
       "9             2.50          9.00        43.60      7          NaN   False   \n",
       "10            2.67         12.00        20.30      3          NaN   False   \n",
       "11             NaN          5.00        31.00      4        False   False   \n",
       "12             NaN          5.00        30.00      5          NaN   False   \n",
       "13            2.56          5.00        27.00      5          NaN   False   \n",
       "14             NaN          6.00        17.00      1          NaN   False   \n",
       "15             NaN         14.00        20.50      5          NaN   False   \n",
       "16            3.05          5.00        55.60      1          NaN   False   \n",
       "17             NaN         17.00        16.50      7          NaN   False   \n",
       "18            2.50          5.00        19.40      2          NaN   False   \n",
       "19            2.75         16.00        76.00      8          NaN   False   \n",
       "\n",
       "    open_plan  kitchen_area  balcony              locality_name  \\\n",
       "0       False         25.00      NaN            Санкт-Петербург   \n",
       "1       False         11.00     2.00             посёлок Шушары   \n",
       "2       False          8.30     0.00            Санкт-Петербург   \n",
       "3       False           NaN     0.00            Санкт-Петербург   \n",
       "4       False         41.00      NaN            Санкт-Петербург   \n",
       "5       False          9.10      NaN  городской посёлок Янино-1   \n",
       "6       False         14.40     1.00          посёлок Парголово   \n",
       "7       False         18.90     2.00            Санкт-Петербург   \n",
       "8       False          8.81      NaN             посёлок Мурино   \n",
       "9       False          6.50     2.00            Санкт-Петербург   \n",
       "10      False          8.50      NaN            Санкт-Петербург   \n",
       "11      False          6.00     1.00                  Ломоносов   \n",
       "12      False          9.00     0.00                  Сертолово   \n",
       "13      False          5.20     1.00                   Петергоф   \n",
       "14      False          8.00     0.00                     Пушкин   \n",
       "15      False          7.60     1.00            Санкт-Петербург   \n",
       "16      False          9.00      NaN            Санкт-Петербург   \n",
       "17      False         11.00     1.00            Санкт-Петербург   \n",
       "18      False          5.60     1.00            Санкт-Петербург   \n",
       "19      False         12.00      NaN            Санкт-Петербург   \n",
       "\n",
       "    airports_nearest  cityCenters_nearest  parks_around3000  parks_nearest  \\\n",
       "0           18863.00             16028.00              1.00         482.00   \n",
       "1           12817.00             18603.00              0.00            NaN   \n",
       "2           21741.00             13933.00              1.00          90.00   \n",
       "3           28098.00              6800.00              2.00          84.00   \n",
       "4           31856.00              8098.00              2.00         112.00   \n",
       "5                NaN                  NaN               NaN            NaN   \n",
       "6           52996.00             19143.00              0.00            NaN   \n",
       "7           23982.00             11634.00              0.00            NaN   \n",
       "8                NaN                  NaN               NaN            NaN   \n",
       "9           50898.00             15008.00              0.00            NaN   \n",
       "10          38357.00             13878.00              1.00         310.00   \n",
       "11          48252.00             51677.00              0.00            NaN   \n",
       "12               NaN                  NaN               NaN            NaN   \n",
       "13          37868.00             33058.00              1.00         294.00   \n",
       "14          20782.00             30759.00              0.00            NaN   \n",
       "15          12900.00             14259.00              1.00         590.00   \n",
       "16          22108.00             10698.00              3.00         420.00   \n",
       "17          33564.00             14616.00              0.00            NaN   \n",
       "18          44060.00             10842.00              1.00         759.00   \n",
       "19          38900.00             12843.00              0.00            NaN   \n",
       "\n",
       "    ponds_around3000  ponds_nearest  days_exposition  \n",
       "0               2.00         755.00              NaN  \n",
       "1               0.00            NaN            81.00  \n",
       "2               2.00         574.00           558.00  \n",
       "3               3.00         234.00           424.00  \n",
       "4               1.00          48.00           121.00  \n",
       "5                NaN            NaN            55.00  \n",
       "6               0.00            NaN           155.00  \n",
       "7               0.00            NaN              NaN  \n",
       "8                NaN            NaN           189.00  \n",
       "9               0.00            NaN           289.00  \n",
       "10              2.00         553.00           137.00  \n",
       "11              0.00            NaN             7.00  \n",
       "12               NaN            NaN            90.00  \n",
       "13              3.00         298.00           366.00  \n",
       "14              1.00          96.00           203.00  \n",
       "15              1.00         296.00            19.00  \n",
       "16              0.00            NaN           397.00  \n",
       "17              1.00         859.00           571.00  \n",
       "18              0.00            NaN           168.00  \n",
       "19              0.00            NaN            97.00  "
      ]
     },
     "execution_count": 4,
     "metadata": {},
     "output_type": "execute_result"
    }
   ],
   "source": [
    "pd.set_option('max_rows', 20)\n",
    "pd.set_option('display.max_colwidth', None)\n",
    "pd.set_option('display.max_columns', None)\n",
    "pd.set_option('display.float_format', '{:.2f}'.format)\n",
    "data.head(20)"
   ]
  },
  {
   "cell_type": "code",
   "execution_count": 5,
   "metadata": {},
   "outputs": [
    {
     "data": {
      "image/png": "[encoded data removed]",
      "text/plain": [
       "<Figure size 1080x1440 with 20 Axes>"
      ]
     },
     "metadata": {
      "needs_background": "light"
     },
     "output_type": "display_data"
    }
   ],
   "source": [
    "data.hist(figsize=(15, 20));"
   ]
  },
  {
   "cell_type": "markdown",
   "metadata": {},
   "source": [
    "Пропуски есть в ячейках: \n",
    "* высота потолков, \n",
    "* жилая площадь, \n",
    "* апартаменты, \n",
    "* площадь кухни, \n",
    "* балкон, \n",
    "* расст. до аэропорта, \n",
    "* до центра, \n",
    "* парки 3000, \n",
    "* ближайшие парки, \n",
    "* пруды 3000, \n",
    "* ближайшие пруды, \n",
    "* дней в продаже.\n",
    "\n",
    "Причины: \n",
    "* высота потолков - стандарт/не мерили, \n",
    "* жилая площадь - не вычисляли; \n",
    "* апартаменты - 90% нет, \n",
    "* площадь кухни - не придавали значения,\n",
    "* балкон - 99,9% нет, \n",
    "* расст. до аэропорта - не считали/ошибка картографии, \n",
    "* до центра - не задумывались/ошибка картографии,\n",
    "* парки 3000 - ошибка картографии\n",
    "* ближайшие парки - не думали/ошибка картографии, \n",
    "* пруды 3000 - ошибка картографии,\n",
    "* ближайшие пруды - /ошибка картографии,\n",
    "* дней в продаже - ошибка вычислений или объект продан к моменту индексации.\n",
    "\n",
    "is_apartment - перевести в тип bool (несоответствие из-за пропусков, изменится сам, после удаления пропусков)\n",
    "<br>\n",
    "floors_total - д.б. int64\n",
    "<br>\n",
    "balcony - д.б. int64\n",
    "<br>\n",
    "<br>\n",
    "Выбросы есть по высоте потолков (более 10 м) <br> и общей площади: 12 м - это не квартира, 900 м - это ж стадион целый."
   ]
  },
  {
   "cell_type": "markdown",
   "metadata": {},
   "source": [
    "### Предобработка данных"
   ]
  },
  {
   "cell_type": "code",
   "execution_count": 6,
   "metadata": {
    "scrolled": true
   },
   "outputs": [
    {
     "name": "stdout",
     "output_type": "stream",
     "text": [
      "ceiling_height - 9195\n",
      "floors_total - 86\n",
      "living_area - 1903\n",
      "is_apartment - 20924\n",
      "kitchen_area - 2278\n",
      "balcony - 11519\n",
      "locality_name - 49\n",
      "airports_nearest - 5542\n",
      "cityCenters_nearest - 5519\n",
      "parks_around3000 - 5518\n",
      "parks_nearest - 15620\n",
      "ponds_around3000 - 5518\n",
      "ponds_nearest - 14589\n",
      "days_exposition - 3181\n"
     ]
    }
   ],
   "source": [
    "# Смотрим кол-во пропусков по столбцам\n",
    "for i in data:\n",
    "    if len(data[data[i].isna()]) != 0:\n",
    "        print(i, '-', len(data[data[i].isna()])) # выводим только пропуски"
   ]
  },
  {
   "cell_type": "markdown",
   "metadata": {},
   "source": [
    "Пропуски есть в ячейках: \n",
    "* высота потолков, \n",
    "* жилая площадь, \n",
    "* апартаменты, \n",
    "* площадь кухни, \n",
    "* балкон, \n",
    "* расст. до аэропорта, \n",
    "* до центра, \n",
    "* парки 3000, \n",
    "* ближайшие парки, \n",
    "* пруды 3000, \n",
    "* ближайшие пруды, \n",
    "* дней в продаже.\n",
    "\n",
    "Причины: \n",
    "* высота потолков - стандарт/не мерили, \n",
    "* жилая площадь - не вычисляли; \n",
    "* апартаменты - 90% нет, \n",
    "* площадь кухни - не придавали значения,\n",
    "* балкон - 99,9% нет, \n",
    "* расст. до аэропорта - не считали/ошибка картографии, \n",
    "* до центра - не задумывались/ошибка картографии,\n",
    "* парки 3000 - ошибка картографии\n",
    "* ближайшие парки - не думали/ошибка картографии, \n",
    "* пруды 3000 - ошибка картографии,\n",
    "* ближайшие пруды - /ошибка картографии,\n",
    "* дней в продаже - ошибка вычислений или объект продан к моменту индексации.\n",
    "\n",
    "is_apartment - перевести в тип bool (несоответствие из-за пропусков, изменится сам, после удаления пропусков)\n",
    "</b>\n",
    "floors_total - д.б. int64\n",
    "</b>\n",
    "balcony - д.б. int64\n",
    "\n"
   ]
  },
  {
   "cell_type": "code",
   "execution_count": 7,
   "metadata": {},
   "outputs": [
    {
     "name": "stdout",
     "output_type": "stream",
     "text": [
      "floors_total\n",
      "22.00     286\n",
      "19.00     339\n",
      "23.00     352\n",
      "15.00     365\n",
      "2.00      383\n",
      "8.00      390\n",
      "24.00     469\n",
      "18.00     505\n",
      "14.00     553\n",
      "7.00      592\n",
      "3.00      668\n",
      "17.00     833\n",
      "6.00      914\n",
      "25.00    1075\n",
      "10.00    1174\n",
      "4.00     1200\n",
      "12.00    1362\n",
      "16.00    1376\n",
      "9.00     3761\n",
      "5.00     5788\n",
      "Name: rooms, dtype: int64\n",
      "12.0\n",
      "900.0\n"
     ]
    }
   ],
   "source": [
    "#print('ceiling_height_min -', data['ceiling_height'].min())\n",
    "#print('ceiling_height_max -', data['ceiling_height'].max())\n",
    "#print(data['ceiling_height'].unique())\n",
    "#print(data.groupby('ceiling_height')['rooms'].count().head(20))\n",
    "#print(data.groupby('ceiling_height').agg({'rooms': 'count'}).tail(20))\n",
    "print(data.groupby('floors_total')['rooms'].count().sort_values().tail(20))\n",
    "#print(data['balcony'].unique())\n",
    "#print(data.groupby('balcony')['balcony'].count())\n",
    "#print(data['rooms'].unique())\n",
    "#print(data['locality_name'].unique())\n",
    "print(data['total_area'].min())\n",
    "print(data['total_area'].max())\n",
    "#print(data['total_area'].tail(10))"
   ]
  },
  {
   "cell_type": "code",
   "execution_count": 8,
   "metadata": {},
   "outputs": [],
   "source": [
    "# Убираем пропуски в кол-ве балконов\n",
    "data['balcony'] = data['balcony'].fillna(0) # Предполагаем НаН, как отсутствие балкона"
   ]
  },
  {
   "cell_type": "code",
   "execution_count": 9,
   "metadata": {},
   "outputs": [],
   "source": [
    "# Убираем пропуски в возможности прописки\n",
    "data['is_apartment'] = data['is_apartment'].fillna(False) # Предполагаем NaN, как \"не апартаменты\""
   ]
  },
  {
   "cell_type": "code",
   "execution_count": 10,
   "metadata": {},
   "outputs": [],
   "source": [
    "# Убираем пропуски в этажности зданий\n",
    "# перебираем набор уникальных значений столбца floors_total\n",
    "for i in data['floors_total'].unique():\n",
    "    # на каждом шаге цикла с помощью атрибута loc выбираем строки,\n",
    "    # в которых есть пропуски в floors_total и этажность меньше или равна 9 и записываем в них типовую застройку в 9 эт.\n",
    "    data.loc[(data['floors_total'].isna()) & (data['floor'] <= 9), 'floors_total'] = 9\n",
    "    # во всех остальных строках, считаем этаж последним. \n",
    "    data.loc[(data['floors_total'].isna()), 'floors_total'] = data.loc[(data['floors_total'].isna()), 'floor']"
   ]
  },
  {
   "cell_type": "code",
   "execution_count": 11,
   "metadata": {},
   "outputs": [],
   "source": [
    "# Работаем с высотой потолков\n",
    "ceiling_height_median_before = data['ceiling_height'].median() # медиана до внесения изменений\n",
    "ceiling_height_mean_before = data['ceiling_height'].mean() # среднее до внесения изменений"
   ]
  },
  {
   "cell_type": "code",
   "execution_count": 12,
   "metadata": {
    "scrolled": true
   },
   "outputs": [],
   "source": [
    "# перебираем уникальные значения столбца ceiling_height\n",
    "for i in data['ceiling_height'].unique():\n",
    "    # на каждом шаге цикла с помощью атрибута loc выбираем строки с высотой более 10 м и уменьшаем её на порядок\n",
    "    data.loc[(data['ceiling_height'] > 10), 'ceiling_height'] /= 10\n",
    "# перебираем уникальные значения столбца ceiling_height\n",
    "for i in data['ceiling_height'].unique():\n",
    "    # на каждом шаге цикла с помощью атрибута loc выбираем строки с высотой менее 2 м и увеличиваем на 1 м.\n",
    "    data.loc[(data['ceiling_height'] < 2), 'ceiling_height'] += 1\n",
    "# перебираем уникальные значения столбца ceiling_height\n",
    "for i in data['ceiling_height'].unique():\n",
    "    # на каждом шаге цикла с помощью атрибута loc выбираем строки с высотой менее 2,2 м и увеличиваем на 0,2 м.\n",
    "    data.loc[(data['ceiling_height'] < 2.2), 'ceiling_height'] += 0.2"
   ]
  },
  {
   "cell_type": "code",
   "execution_count": 13,
   "metadata": {},
   "outputs": [],
   "source": [
    "ceiling_height_median_after = data['ceiling_height'].median() # медиана после внесения изменений\n",
    "ceiling_height_mean_after = data['ceiling_height'].mean() # среднее после внесения изменений"
   ]
  },
  {
   "cell_type": "code",
   "execution_count": 14,
   "metadata": {},
   "outputs": [
    {
     "name": "stdout",
     "output_type": "stream",
     "text": [
      "ceiling_height_median_before - 2.65\n",
      "ceiling_height_mean_before - 2.77149889685604\n",
      "ceiling_height_median_after - 2.65\n",
      "ceiling_height_mean_after - 2.728637617209046\n",
      "Медиана не изменилась, ожидается мин. искажение данных\n",
      "Среднее подтянулось к медиане\n"
     ]
    }
   ],
   "source": [
    "print('ceiling_height_median_before -', ceiling_height_median_before)\n",
    "print('ceiling_height_mean_before -', ceiling_height_mean_before)    \n",
    "print('ceiling_height_median_after -', ceiling_height_median_after)\n",
    "print('ceiling_height_mean_after -', ceiling_height_mean_after)\n",
    "if ceiling_height_median_before == ceiling_height_median_after:\n",
    "    print('Медиана не изменилась, ожидается мин. искажение данных')\n",
    "if (ceiling_height_mean_before-ceiling_height_median_before) > (ceiling_height_mean_after-ceiling_height_median_after):\n",
    "    print('Среднее подтянулось к медиане')"
   ]
  },
  {
   "cell_type": "code",
   "execution_count": 15,
   "metadata": {},
   "outputs": [],
   "source": [
    "# Теперь можно заменить пропуски на медиану\n",
    "data['ceiling_height'] = data['ceiling_height'].fillna(ceiling_height_median_after)"
   ]
  },
  {
   "cell_type": "code",
   "execution_count": 16,
   "metadata": {},
   "outputs": [
    {
     "name": "stdout",
     "output_type": "stream",
     "text": [
      "days_exposition_median - 95.0\n",
      "days_exposition_mean - 180.88863436982163\n"
     ]
    }
   ],
   "source": [
    "# Работаем с временем в продаже\n",
    "print('days_exposition_median -', data['days_exposition'].median())\n",
    "print('days_exposition_mean -', data['days_exposition'].mean())"
   ]
  },
  {
   "cell_type": "code",
   "execution_count": 17,
   "metadata": {},
   "outputs": [],
   "source": [
    "# Работаем по площадям\n",
    "# перебираем уникальные значения столбца living_area\n",
    "for i in data['living_area'].unique():\n",
    "    # на каждом шаге цикла с помощью атрибута loc выбираем строки, в которых есть пропуски в living_area и это студия \n",
    "    # записываем разницумежду общей площадью и мин. площадью \"с/у+коридор+кух_зона\" = 4 + 1 + 2\n",
    "    data.loc[(data['living_area'].isna()) & (data['studio'] == True), 'living_area'] = \\\n",
    "        data.loc[(data['living_area'].isna()) & (data['studio'] == True), 'total_area'] - 7"
   ]
  },
  {
   "cell_type": "code",
   "execution_count": 18,
   "metadata": {},
   "outputs": [],
   "source": [
    "# перебираем уникальные значения столбца living_area\n",
    "for i in data['living_area'].unique():\n",
    "    # на каждом шаге цикла с помощью атрибута loc выбираем строки, в которых есть пропуски в living_area, kitchen_area и это студия \n",
    "    # всесто пропусков размера кух.зоны ставим 2 м, в студиях редко бывает больше\n",
    "    data.loc[(data['living_area'].isna()) & (data['kitchen_area'].isna()) & (data['studio'] == True), 'kitchen_area'] = 2"
   ]
  },
  {
   "cell_type": "code",
   "execution_count": 19,
   "metadata": {},
   "outputs": [],
   "source": [
    "# перебираем уникальные значения столбца living_area\n",
    "for i in data['living_area'].unique():\n",
    "    # на каждом шаге цикла с помощью атрибута loc выбираем строки, в которых есть пропуски в living_area и это 1 ккв. \n",
    "    # записываем разницумежду общей площадью и мин. площадью \"с/у+коридор+кухня\" = 4 + 2 + 6\n",
    "    data.loc[(data['living_area'].isna()) & (data['rooms'] == 1), 'living_area'] = \\\n",
    "        data.loc[(data['living_area'].isna()) & (data['rooms'] == 1), 'total_area'] - 12"
   ]
  },
  {
   "cell_type": "code",
   "execution_count": 20,
   "metadata": {},
   "outputs": [],
   "source": [
    "# перебираем уникальные значения столбца living_area\n",
    "for i in data['living_area'].unique():\n",
    "    # на каждом шаге цикла с помощью атрибута loc выбираем строки, в которых есть пропуски в living_area, kitchen_area икомнат нет \n",
    "    # всесто пропусков размера жилой и кух.зоны ставим 0, видимо, это что-то GP\n",
    "    data.loc[(data['living_area'].isna()) & (data['kitchen_area'].isna()) & (data['rooms'] == 0), 'kitchen_area'] = 0\n",
    "    data.loc[(data['living_area'].isna()) & (data['kitchen_area'].isna()) & (data['rooms'] == 0), 'living_area'] = 0"
   ]
  },
  {
   "cell_type": "code",
   "execution_count": 21,
   "metadata": {},
   "outputs": [],
   "source": [
    "# перебираем уникальные значения столбца living_area\n",
    "for i in data['living_area'].unique():\n",
    "    # на каждом шаге цикла с помощью атрибута loc выбираем строки, в которых есть пропуски в living_area, kitchen_area не 0 и комнат нет \n",
    "    # всесто пропусков размера жилой ставим разницу м/у общей и кухней и отнимаем ещё 5 м (с/у и коридор)\n",
    "    data.loc[(data['living_area'].isna()) & (data['kitchen_area']>0) & (data['rooms'] == 0), 'living_area'] = \\\n",
    "    data.loc[(data['living_area'].isna()) & (data['kitchen_area'].isna()) & (data['rooms'] == 0), 'total_area'] - \\\n",
    "    data.loc[(data['living_area'].isna()) & (data['kitchen_area'].isna()) & (data['rooms'] == 0), 'kitchen_area'] - 5"
   ]
  },
  {
   "cell_type": "code",
   "execution_count": 22,
   "metadata": {},
   "outputs": [],
   "source": [
    "# перебираем уникальные значения столбца rooms\n",
    "for i in data['rooms'].unique():\n",
    "    # присваиваем пустым значениям медиану д. данного кол-ва комнат\n",
    "    data.loc[(data['kitchen_area'].isna()) & (data['rooms'] == i), 'kitchen_area'] = \\\n",
    "    data.loc[(data['kitchen_area'].isna() == False) & (data['rooms'] == i), 'kitchen_area'].median()"
   ]
  },
  {
   "cell_type": "code",
   "execution_count": 23,
   "metadata": {},
   "outputs": [],
   "source": [
    "# перебираем уникальные значения столбца rooms\n",
    "for i in data['rooms'].unique():\n",
    "    # присваиваем пустым значениям разницу м/у общей, кухней, с/у (4+2) и коридором (2)\n",
    "    data.loc[(data['living_area'].isna()) & (data['rooms'] == i), 'living_area'] = \\\n",
    "    data.loc[(data['living_area'].isna()) & (data['rooms'] == i), 'total_area'] - \\\n",
    "    data.loc[(data['living_area'].isna()) & (data['rooms'] == i), 'kitchen_area'] - 8"
   ]
  },
  {
   "cell_type": "code",
   "execution_count": 24,
   "metadata": {},
   "outputs": [
    {
     "name": "stdout",
     "output_type": "stream",
     "text": [
      "35.47079967559812\n",
      "30.3\n",
      "10.377513819148488\n",
      "9.04\n"
     ]
    }
   ],
   "source": [
    "print(data['living_area'].mean())\n",
    "print(data['living_area'].median())\n",
    "print(data['kitchen_area'].mean())\n",
    "print(data['kitchen_area'].median())"
   ]
  },
  {
   "cell_type": "code",
   "execution_count": 25,
   "metadata": {},
   "outputs": [
    {
     "name": "stdout",
     "output_type": "stream",
     "text": [
      "365\n"
     ]
    }
   ],
   "source": [
    "print(len(data['locality_name'].unique()))"
   ]
  },
  {
   "cell_type": "code",
   "execution_count": 26,
   "metadata": {},
   "outputs": [],
   "source": [
    "def replace_duplicates_locality_name(row):\n",
    "    try:\n",
    "        if 'Кудрово' in row:\n",
    "            return 'Кудрово'\n",
    "        elif 'Мурино' in row:\n",
    "            return 'Мурино'\n",
    "        elif 'сад' in row:\n",
    "            row = row.replace('товарищество ', '')\n",
    "            row = row.replace('некоммерческое ', '')\n",
    "            row = row.replace('садовое', 'садоводство')\n",
    "            row = row.replace('садоводческое', 'садоводство')\n",
    "        elif 'поселок' in row:\n",
    "            row = row.replace('поселок', 'посёлок')\n",
    "            if 'городск' in row:\n",
    "                row = row.replace('городской ', '')\n",
    "                row = row.replace('городского типа ', '')\n",
    "            elif 'станции' in row:\n",
    "                row = row.replace('станции ', '')\n",
    "            elif 'коттеджный' in row:\n",
    "                row = row.replace('коттеджный ', '')\n",
    "            return row\n",
    "        elif 'посёлок' in row:\n",
    "            if 'городск' in row:\n",
    "                row = row.replace('городской ', '')\n",
    "                row = row.replace('городского типа ', '')\n",
    "            elif 'станции' in row:\n",
    "                row = row.replace('станции ', '')\n",
    "            elif 'коттеджный' in row:\n",
    "                row = row.replace('коттеджный ', '')\n",
    "            return row\n",
    "\n",
    "        else:\n",
    "            return row\n",
    "    except:\n",
    "        return row"
   ]
  },
  {
   "cell_type": "code",
   "execution_count": 27,
   "metadata": {},
   "outputs": [
    {
     "name": "stdout",
     "output_type": "stream",
     "text": [
      "314\n"
     ]
    }
   ],
   "source": [
    "data['locality_name'] = data['locality_name'].apply(replace_duplicates_locality_name)\n",
    "print(len(data['locality_name'].unique()))"
   ]
  },
  {
   "cell_type": "code",
   "execution_count": 28,
   "metadata": {},
   "outputs": [],
   "source": [
    "# Удаляем строки без населённого пункта\n",
    "data = data.dropna(how='any', subset=['locality_name'])"
   ]
  },
  {
   "cell_type": "code",
   "execution_count": 29,
   "metadata": {},
   "outputs": [],
   "source": [
    "# Меняем тип данных\n",
    "#print(data['floors_total'].unique())\n",
    "data['floors_total'] = data['floors_total'].astype('int')\n",
    "#print(data['floors_total'].unique())\n",
    "#print()\n",
    "#print(data['balcony'].unique())\n",
    "data['balcony'] = data['balcony'].astype('int')\n",
    "#print(data['balcony'].unique())\n",
    "#data['cityCenters_nearest_km'] = data['cityCenters_nearest_km'].astype('int')"
   ]
  },
  {
   "cell_type": "code",
   "execution_count": 30,
   "metadata": {
    "scrolled": true
   },
   "outputs": [
    {
     "name": "stdout",
     "output_type": "stream",
     "text": [
      "airports_nearest - 5528\n",
      "cityCenters_nearest - 5505\n",
      "parks_around3000 - 5504\n",
      "parks_nearest - 15580\n",
      "ponds_around3000 - 5504\n",
      "ponds_nearest - 14559\n",
      "days_exposition - 3179\n"
     ]
    }
   ],
   "source": [
    "# Смотрим кол-во пропусков по столбцам\n",
    "for i in data:\n",
    "    if len(data[data[i].isna()]) != 0:\n",
    "        print(i, '-', len(data[data[i].isna()])) # выводим только пропуски"
   ]
  },
  {
   "cell_type": "code",
   "execution_count": 31,
   "metadata": {},
   "outputs": [
    {
     "name": "stdout",
     "output_type": "stream",
     "text": [
      "<class 'pandas.core.frame.DataFrame'>\n",
      "Int64Index: 23644 entries, 0 to 23698\n",
      "Data columns (total 22 columns):\n",
      " #   Column                Non-Null Count  Dtype  \n",
      "---  ------                --------------  -----  \n",
      " 0   total_images          23644 non-null  int64  \n",
      " 1   last_price            23644 non-null  float64\n",
      " 2   total_area            23644 non-null  float64\n",
      " 3   first_day_exposition  23644 non-null  object \n",
      " 4   rooms                 23644 non-null  int64  \n",
      " 5   ceiling_height        23644 non-null  float64\n",
      " 6   floors_total          23644 non-null  int64  \n",
      " 7   living_area           23644 non-null  float64\n",
      " 8   floor                 23644 non-null  int64  \n",
      " 9   is_apartment          23644 non-null  bool   \n",
      " 10  studio                23644 non-null  bool   \n",
      " 11  open_plan             23644 non-null  bool   \n",
      " 12  kitchen_area          23644 non-null  float64\n",
      " 13  balcony               23644 non-null  int64  \n",
      " 14  locality_name         23644 non-null  object \n",
      " 15  airports_nearest      18116 non-null  float64\n",
      " 16  cityCenters_nearest   18139 non-null  float64\n",
      " 17  parks_around3000      18140 non-null  float64\n",
      " 18  parks_nearest         8064 non-null   float64\n",
      " 19  ponds_around3000      18140 non-null  float64\n",
      " 20  ponds_nearest         9085 non-null   float64\n",
      " 21  days_exposition       20465 non-null  float64\n",
      "dtypes: bool(3), float64(12), int64(5), object(2)\n",
      "memory usage: 3.7+ MB\n"
     ]
    }
   ],
   "source": [
    "data.info()"
   ]
  },
  {
   "cell_type": "code",
   "execution_count": 32,
   "metadata": {},
   "outputs": [
    {
     "data": {
      "text/html": [
       "<div>\n",
       "<style scoped>\n",
       "    .dataframe tbody tr th:only-of-type {\n",
       "        vertical-align: middle;\n",
       "    }\n",
       "\n",
       "    .dataframe tbody tr th {\n",
       "        vertical-align: top;\n",
       "    }\n",
       "\n",
       "    .dataframe thead th {\n",
       "        text-align: right;\n",
       "    }\n",
       "</style>\n",
       "<table border=\"1\" class=\"dataframe\">\n",
       "  <thead>\n",
       "    <tr style=\"text-align: right;\">\n",
       "      <th></th>\n",
       "      <th>last_price</th>\n",
       "      <th>total_area</th>\n",
       "      <th>rooms</th>\n",
       "      <th>living_area</th>\n",
       "      <th>floor</th>\n",
       "      <th>kitchen_area</th>\n",
       "      <th>floors_total</th>\n",
       "      <th>ceiling_height</th>\n",
       "    </tr>\n",
       "  </thead>\n",
       "  <tbody>\n",
       "    <tr>\n",
       "      <th>12971</th>\n",
       "      <td>763000000.00</td>\n",
       "      <td>400.00</td>\n",
       "      <td>7</td>\n",
       "      <td>250.00</td>\n",
       "      <td>10</td>\n",
       "      <td>20.00</td>\n",
       "      <td>10</td>\n",
       "      <td>2.65</td>\n",
       "    </tr>\n",
       "    <tr>\n",
       "      <th>19540</th>\n",
       "      <td>420000000.00</td>\n",
       "      <td>900.00</td>\n",
       "      <td>12</td>\n",
       "      <td>409.70</td>\n",
       "      <td>25</td>\n",
       "      <td>112.00</td>\n",
       "      <td>25</td>\n",
       "      <td>2.80</td>\n",
       "    </tr>\n",
       "    <tr>\n",
       "      <th>14706</th>\n",
       "      <td>401300000.00</td>\n",
       "      <td>401.00</td>\n",
       "      <td>5</td>\n",
       "      <td>204.00</td>\n",
       "      <td>9</td>\n",
       "      <td>24.00</td>\n",
       "      <td>9</td>\n",
       "      <td>2.65</td>\n",
       "    </tr>\n",
       "    <tr>\n",
       "      <th>1436</th>\n",
       "      <td>330000000.00</td>\n",
       "      <td>190.00</td>\n",
       "      <td>3</td>\n",
       "      <td>95.00</td>\n",
       "      <td>5</td>\n",
       "      <td>40.00</td>\n",
       "      <td>7</td>\n",
       "      <td>3.50</td>\n",
       "    </tr>\n",
       "    <tr>\n",
       "      <th>15651</th>\n",
       "      <td>300000000.00</td>\n",
       "      <td>618.00</td>\n",
       "      <td>7</td>\n",
       "      <td>258.00</td>\n",
       "      <td>5</td>\n",
       "      <td>70.00</td>\n",
       "      <td>7</td>\n",
       "      <td>3.40</td>\n",
       "    </tr>\n",
       "    <tr>\n",
       "      <th>22831</th>\n",
       "      <td>289238400.00</td>\n",
       "      <td>187.50</td>\n",
       "      <td>2</td>\n",
       "      <td>63.70</td>\n",
       "      <td>6</td>\n",
       "      <td>30.20</td>\n",
       "      <td>6</td>\n",
       "      <td>3.37</td>\n",
       "    </tr>\n",
       "    <tr>\n",
       "      <th>16461</th>\n",
       "      <td>245000000.00</td>\n",
       "      <td>285.70</td>\n",
       "      <td>6</td>\n",
       "      <td>182.80</td>\n",
       "      <td>4</td>\n",
       "      <td>29.80</td>\n",
       "      <td>7</td>\n",
       "      <td>3.35</td>\n",
       "    </tr>\n",
       "    <tr>\n",
       "      <th>13749</th>\n",
       "      <td>240000000.00</td>\n",
       "      <td>410.00</td>\n",
       "      <td>6</td>\n",
       "      <td>218.00</td>\n",
       "      <td>7</td>\n",
       "      <td>40.00</td>\n",
       "      <td>7</td>\n",
       "      <td>3.40</td>\n",
       "    </tr>\n",
       "    <tr>\n",
       "      <th>5893</th>\n",
       "      <td>230000000.00</td>\n",
       "      <td>500.00</td>\n",
       "      <td>6</td>\n",
       "      <td>452.00</td>\n",
       "      <td>7</td>\n",
       "      <td>40.00</td>\n",
       "      <td>7</td>\n",
       "      <td>2.65</td>\n",
       "    </tr>\n",
       "    <tr>\n",
       "      <th>8900</th>\n",
       "      <td>190870000.00</td>\n",
       "      <td>268.00</td>\n",
       "      <td>3</td>\n",
       "      <td>132.00</td>\n",
       "      <td>7</td>\n",
       "      <td>40.00</td>\n",
       "      <td>8</td>\n",
       "      <td>2.65</td>\n",
       "    </tr>\n",
       "  </tbody>\n",
       "</table>\n",
       "</div>"
      ],
      "text/plain": [
       "        last_price  total_area  rooms  living_area  floor  kitchen_area  \\\n",
       "12971 763000000.00      400.00      7       250.00     10         20.00   \n",
       "19540 420000000.00      900.00     12       409.70     25        112.00   \n",
       "14706 401300000.00      401.00      5       204.00      9         24.00   \n",
       "1436  330000000.00      190.00      3        95.00      5         40.00   \n",
       "15651 300000000.00      618.00      7       258.00      5         70.00   \n",
       "22831 289238400.00      187.50      2        63.70      6         30.20   \n",
       "16461 245000000.00      285.70      6       182.80      4         29.80   \n",
       "13749 240000000.00      410.00      6       218.00      7         40.00   \n",
       "5893  230000000.00      500.00      6       452.00      7         40.00   \n",
       "8900  190870000.00      268.00      3       132.00      7         40.00   \n",
       "\n",
       "       floors_total  ceiling_height  \n",
       "12971            10            2.65  \n",
       "19540            25            2.80  \n",
       "14706             9            2.65  \n",
       "1436              7            3.50  \n",
       "15651             7            3.40  \n",
       "22831             6            3.37  \n",
       "16461             7            3.35  \n",
       "13749             7            3.40  \n",
       "5893              7            2.65  \n",
       "8900              8            2.65  "
      ]
     },
     "metadata": {},
     "output_type": "display_data"
    },
    {
     "data": {
      "text/html": [
       "<div>\n",
       "<style scoped>\n",
       "    .dataframe tbody tr th:only-of-type {\n",
       "        vertical-align: middle;\n",
       "    }\n",
       "\n",
       "    .dataframe tbody tr th {\n",
       "        vertical-align: top;\n",
       "    }\n",
       "\n",
       "    .dataframe thead th {\n",
       "        text-align: right;\n",
       "    }\n",
       "</style>\n",
       "<table border=\"1\" class=\"dataframe\">\n",
       "  <thead>\n",
       "    <tr style=\"text-align: right;\">\n",
       "      <th></th>\n",
       "      <th>last_price</th>\n",
       "      <th>total_area</th>\n",
       "      <th>rooms</th>\n",
       "      <th>living_area</th>\n",
       "      <th>floor</th>\n",
       "      <th>kitchen_area</th>\n",
       "      <th>floors_total</th>\n",
       "      <th>ceiling_height</th>\n",
       "    </tr>\n",
       "  </thead>\n",
       "  <tbody>\n",
       "    <tr>\n",
       "      <th>12971</th>\n",
       "      <td>763000000.00</td>\n",
       "      <td>400.00</td>\n",
       "      <td>7</td>\n",
       "      <td>250.00</td>\n",
       "      <td>10</td>\n",
       "      <td>20.00</td>\n",
       "      <td>10</td>\n",
       "      <td>2.65</td>\n",
       "    </tr>\n",
       "    <tr>\n",
       "      <th>19540</th>\n",
       "      <td>420000000.00</td>\n",
       "      <td>900.00</td>\n",
       "      <td>12</td>\n",
       "      <td>409.70</td>\n",
       "      <td>25</td>\n",
       "      <td>112.00</td>\n",
       "      <td>25</td>\n",
       "      <td>2.80</td>\n",
       "    </tr>\n",
       "    <tr>\n",
       "      <th>14706</th>\n",
       "      <td>401300000.00</td>\n",
       "      <td>401.00</td>\n",
       "      <td>5</td>\n",
       "      <td>204.00</td>\n",
       "      <td>9</td>\n",
       "      <td>24.00</td>\n",
       "      <td>9</td>\n",
       "      <td>2.65</td>\n",
       "    </tr>\n",
       "    <tr>\n",
       "      <th>1436</th>\n",
       "      <td>330000000.00</td>\n",
       "      <td>190.00</td>\n",
       "      <td>3</td>\n",
       "      <td>95.00</td>\n",
       "      <td>5</td>\n",
       "      <td>40.00</td>\n",
       "      <td>7</td>\n",
       "      <td>3.50</td>\n",
       "    </tr>\n",
       "    <tr>\n",
       "      <th>15651</th>\n",
       "      <td>300000000.00</td>\n",
       "      <td>618.00</td>\n",
       "      <td>7</td>\n",
       "      <td>258.00</td>\n",
       "      <td>5</td>\n",
       "      <td>70.00</td>\n",
       "      <td>7</td>\n",
       "      <td>3.40</td>\n",
       "    </tr>\n",
       "    <tr>\n",
       "      <th>22831</th>\n",
       "      <td>289238400.00</td>\n",
       "      <td>187.50</td>\n",
       "      <td>2</td>\n",
       "      <td>63.70</td>\n",
       "      <td>6</td>\n",
       "      <td>30.20</td>\n",
       "      <td>6</td>\n",
       "      <td>3.37</td>\n",
       "    </tr>\n",
       "    <tr>\n",
       "      <th>16461</th>\n",
       "      <td>245000000.00</td>\n",
       "      <td>285.70</td>\n",
       "      <td>6</td>\n",
       "      <td>182.80</td>\n",
       "      <td>4</td>\n",
       "      <td>29.80</td>\n",
       "      <td>7</td>\n",
       "      <td>3.35</td>\n",
       "    </tr>\n",
       "    <tr>\n",
       "      <th>13749</th>\n",
       "      <td>240000000.00</td>\n",
       "      <td>410.00</td>\n",
       "      <td>6</td>\n",
       "      <td>218.00</td>\n",
       "      <td>7</td>\n",
       "      <td>40.00</td>\n",
       "      <td>7</td>\n",
       "      <td>3.40</td>\n",
       "    </tr>\n",
       "    <tr>\n",
       "      <th>5893</th>\n",
       "      <td>230000000.00</td>\n",
       "      <td>500.00</td>\n",
       "      <td>6</td>\n",
       "      <td>452.00</td>\n",
       "      <td>7</td>\n",
       "      <td>40.00</td>\n",
       "      <td>7</td>\n",
       "      <td>2.65</td>\n",
       "    </tr>\n",
       "    <tr>\n",
       "      <th>8900</th>\n",
       "      <td>190870000.00</td>\n",
       "      <td>268.00</td>\n",
       "      <td>3</td>\n",
       "      <td>132.00</td>\n",
       "      <td>7</td>\n",
       "      <td>40.00</td>\n",
       "      <td>8</td>\n",
       "      <td>2.65</td>\n",
       "    </tr>\n",
       "  </tbody>\n",
       "</table>\n",
       "</div>"
      ],
      "text/plain": [
       "        last_price  total_area  rooms  living_area  floor  kitchen_area  \\\n",
       "12971 763000000.00      400.00      7       250.00     10         20.00   \n",
       "19540 420000000.00      900.00     12       409.70     25        112.00   \n",
       "14706 401300000.00      401.00      5       204.00      9         24.00   \n",
       "1436  330000000.00      190.00      3        95.00      5         40.00   \n",
       "15651 300000000.00      618.00      7       258.00      5         70.00   \n",
       "22831 289238400.00      187.50      2        63.70      6         30.20   \n",
       "16461 245000000.00      285.70      6       182.80      4         29.80   \n",
       "13749 240000000.00      410.00      6       218.00      7         40.00   \n",
       "5893  230000000.00      500.00      6       452.00      7         40.00   \n",
       "8900  190870000.00      268.00      3       132.00      7         40.00   \n",
       "\n",
       "       floors_total  ceiling_height  \n",
       "12971            10            2.65  \n",
       "19540            25            2.80  \n",
       "14706             9            2.65  \n",
       "1436              7            3.50  \n",
       "15651             7            3.40  \n",
       "22831             6            3.37  \n",
       "16461             7            3.35  \n",
       "13749             7            3.40  \n",
       "5893              7            2.65  \n",
       "8900              8            2.65  "
      ]
     },
     "metadata": {},
     "output_type": "display_data"
    },
    {
     "data": {
      "text/html": [
       "<div>\n",
       "<style scoped>\n",
       "    .dataframe tbody tr th:only-of-type {\n",
       "        vertical-align: middle;\n",
       "    }\n",
       "\n",
       "    .dataframe tbody tr th {\n",
       "        vertical-align: top;\n",
       "    }\n",
       "\n",
       "    .dataframe thead th {\n",
       "        text-align: right;\n",
       "    }\n",
       "</style>\n",
       "<table border=\"1\" class=\"dataframe\">\n",
       "  <thead>\n",
       "    <tr style=\"text-align: right;\">\n",
       "      <th></th>\n",
       "      <th>last_price</th>\n",
       "      <th>total_area</th>\n",
       "      <th>rooms</th>\n",
       "      <th>living_area</th>\n",
       "      <th>floor</th>\n",
       "      <th>kitchen_area</th>\n",
       "      <th>floors_total</th>\n",
       "      <th>ceiling_height</th>\n",
       "    </tr>\n",
       "  </thead>\n",
       "  <tbody>\n",
       "    <tr>\n",
       "      <th>14498</th>\n",
       "      <td>32250000.00</td>\n",
       "      <td>374.60</td>\n",
       "      <td>19</td>\n",
       "      <td>264.50</td>\n",
       "      <td>2</td>\n",
       "      <td>27.60</td>\n",
       "      <td>5</td>\n",
       "      <td>2.65</td>\n",
       "    </tr>\n",
       "    <tr>\n",
       "      <th>18848</th>\n",
       "      <td>28500000.00</td>\n",
       "      <td>270.00</td>\n",
       "      <td>16</td>\n",
       "      <td>180.00</td>\n",
       "      <td>4</td>\n",
       "      <td>13.00</td>\n",
       "      <td>4</td>\n",
       "      <td>3.00</td>\n",
       "    </tr>\n",
       "    <tr>\n",
       "      <th>5358</th>\n",
       "      <td>65000000.00</td>\n",
       "      <td>590.00</td>\n",
       "      <td>15</td>\n",
       "      <td>409.00</td>\n",
       "      <td>3</td>\n",
       "      <td>100.00</td>\n",
       "      <td>6</td>\n",
       "      <td>3.50</td>\n",
       "    </tr>\n",
       "    <tr>\n",
       "      <th>20829</th>\n",
       "      <td>28659000.00</td>\n",
       "      <td>245.40</td>\n",
       "      <td>14</td>\n",
       "      <td>168.30</td>\n",
       "      <td>2</td>\n",
       "      <td>25.90</td>\n",
       "      <td>4</td>\n",
       "      <td>2.65</td>\n",
       "    </tr>\n",
       "    <tr>\n",
       "      <th>866</th>\n",
       "      <td>25000000.00</td>\n",
       "      <td>363.00</td>\n",
       "      <td>14</td>\n",
       "      <td>222.00</td>\n",
       "      <td>4</td>\n",
       "      <td>16.60</td>\n",
       "      <td>5</td>\n",
       "      <td>3.16</td>\n",
       "    </tr>\n",
       "    <tr>\n",
       "      <th>19540</th>\n",
       "      <td>420000000.00</td>\n",
       "      <td>900.00</td>\n",
       "      <td>12</td>\n",
       "      <td>409.70</td>\n",
       "      <td>25</td>\n",
       "      <td>112.00</td>\n",
       "      <td>25</td>\n",
       "      <td>2.80</td>\n",
       "    </tr>\n",
       "    <tr>\n",
       "      <th>9688</th>\n",
       "      <td>33000000.00</td>\n",
       "      <td>194.10</td>\n",
       "      <td>11</td>\n",
       "      <td>129.00</td>\n",
       "      <td>2</td>\n",
       "      <td>11.90</td>\n",
       "      <td>5</td>\n",
       "      <td>3.43</td>\n",
       "    </tr>\n",
       "    <tr>\n",
       "      <th>648</th>\n",
       "      <td>17500000.00</td>\n",
       "      <td>183.70</td>\n",
       "      <td>11</td>\n",
       "      <td>138.80</td>\n",
       "      <td>7</td>\n",
       "      <td>13.30</td>\n",
       "      <td>7</td>\n",
       "      <td>3.40</td>\n",
       "    </tr>\n",
       "    <tr>\n",
       "      <th>18119</th>\n",
       "      <td>15500000.00</td>\n",
       "      <td>216.10</td>\n",
       "      <td>10</td>\n",
       "      <td>161.40</td>\n",
       "      <td>2</td>\n",
       "      <td>19.80</td>\n",
       "      <td>5</td>\n",
       "      <td>3.15</td>\n",
       "    </tr>\n",
       "    <tr>\n",
       "      <th>18891</th>\n",
       "      <td>40000000.00</td>\n",
       "      <td>290.00</td>\n",
       "      <td>10</td>\n",
       "      <td>189.40</td>\n",
       "      <td>6</td>\n",
       "      <td>30.00</td>\n",
       "      <td>6</td>\n",
       "      <td>3.50</td>\n",
       "    </tr>\n",
       "  </tbody>\n",
       "</table>\n",
       "</div>"
      ],
      "text/plain": [
       "        last_price  total_area  rooms  living_area  floor  kitchen_area  \\\n",
       "14498  32250000.00      374.60     19       264.50      2         27.60   \n",
       "18848  28500000.00      270.00     16       180.00      4         13.00   \n",
       "5358   65000000.00      590.00     15       409.00      3        100.00   \n",
       "20829  28659000.00      245.40     14       168.30      2         25.90   \n",
       "866    25000000.00      363.00     14       222.00      4         16.60   \n",
       "19540 420000000.00      900.00     12       409.70     25        112.00   \n",
       "9688   33000000.00      194.10     11       129.00      2         11.90   \n",
       "648    17500000.00      183.70     11       138.80      7         13.30   \n",
       "18119  15500000.00      216.10     10       161.40      2         19.80   \n",
       "18891  40000000.00      290.00     10       189.40      6         30.00   \n",
       "\n",
       "       floors_total  ceiling_height  \n",
       "14498             5            2.65  \n",
       "18848             4            3.00  \n",
       "5358              6            3.50  \n",
       "20829             4            2.65  \n",
       "866               5            3.16  \n",
       "19540            25            2.80  \n",
       "9688              5            3.43  \n",
       "648               7            3.40  \n",
       "18119             5            3.15  \n",
       "18891             6            3.50  "
      ]
     },
     "metadata": {},
     "output_type": "display_data"
    },
    {
     "data": {
      "text/html": [
       "<div>\n",
       "<style scoped>\n",
       "    .dataframe tbody tr th:only-of-type {\n",
       "        vertical-align: middle;\n",
       "    }\n",
       "\n",
       "    .dataframe tbody tr th {\n",
       "        vertical-align: top;\n",
       "    }\n",
       "\n",
       "    .dataframe thead th {\n",
       "        text-align: right;\n",
       "    }\n",
       "</style>\n",
       "<table border=\"1\" class=\"dataframe\">\n",
       "  <thead>\n",
       "    <tr style=\"text-align: right;\">\n",
       "      <th></th>\n",
       "      <th>last_price</th>\n",
       "      <th>total_area</th>\n",
       "      <th>rooms</th>\n",
       "      <th>living_area</th>\n",
       "      <th>floor</th>\n",
       "      <th>kitchen_area</th>\n",
       "      <th>floors_total</th>\n",
       "      <th>ceiling_height</th>\n",
       "    </tr>\n",
       "  </thead>\n",
       "  <tbody>\n",
       "    <tr>\n",
       "      <th>19540</th>\n",
       "      <td>420000000.00</td>\n",
       "      <td>900.00</td>\n",
       "      <td>12</td>\n",
       "      <td>409.70</td>\n",
       "      <td>25</td>\n",
       "      <td>112.00</td>\n",
       "      <td>25</td>\n",
       "      <td>2.80</td>\n",
       "    </tr>\n",
       "    <tr>\n",
       "      <th>12859</th>\n",
       "      <td>140000000.00</td>\n",
       "      <td>631.20</td>\n",
       "      <td>7</td>\n",
       "      <td>322.30</td>\n",
       "      <td>4</td>\n",
       "      <td>19.50</td>\n",
       "      <td>4</td>\n",
       "      <td>3.90</td>\n",
       "    </tr>\n",
       "    <tr>\n",
       "      <th>3117</th>\n",
       "      <td>140000000.00</td>\n",
       "      <td>631.00</td>\n",
       "      <td>7</td>\n",
       "      <td>563.00</td>\n",
       "      <td>5</td>\n",
       "      <td>60.00</td>\n",
       "      <td>5</td>\n",
       "      <td>2.65</td>\n",
       "    </tr>\n",
       "    <tr>\n",
       "      <th>15651</th>\n",
       "      <td>300000000.00</td>\n",
       "      <td>618.00</td>\n",
       "      <td>7</td>\n",
       "      <td>258.00</td>\n",
       "      <td>5</td>\n",
       "      <td>70.00</td>\n",
       "      <td>7</td>\n",
       "      <td>3.40</td>\n",
       "    </tr>\n",
       "    <tr>\n",
       "      <th>5358</th>\n",
       "      <td>65000000.00</td>\n",
       "      <td>590.00</td>\n",
       "      <td>15</td>\n",
       "      <td>409.00</td>\n",
       "      <td>3</td>\n",
       "      <td>100.00</td>\n",
       "      <td>6</td>\n",
       "      <td>3.50</td>\n",
       "    </tr>\n",
       "    <tr>\n",
       "      <th>4237</th>\n",
       "      <td>50000000.00</td>\n",
       "      <td>517.00</td>\n",
       "      <td>7</td>\n",
       "      <td>332.00</td>\n",
       "      <td>3</td>\n",
       "      <td>22.00</td>\n",
       "      <td>4</td>\n",
       "      <td>2.65</td>\n",
       "    </tr>\n",
       "    <tr>\n",
       "      <th>8018</th>\n",
       "      <td>84000000.00</td>\n",
       "      <td>507.00</td>\n",
       "      <td>5</td>\n",
       "      <td>301.50</td>\n",
       "      <td>7</td>\n",
       "      <td>45.50</td>\n",
       "      <td>7</td>\n",
       "      <td>4.45</td>\n",
       "    </tr>\n",
       "    <tr>\n",
       "      <th>15016</th>\n",
       "      <td>150000000.00</td>\n",
       "      <td>500.00</td>\n",
       "      <td>4</td>\n",
       "      <td>480.90</td>\n",
       "      <td>7</td>\n",
       "      <td>11.10</td>\n",
       "      <td>7</td>\n",
       "      <td>3.20</td>\n",
       "    </tr>\n",
       "    <tr>\n",
       "      <th>5893</th>\n",
       "      <td>230000000.00</td>\n",
       "      <td>500.00</td>\n",
       "      <td>6</td>\n",
       "      <td>452.00</td>\n",
       "      <td>7</td>\n",
       "      <td>40.00</td>\n",
       "      <td>7</td>\n",
       "      <td>2.65</td>\n",
       "    </tr>\n",
       "    <tr>\n",
       "      <th>12401</th>\n",
       "      <td>91500000.00</td>\n",
       "      <td>495.00</td>\n",
       "      <td>7</td>\n",
       "      <td>347.50</td>\n",
       "      <td>7</td>\n",
       "      <td>25.00</td>\n",
       "      <td>7</td>\n",
       "      <td>4.65</td>\n",
       "    </tr>\n",
       "  </tbody>\n",
       "</table>\n",
       "</div>"
      ],
      "text/plain": [
       "        last_price  total_area  rooms  living_area  floor  kitchen_area  \\\n",
       "19540 420000000.00      900.00     12       409.70     25        112.00   \n",
       "12859 140000000.00      631.20      7       322.30      4         19.50   \n",
       "3117  140000000.00      631.00      7       563.00      5         60.00   \n",
       "15651 300000000.00      618.00      7       258.00      5         70.00   \n",
       "5358   65000000.00      590.00     15       409.00      3        100.00   \n",
       "4237   50000000.00      517.00      7       332.00      3         22.00   \n",
       "8018   84000000.00      507.00      5       301.50      7         45.50   \n",
       "15016 150000000.00      500.00      4       480.90      7         11.10   \n",
       "5893  230000000.00      500.00      6       452.00      7         40.00   \n",
       "12401  91500000.00      495.00      7       347.50      7         25.00   \n",
       "\n",
       "       floors_total  ceiling_height  \n",
       "19540            25            2.80  \n",
       "12859             4            3.90  \n",
       "3117              5            2.65  \n",
       "15651             7            3.40  \n",
       "5358              6            3.50  \n",
       "4237              4            2.65  \n",
       "8018              7            4.45  \n",
       "15016             7            3.20  \n",
       "5893              7            2.65  \n",
       "12401             7            4.65  "
      ]
     },
     "metadata": {},
     "output_type": "display_data"
    }
   ],
   "source": [
    "display(data[['last_price', 'total_area', 'rooms', 'living_area', 'floor', 'kitchen_area', 'floors_total', 'ceiling_height']].sort_values(by='last_price', ascending=False).head(10))\n",
    "display(data[['last_price', 'total_area', 'rooms', 'living_area', 'floor', 'kitchen_area', 'floors_total', 'ceiling_height']].sort_values(by='last_price', ascending=False).head(10))\n",
    "display(data[['last_price', 'total_area', 'rooms', 'living_area', 'floor', 'kitchen_area', 'floors_total', 'ceiling_height']].sort_values(by='rooms', ascending=False).head(10))\n",
    "display(data[['last_price', 'total_area', 'rooms', 'living_area', 'floor', 'kitchen_area', 'floors_total', 'ceiling_height']].sort_values(by='total_area', ascending=False).head(10))"
   ]
  },
  {
   "cell_type": "code",
   "execution_count": 33,
   "metadata": {},
   "outputs": [
    {
     "name": "stdout",
     "output_type": "stream",
     "text": [
      "        total_area\n",
      "400.00           3\n",
      "310.00           2\n",
      "365.00           2\n",
      "500.00           2\n",
      "380.00           2\n",
      "...            ...\n",
      "374.00           1\n",
      "398.00           1\n",
      "470.30           1\n",
      "356.00           1\n",
      "316.30           1\n",
      "\n",
      "[54 rows x 1 columns]\n"
     ]
    }
   ],
   "source": [
    "#print(data.shape)\n",
    "#data[data['total_area' > 200], 'total_area'].value_counts().to_frame().tail(20)\n",
    "print(data.query('total_area > 300').total_area.value_counts().to_frame())\n",
    "old_data_shape = data.shape"
   ]
  },
  {
   "cell_type": "code",
   "execution_count": 34,
   "metadata": {},
   "outputs": [
    {
     "data": {
      "image/png": "[encoded data removed]",
      "text/plain": [
       "<Figure size 432x288 with 1 Axes>"
      ]
     },
     "metadata": {
      "needs_background": "light"
     },
     "output_type": "display_data"
    }
   ],
   "source": [
    "#код ревьюера\n",
    "data2 = pd.read_csv('/datasets/real_estate_data.csv', sep='\\t')\n",
    "(data2['total_area']).hist(bins=30);"
   ]
  },
  {
   "cell_type": "code",
   "execution_count": 35,
   "metadata": {},
   "outputs": [
    {
     "name": "stdout",
     "output_type": "stream",
     "text": [
      "199.2\n",
      "0.9887497885298596\n"
     ]
    },
    {
     "data": {
      "image/png": "[encoded data removed]",
      "text/plain": [
       "<Figure size 432x288 with 1 Axes>"
      ]
     },
     "metadata": {
      "needs_background": "light"
     },
     "output_type": "display_data"
    }
   ],
   "source": [
    "data = data.loc[data['total_area'] < 200]\n",
    "data = data.loc[data['total_area'] > 20]\n",
    "print(data['total_area'].max())\n",
    "new_data_shape = data.shape\n",
    "print(new_data_shape[0] / old_data_shape[0])\n",
    "data['total_area'].hist(bins=100);"
   ]
  },
  {
   "cell_type": "code",
   "execution_count": 36,
   "metadata": {},
   "outputs": [
    {
     "name": "stdout",
     "output_type": "stream",
     "text": [
      "19999000.0\n",
      "12190.0\n",
      "(22844, 22)\n",
      "0.9661647775334122\n"
     ]
    },
    {
     "data": {
      "image/png": "[encoded data removed]",
      "text/plain": [
       "<Figure size 432x288 with 1 Axes>"
      ]
     },
     "metadata": {
      "needs_background": "light"
     },
     "output_type": "display_data"
    }
   ],
   "source": [
    "data = data.loc[data['last_price'] < 20000000]\n",
    "data = data.loc[data['last_price'] > 20]\n",
    "print(data['last_price'].max())\n",
    "print(data['last_price'].min())\n",
    "new_data_shape = data.shape\n",
    "print(new_data_shape)\n",
    "print(new_data_shape[0] / old_data_shape[0])\n",
    "data['last_price'].hist(bins=30);"
   ]
  },
  {
   "cell_type": "code",
   "execution_count": 37,
   "metadata": {},
   "outputs": [
    {
     "name": "stdout",
     "output_type": "stream",
     "text": [
      "5\n",
      "(22593, 22)\n",
      "0.9555489764845204\n"
     ]
    },
    {
     "data": {
      "image/png": "[encoded data removed]",
      "text/plain": [
       "<Figure size 432x288 with 1 Axes>"
      ]
     },
     "metadata": {
      "needs_background": "light"
     },
     "output_type": "display_data"
    }
   ],
   "source": [
    "#print(data['rooms'].unique().count_values())\n",
    "data = data.loc[data['rooms'] < 6]\n",
    "data = data.loc[data['rooms'] > 0]\n",
    "print(data['rooms'].max())\n",
    "data['rooms'].hist();\n",
    "new_data_shape = data.shape\n",
    "print(new_data_shape)\n",
    "print(new_data_shape[0] / old_data_shape[0])"
   ]
  },
  {
   "cell_type": "code",
   "execution_count": 38,
   "metadata": {},
   "outputs": [
    {
     "data": {
      "text/plain": [
       "2.0"
      ]
     },
     "execution_count": 38,
     "metadata": {},
     "output_type": "execute_result"
    }
   ],
   "source": [
    "data['living_area'].min()"
   ]
  },
  {
   "cell_type": "markdown",
   "metadata": {},
   "source": [
    "### Добавим в таблицу новые столбцы"
   ]
  },
  {
   "cell_type": "code",
   "execution_count": 39,
   "metadata": {},
   "outputs": [],
   "source": [
    "data['price_per_meter'] = data['last_price'] / data['total_area']\n",
    "data['weekday_exposition'] =  pd.DatetimeIndex(data['first_day_exposition']).weekday\n",
    "data['month_exposition'] = pd.DatetimeIndex(data['first_day_exposition']).month\n",
    "data['year_exposition'] =  pd.DatetimeIndex(data['first_day_exposition']).year\n",
    "\n",
    "for i in data['floors_total']:\n",
    "    data.loc[(data['floor'] != i), 'floor_type'] = 'Другой'\n",
    "    data.loc[(data['floor'] == i), 'floor_type'] = 'Последний'\n",
    "    data.loc[(data['floor'] == 1), 'floor_type'] = 'Первый'\n",
    "\n",
    "data['cityCenters_nearest_km'] = round(data['cityCenters_nearest'] / 1000)"
   ]
  },
  {
   "cell_type": "code",
   "execution_count": 40,
   "metadata": {},
   "outputs": [],
   "source": [
    "#print(data.head(20))"
   ]
  },
  {
   "cell_type": "markdown",
   "metadata": {},
   "source": [
    "### Исследовательский анализ данных"
   ]
  },
  {
   "cell_type": "code",
   "execution_count": 41,
   "metadata": {},
   "outputs": [
    {
     "data": {
      "image/png": "[encoded data removed]",
      "text/plain": [
       "<Figure size 432x288 with 1 Axes>"
      ]
     },
     "metadata": {
      "needs_background": "light"
     },
     "output_type": "display_data"
    }
   ],
   "source": [
    "data.plot(y='total_area', kind='hist', bins=50, range=(20, 125));"
   ]
  },
  {
   "cell_type": "code",
   "execution_count": 42,
   "metadata": {},
   "outputs": [
    {
     "data": {
      "image/png": "[encoded data removed]",
      "text/plain": [
       "<Figure size 432x288 with 1 Axes>"
      ]
     },
     "metadata": {
      "needs_background": "light"
     },
     "output_type": "display_data"
    }
   ],
   "source": [
    "data.plot(y='living_area', kind='hist', bins=50, range=(12, 60));"
   ]
  },
  {
   "cell_type": "code",
   "execution_count": 43,
   "metadata": {},
   "outputs": [
    {
     "data": {
      "image/png": "[encoded data removed]",
      "text/plain": [
       "<Figure size 432x288 with 1 Axes>"
      ]
     },
     "metadata": {
      "needs_background": "light"
     },
     "output_type": "display_data"
    }
   ],
   "source": [
    "data.plot(y='kitchen_area', kind='hist', bins=50, range=(5, 20));"
   ]
  },
  {
   "cell_type": "code",
   "execution_count": 44,
   "metadata": {},
   "outputs": [
    {
     "data": {
      "image/png": "[encoded data removed]",
      "text/plain": [
       "<Figure size 432x288 with 1 Axes>"
      ]
     },
     "metadata": {
      "needs_background": "light"
     },
     "output_type": "display_data"
    }
   ],
   "source": [
    "data.plot(y='last_price', kind='hist', bins=50, range=(12, 12500000));"
   ]
  },
  {
   "cell_type": "code",
   "execution_count": 45,
   "metadata": {},
   "outputs": [
    {
     "data": {
      "image/png": "[encoded data removed]",
      "text/plain": [
       "<Figure size 432x288 with 1 Axes>"
      ]
     },
     "metadata": {
      "needs_background": "light"
     },
     "output_type": "display_data"
    }
   ],
   "source": [
    "data.plot(y='rooms', kind='hist', range=(1, 5));"
   ]
  },
  {
   "cell_type": "code",
   "execution_count": 46,
   "metadata": {},
   "outputs": [
    {
     "data": {
      "image/png": "[encoded data removed]",
      "text/plain": [
       "<Figure size 432x288 with 1 Axes>"
      ]
     },
     "metadata": {
      "needs_background": "light"
     },
     "output_type": "display_data"
    }
   ],
   "source": [
    "data.plot(y='ceiling_height', kind='hist', bins=20, range=(2.2, 4));"
   ]
  },
  {
   "cell_type": "code",
   "execution_count": 47,
   "metadata": {},
   "outputs": [
    {
     "data": {
      "image/png": "[encoded data removed]",
      "text/plain": [
       "<Figure size 432x288 with 1 Axes>"
      ]
     },
     "metadata": {
      "needs_background": "light"
     },
     "output_type": "display_data"
    }
   ],
   "source": [
    "data.plot(y='floor', kind='hist', bins=25, range=(1, 25));"
   ]
  },
  {
   "cell_type": "code",
   "execution_count": 48,
   "metadata": {},
   "outputs": [
    {
     "name": "stdout",
     "output_type": "stream",
     "text": [
      "            count\n",
      "            floor\n",
      "floor_type       \n",
      "Другой      17264\n",
      "Первый       2832\n",
      "Последний    2497\n"
     ]
    },
    {
     "data": {
      "image/png": "[encoded data removed]",
      "text/plain": [
       "<Figure size 432x288 with 1 Axes>"
      ]
     },
     "metadata": {
      "needs_background": "light"
     },
     "output_type": "display_data"
    }
   ],
   "source": [
    "print(data.pivot_table(index='floor_type', values='floor', aggfunc=['count']))\n",
    "#data.pivot_table(index='floor_type', values='floor', aggfunc=['count']).plot(y='count')\n",
    "data.pivot_table(index='floor_type', values='floor', aggfunc=['count']).plot(y='count', kind='bar');"
   ]
  },
  {
   "cell_type": "code",
   "execution_count": 49,
   "metadata": {},
   "outputs": [
    {
     "data": {
      "image/png": "[encoded data removed]",
      "text/plain": [
       "<Figure size 432x288 with 1 Axes>"
      ]
     },
     "metadata": {
      "needs_background": "light"
     },
     "output_type": "display_data"
    }
   ],
   "source": [
    "data.plot(y='floors_total', kind='hist', bins=26, range=(2, 28));"
   ]
  },
  {
   "cell_type": "code",
   "execution_count": 50,
   "metadata": {},
   "outputs": [
    {
     "data": {
      "image/png": "[encoded data removed]",
      "text/plain": [
       "<Figure size 432x288 with 1 Axes>"
      ]
     },
     "metadata": {
      "needs_background": "light"
     },
     "output_type": "display_data"
    }
   ],
   "source": [
    "data.plot(y='cityCenters_nearest', kind='hist', bins=20);"
   ]
  },
  {
   "cell_type": "code",
   "execution_count": 51,
   "metadata": {},
   "outputs": [
    {
     "data": {
      "image/png": "[encoded data removed]",
      "text/plain": [
       "<Figure size 432x288 with 1 Axes>"
      ]
     },
     "metadata": {
      "needs_background": "light"
     },
     "output_type": "display_data"
    }
   ],
   "source": [
    "data.plot(y='airports_nearest', kind='hist', bins=10);"
   ]
  },
  {
   "cell_type": "code",
   "execution_count": 52,
   "metadata": {},
   "outputs": [
    {
     "data": {
      "image/png": "[encoded data removed]",
      "text/plain": [
       "<Figure size 432x288 with 1 Axes>"
      ]
     },
     "metadata": {
      "needs_background": "light"
     },
     "output_type": "display_data"
    }
   ],
   "source": [
    "data.plot(y='parks_nearest', kind='hist', bins=20);"
   ]
  },
  {
   "cell_type": "code",
   "execution_count": 53,
   "metadata": {},
   "outputs": [
    {
     "data": {
      "image/png": "[encoded data removed]",
      "text/plain": [
       "<Figure size 432x288 with 1 Axes>"
      ]
     },
     "metadata": {
      "needs_background": "light"
     },
     "output_type": "display_data"
    }
   ],
   "source": [
    "data.plot(y='weekday_exposition', kind='hist', bins=7);"
   ]
  },
  {
   "cell_type": "code",
   "execution_count": 54,
   "metadata": {},
   "outputs": [
    {
     "data": {
      "image/png": "[encoded data removed]",
      "text/plain": [
       "<Figure size 432x288 with 1 Axes>"
      ]
     },
     "metadata": {
      "needs_background": "light"
     },
     "output_type": "display_data"
    }
   ],
   "source": [
    "data.plot(y='month_exposition', kind='hist', bins=12, label='month_exposition');"
   ]
  },
  {
   "cell_type": "markdown",
   "metadata": {},
   "source": [
    "### Наблюдения\n",
    "\n",
    "1. Большинство кв. площадью 40 м.кв. (страно, т.к., п.5), след. 30 м.кв. (ожидаемо, т.к., п.5)\n",
    "2. Жиля площадь 15-18 м.кв. (ожидаемо, т.к., п.3), 30-35 (ожидаемо, т.к., п.3)\n",
    "3. Площадь кухни 9 м.кв. (ожидаемо, т.к., п.9), затем - 5, 6, 10 м.кв. (ожидаемо, т.к., п.9)\n",
    "4. Цена в диапазоне от 3 до 5 млн.\n",
    "5. Самые продаваемые кв. - однушки, затем - 2 ккв., и с большим отставанием - 3 ккв., остальные совсем в хвосте  списка.\n",
    "6. Высота потолков, в основном, 2.5 - 2.7 м. (т.к., п.9)\n",
    "7. Наиб. кол-во с 1 по 5 эт, затем до 9 эт. Т.к., п.9\n",
    "8. Ожидаемо: некрайних этажей больше, т.к. их в массе своей больше раз в 5.\n",
    "9. Большинство кв. в домах сов. застройки 5 и 9 эт.\n",
    "9. Основная масса кв. нах-ся на расст. 10-15 км от центра, Неудивительно, т.к. СПб - лепесток с радиусом 20 км. \n",
    "10. Люди традиционно не стремятся жить возле аэропорта. Большинство кв. в 20 км.\n",
    "11. Достатлчно много парков в СПб и ЛО. Превалирующее расстояние 300 - 800 м.\n",
    "12. Большинство объявлений подаются в четверг (дела на работе сделаны, можно и личным позаниматься) и вторник (понедельник - день тяжёлый :) ).\n",
    "13. Самый активный месяц по подаче - март, затем апрель и май. Весна традиционное время активизации продаж квартир и автомобилей. Равно как и ноябрь - закончить до конца года."
   ]
  },
  {
   "cell_type": "code",
   "execution_count": 55,
   "metadata": {},
   "outputs": [
    {
     "name": "stdout",
     "output_type": "stream",
     "text": [
      "94.0\n",
      "178.0237029501526\n"
     ]
    },
    {
     "data": {
      "image/png": "[encoded data removed]",
      "text/plain": [
       "<Figure size 432x288 with 1 Axes>"
      ]
     },
     "metadata": {
      "needs_background": "light"
     },
     "output_type": "display_data"
    }
   ],
   "source": [
    "data.plot(y='days_exposition', kind='hist', bins=200, range=(2, 362))\n",
    "print(data['days_exposition'].median())\n",
    "print(data['days_exposition'].mean())"
   ]
  },
  {
   "cell_type": "markdown",
   "metadata": {},
   "source": [
    "В основном кв. продаются за 3 мес. Имеются и быстрые продажи - за 1.5. Среднее искажено, т.к. много продаж с большим сроком экспонирования. Аномально долгими можно считать продажи долише полугода, но это связано с моножеством факторов (объединим их термином \"эксклюзивность\")."
   ]
  },
  {
   "cell_type": "code",
   "execution_count": 56,
   "metadata": {},
   "outputs": [
    {
     "data": {
      "image/png": "[encoded data removed]",
      "text/plain": [
       "<Figure size 432x288 with 1 Axes>"
      ]
     },
     "metadata": {
      "needs_background": "light"
     },
     "output_type": "display_data"
    }
   ],
   "source": [
    "data.plot(x='last_price', y='total_area', kind='scatter', alpha=1);"
   ]
  },
  {
   "cell_type": "markdown",
   "metadata": {},
   "source": [
    "Зависимость цены от площади имеется, но не прямо пропорциональна, влияют др. параметры."
   ]
  },
  {
   "cell_type": "code",
   "execution_count": 57,
   "metadata": {},
   "outputs": [
    {
     "data": {
      "image/png": "[encoded data removed]",
      "text/plain": [
       "<Figure size 432x288 with 1 Axes>"
      ]
     },
     "metadata": {
      "needs_background": "light"
     },
     "output_type": "display_data"
    }
   ],
   "source": [
    "data.plot(x='last_price', y='living_area', kind='scatter', alpha=1);"
   ]
  },
  {
   "cell_type": "markdown",
   "metadata": {},
   "source": [
    "Зависимость цены от площади имеется, но не прямо пропорциональна, влияют др. параметры."
   ]
  },
  {
   "cell_type": "code",
   "execution_count": 58,
   "metadata": {},
   "outputs": [
    {
     "data": {
      "image/png": "[encoded data removed]",
      "text/plain": [
       "<Figure size 432x288 with 1 Axes>"
      ]
     },
     "metadata": {
      "needs_background": "light"
     },
     "output_type": "display_data"
    }
   ],
   "source": [
    "data.plot(x='last_price', y='kitchen_area', kind='scatter', alpha=1);"
   ]
  },
  {
   "cell_type": "markdown",
   "metadata": {},
   "source": [
    "Зависимость цены от площади имеется, но не прямо пропорциональна, влияют др. параметры."
   ]
  },
  {
   "cell_type": "code",
   "execution_count": 59,
   "metadata": {},
   "outputs": [
    {
     "data": {
      "image/png": "[encoded data removed]",
      "text/plain": [
       "<Figure size 432x288 with 1 Axes>"
      ]
     },
     "metadata": {
      "needs_background": "light"
     },
     "output_type": "display_data"
    }
   ],
   "source": [
    "data.plot(x='last_price', y='rooms', kind='scatter', alpha=1);"
   ]
  },
  {
   "cell_type": "markdown",
   "metadata": {},
   "source": [
    "Не зависимые величины."
   ]
  },
  {
   "cell_type": "code",
   "execution_count": 60,
   "metadata": {},
   "outputs": [
    {
     "name": "stdout",
     "output_type": "stream",
     "text": [
      "           median           \n",
      "            floor last_price\n",
      "floor_type                  \n",
      "Другой          4 4700000.00\n",
      "Первый          1 3900000.00\n",
      "Последний       5 4300000.00\n"
     ]
    },
    {
     "data": {
      "image/png": "[encoded data removed]",
      "text/plain": [
       "<Figure size 432x288 with 1 Axes>"
      ]
     },
     "metadata": {
      "needs_background": "light"
     },
     "output_type": "display_data"
    }
   ],
   "source": [
    "print(data.pivot_table(index='floor_type', values=['floor', 'last_price'], aggfunc=['median']))\n",
    "#data.pivot_table(index='floor_type', values='floor', aggfunc=['count']).plot(y='count')\n",
    "data.pivot_table(index='floor_type', values=['floor', 'last_price'], aggfunc=['median']).plot(y=[('median', 'last_price')], kind='bar');"
   ]
  },
  {
   "cell_type": "markdown",
   "metadata": {},
   "source": [
    "Цена первого этажа самая низкая, затем - последний, следом - все остальные."
   ]
  },
  {
   "cell_type": "code",
   "execution_count": 61,
   "metadata": {},
   "outputs": [
    {
     "name": "stdout",
     "output_type": "stream",
     "text": [
      "                   median           \n",
      "                    floor last_price\n",
      "weekday_exposition                  \n",
      "0                       4 4590000.00\n",
      "1                       4 4650000.00\n",
      "2                       4 4600000.00\n",
      "3                       4 4550000.00\n",
      "4                       4 4500000.00\n",
      "5                       4 4500000.00\n",
      "6                       4 4500000.00\n"
     ]
    },
    {
     "data": {
      "image/png": "[encoded data removed]",
      "text/plain": [
       "<Figure size 432x288 with 1 Axes>"
      ]
     },
     "metadata": {
      "needs_background": "light"
     },
     "output_type": "display_data"
    },
    {
     "data": {
      "image/png": "[encoded data removed]",
      "text/plain": [
       "<Figure size 432x288 with 1 Axes>"
      ]
     },
     "metadata": {
      "needs_background": "light"
     },
     "output_type": "display_data"
    },
    {
     "data": {
      "image/png": "[encoded data removed]",
      "text/plain": [
       "<Figure size 432x288 with 1 Axes>"
      ]
     },
     "metadata": {
      "needs_background": "light"
     },
     "output_type": "display_data"
    }
   ],
   "source": [
    "data.plot(x='last_price', y='weekday_exposition', kind='hist', alpha=1);\n",
    "data.plot(y='last_price', x='weekday_exposition', kind='scatter', alpha=1);\n",
    "print(data.pivot_table(index='weekday_exposition', values=['floor', 'last_price'], aggfunc=['median']))\n",
    "data.pivot_table(index='weekday_exposition', values=['floor', 'last_price'], aggfunc=['median']).plot(y=[('median', 'last_price')], kind='bar');"
   ]
  },
  {
   "cell_type": "code",
   "execution_count": 62,
   "metadata": {},
   "outputs": [
    {
     "name": "stdout",
     "output_type": "stream",
     "text": [
      "             median           \n",
      "              floor last_price\n",
      "floors_total                  \n",
      "1                 1 2300000.00\n",
      "2                 1 1990000.00\n",
      "3                 2 3600000.00\n",
      "4                 3 5600000.00\n",
      "5                 3 3600000.00\n",
      "...             ...        ...\n",
      "35               14 7170000.00\n",
      "36               28 8150000.00\n",
      "37                5 4100000.00\n",
      "52               18 3978000.00\n",
      "60                4 3800000.00\n",
      "\n",
      "[36 rows x 2 columns]\n"
     ]
    },
    {
     "data": {
      "image/png": "[encoded data removed]",
      "text/plain": [
       "<Figure size 432x288 with 1 Axes>"
      ]
     },
     "metadata": {
      "needs_background": "light"
     },
     "output_type": "display_data"
    }
   ],
   "source": [
    "print(data.pivot_table(index='floors_total', values=['floor', 'last_price'], aggfunc=['median']))\n",
    "data.pivot_table(index='floors_total', values=['floor', 'last_price'], aggfunc=['median']).plot(y=[('median', 'last_price')], kind='bar');"
   ]
  },
  {
   "cell_type": "code",
   "execution_count": 63,
   "metadata": {},
   "outputs": [
    {
     "name": "stdout",
     "output_type": "stream",
     "text": [
      "                 median           \n",
      "                  floor last_price\n",
      "month_exposition                  \n",
      "1                     4 4500000.00\n",
      "2                     4 4585000.00\n",
      "3                     4 4595000.00\n",
      "4                     4 4700000.00\n",
      "5                     4 4500000.00\n",
      "6                     4 4300000.00\n",
      "7                     5 4550000.00\n",
      "8                     4 4510000.00\n",
      "9                     5 4650000.00\n",
      "10                    4 4500000.00\n",
      "11                    4 4647000.00\n",
      "12                    4 4600000.00\n"
     ]
    },
    {
     "data": {
      "image/png": "[encoded data removed]",
      "text/plain": [
       "<Figure size 432x288 with 1 Axes>"
      ]
     },
     "metadata": {
      "needs_background": "light"
     },
     "output_type": "display_data"
    },
    {
     "data": {
      "image/png": "[encoded data removed]",
      "text/plain": [
       "<Figure size 432x288 with 1 Axes>"
      ]
     },
     "metadata": {
      "needs_background": "light"
     },
     "output_type": "display_data"
    },
    {
     "data": {
      "image/png": "[encoded data removed]",
      "text/plain": [
       "<Figure size 432x288 with 1 Axes>"
      ]
     },
     "metadata": {
      "needs_background": "light"
     },
     "output_type": "display_data"
    }
   ],
   "source": [
    "data.plot(x='last_price', y='month_exposition', kind='hist', alpha=1);\n",
    "data.plot(x='last_price', y='month_exposition', kind='scatter', alpha=1);\n",
    "print(data.pivot_table(index='month_exposition', values=['floor', 'last_price'], aggfunc=['median']))\n",
    "data.pivot_table(index='month_exposition', values=['floor', 'last_price'], aggfunc=['median']).plot(y=[('median', 'last_price')], kind='bar');"
   ]
  },
  {
   "cell_type": "code",
   "execution_count": 64,
   "metadata": {},
   "outputs": [
    {
     "name": "stdout",
     "output_type": "stream",
     "text": [
      "                median           \n",
      "                 floor last_price\n",
      "year_exposition                  \n",
      "2014                 4 6445000.00\n",
      "2015                 4 5100000.00\n",
      "2016                 4 4416770.50\n",
      "2017                 4 4450000.00\n",
      "2018                 4 4500000.00\n",
      "2019                 4 4999000.00\n"
     ]
    },
    {
     "data": {
      "image/png": "[encoded data removed]",
      "text/plain": [
       "<Figure size 432x288 with 1 Axes>"
      ]
     },
     "metadata": {
      "needs_background": "light"
     },
     "output_type": "display_data"
    },
    {
     "data": {
      "image/png": "[encoded data removed]",
      "text/plain": [
       "<Figure size 432x288 with 1 Axes>"
      ]
     },
     "metadata": {
      "needs_background": "light"
     },
     "output_type": "display_data"
    },
    {
     "data": {
      "image/png": "[encoded data removed]",
      "text/plain": [
       "<Figure size 432x288 with 1 Axes>"
      ]
     },
     "metadata": {
      "needs_background": "light"
     },
     "output_type": "display_data"
    }
   ],
   "source": [
    "data.plot(x='last_price', y='year_exposition', kind='hist', alpha=1);\n",
    "data.plot(y='last_price', x='year_exposition', kind='scatter', alpha=1);\n",
    "print(data.pivot_table(index='year_exposition', values=['floor', 'last_price'], aggfunc=['median']))\n",
    "data.pivot_table(index='year_exposition', values=['floor', 'last_price'], aggfunc=['median']).plot(y=[('median', 'last_price')], kind='bar');"
   ]
  },
  {
   "cell_type": "markdown",
   "metadata": {},
   "source": [
    "Наибольшая цена в 14 году, затем падение к 16 и медленный рост к 19-му."
   ]
  },
  {
   "cell_type": "code",
   "execution_count": 65,
   "metadata": {},
   "outputs": [
    {
     "name": "stdout",
     "output_type": "stream",
     "text": [
      "                            count            mean\n",
      "                  price_per_meter price_per_meter\n",
      "locality_name                                    \n",
      "Санкт-Петербург             14795       108609.07\n",
      "Мурино                        561        85439.37\n",
      "Кудрово                       451        95150.96\n",
      "посёлок Шушары                436        78405.74\n",
      "Всеволожск                    390        67180.36\n",
      "Пушкин                        357       101906.85\n",
      "Колпино                       337        75333.30\n",
      "посёлок Парголово             322        90448.42\n",
      "Гатчина                       307        68746.15\n",
      "Выборг                        237        58141.91\n"
     ]
    },
    {
     "data": {
      "image/png": "[encoded data removed]",
      "text/plain": [
       "<Figure size 432x288 with 1 Axes>"
      ]
     },
     "metadata": {
      "needs_background": "light"
     },
     "output_type": "display_data"
    }
   ],
   "source": [
    "# Выберем топ-10 по кол-ву продаж\n",
    "print(data.pivot_table(index='locality_name',values=['price_per_meter'], aggfunc=['count', 'mean']).sort_values(by=[('count', 'price_per_meter')], ascending=False).head(10))\n",
    "data.pivot_table(index='locality_name',values=['price_per_meter'], aggfunc=['count', 'mean']).sort_values(by=[('count', 'price_per_meter')], ascending=False).head(10).plot(y=[('mean', 'price_per_meter')], kind='bar', label=[('mean', 'price_per_meter')]);"
   ]
  },
  {
   "cell_type": "markdown",
   "metadata": {},
   "source": [
    "Санкт-Петербург - самый дорогой м.кв.\n",
    "</br>\n",
    "Выборг - аутсайдер в нашем топ-10."
   ]
  },
  {
   "cell_type": "code",
   "execution_count": 66,
   "metadata": {},
   "outputs": [],
   "source": [
    "def replace_0_km(km):\n",
    "    try:\n",
    "        if km == 0:\n",
    "            return 1\n",
    "        else:\n",
    "            return km\n",
    "    except:\n",
    "        return km"
   ]
  },
  {
   "cell_type": "code",
   "execution_count": 67,
   "metadata": {},
   "outputs": [],
   "source": [
    "data_spb = data.query('locality_name == \"Санкт-Петербург\"')\n",
    "#print(data_spb['cityCenters_nearest_km'].unique())\n",
    "data_spb = data_spb.dropna(subset=['cityCenters_nearest_km'])\n",
    "#print(data_spb['cityCenters_nearest_km'].unique())\n",
    "data_spb['cityCenters_nearest_km'] = data_spb['cityCenters_nearest_km'].apply(replace_0_km) # не бывает 0\n",
    "#print(data_spb['cityCenters_nearest_km'].unique())"
   ]
  },
  {
   "cell_type": "code",
   "execution_count": 68,
   "metadata": {
    "scrolled": false
   },
   "outputs": [
    {
     "name": "stdout",
     "output_type": "stream",
     "text": [
      "                                  mean\n",
      "                       price_per_meter\n",
      "cityCenters_nearest_km                \n",
      "1.00                         127340.34\n",
      "2.00                         124174.71\n",
      "3.00                         113976.98\n",
      "4.00                         121388.41\n",
      "5.00                         126211.49\n",
      "6.00                         127137.71\n",
      "7.00                         124096.78\n",
      "8.00                         121387.31\n",
      "9.00                         110178.40\n",
      "10.00                        111333.92\n",
      "11.00                        107465.36\n",
      "12.00                        107032.06\n",
      "13.00                        107436.75\n",
      "14.00                        103914.68\n",
      "15.00                        103879.90\n",
      "16.00                        100111.16\n",
      "17.00                         96123.21\n",
      "18.00                         96317.79\n",
      "19.00                         98703.65\n",
      "20.00                        101414.92\n"
     ]
    }
   ],
   "source": [
    "print(data_spb.pivot_table(index='cityCenters_nearest_km', values='price_per_meter', aggfunc=['mean']).head(20))"
   ]
  },
  {
   "cell_type": "markdown",
   "metadata": {},
   "source": [
    "Шаговая доступность центра увеличивает стоимость 1 м.кв., дальше зависит от района и ЖК"
   ]
  },
  {
   "cell_type": "markdown",
   "metadata": {},
   "source": [
    "### Общий вывод"
   ]
  },
  {
   "cell_type": "markdown",
   "metadata": {},
   "source": [
    "В проведённом исследовании были устранены явные и неявные дубликаты данных, устранены пропуски путём заполнения отсутствующих значений, исправлены неверные данные о высоте потолков, получена цена одного квадратного метра для каждого неселённого пункта, определены типичное время продажи кватиры и аномально долгие продажи, изучены зависимости цены от общей/жилой/кухонной площади, количества комнат, этажа квартиры, даты размещения (день недели, месяц, год).различных факторов: \n",
    "\n",
    "Самая продаваемая: \n",
    "1 ккв., общей площадью 30-40 м.кв., жилой - около 18 м.кв. (+/-3 м.кв.), с кухней прим. 9 м.кв., по мин. цене, со стд. высотой потолка, в пятиэтажке, не крайние этажи, на расст. 10-15 км от центра, подальше от аэропорта, недалеко от парка.\n",
    "\n",
    "В основном кв. продаются за 3 мес. \n",
    "\n",
    "Наибольшая активность проявляется в рабочие дни и в декабре-январе.\n",
    "\n",
    "Наибольшие цены зафиксированы в апреле, сентябре и ноябре.\n",
    "\n",
    "Зависимость цены от площади имеется, но не линейна, влияют др. параметры.\n",
    "\n",
    "Цена первого этажа самая низкая, затем - последний, следом - все остальные.\n",
    "\n",
    "Санкт-Петербург - самый дорогой м.кв.\n",
    "</br>\n",
    "Выборг - аутсайдер в нашем топ-10.\n",
    "\n",
    "Шаговая доступность центра увеличивает стоимость 1 м.кв. Самый дорогой метр в радиусе 1 км, затем до 8 км, следом - 16 км, дальше зависит от района и ЖК.\n",
    "\n",
    "Цена жилья упала с 2014 к 2016, а затем постоянно растёт, но к 2019 не достигла уровня 2015."
   ]
  }
 ],
 "metadata": {
  "ExecuteTimeLog": [
   {
    "duration": 815,
    "start_time": "2023-01-28T17:37:54.560Z"
   },
   {
    "duration": 159,
    "start_time": "2023-01-28T17:39:08.600Z"
   },
   {
    "duration": 3020,
    "start_time": "2023-01-28T17:41:04.044Z"
   },
   {
    "duration": 3099,
    "start_time": "2023-01-28T18:11:16.408Z"
   },
   {
    "duration": 610,
    "start_time": "2023-01-31T18:46:39.285Z"
   },
   {
    "duration": 6,
    "start_time": "2023-01-31T18:46:39.897Z"
   },
   {
    "duration": 389,
    "start_time": "2023-01-31T18:46:39.905Z"
   },
   {
    "duration": 0,
    "start_time": "2023-01-31T18:46:40.298Z"
   },
   {
    "duration": 0,
    "start_time": "2023-01-31T18:46:40.300Z"
   },
   {
    "duration": 0,
    "start_time": "2023-01-31T18:46:40.301Z"
   },
   {
    "duration": 0,
    "start_time": "2023-01-31T18:46:40.303Z"
   },
   {
    "duration": 0,
    "start_time": "2023-01-31T18:46:40.304Z"
   },
   {
    "duration": 0,
    "start_time": "2023-01-31T18:46:40.306Z"
   },
   {
    "duration": 0,
    "start_time": "2023-01-31T18:46:40.307Z"
   },
   {
    "duration": 0,
    "start_time": "2023-01-31T18:46:40.308Z"
   },
   {
    "duration": 0,
    "start_time": "2023-01-31T18:46:40.310Z"
   },
   {
    "duration": 0,
    "start_time": "2023-01-31T18:46:40.311Z"
   },
   {
    "duration": 0,
    "start_time": "2023-01-31T18:46:40.313Z"
   },
   {
    "duration": 0,
    "start_time": "2023-01-31T18:46:40.315Z"
   },
   {
    "duration": 0,
    "start_time": "2023-01-31T18:46:40.316Z"
   },
   {
    "duration": 0,
    "start_time": "2023-01-31T18:46:40.317Z"
   },
   {
    "duration": 0,
    "start_time": "2023-01-31T18:46:40.319Z"
   },
   {
    "duration": 0,
    "start_time": "2023-01-31T18:46:40.320Z"
   },
   {
    "duration": 0,
    "start_time": "2023-01-31T18:46:40.322Z"
   },
   {
    "duration": 0,
    "start_time": "2023-01-31T18:46:40.323Z"
   },
   {
    "duration": 0,
    "start_time": "2023-01-31T18:46:40.324Z"
   },
   {
    "duration": 0,
    "start_time": "2023-01-31T18:46:40.325Z"
   },
   {
    "duration": 0,
    "start_time": "2023-01-31T18:46:40.326Z"
   },
   {
    "duration": 0,
    "start_time": "2023-01-31T18:46:40.327Z"
   },
   {
    "duration": 0,
    "start_time": "2023-01-31T18:46:40.328Z"
   },
   {
    "duration": 0,
    "start_time": "2023-01-31T18:46:40.329Z"
   },
   {
    "duration": 0,
    "start_time": "2023-01-31T18:46:40.330Z"
   },
   {
    "duration": 0,
    "start_time": "2023-01-31T18:46:40.332Z"
   },
   {
    "duration": 0,
    "start_time": "2023-01-31T18:46:40.333Z"
   },
   {
    "duration": 0,
    "start_time": "2023-01-31T18:46:40.392Z"
   },
   {
    "duration": 0,
    "start_time": "2023-01-31T18:46:40.393Z"
   },
   {
    "duration": 0,
    "start_time": "2023-01-31T18:46:40.394Z"
   },
   {
    "duration": 0,
    "start_time": "2023-01-31T18:46:40.395Z"
   },
   {
    "duration": 0,
    "start_time": "2023-01-31T18:46:40.396Z"
   },
   {
    "duration": 0,
    "start_time": "2023-01-31T18:46:40.397Z"
   },
   {
    "duration": 0,
    "start_time": "2023-01-31T18:46:40.398Z"
   },
   {
    "duration": 0,
    "start_time": "2023-01-31T18:46:40.399Z"
   },
   {
    "duration": 0,
    "start_time": "2023-01-31T18:46:40.400Z"
   },
   {
    "duration": 0,
    "start_time": "2023-01-31T18:46:40.401Z"
   },
   {
    "duration": 0,
    "start_time": "2023-01-31T18:46:40.402Z"
   },
   {
    "duration": 0,
    "start_time": "2023-01-31T18:46:40.404Z"
   },
   {
    "duration": 0,
    "start_time": "2023-01-31T18:46:40.405Z"
   },
   {
    "duration": 0,
    "start_time": "2023-01-31T18:46:40.405Z"
   },
   {
    "duration": 0,
    "start_time": "2023-01-31T18:46:40.407Z"
   },
   {
    "duration": 0,
    "start_time": "2023-01-31T18:46:40.408Z"
   },
   {
    "duration": 0,
    "start_time": "2023-01-31T18:46:40.410Z"
   },
   {
    "duration": 0,
    "start_time": "2023-01-31T18:46:40.410Z"
   },
   {
    "duration": 0,
    "start_time": "2023-01-31T18:46:40.411Z"
   },
   {
    "duration": 0,
    "start_time": "2023-01-31T18:46:40.412Z"
   },
   {
    "duration": 0,
    "start_time": "2023-01-31T18:46:40.413Z"
   },
   {
    "duration": 0,
    "start_time": "2023-01-31T18:46:40.414Z"
   },
   {
    "duration": 0,
    "start_time": "2023-01-31T18:46:40.415Z"
   },
   {
    "duration": 0,
    "start_time": "2023-01-31T18:46:40.416Z"
   },
   {
    "duration": 482,
    "start_time": "2023-02-01T08:07:51.138Z"
   },
   {
    "duration": 51,
    "start_time": "2023-02-01T08:08:16.169Z"
   },
   {
    "duration": 171,
    "start_time": "2023-02-01T08:08:31.620Z"
   },
   {
    "duration": 22,
    "start_time": "2023-02-01T08:08:45.284Z"
   },
   {
    "duration": 2327,
    "start_time": "2023-02-01T08:08:54.647Z"
   },
   {
    "duration": 487,
    "start_time": "2023-02-02T06:32:38.107Z"
   },
   {
    "duration": 19,
    "start_time": "2023-02-02T06:32:38.596Z"
   },
   {
    "duration": 2015,
    "start_time": "2023-02-02T06:32:38.617Z"
   },
   {
    "duration": 46,
    "start_time": "2023-02-02T06:32:40.634Z"
   },
   {
    "duration": 4,
    "start_time": "2023-02-02T06:32:40.681Z"
   },
   {
    "duration": 6,
    "start_time": "2023-02-02T06:32:40.687Z"
   },
   {
    "duration": 7,
    "start_time": "2023-02-02T06:32:40.694Z"
   },
   {
    "duration": 73,
    "start_time": "2023-02-02T06:32:40.702Z"
   },
   {
    "duration": 5,
    "start_time": "2023-02-02T06:32:40.777Z"
   },
   {
    "duration": 487,
    "start_time": "2023-02-02T06:32:40.784Z"
   },
   {
    "duration": 4,
    "start_time": "2023-02-02T06:32:41.273Z"
   },
   {
    "duration": 13,
    "start_time": "2023-02-02T06:32:41.279Z"
   },
   {
    "duration": 16,
    "start_time": "2023-02-02T06:32:41.293Z"
   },
   {
    "duration": 13,
    "start_time": "2023-02-02T06:32:41.310Z"
   },
   {
    "duration": 2683,
    "start_time": "2023-02-02T06:32:41.325Z"
   },
   {
    "duration": 1696,
    "start_time": "2023-02-02T06:32:44.010Z"
   },
   {
    "duration": 2673,
    "start_time": "2023-02-02T06:32:45.708Z"
   },
   {
    "duration": 3591,
    "start_time": "2023-02-02T06:32:48.383Z"
   },
   {
    "duration": 5701,
    "start_time": "2023-02-02T06:32:51.976Z"
   },
   {
    "duration": 38,
    "start_time": "2023-02-02T06:32:57.678Z"
   },
   {
    "duration": 43,
    "start_time": "2023-02-02T06:32:57.718Z"
   },
   {
    "duration": 4,
    "start_time": "2023-02-02T06:32:57.763Z"
   },
   {
    "duration": 23,
    "start_time": "2023-02-02T06:32:57.770Z"
   },
   {
    "duration": 36,
    "start_time": "2023-02-02T06:32:57.795Z"
   },
   {
    "duration": 76,
    "start_time": "2023-02-02T06:32:57.832Z"
   },
   {
    "duration": 0,
    "start_time": "2023-02-02T06:32:57.910Z"
   },
   {
    "duration": 0,
    "start_time": "2023-02-02T06:32:57.912Z"
   },
   {
    "duration": 0,
    "start_time": "2023-02-02T06:32:57.913Z"
   },
   {
    "duration": 0,
    "start_time": "2023-02-02T06:32:57.914Z"
   },
   {
    "duration": 0,
    "start_time": "2023-02-02T06:32:57.915Z"
   },
   {
    "duration": 0,
    "start_time": "2023-02-02T06:32:57.917Z"
   },
   {
    "duration": 0,
    "start_time": "2023-02-02T06:32:57.918Z"
   },
   {
    "duration": 0,
    "start_time": "2023-02-02T06:32:57.919Z"
   },
   {
    "duration": 0,
    "start_time": "2023-02-02T06:32:57.920Z"
   },
   {
    "duration": 0,
    "start_time": "2023-02-02T06:32:57.921Z"
   },
   {
    "duration": 0,
    "start_time": "2023-02-02T06:32:57.922Z"
   },
   {
    "duration": 0,
    "start_time": "2023-02-02T06:32:57.924Z"
   },
   {
    "duration": 0,
    "start_time": "2023-02-02T06:32:57.925Z"
   },
   {
    "duration": 0,
    "start_time": "2023-02-02T06:32:57.926Z"
   },
   {
    "duration": 0,
    "start_time": "2023-02-02T06:32:57.927Z"
   },
   {
    "duration": 0,
    "start_time": "2023-02-02T06:32:57.928Z"
   },
   {
    "duration": 0,
    "start_time": "2023-02-02T06:32:57.929Z"
   },
   {
    "duration": 0,
    "start_time": "2023-02-02T06:32:57.931Z"
   },
   {
    "duration": 0,
    "start_time": "2023-02-02T06:32:57.932Z"
   },
   {
    "duration": 0,
    "start_time": "2023-02-02T06:32:57.933Z"
   },
   {
    "duration": 0,
    "start_time": "2023-02-02T06:32:57.934Z"
   },
   {
    "duration": 0,
    "start_time": "2023-02-02T06:32:57.935Z"
   },
   {
    "duration": 0,
    "start_time": "2023-02-02T06:32:57.936Z"
   },
   {
    "duration": 0,
    "start_time": "2023-02-02T06:32:57.937Z"
   },
   {
    "duration": 0,
    "start_time": "2023-02-02T06:32:57.938Z"
   },
   {
    "duration": 0,
    "start_time": "2023-02-02T06:32:57.991Z"
   },
   {
    "duration": 0,
    "start_time": "2023-02-02T06:32:57.992Z"
   },
   {
    "duration": 0,
    "start_time": "2023-02-02T06:32:57.994Z"
   },
   {
    "duration": 0,
    "start_time": "2023-02-02T06:32:57.995Z"
   },
   {
    "duration": 744,
    "start_time": "2023-02-03T13:28:15.385Z"
   },
   {
    "duration": 20,
    "start_time": "2023-02-03T13:28:17.575Z"
   },
   {
    "duration": 2258,
    "start_time": "2023-02-03T13:28:23.839Z"
   },
   {
    "duration": 49,
    "start_time": "2023-02-03T13:28:32.109Z"
   },
   {
    "duration": 5,
    "start_time": "2023-02-03T13:28:34.051Z"
   },
   {
    "duration": 4,
    "start_time": "2023-02-03T13:28:35.024Z"
   },
   {
    "duration": 7,
    "start_time": "2023-02-03T13:28:35.700Z"
   },
   {
    "duration": 99,
    "start_time": "2023-02-03T13:28:36.303Z"
   },
   {
    "duration": 6,
    "start_time": "2023-02-03T13:28:36.829Z"
   },
   {
    "duration": 518,
    "start_time": "2023-02-03T13:28:37.449Z"
   },
   {
    "duration": 4,
    "start_time": "2023-02-03T13:28:38.383Z"
   },
   {
    "duration": 5,
    "start_time": "2023-02-03T13:28:38.885Z"
   },
   {
    "duration": 4,
    "start_time": "2023-02-03T13:28:40.048Z"
   },
   {
    "duration": 5,
    "start_time": "2023-02-03T13:28:40.882Z"
   },
   {
    "duration": 2848,
    "start_time": "2023-02-03T13:28:41.557Z"
   },
   {
    "duration": 1715,
    "start_time": "2023-02-03T13:28:49.798Z"
   },
   {
    "duration": 2652,
    "start_time": "2023-02-03T13:28:51.514Z"
   },
   {
    "duration": 3733,
    "start_time": "2023-02-03T13:28:55.030Z"
   },
   {
    "duration": 5590,
    "start_time": "2023-02-03T13:29:01.230Z"
   },
   {
    "duration": 33,
    "start_time": "2023-02-03T13:29:07.546Z"
   },
   {
    "duration": 44,
    "start_time": "2023-02-03T13:29:08.738Z"
   },
   {
    "duration": 5,
    "start_time": "2023-02-03T13:29:09.810Z"
   },
   {
    "duration": 8,
    "start_time": "2023-02-03T13:29:10.840Z"
   },
   {
    "duration": 17,
    "start_time": "2023-02-03T13:29:11.920Z"
   },
   {
    "duration": 102,
    "start_time": "2023-02-03T13:29:17.113Z"
   },
   {
    "duration": 12,
    "start_time": "2023-02-03T13:30:05.173Z"
   },
   {
    "duration": 8,
    "start_time": "2023-02-03T13:37:03.784Z"
   },
   {
    "duration": 11,
    "start_time": "2023-02-03T13:37:49.362Z"
   },
   {
    "duration": 12,
    "start_time": "2023-02-03T13:47:14.054Z"
   },
   {
    "duration": 9,
    "start_time": "2023-02-03T13:48:32.273Z"
   },
   {
    "duration": 11,
    "start_time": "2023-02-03T13:48:53.378Z"
   },
   {
    "duration": 6,
    "start_time": "2023-02-03T13:48:53.782Z"
   },
   {
    "duration": 31,
    "start_time": "2023-02-03T13:48:54.319Z"
   },
   {
    "duration": 12,
    "start_time": "2023-02-03T13:48:55.619Z"
   },
   {
    "duration": 58404,
    "start_time": "2023-02-03T13:49:00.312Z"
   },
   {
    "duration": 2,
    "start_time": "2023-02-03T13:49:58.718Z"
   },
   {
    "duration": 250,
    "start_time": "2023-02-03T13:57:46.508Z"
   },
   {
    "duration": 215,
    "start_time": "2023-02-03T13:57:49.441Z"
   },
   {
    "duration": 218,
    "start_time": "2023-02-03T13:57:50.247Z"
   },
   {
    "duration": 218,
    "start_time": "2023-02-03T13:57:51.539Z"
   },
   {
    "duration": 273,
    "start_time": "2023-02-03T13:57:52.577Z"
   },
   {
    "duration": 180,
    "start_time": "2023-02-03T13:57:53.440Z"
   },
   {
    "duration": 171,
    "start_time": "2023-02-03T13:57:54.212Z"
   },
   {
    "duration": 147,
    "start_time": "2023-02-03T13:57:54.912Z"
   },
   {
    "duration": 167,
    "start_time": "2023-02-03T13:57:55.580Z"
   },
   {
    "duration": 224,
    "start_time": "2023-02-03T13:57:56.263Z"
   },
   {
    "duration": 133,
    "start_time": "2023-02-03T13:57:56.929Z"
   },
   {
    "duration": 174,
    "start_time": "2023-02-03T13:57:57.588Z"
   },
   {
    "duration": 142,
    "start_time": "2023-02-03T13:57:58.258Z"
   },
   {
    "duration": 144,
    "start_time": "2023-02-03T13:57:58.920Z"
   },
   {
    "duration": 532,
    "start_time": "2023-02-03T13:58:00.667Z"
   },
   {
    "duration": 179,
    "start_time": "2023-02-03T13:58:03.751Z"
   },
   {
    "duration": 180,
    "start_time": "2023-02-03T13:58:05.388Z"
   },
   {
    "duration": 198,
    "start_time": "2023-02-03T13:58:06.551Z"
   },
   {
    "duration": 192,
    "start_time": "2023-02-03T13:58:07.719Z"
   },
   {
    "duration": 175,
    "start_time": "2023-02-03T13:58:08.884Z"
   },
   {
    "duration": 21,
    "start_time": "2023-02-03T13:58:10.040Z"
   },
   {
    "duration": 3,
    "start_time": "2023-02-03T13:58:11.127Z"
   },
   {
    "duration": 19,
    "start_time": "2023-02-03T13:58:12.776Z"
   },
   {
    "duration": 15,
    "start_time": "2023-02-03T13:58:13.519Z"
   },
   {
    "duration": 17,
    "start_time": "2023-02-03T13:58:40.136Z"
   },
   {
    "duration": 16,
    "start_time": "2023-02-03T13:58:43.003Z"
   },
   {
    "duration": 12,
    "start_time": "2023-02-03T13:58:44.734Z"
   },
   {
    "duration": 535,
    "start_time": "2023-02-04T08:54:32.365Z"
   },
   {
    "duration": 30,
    "start_time": "2023-02-04T08:54:32.902Z"
   },
   {
    "duration": 2554,
    "start_time": "2023-02-04T08:54:32.933Z"
   },
   {
    "duration": 68,
    "start_time": "2023-02-04T08:54:35.488Z"
   },
   {
    "duration": 4,
    "start_time": "2023-02-04T08:54:35.559Z"
   },
   {
    "duration": 6,
    "start_time": "2023-02-04T08:54:35.564Z"
   },
   {
    "duration": 8,
    "start_time": "2023-02-04T08:54:35.572Z"
   },
   {
    "duration": 99,
    "start_time": "2023-02-04T08:54:35.581Z"
   },
   {
    "duration": 5,
    "start_time": "2023-02-04T08:54:35.682Z"
   },
   {
    "duration": 580,
    "start_time": "2023-02-04T08:54:35.689Z"
   },
   {
    "duration": 6,
    "start_time": "2023-02-04T08:54:36.271Z"
   },
   {
    "duration": 6,
    "start_time": "2023-02-04T08:54:36.279Z"
   },
   {
    "duration": 10,
    "start_time": "2023-02-04T08:54:36.287Z"
   },
   {
    "duration": 24,
    "start_time": "2023-02-04T08:54:36.300Z"
   },
   {
    "duration": 3244,
    "start_time": "2023-02-04T08:54:36.333Z"
   },
   {
    "duration": 1997,
    "start_time": "2023-02-04T08:54:39.579Z"
   },
   {
    "duration": 3105,
    "start_time": "2023-02-04T08:54:41.578Z"
   },
   {
    "duration": 3985,
    "start_time": "2023-02-04T08:54:44.684Z"
   },
   {
    "duration": 6034,
    "start_time": "2023-02-04T08:54:48.671Z"
   },
   {
    "duration": 56,
    "start_time": "2023-02-04T08:54:54.708Z"
   },
   {
    "duration": 58,
    "start_time": "2023-02-04T08:54:54.766Z"
   },
   {
    "duration": 4,
    "start_time": "2023-02-04T08:54:54.826Z"
   },
   {
    "duration": 21,
    "start_time": "2023-02-04T08:54:54.832Z"
   },
   {
    "duration": 23,
    "start_time": "2023-02-04T08:54:54.856Z"
   },
   {
    "duration": 17,
    "start_time": "2023-02-04T08:54:54.881Z"
   },
   {
    "duration": 9,
    "start_time": "2023-02-04T08:54:54.899Z"
   },
   {
    "duration": 67,
    "start_time": "2023-02-04T08:54:54.910Z"
   },
   {
    "duration": 17,
    "start_time": "2023-02-04T08:54:54.979Z"
   },
   {
    "duration": 61886,
    "start_time": "2023-02-04T08:54:54.998Z"
   },
   {
    "duration": 3,
    "start_time": "2023-02-04T08:55:56.886Z"
   },
   {
    "duration": 257,
    "start_time": "2023-02-04T08:55:56.891Z"
   },
   {
    "duration": 238,
    "start_time": "2023-02-04T08:55:57.149Z"
   },
   {
    "duration": 247,
    "start_time": "2023-02-04T08:55:57.388Z"
   },
   {
    "duration": 245,
    "start_time": "2023-02-04T08:55:57.636Z"
   },
   {
    "duration": 185,
    "start_time": "2023-02-04T08:55:57.883Z"
   },
   {
    "duration": 299,
    "start_time": "2023-02-04T08:55:58.070Z"
   },
   {
    "duration": 193,
    "start_time": "2023-02-04T08:55:58.371Z"
   },
   {
    "duration": 171,
    "start_time": "2023-02-04T08:55:58.566Z"
   },
   {
    "duration": 183,
    "start_time": "2023-02-04T08:55:58.739Z"
   },
   {
    "duration": 188,
    "start_time": "2023-02-04T08:55:58.924Z"
   },
   {
    "duration": 143,
    "start_time": "2023-02-04T08:55:59.115Z"
   },
   {
    "duration": 194,
    "start_time": "2023-02-04T08:55:59.260Z"
   },
   {
    "duration": 155,
    "start_time": "2023-02-04T08:55:59.456Z"
   },
   {
    "duration": 164,
    "start_time": "2023-02-04T08:55:59.613Z"
   },
   {
    "duration": 546,
    "start_time": "2023-02-04T08:55:59.778Z"
   },
   {
    "duration": 205,
    "start_time": "2023-02-04T08:56:00.325Z"
   },
   {
    "duration": 197,
    "start_time": "2023-02-04T08:56:00.532Z"
   },
   {
    "duration": 201,
    "start_time": "2023-02-04T08:56:00.731Z"
   },
   {
    "duration": 208,
    "start_time": "2023-02-04T08:56:00.933Z"
   },
   {
    "duration": 171,
    "start_time": "2023-02-04T08:56:01.143Z"
   },
   {
    "duration": 26,
    "start_time": "2023-02-04T08:56:01.315Z"
   },
   {
    "duration": 11,
    "start_time": "2023-02-04T08:56:01.343Z"
   },
   {
    "duration": 42,
    "start_time": "2023-02-04T08:56:01.356Z"
   },
   {
    "duration": 21,
    "start_time": "2023-02-04T08:56:01.400Z"
   },
   {
    "duration": 6,
    "start_time": "2023-02-04T08:57:32.565Z"
   },
   {
    "duration": 15,
    "start_time": "2023-02-04T08:58:03.908Z"
   },
   {
    "duration": 89,
    "start_time": "2023-02-04T08:58:07.452Z"
   },
   {
    "duration": 10,
    "start_time": "2023-02-04T08:58:24.778Z"
   },
   {
    "duration": 6,
    "start_time": "2023-02-04T08:58:28.766Z"
   },
   {
    "duration": 50,
    "start_time": "2023-02-06T07:22:56.423Z"
   },
   {
    "duration": 9,
    "start_time": "2023-02-06T07:31:53.816Z"
   },
   {
    "duration": 136,
    "start_time": "2023-02-06T07:32:24.384Z"
   },
   {
    "duration": 34,
    "start_time": "2023-02-06T07:32:27.194Z"
   },
   {
    "duration": 32,
    "start_time": "2023-02-06T07:32:48.609Z"
   },
   {
    "duration": 27,
    "start_time": "2023-02-06T07:34:37.180Z"
   },
   {
    "duration": 2017,
    "start_time": "2023-02-06T07:37:21.865Z"
   },
   {
    "duration": 2024,
    "start_time": "2023-02-06T07:37:52.071Z"
   },
   {
    "duration": 79,
    "start_time": "2023-02-06T07:38:32.690Z"
   },
   {
    "duration": 18,
    "start_time": "2023-02-06T07:41:39.718Z"
   },
   {
    "duration": 23,
    "start_time": "2023-02-06T07:41:49.251Z"
   },
   {
    "duration": 49,
    "start_time": "2023-02-06T07:43:35.559Z"
   },
   {
    "duration": 5,
    "start_time": "2023-02-06T07:43:37.360Z"
   },
   {
    "duration": 51,
    "start_time": "2023-02-06T07:45:22.941Z"
   },
   {
    "duration": 5,
    "start_time": "2023-02-06T07:45:24.480Z"
   },
   {
    "duration": 4,
    "start_time": "2023-02-06T07:45:26.870Z"
   },
   {
    "duration": 8,
    "start_time": "2023-02-06T07:45:29.395Z"
   },
   {
    "duration": 73,
    "start_time": "2023-02-06T07:45:35.477Z"
   },
   {
    "duration": 5,
    "start_time": "2023-02-06T07:45:36.019Z"
   },
   {
    "duration": 522,
    "start_time": "2023-02-06T07:45:36.610Z"
   },
   {
    "duration": 5,
    "start_time": "2023-02-06T07:45:37.180Z"
   },
   {
    "duration": 5,
    "start_time": "2023-02-06T07:45:37.953Z"
   },
   {
    "duration": 3,
    "start_time": "2023-02-06T07:45:38.976Z"
   },
   {
    "duration": 5,
    "start_time": "2023-02-06T07:45:52.267Z"
   },
   {
    "duration": 3142,
    "start_time": "2023-02-06T07:45:54.465Z"
   },
   {
    "duration": 1816,
    "start_time": "2023-02-06T07:45:57.610Z"
   },
   {
    "duration": 2946,
    "start_time": "2023-02-06T07:45:59.428Z"
   },
   {
    "duration": 3723,
    "start_time": "2023-02-06T07:46:02.376Z"
   },
   {
    "duration": 5367,
    "start_time": "2023-02-06T07:46:06.101Z"
   },
   {
    "duration": 43,
    "start_time": "2023-02-06T07:46:11.470Z"
   },
   {
    "duration": 66,
    "start_time": "2023-02-06T07:46:11.515Z"
   },
   {
    "duration": 5,
    "start_time": "2023-02-06T07:47:42.721Z"
   },
   {
    "duration": 6,
    "start_time": "2023-02-06T07:48:10.390Z"
   },
   {
    "duration": 7,
    "start_time": "2023-02-06T07:49:43.744Z"
   },
   {
    "duration": 9,
    "start_time": "2023-02-06T09:34:02.424Z"
   },
   {
    "duration": 70,
    "start_time": "2023-02-06T09:36:14.736Z"
   },
   {
    "duration": 16,
    "start_time": "2023-02-06T09:36:23.286Z"
   },
   {
    "duration": 75,
    "start_time": "2023-02-06T09:40:52.147Z"
   },
   {
    "duration": 7,
    "start_time": "2023-02-06T09:41:34.078Z"
   },
   {
    "duration": 4,
    "start_time": "2023-02-06T09:41:34.683Z"
   },
   {
    "duration": 8,
    "start_time": "2023-02-06T09:41:35.448Z"
   },
   {
    "duration": 21,
    "start_time": "2023-02-06T09:41:36.262Z"
   },
   {
    "duration": 9,
    "start_time": "2023-02-06T09:41:38.333Z"
   },
   {
    "duration": 7,
    "start_time": "2023-02-06T09:41:38.955Z"
   },
   {
    "duration": 5,
    "start_time": "2023-02-06T09:42:46.637Z"
   },
   {
    "duration": 42,
    "start_time": "2023-02-06T09:42:47.541Z"
   },
   {
    "duration": 14,
    "start_time": "2023-02-06T09:42:49.903Z"
   },
   {
    "duration": 65,
    "start_time": "2023-02-06T09:44:03.235Z"
   },
   {
    "duration": 4,
    "start_time": "2023-02-06T09:49:09.190Z"
   },
   {
    "duration": 12,
    "start_time": "2023-02-06T09:51:05.138Z"
   },
   {
    "duration": 11,
    "start_time": "2023-02-06T09:51:34.500Z"
   },
   {
    "duration": 14,
    "start_time": "2023-02-06T09:51:57.437Z"
   },
   {
    "duration": 75,
    "start_time": "2023-02-06T09:52:20.730Z"
   },
   {
    "duration": 13,
    "start_time": "2023-02-06T09:52:28.597Z"
   },
   {
    "duration": 13,
    "start_time": "2023-02-06T09:53:14.844Z"
   },
   {
    "duration": 13,
    "start_time": "2023-02-06T09:53:28.091Z"
   },
   {
    "duration": 15,
    "start_time": "2023-02-06T09:53:47.738Z"
   },
   {
    "duration": 13,
    "start_time": "2023-02-06T09:54:09.146Z"
   },
   {
    "duration": 18,
    "start_time": "2023-02-06T09:54:56.446Z"
   },
   {
    "duration": 21,
    "start_time": "2023-02-06T09:55:50.098Z"
   },
   {
    "duration": 23,
    "start_time": "2023-02-06T09:56:49.240Z"
   },
   {
    "duration": 9,
    "start_time": "2023-02-06T09:58:01.878Z"
   },
   {
    "duration": 10,
    "start_time": "2023-02-06T09:59:45.445Z"
   },
   {
    "duration": 1063,
    "start_time": "2023-02-06T10:00:05.239Z"
   },
   {
    "duration": 82,
    "start_time": "2023-02-06T10:02:42.894Z"
   },
   {
    "duration": 71,
    "start_time": "2023-02-06T10:04:02.758Z"
   },
   {
    "duration": 20,
    "start_time": "2023-02-06T10:04:10.879Z"
   },
   {
    "duration": 26,
    "start_time": "2023-02-06T10:04:32.459Z"
   },
   {
    "duration": 22,
    "start_time": "2023-02-06T10:05:51.580Z"
   },
   {
    "duration": 21,
    "start_time": "2023-02-06T10:06:18.463Z"
   },
   {
    "duration": 32,
    "start_time": "2023-02-06T10:06:58.234Z"
   },
   {
    "duration": 1181,
    "start_time": "2023-02-06T10:07:55.058Z"
   },
   {
    "duration": 14,
    "start_time": "2023-02-06T10:10:19.766Z"
   },
   {
    "duration": 22,
    "start_time": "2023-02-06T10:12:53.604Z"
   },
   {
    "duration": 10,
    "start_time": "2023-02-06T10:14:52.888Z"
   },
   {
    "duration": 618,
    "start_time": "2023-02-06T10:15:58.590Z"
   },
   {
    "duration": 5,
    "start_time": "2023-02-06T10:16:47.515Z"
   },
   {
    "duration": 40,
    "start_time": "2023-02-06T10:16:57.368Z"
   },
   {
    "duration": 31,
    "start_time": "2023-02-06T10:17:57.761Z"
   },
   {
    "duration": 33,
    "start_time": "2023-02-06T10:18:42.706Z"
   },
   {
    "duration": 29,
    "start_time": "2023-02-06T10:19:50.227Z"
   },
   {
    "duration": 35,
    "start_time": "2023-02-06T10:20:33.556Z"
   },
   {
    "duration": 30,
    "start_time": "2023-02-06T10:21:12.147Z"
   },
   {
    "duration": 32,
    "start_time": "2023-02-06T10:21:22.300Z"
   },
   {
    "duration": 29,
    "start_time": "2023-02-06T10:22:01.262Z"
   },
   {
    "duration": 25,
    "start_time": "2023-02-06T10:22:34.298Z"
   },
   {
    "duration": 85,
    "start_time": "2023-02-06T10:35:03.669Z"
   },
   {
    "duration": 387,
    "start_time": "2023-02-06T10:35:37.154Z"
   },
   {
    "duration": 15,
    "start_time": "2023-02-06T10:38:36.772Z"
   },
   {
    "duration": 14,
    "start_time": "2023-02-06T10:39:01.636Z"
   },
   {
    "duration": 87636,
    "start_time": "2023-02-06T10:41:31.680Z"
   },
   {
    "duration": 107,
    "start_time": "2023-02-06T10:46:01.451Z"
   },
   {
    "duration": 10,
    "start_time": "2023-02-06T10:46:05.534Z"
   },
   {
    "duration": 20,
    "start_time": "2023-02-06T10:46:13.702Z"
   },
   {
    "duration": 1991,
    "start_time": "2023-02-06T10:46:16.639Z"
   },
   {
    "duration": 51,
    "start_time": "2023-02-06T10:46:26.613Z"
   },
   {
    "duration": 8,
    "start_time": "2023-02-06T10:46:28.656Z"
   },
   {
    "duration": 3,
    "start_time": "2023-02-06T10:46:30.265Z"
   },
   {
    "duration": 6,
    "start_time": "2023-02-06T10:46:32.839Z"
   },
   {
    "duration": 77,
    "start_time": "2023-02-06T10:46:34.097Z"
   },
   {
    "duration": 5,
    "start_time": "2023-02-06T10:46:34.836Z"
   },
   {
    "duration": 547,
    "start_time": "2023-02-06T10:46:35.374Z"
   },
   {
    "duration": 5,
    "start_time": "2023-02-06T10:46:36.049Z"
   },
   {
    "duration": 5,
    "start_time": "2023-02-06T10:46:36.838Z"
   },
   {
    "duration": 4,
    "start_time": "2023-02-06T10:46:37.753Z"
   },
   {
    "duration": 6,
    "start_time": "2023-02-06T10:46:38.700Z"
   },
   {
    "duration": 2962,
    "start_time": "2023-02-06T10:46:39.252Z"
   },
   {
    "duration": 1846,
    "start_time": "2023-02-06T10:46:42.216Z"
   },
   {
    "duration": 2931,
    "start_time": "2023-02-06T10:46:44.063Z"
   },
   {
    "duration": 4037,
    "start_time": "2023-02-06T10:46:46.996Z"
   },
   {
    "duration": 5497,
    "start_time": "2023-02-06T10:46:51.035Z"
   },
   {
    "duration": 41,
    "start_time": "2023-02-06T10:46:56.534Z"
   },
   {
    "duration": 46,
    "start_time": "2023-02-06T10:46:56.577Z"
   },
   {
    "duration": 7,
    "start_time": "2023-02-06T10:46:59.397Z"
   },
   {
    "duration": 5,
    "start_time": "2023-02-06T10:47:00.537Z"
   },
   {
    "duration": 7,
    "start_time": "2023-02-06T10:47:01.455Z"
   },
   {
    "duration": 15,
    "start_time": "2023-02-06T10:47:02.304Z"
   },
   {
    "duration": 9,
    "start_time": "2023-02-06T10:47:04.097Z"
   },
   {
    "duration": 8,
    "start_time": "2023-02-06T10:47:04.958Z"
   },
   {
    "duration": 51,
    "start_time": "2023-02-06T10:47:07.541Z"
   },
   {
    "duration": 16,
    "start_time": "2023-02-06T10:47:09.695Z"
   },
   {
    "duration": 33,
    "start_time": "2023-02-06T10:47:12.739Z"
   },
   {
    "duration": 66249,
    "start_time": "2023-02-06T10:47:15.645Z"
   },
   {
    "duration": 2,
    "start_time": "2023-02-06T10:48:25.865Z"
   },
   {
    "duration": 3,
    "start_time": "2023-02-06T10:48:27.535Z"
   },
   {
    "duration": 363,
    "start_time": "2023-02-06T10:48:29.113Z"
   },
   {
    "duration": 233,
    "start_time": "2023-02-06T10:48:29.591Z"
   },
   {
    "duration": 229,
    "start_time": "2023-02-06T10:48:30.465Z"
   },
   {
    "duration": 243,
    "start_time": "2023-02-06T10:48:31.299Z"
   },
   {
    "duration": 162,
    "start_time": "2023-02-06T10:48:32.076Z"
   },
   {
    "duration": 180,
    "start_time": "2023-02-06T10:48:32.611Z"
   },
   {
    "duration": 177,
    "start_time": "2023-02-06T10:48:33.091Z"
   },
   {
    "duration": 138,
    "start_time": "2023-02-06T10:48:33.571Z"
   },
   {
    "duration": 173,
    "start_time": "2023-02-06T10:48:34.123Z"
   },
   {
    "duration": 169,
    "start_time": "2023-02-06T10:48:34.651Z"
   },
   {
    "duration": 142,
    "start_time": "2023-02-06T10:48:35.267Z"
   },
   {
    "duration": 293,
    "start_time": "2023-02-06T10:48:35.837Z"
   },
   {
    "duration": 132,
    "start_time": "2023-02-06T10:48:36.374Z"
   },
   {
    "duration": 156,
    "start_time": "2023-02-06T10:48:36.939Z"
   },
   {
    "duration": 493,
    "start_time": "2023-02-06T10:48:45.339Z"
   },
   {
    "duration": 193,
    "start_time": "2023-02-06T10:49:24.145Z"
   },
   {
    "duration": 189,
    "start_time": "2023-02-06T10:49:25.205Z"
   },
   {
    "duration": 196,
    "start_time": "2023-02-06T10:49:26.217Z"
   },
   {
    "duration": 185,
    "start_time": "2023-02-06T10:49:27.143Z"
   },
   {
    "duration": 198,
    "start_time": "2023-02-06T10:49:28.006Z"
   },
   {
    "duration": 191,
    "start_time": "2023-02-06T10:49:29.141Z"
   },
   {
    "duration": 326,
    "start_time": "2023-02-06T10:49:30.051Z"
   },
   {
    "duration": 205,
    "start_time": "2023-02-06T10:49:30.980Z"
   },
   {
    "duration": 204,
    "start_time": "2023-02-06T10:49:32.042Z"
   },
   {
    "duration": 156,
    "start_time": "2023-02-06T10:49:33.266Z"
   },
   {
    "duration": 21,
    "start_time": "2023-02-06T10:49:36.403Z"
   },
   {
    "duration": 59,
    "start_time": "2023-02-06T10:49:41.973Z"
   },
   {
    "duration": 199,
    "start_time": "2023-02-06T10:51:02.395Z"
   },
   {
    "duration": 273,
    "start_time": "2023-02-06T10:51:19.526Z"
   },
   {
    "duration": 174,
    "start_time": "2023-02-06T10:52:50.913Z"
   },
   {
    "duration": 216,
    "start_time": "2023-02-06T10:53:37.226Z"
   },
   {
    "duration": 208,
    "start_time": "2023-02-06T10:53:49.049Z"
   },
   {
    "duration": 43,
    "start_time": "2023-02-06T10:54:18.493Z"
   },
   {
    "duration": 53,
    "start_time": "2023-02-06T10:55:11.500Z"
   },
   {
    "duration": 241,
    "start_time": "2023-02-06T10:55:33.698Z"
   },
   {
    "duration": 220,
    "start_time": "2023-02-06T10:55:53.504Z"
   },
   {
    "duration": 217,
    "start_time": "2023-02-06T10:56:17.822Z"
   },
   {
    "duration": 196,
    "start_time": "2023-02-06T10:56:24.721Z"
   },
   {
    "duration": 201,
    "start_time": "2023-02-06T11:02:27.758Z"
   },
   {
    "duration": 287,
    "start_time": "2023-02-06T11:03:21.142Z"
   },
   {
    "duration": 172,
    "start_time": "2023-02-06T11:04:21.262Z"
   },
   {
    "duration": 181,
    "start_time": "2023-02-06T11:04:58.478Z"
   },
   {
    "duration": 187,
    "start_time": "2023-02-06T11:05:25.822Z"
   },
   {
    "duration": 1311,
    "start_time": "2023-02-06T15:51:50.492Z"
   },
   {
    "duration": 4,
    "start_time": "2023-02-06T15:52:05.255Z"
   },
   {
    "duration": 12,
    "start_time": "2023-02-06T15:53:11.756Z"
   },
   {
    "duration": 325,
    "start_time": "2023-02-06T15:53:30.406Z"
   },
   {
    "duration": 90,
    "start_time": "2023-02-06T15:53:33.450Z"
   },
   {
    "duration": 10,
    "start_time": "2023-02-06T15:53:36.487Z"
   },
   {
    "duration": 20,
    "start_time": "2023-02-06T15:53:38.447Z"
   },
   {
    "duration": 1829,
    "start_time": "2023-02-06T15:53:42.984Z"
   },
   {
    "duration": 44,
    "start_time": "2023-02-06T15:53:52.255Z"
   },
   {
    "duration": 7,
    "start_time": "2023-02-06T15:53:54.211Z"
   },
   {
    "duration": 4,
    "start_time": "2023-02-06T15:53:54.915Z"
   },
   {
    "duration": 6,
    "start_time": "2023-02-06T15:53:57.900Z"
   },
   {
    "duration": 86,
    "start_time": "2023-02-06T15:53:59.057Z"
   },
   {
    "duration": 4,
    "start_time": "2023-02-06T15:53:59.649Z"
   },
   {
    "duration": 589,
    "start_time": "2023-02-06T15:54:00.206Z"
   },
   {
    "duration": 4,
    "start_time": "2023-02-06T15:54:01.419Z"
   },
   {
    "duration": 11,
    "start_time": "2023-02-06T15:54:02.115Z"
   },
   {
    "duration": 4,
    "start_time": "2023-02-06T15:54:02.861Z"
   },
   {
    "duration": 6,
    "start_time": "2023-02-06T15:54:04.763Z"
   },
   {
    "duration": 2982,
    "start_time": "2023-02-06T15:54:05.390Z"
   },
   {
    "duration": 1766,
    "start_time": "2023-02-06T15:54:08.374Z"
   },
   {
    "duration": 2755,
    "start_time": "2023-02-06T15:54:10.142Z"
   },
   {
    "duration": 3703,
    "start_time": "2023-02-06T15:54:12.899Z"
   },
   {
    "duration": 5244,
    "start_time": "2023-02-06T15:54:16.604Z"
   },
   {
    "duration": 34,
    "start_time": "2023-02-06T15:54:21.849Z"
   },
   {
    "duration": 59,
    "start_time": "2023-02-06T15:54:21.884Z"
   },
   {
    "duration": 8,
    "start_time": "2023-02-06T15:54:21.945Z"
   },
   {
    "duration": 6,
    "start_time": "2023-02-06T15:54:21.954Z"
   },
   {
    "duration": 8,
    "start_time": "2023-02-06T15:54:21.962Z"
   },
   {
    "duration": 21,
    "start_time": "2023-02-06T15:54:21.972Z"
   },
   {
    "duration": 34,
    "start_time": "2023-02-06T15:54:21.995Z"
   },
   {
    "duration": 7,
    "start_time": "2023-02-06T15:54:22.031Z"
   },
   {
    "duration": 32,
    "start_time": "2023-02-06T15:54:22.041Z"
   },
   {
    "duration": 11,
    "start_time": "2023-02-06T15:54:30.807Z"
   },
   {
    "duration": 39,
    "start_time": "2023-02-06T15:56:07.167Z"
   },
   {
    "duration": 53,
    "start_time": "2023-02-06T15:56:37.107Z"
   },
   {
    "duration": 60,
    "start_time": "2023-02-06T15:58:14.704Z"
   },
   {
    "duration": 76,
    "start_time": "2023-02-06T15:58:19.565Z"
   },
   {
    "duration": 42,
    "start_time": "2023-02-06T15:59:31.506Z"
   },
   {
    "duration": 40,
    "start_time": "2023-02-06T15:59:36.662Z"
   },
   {
    "duration": 55722,
    "start_time": "2023-02-06T15:59:39.247Z"
   },
   {
    "duration": 3,
    "start_time": "2023-02-06T16:00:34.970Z"
   },
   {
    "duration": 244,
    "start_time": "2023-02-06T16:04:57.174Z"
   },
   {
    "duration": 277551,
    "start_time": "2023-02-06T16:07:53.852Z"
   },
   {
    "duration": 148,
    "start_time": "2023-02-06T16:12:53.986Z"
   },
   {
    "duration": 145,
    "start_time": "2023-02-06T16:14:10.204Z"
   },
   {
    "duration": 523,
    "start_time": "2023-02-06T16:14:45.144Z"
   },
   {
    "duration": 286191,
    "start_time": "2023-02-06T16:14:59.489Z"
   },
   {
    "duration": 45,
    "start_time": "2023-02-06T16:20:31.372Z"
   },
   {
    "duration": 139,
    "start_time": "2023-02-06T16:21:54.368Z"
   },
   {
    "duration": 44,
    "start_time": "2023-02-06T16:22:31.077Z"
   },
   {
    "duration": 149,
    "start_time": "2023-02-06T16:22:52.095Z"
   },
   {
    "duration": 188,
    "start_time": "2023-02-06T16:23:09.426Z"
   },
   {
    "duration": 341,
    "start_time": "2023-02-06T16:23:18.260Z"
   },
   {
    "duration": 346,
    "start_time": "2023-02-06T16:23:56.287Z"
   },
   {
    "duration": 319,
    "start_time": "2023-02-06T16:25:20.565Z"
   },
   {
    "duration": 181,
    "start_time": "2023-02-06T16:26:33.685Z"
   },
   {
    "duration": 140,
    "start_time": "2023-02-06T16:26:35.456Z"
   },
   {
    "duration": 331,
    "start_time": "2023-02-06T16:27:14.864Z"
   },
   {
    "duration": 309,
    "start_time": "2023-02-06T16:27:28.472Z"
   },
   {
    "duration": 308,
    "start_time": "2023-02-06T16:27:58.662Z"
   },
   {
    "duration": 378,
    "start_time": "2023-02-06T16:28:45.065Z"
   },
   {
    "duration": 352,
    "start_time": "2023-02-06T16:28:56.613Z"
   },
   {
    "duration": 388,
    "start_time": "2023-02-06T16:34:41.261Z"
   },
   {
    "duration": 48,
    "start_time": "2023-02-06T16:41:07.906Z"
   },
   {
    "duration": 239,
    "start_time": "2023-02-06T16:41:19.389Z"
   },
   {
    "duration": 197,
    "start_time": "2023-02-06T16:41:39.252Z"
   },
   {
    "duration": 202,
    "start_time": "2023-02-06T16:41:40.126Z"
   },
   {
    "duration": 295,
    "start_time": "2023-02-06T16:41:41.325Z"
   },
   {
    "duration": 3,
    "start_time": "2023-02-06T16:41:49.982Z"
   },
   {
    "duration": 24,
    "start_time": "2023-02-06T16:41:52.385Z"
   },
   {
    "duration": 14,
    "start_time": "2023-02-06T16:41:53.821Z"
   },
   {
    "duration": 14,
    "start_time": "2023-02-06T16:42:47.494Z"
   },
   {
    "duration": 49,
    "start_time": "2023-02-06T17:02:24.949Z"
   },
   {
    "duration": 72,
    "start_time": "2023-02-06T17:04:06.815Z"
   },
   {
    "duration": 65,
    "start_time": "2023-02-06T17:06:57.470Z"
   },
   {
    "duration": 67,
    "start_time": "2023-02-06T17:09:00.357Z"
   },
   {
    "duration": 70,
    "start_time": "2023-02-06T17:10:07.089Z"
   },
   {
    "duration": 64,
    "start_time": "2023-02-06T17:10:25.834Z"
   },
   {
    "duration": 44,
    "start_time": "2023-02-06T17:11:12.221Z"
   },
   {
    "duration": 48,
    "start_time": "2023-02-06T17:11:14.690Z"
   },
   {
    "duration": 52,
    "start_time": "2023-02-06T17:11:21.255Z"
   },
   {
    "duration": 9,
    "start_time": "2023-02-06T17:11:28.946Z"
   },
   {
    "duration": 91,
    "start_time": "2023-02-06T17:12:00.521Z"
   },
   {
    "duration": 10,
    "start_time": "2023-02-06T17:12:09.446Z"
   },
   {
    "duration": 41,
    "start_time": "2023-02-06T17:13:20.685Z"
   },
   {
    "duration": 12,
    "start_time": "2023-02-06T17:15:11.035Z"
   },
   {
    "duration": 47,
    "start_time": "2023-02-06T17:15:58.350Z"
   },
   {
    "duration": 11,
    "start_time": "2023-02-06T17:19:19.361Z"
   },
   {
    "duration": 9,
    "start_time": "2023-02-06T17:20:02.040Z"
   },
   {
    "duration": 13,
    "start_time": "2023-02-06T17:20:30.211Z"
   },
   {
    "duration": 17,
    "start_time": "2023-02-06T17:20:44.331Z"
   },
   {
    "duration": 14,
    "start_time": "2023-02-06T17:21:49.524Z"
   },
   {
    "duration": 13,
    "start_time": "2023-02-06T17:22:00.437Z"
   },
   {
    "duration": 13,
    "start_time": "2023-02-06T17:22:06.146Z"
   },
   {
    "duration": 15,
    "start_time": "2023-02-06T17:22:12.244Z"
   },
   {
    "duration": 12,
    "start_time": "2023-02-06T17:22:19.942Z"
   },
   {
    "duration": 15,
    "start_time": "2023-02-06T17:22:25.488Z"
   },
   {
    "duration": 16,
    "start_time": "2023-02-06T17:22:38.981Z"
   },
   {
    "duration": 7,
    "start_time": "2023-02-06T17:23:28.733Z"
   },
   {
    "duration": 9,
    "start_time": "2023-02-06T17:23:37.879Z"
   },
   {
    "duration": 9,
    "start_time": "2023-02-06T17:23:59.658Z"
   },
   {
    "duration": 10,
    "start_time": "2023-02-06T17:24:24.331Z"
   },
   {
    "duration": 62,
    "start_time": "2023-02-06T17:28:32.142Z"
   },
   {
    "duration": 1070,
    "start_time": "2023-02-07T17:45:35.846Z"
   },
   {
    "duration": 99,
    "start_time": "2023-02-07T17:45:36.918Z"
   },
   {
    "duration": 18,
    "start_time": "2023-02-07T17:45:37.018Z"
   },
   {
    "duration": 25,
    "start_time": "2023-02-07T17:45:37.043Z"
   },
   {
    "duration": 1687,
    "start_time": "2023-02-07T17:45:37.069Z"
   },
   {
    "duration": 45,
    "start_time": "2023-02-07T17:45:38.757Z"
   },
   {
    "duration": 7,
    "start_time": "2023-02-07T17:45:38.804Z"
   },
   {
    "duration": 14,
    "start_time": "2023-02-07T17:45:38.813Z"
   },
   {
    "duration": 8,
    "start_time": "2023-02-07T17:45:38.844Z"
   },
   {
    "duration": 160,
    "start_time": "2023-02-07T17:45:38.855Z"
   },
   {
    "duration": 5,
    "start_time": "2023-02-07T17:45:39.017Z"
   },
   {
    "duration": 510,
    "start_time": "2023-02-07T17:45:39.024Z"
   },
   {
    "duration": 4,
    "start_time": "2023-02-07T17:45:39.535Z"
   },
   {
    "duration": 9,
    "start_time": "2023-02-07T17:45:39.540Z"
   },
   {
    "duration": 9,
    "start_time": "2023-02-07T17:45:39.550Z"
   },
   {
    "duration": 6,
    "start_time": "2023-02-07T17:45:39.561Z"
   },
   {
    "duration": 2620,
    "start_time": "2023-02-07T17:45:39.568Z"
   },
   {
    "duration": 1650,
    "start_time": "2023-02-07T17:45:42.190Z"
   },
   {
    "duration": 2674,
    "start_time": "2023-02-07T17:45:43.842Z"
   },
   {
    "duration": 3364,
    "start_time": "2023-02-07T17:45:46.517Z"
   },
   {
    "duration": 4784,
    "start_time": "2023-02-07T17:45:49.883Z"
   },
   {
    "duration": 40,
    "start_time": "2023-02-07T17:45:54.669Z"
   },
   {
    "duration": 75,
    "start_time": "2023-02-07T17:45:54.711Z"
   },
   {
    "duration": 8,
    "start_time": "2023-02-07T17:45:54.788Z"
   },
   {
    "duration": 20,
    "start_time": "2023-02-07T17:45:54.799Z"
   },
   {
    "duration": 38,
    "start_time": "2023-02-07T17:45:54.822Z"
   },
   {
    "duration": 56,
    "start_time": "2023-02-07T17:45:54.862Z"
   },
   {
    "duration": 22,
    "start_time": "2023-02-07T17:45:54.923Z"
   },
   {
    "duration": 11,
    "start_time": "2023-02-07T17:45:54.947Z"
   },
   {
    "duration": 39,
    "start_time": "2023-02-07T17:45:54.959Z"
   },
   {
    "duration": 17,
    "start_time": "2023-02-07T17:45:55.000Z"
   },
   {
    "duration": 65,
    "start_time": "2023-02-07T17:45:55.019Z"
   },
   {
    "duration": 7,
    "start_time": "2023-02-07T17:45:55.086Z"
   },
   {
    "duration": 55239,
    "start_time": "2023-02-07T17:45:55.094Z"
   },
   {
    "duration": 9,
    "start_time": "2023-02-07T17:46:50.335Z"
   },
   {
    "duration": 193,
    "start_time": "2023-02-07T17:46:50.345Z"
   },
   {
    "duration": 185,
    "start_time": "2023-02-07T17:46:50.539Z"
   },
   {
    "duration": 206,
    "start_time": "2023-02-07T17:46:50.725Z"
   },
   {
    "duration": 191,
    "start_time": "2023-02-07T17:46:50.932Z"
   },
   {
    "duration": 134,
    "start_time": "2023-02-07T17:46:51.125Z"
   },
   {
    "duration": 150,
    "start_time": "2023-02-07T17:46:51.261Z"
   },
   {
    "duration": 150,
    "start_time": "2023-02-07T17:46:51.412Z"
   },
   {
    "duration": 140,
    "start_time": "2023-02-07T17:46:51.563Z"
   },
   {
    "duration": 169,
    "start_time": "2023-02-07T17:46:51.704Z"
   },
   {
    "duration": 135,
    "start_time": "2023-02-07T17:46:51.875Z"
   },
   {
    "duration": 202,
    "start_time": "2023-02-07T17:46:52.011Z"
   },
   {
    "duration": 157,
    "start_time": "2023-02-07T17:46:52.214Z"
   },
   {
    "duration": 121,
    "start_time": "2023-02-07T17:46:52.373Z"
   },
   {
    "duration": 127,
    "start_time": "2023-02-07T17:46:52.495Z"
   },
   {
    "duration": 388,
    "start_time": "2023-02-07T17:46:52.623Z"
   },
   {
    "duration": 167,
    "start_time": "2023-02-07T17:46:53.013Z"
   },
   {
    "duration": 163,
    "start_time": "2023-02-07T17:46:53.182Z"
   },
   {
    "duration": 167,
    "start_time": "2023-02-07T17:46:53.346Z"
   },
   {
    "duration": 205,
    "start_time": "2023-02-07T17:46:53.515Z"
   },
   {
    "duration": 214,
    "start_time": "2023-02-07T17:46:53.722Z"
   },
   {
    "duration": 305,
    "start_time": "2023-02-07T17:46:53.944Z"
   },
   {
    "duration": 294,
    "start_time": "2023-02-07T17:46:54.251Z"
   },
   {
    "duration": 386,
    "start_time": "2023-02-07T17:46:54.547Z"
   },
   {
    "duration": 223,
    "start_time": "2023-02-07T17:46:54.935Z"
   },
   {
    "duration": 4,
    "start_time": "2023-02-07T17:46:55.160Z"
   },
   {
    "duration": 27,
    "start_time": "2023-02-07T17:46:55.165Z"
   },
   {
    "duration": 13,
    "start_time": "2023-02-07T17:46:55.194Z"
   },
   {
    "duration": 13,
    "start_time": "2023-02-07T17:47:43.125Z"
   },
   {
    "duration": 92,
    "start_time": "2023-02-07T17:47:46.198Z"
   },
   {
    "duration": 72,
    "start_time": "2023-02-07T17:47:48.204Z"
   },
   {
    "duration": 196,
    "start_time": "2023-02-07T17:48:37.027Z"
   },
   {
    "duration": 121,
    "start_time": "2023-02-08T15:07:22.033Z"
   },
   {
    "duration": 111,
    "start_time": "2023-02-08T15:07:26.269Z"
   },
   {
    "duration": 52,
    "start_time": "2023-02-08T15:11:35.938Z"
   },
   {
    "duration": 1282,
    "start_time": "2023-02-08T15:13:50.701Z"
   },
   {
    "duration": 343,
    "start_time": "2023-02-08T15:13:54.131Z"
   },
   {
    "duration": 26,
    "start_time": "2023-02-08T15:13:57.453Z"
   },
   {
    "duration": 24,
    "start_time": "2023-02-08T15:14:10.119Z"
   },
   {
    "duration": 1827,
    "start_time": "2023-02-08T15:14:11.482Z"
   },
   {
    "duration": 46,
    "start_time": "2023-02-08T15:14:18.761Z"
   },
   {
    "duration": 7,
    "start_time": "2023-02-08T15:14:21.363Z"
   },
   {
    "duration": 4,
    "start_time": "2023-02-08T15:14:35.944Z"
   },
   {
    "duration": 5,
    "start_time": "2023-02-08T15:14:38.220Z"
   },
   {
    "duration": 71,
    "start_time": "2023-02-08T15:14:39.484Z"
   },
   {
    "duration": 5,
    "start_time": "2023-02-08T15:14:44.390Z"
   },
   {
    "duration": 608,
    "start_time": "2023-02-08T15:14:44.965Z"
   },
   {
    "duration": 6,
    "start_time": "2023-02-08T15:14:46.385Z"
   },
   {
    "duration": 5,
    "start_time": "2023-02-08T15:14:47.722Z"
   },
   {
    "duration": 4,
    "start_time": "2023-02-08T15:14:48.790Z"
   },
   {
    "duration": 6,
    "start_time": "2023-02-08T15:14:53.518Z"
   },
   {
    "duration": 2846,
    "start_time": "2023-02-08T15:14:54.649Z"
   },
   {
    "duration": 1765,
    "start_time": "2023-02-08T15:14:57.497Z"
   },
   {
    "duration": 2765,
    "start_time": "2023-02-08T15:14:59.264Z"
   },
   {
    "duration": 3693,
    "start_time": "2023-02-08T15:15:02.031Z"
   },
   {
    "duration": 5332,
    "start_time": "2023-02-08T15:15:05.725Z"
   },
   {
    "duration": 35,
    "start_time": "2023-02-08T15:15:16.717Z"
   },
   {
    "duration": 44,
    "start_time": "2023-02-08T15:15:17.537Z"
   },
   {
    "duration": 6,
    "start_time": "2023-02-08T15:15:33.866Z"
   },
   {
    "duration": 4,
    "start_time": "2023-02-08T15:15:35.913Z"
   },
   {
    "duration": 6,
    "start_time": "2023-02-08T15:15:36.950Z"
   },
   {
    "duration": 17,
    "start_time": "2023-02-08T15:15:37.820Z"
   },
   {
    "duration": 9,
    "start_time": "2023-02-08T15:15:42.220Z"
   },
   {
    "duration": 7,
    "start_time": "2023-02-08T15:15:45.419Z"
   },
   {
    "duration": 31,
    "start_time": "2023-02-08T15:15:48.224Z"
   },
   {
    "duration": 13,
    "start_time": "2023-02-08T15:15:50.346Z"
   },
   {
    "duration": 45,
    "start_time": "2023-02-08T15:16:28.280Z"
   },
   {
    "duration": 9,
    "start_time": "2023-02-08T15:16:29.074Z"
   },
   {
    "duration": 7,
    "start_time": "2023-02-08T15:32:35.294Z"
   },
   {
    "duration": 63,
    "start_time": "2023-02-08T15:38:11.470Z"
   },
   {
    "duration": 4,
    "start_time": "2023-02-08T15:38:26.685Z"
   },
   {
    "duration": 159,
    "start_time": "2023-02-08T15:38:35.414Z"
   },
   {
    "duration": 8,
    "start_time": "2023-02-08T15:39:05.033Z"
   },
   {
    "duration": 190,
    "start_time": "2023-02-08T15:39:07.349Z"
   },
   {
    "duration": 266,
    "start_time": "2023-02-08T15:40:07.794Z"
   },
   {
    "duration": 130,
    "start_time": "2023-02-08T15:40:21.297Z"
   },
   {
    "duration": 172,
    "start_time": "2023-02-08T15:40:37.275Z"
   },
   {
    "duration": 8,
    "start_time": "2023-02-08T15:41:03.825Z"
   },
   {
    "duration": 7,
    "start_time": "2023-02-08T15:41:28.620Z"
   },
   {
    "duration": 8,
    "start_time": "2023-02-08T15:41:40.578Z"
   },
   {
    "duration": 180,
    "start_time": "2023-02-08T15:42:13.658Z"
   },
   {
    "duration": 8,
    "start_time": "2023-02-08T15:42:39.127Z"
   },
   {
    "duration": 179,
    "start_time": "2023-02-08T15:42:52.121Z"
   },
   {
    "duration": 9,
    "start_time": "2023-02-08T15:43:08.619Z"
   },
   {
    "duration": 8,
    "start_time": "2023-02-08T15:43:14.070Z"
   },
   {
    "duration": 171,
    "start_time": "2023-02-08T15:43:16.271Z"
   },
   {
    "duration": 7,
    "start_time": "2023-02-08T15:43:41.475Z"
   },
   {
    "duration": 180,
    "start_time": "2023-02-08T15:43:43.125Z"
   },
   {
    "duration": 8,
    "start_time": "2023-02-08T15:43:54.724Z"
   },
   {
    "duration": 7,
    "start_time": "2023-02-08T15:43:58.499Z"
   },
   {
    "duration": 262,
    "start_time": "2023-02-08T15:43:59.031Z"
   },
   {
    "duration": 146,
    "start_time": "2023-02-08T15:44:16.415Z"
   },
   {
    "duration": 7,
    "start_time": "2023-02-08T15:44:41.048Z"
   },
   {
    "duration": 8,
    "start_time": "2023-02-08T15:44:43.229Z"
   },
   {
    "duration": 133,
    "start_time": "2023-02-08T15:44:43.424Z"
   },
   {
    "duration": 14,
    "start_time": "2023-02-08T15:47:12.652Z"
   },
   {
    "duration": 7,
    "start_time": "2023-02-08T15:47:34.309Z"
   },
   {
    "duration": 7,
    "start_time": "2023-02-08T15:48:40.171Z"
   },
   {
    "duration": 13,
    "start_time": "2023-02-08T15:49:19.517Z"
   },
   {
    "duration": 7,
    "start_time": "2023-02-08T15:50:11.885Z"
   },
   {
    "duration": 7,
    "start_time": "2023-02-08T15:51:09.436Z"
   },
   {
    "duration": 7,
    "start_time": "2023-02-08T15:51:39.935Z"
   },
   {
    "duration": 8,
    "start_time": "2023-02-08T15:51:55.175Z"
   },
   {
    "duration": 137,
    "start_time": "2023-02-08T15:51:55.534Z"
   },
   {
    "duration": 10,
    "start_time": "2023-02-08T15:53:03.825Z"
   },
   {
    "duration": 8,
    "start_time": "2023-02-08T15:53:16.254Z"
   },
   {
    "duration": 172,
    "start_time": "2023-02-08T15:54:11.865Z"
   },
   {
    "duration": 163,
    "start_time": "2023-02-08T15:54:46.571Z"
   },
   {
    "duration": 162,
    "start_time": "2023-02-08T15:55:03.485Z"
   },
   {
    "duration": 152,
    "start_time": "2023-02-08T15:55:26.490Z"
   },
   {
    "duration": 174,
    "start_time": "2023-02-08T15:55:39.285Z"
   },
   {
    "duration": 156,
    "start_time": "2023-02-08T15:56:53.615Z"
   },
   {
    "duration": 153,
    "start_time": "2023-02-08T15:57:10.145Z"
   },
   {
    "duration": 9,
    "start_time": "2023-02-08T15:58:14.281Z"
   },
   {
    "duration": 10,
    "start_time": "2023-02-08T15:58:17.023Z"
   },
   {
    "duration": 223,
    "start_time": "2023-02-08T15:58:22.640Z"
   },
   {
    "duration": 167,
    "start_time": "2023-02-08T15:58:23.875Z"
   },
   {
    "duration": 12,
    "start_time": "2023-02-08T15:59:28.480Z"
   },
   {
    "duration": 235,
    "start_time": "2023-02-08T16:00:50.821Z"
   },
   {
    "duration": 128,
    "start_time": "2023-02-08T16:00:57.565Z"
   },
   {
    "duration": 149,
    "start_time": "2023-02-08T16:01:14.937Z"
   },
   {
    "duration": 156,
    "start_time": "2023-02-08T16:01:19.856Z"
   },
   {
    "duration": 183,
    "start_time": "2023-02-08T16:01:26.671Z"
   },
   {
    "duration": 194,
    "start_time": "2023-02-08T16:02:11.142Z"
   },
   {
    "duration": 245,
    "start_time": "2023-02-08T16:02:42.297Z"
   },
   {
    "duration": 321,
    "start_time": "2023-02-08T16:03:02.431Z"
   },
   {
    "duration": 168,
    "start_time": "2023-02-08T16:04:09.142Z"
   },
   {
    "duration": 147,
    "start_time": "2023-02-08T16:04:38.532Z"
   },
   {
    "duration": 131,
    "start_time": "2023-02-08T16:05:54.148Z"
   },
   {
    "duration": 5,
    "start_time": "2023-02-08T16:06:18.817Z"
   },
   {
    "duration": 2,
    "start_time": "2023-02-08T16:07:02.936Z"
   },
   {
    "duration": 105,
    "start_time": "2023-02-08T16:07:04.331Z"
   },
   {
    "duration": 14,
    "start_time": "2023-02-08T16:07:06.217Z"
   },
   {
    "duration": 21,
    "start_time": "2023-02-08T16:07:07.989Z"
   },
   {
    "duration": 1896,
    "start_time": "2023-02-08T16:07:10.825Z"
   },
   {
    "duration": 45,
    "start_time": "2023-02-08T16:07:18.082Z"
   },
   {
    "duration": 7,
    "start_time": "2023-02-08T16:07:19.779Z"
   },
   {
    "duration": 3,
    "start_time": "2023-02-08T16:07:20.531Z"
   },
   {
    "duration": 6,
    "start_time": "2023-02-08T16:07:22.195Z"
   },
   {
    "duration": 64,
    "start_time": "2023-02-08T16:07:23.670Z"
   },
   {
    "duration": 4,
    "start_time": "2023-02-08T16:07:24.326Z"
   },
   {
    "duration": 522,
    "start_time": "2023-02-08T16:07:25.036Z"
   },
   {
    "duration": 4,
    "start_time": "2023-02-08T16:07:25.591Z"
   },
   {
    "duration": 5,
    "start_time": "2023-02-08T16:07:26.852Z"
   },
   {
    "duration": 3,
    "start_time": "2023-02-08T16:07:27.544Z"
   },
   {
    "duration": 6,
    "start_time": "2023-02-08T16:07:28.618Z"
   },
   {
    "duration": 2879,
    "start_time": "2023-02-08T16:07:29.465Z"
   },
   {
    "duration": 1808,
    "start_time": "2023-02-08T16:07:32.346Z"
   },
   {
    "duration": 2907,
    "start_time": "2023-02-08T16:07:34.156Z"
   },
   {
    "duration": 3805,
    "start_time": "2023-02-08T16:07:37.065Z"
   },
   {
    "duration": 5549,
    "start_time": "2023-02-08T16:07:42.373Z"
   },
   {
    "duration": 37,
    "start_time": "2023-02-08T16:07:47.924Z"
   },
   {
    "duration": 60,
    "start_time": "2023-02-08T16:07:47.962Z"
   },
   {
    "duration": 7,
    "start_time": "2023-02-08T16:07:48.632Z"
   },
   {
    "duration": 4,
    "start_time": "2023-02-08T16:07:50.675Z"
   },
   {
    "duration": 5,
    "start_time": "2023-02-08T16:07:52.589Z"
   },
   {
    "duration": 12,
    "start_time": "2023-02-08T16:07:53.399Z"
   },
   {
    "duration": 8,
    "start_time": "2023-02-08T16:07:55.889Z"
   },
   {
    "duration": 6,
    "start_time": "2023-02-08T16:07:56.759Z"
   },
   {
    "duration": 30,
    "start_time": "2023-02-08T16:07:57.796Z"
   },
   {
    "duration": 12,
    "start_time": "2023-02-08T16:07:58.985Z"
   },
   {
    "duration": 47,
    "start_time": "2023-02-08T16:08:03.754Z"
   },
   {
    "duration": 10,
    "start_time": "2023-02-08T16:08:05.145Z"
   },
   {
    "duration": 234,
    "start_time": "2023-02-08T16:08:08.383Z"
   },
   {
    "duration": 270,
    "start_time": "2023-02-08T16:08:20.597Z"
   },
   {
    "duration": 171,
    "start_time": "2023-02-08T16:08:27.516Z"
   },
   {
    "duration": 144,
    "start_time": "2023-02-08T16:08:47.014Z"
   },
   {
    "duration": 152,
    "start_time": "2023-02-08T16:09:11.662Z"
   },
   {
    "duration": 152,
    "start_time": "2023-02-08T16:09:58.139Z"
   },
   {
    "duration": 162,
    "start_time": "2023-02-08T16:10:17.181Z"
   },
   {
    "duration": 271,
    "start_time": "2023-02-08T16:10:34.254Z"
   },
   {
    "duration": 195,
    "start_time": "2023-02-08T16:10:36.080Z"
   },
   {
    "duration": 146,
    "start_time": "2023-02-08T16:10:37.389Z"
   },
   {
    "duration": 5,
    "start_time": "2023-02-08T16:10:38.289Z"
   },
   {
    "duration": 55465,
    "start_time": "2023-02-08T16:10:39.789Z"
   },
   {
    "duration": 2,
    "start_time": "2023-02-08T16:11:35.256Z"
   },
   {
    "duration": 227,
    "start_time": "2023-02-08T16:11:35.259Z"
   },
   {
    "duration": 221,
    "start_time": "2023-02-08T16:11:35.492Z"
   },
   {
    "duration": 245,
    "start_time": "2023-02-08T16:11:35.715Z"
   },
   {
    "duration": 264,
    "start_time": "2023-02-08T16:11:35.962Z"
   },
   {
    "duration": 165,
    "start_time": "2023-02-08T16:11:36.227Z"
   },
   {
    "duration": 192,
    "start_time": "2023-02-08T16:11:36.394Z"
   },
   {
    "duration": 170,
    "start_time": "2023-02-08T16:11:36.588Z"
   },
   {
    "duration": 265,
    "start_time": "2023-02-08T16:11:36.762Z"
   },
   {
    "duration": 174,
    "start_time": "2023-02-08T16:11:37.028Z"
   },
   {
    "duration": 174,
    "start_time": "2023-02-08T16:11:37.204Z"
   },
   {
    "duration": 144,
    "start_time": "2023-02-08T16:11:37.379Z"
   },
   {
    "duration": 169,
    "start_time": "2023-02-08T16:11:37.525Z"
   },
   {
    "duration": 158,
    "start_time": "2023-02-08T16:11:37.695Z"
   },
   {
    "duration": 149,
    "start_time": "2023-02-08T16:11:37.855Z"
   },
   {
    "duration": 456,
    "start_time": "2023-02-08T16:11:38.881Z"
   },
   {
    "duration": 161,
    "start_time": "2023-02-08T16:15:14.194Z"
   },
   {
    "duration": 266,
    "start_time": "2023-02-08T16:15:18.719Z"
   },
   {
    "duration": 151,
    "start_time": "2023-02-08T16:15:29.575Z"
   },
   {
    "duration": 157,
    "start_time": "2023-02-08T16:15:53.906Z"
   },
   {
    "duration": 171,
    "start_time": "2023-02-08T16:15:55.024Z"
   },
   {
    "duration": 409,
    "start_time": "2023-02-08T16:20:58.741Z"
   },
   {
    "duration": 440,
    "start_time": "2023-02-08T16:21:00.968Z"
   },
   {
    "duration": 213,
    "start_time": "2023-02-08T16:21:06.070Z"
   },
   {
    "duration": 304,
    "start_time": "2023-02-08T16:22:32.992Z"
   },
   {
    "duration": 176,
    "start_time": "2023-02-08T16:22:53.270Z"
   },
   {
    "duration": 177,
    "start_time": "2023-02-08T16:23:02.536Z"
   },
   {
    "duration": 190,
    "start_time": "2023-02-08T16:23:30.598Z"
   },
   {
    "duration": 152,
    "start_time": "2023-02-08T16:24:09.779Z"
   },
   {
    "duration": 349,
    "start_time": "2023-02-08T16:24:30.264Z"
   },
   {
    "duration": 499,
    "start_time": "2023-02-08T16:25:33.037Z"
   },
   {
    "duration": 514,
    "start_time": "2023-02-08T16:29:28.068Z"
   },
   {
    "duration": 74,
    "start_time": "2023-02-08T16:34:12.963Z"
   },
   {
    "duration": 706,
    "start_time": "2023-02-08T16:37:05.947Z"
   },
   {
    "duration": 49,
    "start_time": "2023-02-08T16:40:52.089Z"
   },
   {
    "duration": 201,
    "start_time": "2023-02-08T16:41:11.027Z"
   },
   {
    "duration": 3,
    "start_time": "2023-02-08T16:41:20.622Z"
   },
   {
    "duration": 14,
    "start_time": "2023-02-08T16:41:21.953Z"
   },
   {
    "duration": 12,
    "start_time": "2023-02-08T16:41:23.381Z"
   },
   {
    "duration": 44,
    "start_time": "2023-02-08T16:41:55.196Z"
   },
   {
    "duration": 11,
    "start_time": "2023-02-08T16:42:08.987Z"
   },
   {
    "duration": 1205,
    "start_time": "2023-02-09T06:47:47.960Z"
   },
   {
    "duration": 120,
    "start_time": "2023-02-09T06:47:49.166Z"
   },
   {
    "duration": 36,
    "start_time": "2023-02-09T06:47:49.288Z"
   },
   {
    "duration": 27,
    "start_time": "2023-02-09T06:47:49.333Z"
   },
   {
    "duration": 2167,
    "start_time": "2023-02-09T06:47:49.362Z"
   },
   {
    "duration": 50,
    "start_time": "2023-02-09T06:47:51.531Z"
   },
   {
    "duration": 8,
    "start_time": "2023-02-09T06:47:51.583Z"
   },
   {
    "duration": 4,
    "start_time": "2023-02-09T06:47:51.593Z"
   },
   {
    "duration": 37,
    "start_time": "2023-02-09T06:47:51.605Z"
   },
   {
    "duration": 190,
    "start_time": "2023-02-09T06:47:51.645Z"
   },
   {
    "duration": 4,
    "start_time": "2023-02-09T06:47:51.837Z"
   },
   {
    "duration": 573,
    "start_time": "2023-02-09T06:47:51.843Z"
   },
   {
    "duration": 9,
    "start_time": "2023-02-09T06:47:52.422Z"
   },
   {
    "duration": 11,
    "start_time": "2023-02-09T06:47:52.433Z"
   },
   {
    "duration": 7,
    "start_time": "2023-02-09T06:47:52.446Z"
   },
   {
    "duration": 12,
    "start_time": "2023-02-09T06:47:52.455Z"
   },
   {
    "duration": 3092,
    "start_time": "2023-02-09T06:47:52.468Z"
   },
   {
    "duration": 1915,
    "start_time": "2023-02-09T06:47:55.561Z"
   },
   {
    "duration": 2895,
    "start_time": "2023-02-09T06:47:57.477Z"
   },
   {
    "duration": 3914,
    "start_time": "2023-02-09T06:48:00.374Z"
   },
   {
    "duration": 5696,
    "start_time": "2023-02-09T06:48:04.290Z"
   },
   {
    "duration": 45,
    "start_time": "2023-02-09T06:48:09.988Z"
   },
   {
    "duration": 45,
    "start_time": "2023-02-09T06:48:10.035Z"
   },
   {
    "duration": 7,
    "start_time": "2023-02-09T06:48:10.081Z"
   },
   {
    "duration": 33,
    "start_time": "2023-02-09T06:48:10.089Z"
   },
   {
    "duration": 15,
    "start_time": "2023-02-09T06:48:10.127Z"
   },
   {
    "duration": 18,
    "start_time": "2023-02-09T06:48:10.144Z"
   },
   {
    "duration": 8,
    "start_time": "2023-02-09T06:48:10.165Z"
   },
   {
    "duration": 8,
    "start_time": "2023-02-09T06:48:10.175Z"
   },
   {
    "duration": 42,
    "start_time": "2023-02-09T06:48:10.185Z"
   },
   {
    "duration": 32,
    "start_time": "2023-02-09T06:48:10.230Z"
   },
   {
    "duration": 65,
    "start_time": "2023-02-09T06:48:10.264Z"
   },
   {
    "duration": 9,
    "start_time": "2023-02-09T06:48:10.331Z"
   },
   {
    "duration": 249,
    "start_time": "2023-02-09T06:48:10.341Z"
   },
   {
    "duration": 275,
    "start_time": "2023-02-09T06:48:10.592Z"
   },
   {
    "duration": 197,
    "start_time": "2023-02-09T06:48:10.868Z"
   },
   {
    "duration": 177,
    "start_time": "2023-02-09T06:48:11.067Z"
   },
   {
    "duration": 4,
    "start_time": "2023-02-09T06:48:11.246Z"
   },
   {
    "duration": 1153,
    "start_time": "2023-02-09T06:48:42.129Z"
   },
   {
    "duration": 134,
    "start_time": "2023-02-09T06:48:43.284Z"
   },
   {
    "duration": 29,
    "start_time": "2023-02-09T06:48:43.419Z"
   },
   {
    "duration": 39,
    "start_time": "2023-02-09T06:48:43.450Z"
   },
   {
    "duration": 2077,
    "start_time": "2023-02-09T06:48:43.491Z"
   },
   {
    "duration": 62,
    "start_time": "2023-02-09T06:48:45.569Z"
   },
   {
    "duration": 8,
    "start_time": "2023-02-09T06:48:45.634Z"
   },
   {
    "duration": 6,
    "start_time": "2023-02-09T06:48:45.643Z"
   },
   {
    "duration": 6,
    "start_time": "2023-02-09T06:48:45.651Z"
   },
   {
    "duration": 173,
    "start_time": "2023-02-09T06:48:45.659Z"
   },
   {
    "duration": 5,
    "start_time": "2023-02-09T06:48:45.834Z"
   },
   {
    "duration": 588,
    "start_time": "2023-02-09T06:48:45.841Z"
   },
   {
    "duration": 6,
    "start_time": "2023-02-09T06:48:46.430Z"
   },
   {
    "duration": 5,
    "start_time": "2023-02-09T06:48:46.437Z"
   },
   {
    "duration": 7,
    "start_time": "2023-02-09T06:48:46.443Z"
   },
   {
    "duration": 6,
    "start_time": "2023-02-09T06:48:46.452Z"
   },
   {
    "duration": 3218,
    "start_time": "2023-02-09T06:48:46.459Z"
   },
   {
    "duration": 1908,
    "start_time": "2023-02-09T06:48:49.679Z"
   },
   {
    "duration": 3035,
    "start_time": "2023-02-09T06:48:51.589Z"
   },
   {
    "duration": 3931,
    "start_time": "2023-02-09T06:48:54.633Z"
   },
   {
    "duration": 5736,
    "start_time": "2023-02-09T06:48:58.566Z"
   },
   {
    "duration": 41,
    "start_time": "2023-02-09T06:49:04.304Z"
   },
   {
    "duration": 45,
    "start_time": "2023-02-09T06:49:04.346Z"
   },
   {
    "duration": 13,
    "start_time": "2023-02-09T06:49:04.407Z"
   },
   {
    "duration": 10,
    "start_time": "2023-02-09T06:49:04.425Z"
   },
   {
    "duration": 7,
    "start_time": "2023-02-09T06:49:04.436Z"
   },
   {
    "duration": 16,
    "start_time": "2023-02-09T06:49:04.444Z"
   },
   {
    "duration": 8,
    "start_time": "2023-02-09T06:49:04.464Z"
   },
   {
    "duration": 7,
    "start_time": "2023-02-09T06:49:04.473Z"
   },
   {
    "duration": 59,
    "start_time": "2023-02-09T06:49:04.482Z"
   },
   {
    "duration": 13,
    "start_time": "2023-02-09T06:49:04.542Z"
   },
   {
    "duration": 66,
    "start_time": "2023-02-09T06:49:04.556Z"
   },
   {
    "duration": 10,
    "start_time": "2023-02-09T06:49:04.628Z"
   },
   {
    "duration": 247,
    "start_time": "2023-02-09T06:49:04.639Z"
   },
   {
    "duration": 285,
    "start_time": "2023-02-09T06:49:04.887Z"
   },
   {
    "duration": 204,
    "start_time": "2023-02-09T06:49:05.174Z"
   },
   {
    "duration": 179,
    "start_time": "2023-02-09T06:49:05.380Z"
   },
   {
    "duration": 4,
    "start_time": "2023-02-09T06:49:05.561Z"
   },
   {
    "duration": 60221,
    "start_time": "2023-02-09T06:49:05.566Z"
   },
   {
    "duration": 3,
    "start_time": "2023-02-09T06:50:05.789Z"
   },
   {
    "duration": 264,
    "start_time": "2023-02-09T06:50:05.793Z"
   },
   {
    "duration": 255,
    "start_time": "2023-02-09T06:50:06.059Z"
   },
   {
    "duration": 250,
    "start_time": "2023-02-09T06:50:06.317Z"
   },
   {
    "duration": 315,
    "start_time": "2023-02-09T06:50:06.569Z"
   },
   {
    "duration": 340,
    "start_time": "2023-02-09T06:50:06.887Z"
   },
   {
    "duration": 204,
    "start_time": "2023-02-09T06:50:07.231Z"
   },
   {
    "duration": 191,
    "start_time": "2023-02-09T06:50:07.438Z"
   },
   {
    "duration": 166,
    "start_time": "2023-02-09T06:50:07.631Z"
   },
   {
    "duration": 193,
    "start_time": "2023-02-09T06:50:07.799Z"
   },
   {
    "duration": 184,
    "start_time": "2023-02-09T06:50:07.994Z"
   },
   {
    "duration": 161,
    "start_time": "2023-02-09T06:50:08.179Z"
   },
   {
    "duration": 184,
    "start_time": "2023-02-09T06:50:08.341Z"
   },
   {
    "duration": 172,
    "start_time": "2023-02-09T06:50:08.527Z"
   },
   {
    "duration": 175,
    "start_time": "2023-02-09T06:50:08.701Z"
   },
   {
    "duration": 583,
    "start_time": "2023-02-09T06:50:08.879Z"
   },
   {
    "duration": 214,
    "start_time": "2023-02-09T06:50:09.464Z"
   },
   {
    "duration": 213,
    "start_time": "2023-02-09T06:50:09.680Z"
   },
   {
    "duration": 217,
    "start_time": "2023-02-09T06:50:09.895Z"
   },
   {
    "duration": 237,
    "start_time": "2023-02-09T06:50:10.117Z"
   },
   {
    "duration": 181,
    "start_time": "2023-02-09T06:50:10.356Z"
   },
   {
    "duration": 615,
    "start_time": "2023-02-09T06:50:10.538Z"
   },
   {
    "duration": 374,
    "start_time": "2023-02-09T06:50:11.156Z"
   },
   {
    "duration": 658,
    "start_time": "2023-02-09T06:50:11.532Z"
   },
   {
    "duration": 571,
    "start_time": "2023-02-09T06:50:12.192Z"
   },
   {
    "duration": 207,
    "start_time": "2023-02-09T06:50:12.764Z"
   },
   {
    "duration": 3,
    "start_time": "2023-02-09T06:50:12.973Z"
   },
   {
    "duration": 34,
    "start_time": "2023-02-09T06:50:12.978Z"
   },
   {
    "duration": 18,
    "start_time": "2023-02-09T06:50:13.017Z"
   },
   {
    "duration": 20,
    "start_time": "2023-02-09T06:53:11.402Z"
   },
   {
    "duration": 108,
    "start_time": "2023-02-09T06:53:15.027Z"
   }
  ],
  "kernelspec": {
   "display_name": "Python 3 (ipykernel)",
   "language": "python",
   "name": "python3"
  },
  "language_info": {
   "codemirror_mode": {
    "name": "ipython",
    "version": 3
   },
   "file_extension": ".py",
   "mimetype": "text/x-python",
   "name": "python",
   "nbconvert_exporter": "python",
   "pygments_lexer": "ipython3",
   "version": "3.9.13"
  },
  "toc": {
   "base_numbering": 1,
   "nav_menu": {},
   "number_sections": true,
   "sideBar": true,
   "skip_h1_title": true,
   "title_cell": "Table of Contents",
   "title_sidebar": "Contents",
   "toc_cell": false,
   "toc_position": {},
   "toc_section_display": true,
   "toc_window_display": false
  }
 },
 "nbformat": 4,
 "nbformat_minor": 2
}
