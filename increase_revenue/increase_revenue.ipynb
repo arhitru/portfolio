{
 "cells": [
  {
   "cell_type": "markdown",
   "metadata": {},
   "source": [
    "# Возможности увеличения выручки"
   ]
  },
  {
   "cell_type": "code",
   "execution_count": 1,
   "metadata": {},
   "outputs": [],
   "source": [
    "import pandas as pd\n",
    "import numpy as np\n",
    "from IPython.display import display\n",
    "import matplotlib as mpl\n",
    "import matplotlib.pyplot as plt \n",
    "import os\n",
    "import datetime as dt\n",
    "import scipy.stats as stats"
   ]
  },
  {
   "cell_type": "code",
   "execution_count": 2,
   "metadata": {},
   "outputs": [],
   "source": [
    "pd.options.display.max_colwidth = 150"
   ]
  },
  {
   "cell_type": "code",
   "execution_count": 3,
   "metadata": {},
   "outputs": [],
   "source": [
    "pthl1 = '/datasets/hypothesis.csv'\n",
    "pthl2 = '/datasets/orders.csv'\n",
    "pthl3 = '/datasets/visitors.csv'\n",
    "\n",
    "pthw1 = 'datasets\\hypothesis.csv'\n",
    "pthw2 = 'datasets\\orders.csv'\n",
    "pthw3 = 'datasets\\visitors.csv'"
   ]
  },
  {
   "cell_type": "code",
   "execution_count": 4,
   "metadata": {},
   "outputs": [],
   "source": [
    "alpha = 0.05  # критический уровень статистической значимости"
   ]
  },
  {
   "cell_type": "code",
   "execution_count": 5,
   "metadata": {},
   "outputs": [],
   "source": [
    "if os.path.exists(pthl1):\n",
    "    hypothesis = pd.read_csv(pthl1)\n",
    "elif os.path.exists(pthw1):\n",
    "    hypothesis = pd.read_csv(pthw1)\n",
    "else:\n",
    "    print('Something is wrong')"
   ]
  },
  {
   "cell_type": "code",
   "execution_count": 6,
   "metadata": {},
   "outputs": [],
   "source": [
    "if os.path.exists(pthl2):\n",
    "    orders = pd.read_csv(pthl2, parse_dates=['date'])\n",
    "elif os.path.exists(pthw2):\n",
    "    orders = pd.read_csv(pthw2, parse_dates=['date'])\n",
    "else:\n",
    "    print('Something is wrong')"
   ]
  },
  {
   "cell_type": "code",
   "execution_count": 7,
   "metadata": {},
   "outputs": [],
   "source": [
    "if os.path.exists(pthl3):\n",
    "    visitors = pd.read_csv(pthl3, parse_dates=['date'])\n",
    "elif os.path.exists(pthw3):\n",
    "    visitors = pd.read_csv(pthw3, parse_dates=['date'])\n",
    "else:\n",
    "    print('Something is wrong')"
   ]
  },
  {
   "cell_type": "code",
   "execution_count": 8,
   "metadata": {},
   "outputs": [
    {
     "name": "stdout",
     "output_type": "stream",
     "text": [
      "<class 'pandas.core.frame.DataFrame'>\n",
      "RangeIndex: 9 entries, 0 to 8\n",
      "Data columns (total 5 columns):\n",
      " #   Column      Non-Null Count  Dtype \n",
      "---  ------      --------------  ----- \n",
      " 0   Hypothesis  9 non-null      object\n",
      " 1   Reach       9 non-null      int64 \n",
      " 2   Impact      9 non-null      int64 \n",
      " 3   Confidence  9 non-null      int64 \n",
      " 4   Efforts     9 non-null      int64 \n",
      "dtypes: int64(4), object(1)\n",
      "memory usage: 488.0+ bytes\n"
     ]
    }
   ],
   "source": [
    "hypothesis.info()"
   ]
  },
  {
   "cell_type": "code",
   "execution_count": 9,
   "metadata": {
    "scrolled": true
   },
   "outputs": [
    {
     "name": "stdout",
     "output_type": "stream",
     "text": [
      "<class 'pandas.core.frame.DataFrame'>\n",
      "RangeIndex: 1197 entries, 0 to 1196\n",
      "Data columns (total 5 columns):\n",
      " #   Column         Non-Null Count  Dtype         \n",
      "---  ------         --------------  -----         \n",
      " 0   transactionId  1197 non-null   int64         \n",
      " 1   visitorId      1197 non-null   int64         \n",
      " 2   date           1197 non-null   datetime64[ns]\n",
      " 3   revenue        1197 non-null   int64         \n",
      " 4   group          1197 non-null   object        \n",
      "dtypes: datetime64[ns](1), int64(3), object(1)\n",
      "memory usage: 46.9+ KB\n"
     ]
    }
   ],
   "source": [
    "orders.info()"
   ]
  },
  {
   "cell_type": "code",
   "execution_count": 10,
   "metadata": {
    "scrolled": true
   },
   "outputs": [
    {
     "name": "stdout",
     "output_type": "stream",
     "text": [
      "<class 'pandas.core.frame.DataFrame'>\n",
      "RangeIndex: 62 entries, 0 to 61\n",
      "Data columns (total 3 columns):\n",
      " #   Column    Non-Null Count  Dtype         \n",
      "---  ------    --------------  -----         \n",
      " 0   date      62 non-null     datetime64[ns]\n",
      " 1   group     62 non-null     object        \n",
      " 2   visitors  62 non-null     int64         \n",
      "dtypes: datetime64[ns](1), int64(1), object(1)\n",
      "memory usage: 1.6+ KB\n"
     ]
    }
   ],
   "source": [
    "visitors.info()"
   ]
  },
  {
   "cell_type": "markdown",
   "metadata": {},
   "source": [
    "Проверяем на явные дубликаты"
   ]
  },
  {
   "cell_type": "code",
   "execution_count": 11,
   "metadata": {
    "scrolled": true
   },
   "outputs": [
    {
     "data": {
      "text/plain": [
       "0"
      ]
     },
     "execution_count": 11,
     "metadata": {},
     "output_type": "execute_result"
    }
   ],
   "source": [
    "orders.duplicated().sum()"
   ]
  },
  {
   "cell_type": "code",
   "execution_count": 12,
   "metadata": {
    "scrolled": true
   },
   "outputs": [
    {
     "data": {
      "text/plain": [
       "0"
      ]
     },
     "execution_count": 12,
     "metadata": {},
     "output_type": "execute_result"
    }
   ],
   "source": [
    "visitors.duplicated().sum()"
   ]
  },
  {
   "cell_type": "markdown",
   "metadata": {},
   "source": [
    "Смотрим кол-во пропусков по столбцам"
   ]
  },
  {
   "cell_type": "code",
   "execution_count": 13,
   "metadata": {},
   "outputs": [
    {
     "name": "stdout",
     "output_type": "stream",
     "text": [
      "Пропусков не обнаружено\n"
     ]
    }
   ],
   "source": [
    "resume = 'Пропусков не обнаружено'\n",
    "for i in orders:\n",
    "    if len(orders[orders[i].isna()]) != 0:\n",
    "        resume = 'Пропуски обнаружены'\n",
    "        print(i, '-', len(orders[orders[i].isna()])) # выводим только пропуски\n",
    "print(resume)"
   ]
  },
  {
   "cell_type": "code",
   "execution_count": 14,
   "metadata": {},
   "outputs": [
    {
     "name": "stdout",
     "output_type": "stream",
     "text": [
      "Пропусков не обнаружено\n"
     ]
    }
   ],
   "source": [
    "resume = 'Пропусков не обнаружено'\n",
    "for i in visitors:\n",
    "    if len(visitors[visitors[i].isna()]) != 0:\n",
    "        resume = 'Пропуски обнаружены'\n",
    "        print(i, '-', len(visitors[visitors[i].isna()])) # выводим только пропуски\n",
    "print(resume)"
   ]
  },
  {
   "cell_type": "markdown",
   "metadata": {},
   "source": [
    "## Приоритизация гипотез"
   ]
  },
  {
   "cell_type": "code",
   "execution_count": 15,
   "metadata": {
    "scrolled": true
   },
   "outputs": [
    {
     "data": {
      "text/html": [
       "<div>\n",
       "<style scoped>\n",
       "    .dataframe tbody tr th:only-of-type {\n",
       "        vertical-align: middle;\n",
       "    }\n",
       "\n",
       "    .dataframe tbody tr th {\n",
       "        vertical-align: top;\n",
       "    }\n",
       "\n",
       "    .dataframe thead th {\n",
       "        text-align: right;\n",
       "    }\n",
       "</style>\n",
       "<table border=\"1\" class=\"dataframe\">\n",
       "  <thead>\n",
       "    <tr style=\"text-align: right;\">\n",
       "      <th></th>\n",
       "      <th>Hypothesis</th>\n",
       "      <th>Reach</th>\n",
       "      <th>Impact</th>\n",
       "      <th>Confidence</th>\n",
       "      <th>Efforts</th>\n",
       "    </tr>\n",
       "  </thead>\n",
       "  <tbody>\n",
       "    <tr>\n",
       "      <th>0</th>\n",
       "      <td>Добавить два новых канала привлечения трафика, что позволит привлекать на 30% больше пользователей</td>\n",
       "      <td>3</td>\n",
       "      <td>10</td>\n",
       "      <td>8</td>\n",
       "      <td>6</td>\n",
       "    </tr>\n",
       "    <tr>\n",
       "      <th>1</th>\n",
       "      <td>Запустить собственную службу доставки, что сократит срок доставки заказов</td>\n",
       "      <td>2</td>\n",
       "      <td>5</td>\n",
       "      <td>4</td>\n",
       "      <td>10</td>\n",
       "    </tr>\n",
       "    <tr>\n",
       "      <th>2</th>\n",
       "      <td>Добавить блоки рекомендаций товаров на сайт интернет магазина, чтобы повысить конверсию и средний чек заказа</td>\n",
       "      <td>8</td>\n",
       "      <td>3</td>\n",
       "      <td>7</td>\n",
       "      <td>3</td>\n",
       "    </tr>\n",
       "    <tr>\n",
       "      <th>3</th>\n",
       "      <td>Изменить структура категорий, что увеличит конверсию, т.к. пользователи быстрее найдут нужный товар</td>\n",
       "      <td>8</td>\n",
       "      <td>3</td>\n",
       "      <td>3</td>\n",
       "      <td>8</td>\n",
       "    </tr>\n",
       "    <tr>\n",
       "      <th>4</th>\n",
       "      <td>Изменить цвет фона главной страницы, чтобы увеличить вовлеченность пользователей</td>\n",
       "      <td>3</td>\n",
       "      <td>1</td>\n",
       "      <td>1</td>\n",
       "      <td>1</td>\n",
       "    </tr>\n",
       "    <tr>\n",
       "      <th>5</th>\n",
       "      <td>Добавить страницу отзывов клиентов о магазине, что позволит увеличить количество заказов</td>\n",
       "      <td>3</td>\n",
       "      <td>2</td>\n",
       "      <td>2</td>\n",
       "      <td>3</td>\n",
       "    </tr>\n",
       "    <tr>\n",
       "      <th>6</th>\n",
       "      <td>Показать на главной странице баннеры с актуальными акциями и распродажами, чтобы увеличить конверсию</td>\n",
       "      <td>5</td>\n",
       "      <td>3</td>\n",
       "      <td>8</td>\n",
       "      <td>3</td>\n",
       "    </tr>\n",
       "    <tr>\n",
       "      <th>7</th>\n",
       "      <td>Добавить форму подписки на все основные страницы, чтобы собрать базу клиентов для email-рассылок</td>\n",
       "      <td>10</td>\n",
       "      <td>7</td>\n",
       "      <td>8</td>\n",
       "      <td>5</td>\n",
       "    </tr>\n",
       "    <tr>\n",
       "      <th>8</th>\n",
       "      <td>Запустить акцию, дающую скидку на товар в день рождения</td>\n",
       "      <td>1</td>\n",
       "      <td>9</td>\n",
       "      <td>9</td>\n",
       "      <td>5</td>\n",
       "    </tr>\n",
       "  </tbody>\n",
       "</table>\n",
       "</div>"
      ],
      "text/plain": [
       "                                                                                                     Hypothesis  \\\n",
       "0            Добавить два новых канала привлечения трафика, что позволит привлекать на 30% больше пользователей   \n",
       "1                                     Запустить собственную службу доставки, что сократит срок доставки заказов   \n",
       "2  Добавить блоки рекомендаций товаров на сайт интернет магазина, чтобы повысить конверсию и средний чек заказа   \n",
       "3           Изменить структура категорий, что увеличит конверсию, т.к. пользователи быстрее найдут нужный товар   \n",
       "4                              Изменить цвет фона главной страницы, чтобы увеличить вовлеченность пользователей   \n",
       "5                      Добавить страницу отзывов клиентов о магазине, что позволит увеличить количество заказов   \n",
       "6          Показать на главной странице баннеры с актуальными акциями и распродажами, чтобы увеличить конверсию   \n",
       "7              Добавить форму подписки на все основные страницы, чтобы собрать базу клиентов для email-рассылок   \n",
       "8                                                       Запустить акцию, дающую скидку на товар в день рождения   \n",
       "\n",
       "   Reach  Impact  Confidence  Efforts  \n",
       "0      3      10           8        6  \n",
       "1      2       5           4       10  \n",
       "2      8       3           7        3  \n",
       "3      8       3           3        8  \n",
       "4      3       1           1        1  \n",
       "5      3       2           2        3  \n",
       "6      5       3           8        3  \n",
       "7     10       7           8        5  \n",
       "8      1       9           9        5  "
      ]
     },
     "metadata": {},
     "output_type": "display_data"
    }
   ],
   "source": [
    "display(hypothesis)"
   ]
  },
  {
   "cell_type": "code",
   "execution_count": 16,
   "metadata": {},
   "outputs": [],
   "source": [
    "hypothesis.columns = hypothesis.columns.str.lower()"
   ]
  },
  {
   "cell_type": "code",
   "execution_count": 17,
   "metadata": {},
   "outputs": [
    {
     "data": {
      "text/html": [
       "<div>\n",
       "<style scoped>\n",
       "    .dataframe tbody tr th:only-of-type {\n",
       "        vertical-align: middle;\n",
       "    }\n",
       "\n",
       "    .dataframe tbody tr th {\n",
       "        vertical-align: top;\n",
       "    }\n",
       "\n",
       "    .dataframe thead th {\n",
       "        text-align: right;\n",
       "    }\n",
       "</style>\n",
       "<table border=\"1\" class=\"dataframe\">\n",
       "  <thead>\n",
       "    <tr style=\"text-align: right;\">\n",
       "      <th></th>\n",
       "      <th>hypothesis</th>\n",
       "      <th>ICE</th>\n",
       "    </tr>\n",
       "  </thead>\n",
       "  <tbody>\n",
       "    <tr>\n",
       "      <th>8</th>\n",
       "      <td>Запустить акцию, дающую скидку на товар в день рождения</td>\n",
       "      <td>16.20</td>\n",
       "    </tr>\n",
       "    <tr>\n",
       "      <th>0</th>\n",
       "      <td>Добавить два новых канала привлечения трафика, что позволит привлекать на 30% больше пользователей</td>\n",
       "      <td>13.33</td>\n",
       "    </tr>\n",
       "    <tr>\n",
       "      <th>7</th>\n",
       "      <td>Добавить форму подписки на все основные страницы, чтобы собрать базу клиентов для email-рассылок</td>\n",
       "      <td>11.20</td>\n",
       "    </tr>\n",
       "    <tr>\n",
       "      <th>6</th>\n",
       "      <td>Показать на главной странице баннеры с актуальными акциями и распродажами, чтобы увеличить конверсию</td>\n",
       "      <td>8.00</td>\n",
       "    </tr>\n",
       "    <tr>\n",
       "      <th>2</th>\n",
       "      <td>Добавить блоки рекомендаций товаров на сайт интернет магазина, чтобы повысить конверсию и средний чек заказа</td>\n",
       "      <td>7.00</td>\n",
       "    </tr>\n",
       "    <tr>\n",
       "      <th>1</th>\n",
       "      <td>Запустить собственную службу доставки, что сократит срок доставки заказов</td>\n",
       "      <td>2.00</td>\n",
       "    </tr>\n",
       "    <tr>\n",
       "      <th>5</th>\n",
       "      <td>Добавить страницу отзывов клиентов о магазине, что позволит увеличить количество заказов</td>\n",
       "      <td>1.33</td>\n",
       "    </tr>\n",
       "    <tr>\n",
       "      <th>3</th>\n",
       "      <td>Изменить структура категорий, что увеличит конверсию, т.к. пользователи быстрее найдут нужный товар</td>\n",
       "      <td>1.12</td>\n",
       "    </tr>\n",
       "    <tr>\n",
       "      <th>4</th>\n",
       "      <td>Изменить цвет фона главной страницы, чтобы увеличить вовлеченность пользователей</td>\n",
       "      <td>1.00</td>\n",
       "    </tr>\n",
       "  </tbody>\n",
       "</table>\n",
       "</div>"
      ],
      "text/plain": [
       "                                                                                                     hypothesis  \\\n",
       "8                                                       Запустить акцию, дающую скидку на товар в день рождения   \n",
       "0            Добавить два новых канала привлечения трафика, что позволит привлекать на 30% больше пользователей   \n",
       "7              Добавить форму подписки на все основные страницы, чтобы собрать базу клиентов для email-рассылок   \n",
       "6          Показать на главной странице баннеры с актуальными акциями и распродажами, чтобы увеличить конверсию   \n",
       "2  Добавить блоки рекомендаций товаров на сайт интернет магазина, чтобы повысить конверсию и средний чек заказа   \n",
       "1                                     Запустить собственную службу доставки, что сократит срок доставки заказов   \n",
       "5                      Добавить страницу отзывов клиентов о магазине, что позволит увеличить количество заказов   \n",
       "3           Изменить структура категорий, что увеличит конверсию, т.к. пользователи быстрее найдут нужный товар   \n",
       "4                              Изменить цвет фона главной страницы, чтобы увеличить вовлеченность пользователей   \n",
       "\n",
       "     ICE  \n",
       "8  16.20  \n",
       "0  13.33  \n",
       "7  11.20  \n",
       "6   8.00  \n",
       "2   7.00  \n",
       "1   2.00  \n",
       "5   1.33  \n",
       "3   1.12  \n",
       "4   1.00  "
      ]
     },
     "metadata": {},
     "output_type": "display_data"
    }
   ],
   "source": [
    "hypothesis['ICE'] = round(hypothesis['impact'] * hypothesis['confidence'] / hypothesis['efforts'], 2)\n",
    "display(hypothesis[['hypothesis', 'ICE']].sort_values(by='ICE', ascending=False))"
   ]
  },
  {
   "cell_type": "code",
   "execution_count": 18,
   "metadata": {},
   "outputs": [
    {
     "data": {
      "text/html": [
       "<div>\n",
       "<style scoped>\n",
       "    .dataframe tbody tr th:only-of-type {\n",
       "        vertical-align: middle;\n",
       "    }\n",
       "\n",
       "    .dataframe tbody tr th {\n",
       "        vertical-align: top;\n",
       "    }\n",
       "\n",
       "    .dataframe thead th {\n",
       "        text-align: right;\n",
       "    }\n",
       "</style>\n",
       "<table border=\"1\" class=\"dataframe\">\n",
       "  <thead>\n",
       "    <tr style=\"text-align: right;\">\n",
       "      <th></th>\n",
       "      <th>hypothesis</th>\n",
       "      <th>RICE</th>\n",
       "    </tr>\n",
       "  </thead>\n",
       "  <tbody>\n",
       "    <tr>\n",
       "      <th>7</th>\n",
       "      <td>Добавить форму подписки на все основные страницы, чтобы собрать базу клиентов для email-рассылок</td>\n",
       "      <td>112.0</td>\n",
       "    </tr>\n",
       "    <tr>\n",
       "      <th>2</th>\n",
       "      <td>Добавить блоки рекомендаций товаров на сайт интернет магазина, чтобы повысить конверсию и средний чек заказа</td>\n",
       "      <td>56.0</td>\n",
       "    </tr>\n",
       "    <tr>\n",
       "      <th>0</th>\n",
       "      <td>Добавить два новых канала привлечения трафика, что позволит привлекать на 30% больше пользователей</td>\n",
       "      <td>40.0</td>\n",
       "    </tr>\n",
       "    <tr>\n",
       "      <th>6</th>\n",
       "      <td>Показать на главной странице баннеры с актуальными акциями и распродажами, чтобы увеличить конверсию</td>\n",
       "      <td>40.0</td>\n",
       "    </tr>\n",
       "    <tr>\n",
       "      <th>8</th>\n",
       "      <td>Запустить акцию, дающую скидку на товар в день рождения</td>\n",
       "      <td>16.2</td>\n",
       "    </tr>\n",
       "    <tr>\n",
       "      <th>3</th>\n",
       "      <td>Изменить структура категорий, что увеличит конверсию, т.к. пользователи быстрее найдут нужный товар</td>\n",
       "      <td>9.0</td>\n",
       "    </tr>\n",
       "    <tr>\n",
       "      <th>1</th>\n",
       "      <td>Запустить собственную службу доставки, что сократит срок доставки заказов</td>\n",
       "      <td>4.0</td>\n",
       "    </tr>\n",
       "    <tr>\n",
       "      <th>5</th>\n",
       "      <td>Добавить страницу отзывов клиентов о магазине, что позволит увеличить количество заказов</td>\n",
       "      <td>4.0</td>\n",
       "    </tr>\n",
       "    <tr>\n",
       "      <th>4</th>\n",
       "      <td>Изменить цвет фона главной страницы, чтобы увеличить вовлеченность пользователей</td>\n",
       "      <td>3.0</td>\n",
       "    </tr>\n",
       "  </tbody>\n",
       "</table>\n",
       "</div>"
      ],
      "text/plain": [
       "                                                                                                     hypothesis  \\\n",
       "7              Добавить форму подписки на все основные страницы, чтобы собрать базу клиентов для email-рассылок   \n",
       "2  Добавить блоки рекомендаций товаров на сайт интернет магазина, чтобы повысить конверсию и средний чек заказа   \n",
       "0            Добавить два новых канала привлечения трафика, что позволит привлекать на 30% больше пользователей   \n",
       "6          Показать на главной странице баннеры с актуальными акциями и распродажами, чтобы увеличить конверсию   \n",
       "8                                                       Запустить акцию, дающую скидку на товар в день рождения   \n",
       "3           Изменить структура категорий, что увеличит конверсию, т.к. пользователи быстрее найдут нужный товар   \n",
       "1                                     Запустить собственную службу доставки, что сократит срок доставки заказов   \n",
       "5                      Добавить страницу отзывов клиентов о магазине, что позволит увеличить количество заказов   \n",
       "4                              Изменить цвет фона главной страницы, чтобы увеличить вовлеченность пользователей   \n",
       "\n",
       "    RICE  \n",
       "7  112.0  \n",
       "2   56.0  \n",
       "0   40.0  \n",
       "6   40.0  \n",
       "8   16.2  \n",
       "3    9.0  \n",
       "1    4.0  \n",
       "5    4.0  \n",
       "4    3.0  "
      ]
     },
     "metadata": {},
     "output_type": "display_data"
    }
   ],
   "source": [
    "hypothesis['RICE'] = hypothesis['reach'] * hypothesis['impact'] * hypothesis['confidence'] / hypothesis['efforts']\n",
    "display(hypothesis[['hypothesis', 'RICE']].sort_values(by='RICE', ascending=False))"
   ]
  },
  {
   "cell_type": "markdown",
   "metadata": {},
   "source": [
    "С добавлением охвата меняется приоретизация гипотез. При малом охвате, влияние не такое уж и серьёзное будет."
   ]
  },
  {
   "cell_type": "markdown",
   "metadata": {},
   "source": [
    "С применением фреймворка ICE лидерами стали гипотезы 8, 0 и 7. <br>\n",
    "Фреймворк RICE выводит в безоговорочные лидеры гипотезу 7. <br>\n",
    "Видимо, с неё стоит начать."
   ]
  },
  {
   "cell_type": "markdown",
   "metadata": {},
   "source": [
    "## Анализ A/B-теста"
   ]
  },
  {
   "cell_type": "code",
   "execution_count": 19,
   "metadata": {
    "scrolled": false
   },
   "outputs": [
    {
     "data": {
      "text/html": [
       "<div>\n",
       "<style scoped>\n",
       "    .dataframe tbody tr th:only-of-type {\n",
       "        vertical-align: middle;\n",
       "    }\n",
       "\n",
       "    .dataframe tbody tr th {\n",
       "        vertical-align: top;\n",
       "    }\n",
       "\n",
       "    .dataframe thead th {\n",
       "        text-align: right;\n",
       "    }\n",
       "</style>\n",
       "<table border=\"1\" class=\"dataframe\">\n",
       "  <thead>\n",
       "    <tr style=\"text-align: right;\">\n",
       "      <th></th>\n",
       "      <th>transactionId</th>\n",
       "      <th>visitorId</th>\n",
       "      <th>date</th>\n",
       "      <th>revenue</th>\n",
       "      <th>group</th>\n",
       "    </tr>\n",
       "  </thead>\n",
       "  <tbody>\n",
       "    <tr>\n",
       "      <th>0</th>\n",
       "      <td>3667963787</td>\n",
       "      <td>3312258926</td>\n",
       "      <td>2019-08-15</td>\n",
       "      <td>1650</td>\n",
       "      <td>B</td>\n",
       "    </tr>\n",
       "    <tr>\n",
       "      <th>1</th>\n",
       "      <td>2804400009</td>\n",
       "      <td>3642806036</td>\n",
       "      <td>2019-08-15</td>\n",
       "      <td>730</td>\n",
       "      <td>B</td>\n",
       "    </tr>\n",
       "    <tr>\n",
       "      <th>2</th>\n",
       "      <td>2961555356</td>\n",
       "      <td>4069496402</td>\n",
       "      <td>2019-08-15</td>\n",
       "      <td>400</td>\n",
       "      <td>A</td>\n",
       "    </tr>\n",
       "    <tr>\n",
       "      <th>3</th>\n",
       "      <td>3797467345</td>\n",
       "      <td>1196621759</td>\n",
       "      <td>2019-08-15</td>\n",
       "      <td>9759</td>\n",
       "      <td>B</td>\n",
       "    </tr>\n",
       "    <tr>\n",
       "      <th>4</th>\n",
       "      <td>2282983706</td>\n",
       "      <td>2322279887</td>\n",
       "      <td>2019-08-15</td>\n",
       "      <td>2308</td>\n",
       "      <td>B</td>\n",
       "    </tr>\n",
       "  </tbody>\n",
       "</table>\n",
       "</div>"
      ],
      "text/plain": [
       "   transactionId   visitorId       date  revenue group\n",
       "0     3667963787  3312258926 2019-08-15     1650     B\n",
       "1     2804400009  3642806036 2019-08-15      730     B\n",
       "2     2961555356  4069496402 2019-08-15      400     A\n",
       "3     3797467345  1196621759 2019-08-15     9759     B\n",
       "4     2282983706  2322279887 2019-08-15     2308     B"
      ]
     },
     "metadata": {},
     "output_type": "display_data"
    }
   ],
   "source": [
    "display(orders.head())"
   ]
  },
  {
   "cell_type": "raw",
   "metadata": {},
   "source": [
    "orders.columns = orders.columns.str.lower()"
   ]
  },
  {
   "cell_type": "code",
   "execution_count": 20,
   "metadata": {},
   "outputs": [],
   "source": [
    "orders.columns = ['transaction_id', 'visitor_id', 'date', 'revenue', 'group']"
   ]
  },
  {
   "cell_type": "raw",
   "metadata": {},
   "source": [
    "display(orders.head())"
   ]
  },
  {
   "cell_type": "code",
   "execution_count": 21,
   "metadata": {
    "scrolled": false
   },
   "outputs": [
    {
     "data": {
      "text/html": [
       "<div>\n",
       "<style scoped>\n",
       "    .dataframe tbody tr th:only-of-type {\n",
       "        vertical-align: middle;\n",
       "    }\n",
       "\n",
       "    .dataframe tbody tr th {\n",
       "        vertical-align: top;\n",
       "    }\n",
       "\n",
       "    .dataframe thead th {\n",
       "        text-align: right;\n",
       "    }\n",
       "</style>\n",
       "<table border=\"1\" class=\"dataframe\">\n",
       "  <thead>\n",
       "    <tr style=\"text-align: right;\">\n",
       "      <th></th>\n",
       "      <th>date</th>\n",
       "      <th>group</th>\n",
       "      <th>visitors</th>\n",
       "    </tr>\n",
       "  </thead>\n",
       "  <tbody>\n",
       "    <tr>\n",
       "      <th>0</th>\n",
       "      <td>2019-08-01</td>\n",
       "      <td>A</td>\n",
       "      <td>719</td>\n",
       "    </tr>\n",
       "    <tr>\n",
       "      <th>1</th>\n",
       "      <td>2019-08-02</td>\n",
       "      <td>A</td>\n",
       "      <td>619</td>\n",
       "    </tr>\n",
       "    <tr>\n",
       "      <th>2</th>\n",
       "      <td>2019-08-03</td>\n",
       "      <td>A</td>\n",
       "      <td>507</td>\n",
       "    </tr>\n",
       "    <tr>\n",
       "      <th>3</th>\n",
       "      <td>2019-08-04</td>\n",
       "      <td>A</td>\n",
       "      <td>717</td>\n",
       "    </tr>\n",
       "    <tr>\n",
       "      <th>4</th>\n",
       "      <td>2019-08-05</td>\n",
       "      <td>A</td>\n",
       "      <td>756</td>\n",
       "    </tr>\n",
       "    <tr>\n",
       "      <th>...</th>\n",
       "      <td>...</td>\n",
       "      <td>...</td>\n",
       "      <td>...</td>\n",
       "    </tr>\n",
       "    <tr>\n",
       "      <th>57</th>\n",
       "      <td>2019-08-27</td>\n",
       "      <td>B</td>\n",
       "      <td>720</td>\n",
       "    </tr>\n",
       "    <tr>\n",
       "      <th>58</th>\n",
       "      <td>2019-08-28</td>\n",
       "      <td>B</td>\n",
       "      <td>654</td>\n",
       "    </tr>\n",
       "    <tr>\n",
       "      <th>59</th>\n",
       "      <td>2019-08-29</td>\n",
       "      <td>B</td>\n",
       "      <td>531</td>\n",
       "    </tr>\n",
       "    <tr>\n",
       "      <th>60</th>\n",
       "      <td>2019-08-30</td>\n",
       "      <td>B</td>\n",
       "      <td>490</td>\n",
       "    </tr>\n",
       "    <tr>\n",
       "      <th>61</th>\n",
       "      <td>2019-08-31</td>\n",
       "      <td>B</td>\n",
       "      <td>718</td>\n",
       "    </tr>\n",
       "  </tbody>\n",
       "</table>\n",
       "<p>62 rows × 3 columns</p>\n",
       "</div>"
      ],
      "text/plain": [
       "         date group  visitors\n",
       "0  2019-08-01     A       719\n",
       "1  2019-08-02     A       619\n",
       "2  2019-08-03     A       507\n",
       "3  2019-08-04     A       717\n",
       "4  2019-08-05     A       756\n",
       "..        ...   ...       ...\n",
       "57 2019-08-27     B       720\n",
       "58 2019-08-28     B       654\n",
       "59 2019-08-29     B       531\n",
       "60 2019-08-30     B       490\n",
       "61 2019-08-31     B       718\n",
       "\n",
       "[62 rows x 3 columns]"
      ]
     },
     "metadata": {},
     "output_type": "display_data"
    }
   ],
   "source": [
    "display(visitors)"
   ]
  },
  {
   "cell_type": "code",
   "execution_count": 22,
   "metadata": {},
   "outputs": [
    {
     "name": "stdout",
     "output_type": "stream",
     "text": [
      "['A' 'B']\n"
     ]
    }
   ],
   "source": [
    "print(visitors['group'].unique())"
   ]
  },
  {
   "cell_type": "markdown",
   "metadata": {},
   "source": [
    "Есть всего 2 группы, тест парный."
   ]
  },
  {
   "cell_type": "code",
   "execution_count": 23,
   "metadata": {},
   "outputs": [],
   "source": [
    "visitors_per_date_a = visitors.loc[visitors['group'] == 'A']\n",
    "visitors_per_date_b = visitors.loc[visitors['group'] == 'B']"
   ]
  },
  {
   "cell_type": "code",
   "execution_count": 24,
   "metadata": {
    "scrolled": true
   },
   "outputs": [
    {
     "name": "stdout",
     "output_type": "stream",
     "text": [
      "Начало теста группы А: 2019-08-01 00:00:00 , Окончание: 2019-08-31 00:00:00\n",
      "Начало теста группы А: 2019-08-01 00:00:00 , Окончание: 2019-08-31 00:00:00\n"
     ]
    }
   ],
   "source": [
    "print('Начало теста группы А:', visitors_per_date_a['date'].min(), ', Окончание:', visitors_per_date_a['date'].max())\n",
    "print('Начало теста группы А:', visitors_per_date_b['date'].min(), ', Окончание:', visitors_per_date_a['date'].max())"
   ]
  },
  {
   "cell_type": "markdown",
   "metadata": {},
   "source": [
    "Тест по обеим группам начат и закончен одновременно"
   ]
  },
  {
   "cell_type": "markdown",
   "metadata": {},
   "source": [
    "Создадим переменные по группам \"А\" и \"В\" с id посетителей, которые заказывали хотя бы 1 раз, и количеством заказов."
   ]
  },
  {
   "cell_type": "code",
   "execution_count": 25,
   "metadata": {},
   "outputs": [],
   "source": [
    "orders_by_users_a = (\n",
    "    orders[orders['group'] == 'A']\n",
    "    .groupby('visitor_id', as_index=False)\n",
    "    .agg({'transaction_id': pd.Series.nunique})\n",
    ")\n",
    "orders_by_users_a.columns = ['visitor_id', 'orders']\n",
    "\n",
    "orders_by_users_b = (\n",
    "    orders[orders['group'] == 'B']\n",
    "    .groupby('visitor_id', as_index=False)\n",
    "    .agg({'transaction_id': pd.Series.nunique})\n",
    ")\n",
    "orders_by_users_b.columns = ['visitor_id', 'orders']"
   ]
  },
  {
   "cell_type": "markdown",
   "metadata": {},
   "source": [
    "Сравним кол-во посетителей в группах"
   ]
  },
  {
   "cell_type": "code",
   "execution_count": 26,
   "metadata": {
    "scrolled": true
   },
   "outputs": [
    {
     "name": "stdout",
     "output_type": "stream",
     "text": [
      "503\n",
      "586\n"
     ]
    }
   ],
   "source": [
    "nunique_users_a = orders_by_users_a['visitor_id'].nunique()\n",
    "nunique_users_b = orders_by_users_b['visitor_id'].nunique()\n",
    "print(nunique_users_a)\n",
    "print(nunique_users_b)"
   ]
  },
  {
   "cell_type": "code",
   "execution_count": 27,
   "metadata": {},
   "outputs": [
    {
     "data": {
      "text/plain": [
       "0.16500994035785288"
      ]
     },
     "execution_count": 27,
     "metadata": {},
     "output_type": "execute_result"
    }
   ],
   "source": [
    "nunique_users_b/nunique_users_a-1"
   ]
  },
  {
   "cell_type": "markdown",
   "metadata": {},
   "source": [
    "Разница в количестве пользователей 16%. Что-то многовато."
   ]
  },
  {
   "cell_type": "markdown",
   "metadata": {},
   "source": [
    "Проверим перекрёстную уникальность пользователей"
   ]
  },
  {
   "cell_type": "code",
   "execution_count": 28,
   "metadata": {},
   "outputs": [],
   "source": [
    "orders_by_users_unique_a = orders_by_users_a['visitor_id'].unique()\n",
    "orders_by_users_unique_b = orders_by_users_b['visitor_id'].unique()"
   ]
  },
  {
   "cell_type": "code",
   "execution_count": 29,
   "metadata": {},
   "outputs": [
    {
     "data": {
      "text/plain": [
       "58"
      ]
     },
     "execution_count": 29,
     "metadata": {},
     "output_type": "execute_result"
    }
   ],
   "source": [
    "orders_not_unique = np.intersect1d(orders_by_users_unique_a, orders_by_users_unique_b)\n",
    "len(orders_not_unique)"
   ]
  },
  {
   "cell_type": "code",
   "execution_count": 30,
   "metadata": {},
   "outputs": [
    {
     "name": "stdout",
     "output_type": "stream",
     "text": [
      "0.11531 - доля дублей в группе А\n",
      "0.09898 - доля дублей в группе В\n",
      "0.0497 - разница в объёме групп при удалении дублей из группы В\n",
      "0.18652 - разница в объёме групп при удалении дублей из обеих групп\n",
      "0.16501 - разница в исходном объёме групп\n"
     ]
    }
   ],
   "source": [
    "print(round(len(orders_not_unique)/len(orders_by_users_unique_a), 5), '- доля дублей в группе А')\n",
    "print(round(len(orders_not_unique)/len(orders_by_users_unique_b), 5), '- доля дублей в группе В')\n",
    "print(round((len(orders_by_users_unique_b)-len(orders_not_unique))/len(orders_by_users_unique_a)-1, 5), '- разница в объёме групп при удалении дублей из группы В')\n",
    "print(round((len(orders_by_users_unique_b)-len(orders_not_unique))/(len(orders_by_users_unique_a)-len(orders_not_unique))-1, 5), '- разница в объёме групп при удалении дублей из обеих групп')\n",
    "print(round(len(orders_by_users_unique_b)/len(orders_by_users_unique_a)-1, 5), '- разница в исходном объёме групп')"
   ]
  },
  {
   "cell_type": "markdown",
   "metadata": {},
   "source": [
    "### Кумулятивная выручка"
   ]
  },
  {
   "cell_type": "code",
   "execution_count": 31,
   "metadata": {},
   "outputs": [],
   "source": [
    "# создаем массив уникальных пар значений дат и групп теста\n",
    "dates_groups = orders[['date','group']].drop_duplicates() "
   ]
  },
  {
   "cell_type": "code",
   "execution_count": 32,
   "metadata": {},
   "outputs": [],
   "source": [
    "# получим агрегированные кумулятивные по дням данные о заказах \n",
    "orders_aggregated = dates_groups.apply(lambda x: orders[np.logical_and(orders['date'] <= \n",
    "                    x['date'], orders['group'] == x['group'])].agg(\n",
    "                    {'date' : 'max', 'group' : 'max', 'transaction_id' : 'nunique', \n",
    "                     'visitor_id' : 'nunique', 'revenue' : 'sum'}), axis=1).sort_values(by=['date','group'])"
   ]
  },
  {
   "cell_type": "code",
   "execution_count": 33,
   "metadata": {},
   "outputs": [],
   "source": [
    "# получаем агрегированные кумулятивные по дням данные о посетителях интернет-магазина \n",
    "visitors_aggregated = dates_groups.apply(lambda x: visitors[np.logical_and(visitors['date'] <= \n",
    "                      x['date'], visitors['group'] == x['group'])].agg({'date' : 'max', 'group' : 'max', \n",
    "                      'visitors' : 'sum'}), axis=1).sort_values(by=['date','group'])"
   ]
  },
  {
   "cell_type": "code",
   "execution_count": 34,
   "metadata": {},
   "outputs": [],
   "source": [
    "# объединяем кумулятивные данные в одной таблице и присваиваем ее столбцам понятные названия\n",
    "cumulative_data = orders_aggregated.merge(visitors_aggregated, left_on=['date', 'group'], right_on=['date', 'group'])\n",
    "cumulative_data.columns = ['date', 'group', 'orders', 'buyers', 'revenue', 'visitors']"
   ]
  },
  {
   "cell_type": "code",
   "execution_count": 35,
   "metadata": {},
   "outputs": [
    {
     "data": {
      "text/html": [
       "<div>\n",
       "<style scoped>\n",
       "    .dataframe tbody tr th:only-of-type {\n",
       "        vertical-align: middle;\n",
       "    }\n",
       "\n",
       "    .dataframe tbody tr th {\n",
       "        vertical-align: top;\n",
       "    }\n",
       "\n",
       "    .dataframe thead th {\n",
       "        text-align: right;\n",
       "    }\n",
       "</style>\n",
       "<table border=\"1\" class=\"dataframe\">\n",
       "  <thead>\n",
       "    <tr style=\"text-align: right;\">\n",
       "      <th></th>\n",
       "      <th>date</th>\n",
       "      <th>group</th>\n",
       "      <th>orders</th>\n",
       "      <th>buyers</th>\n",
       "      <th>revenue</th>\n",
       "      <th>visitors</th>\n",
       "    </tr>\n",
       "  </thead>\n",
       "  <tbody>\n",
       "    <tr>\n",
       "      <th>0</th>\n",
       "      <td>2019-08-01</td>\n",
       "      <td>A</td>\n",
       "      <td>24</td>\n",
       "      <td>20</td>\n",
       "      <td>148579</td>\n",
       "      <td>719</td>\n",
       "    </tr>\n",
       "    <tr>\n",
       "      <th>1</th>\n",
       "      <td>2019-08-01</td>\n",
       "      <td>B</td>\n",
       "      <td>21</td>\n",
       "      <td>20</td>\n",
       "      <td>101217</td>\n",
       "      <td>713</td>\n",
       "    </tr>\n",
       "    <tr>\n",
       "      <th>2</th>\n",
       "      <td>2019-08-02</td>\n",
       "      <td>A</td>\n",
       "      <td>44</td>\n",
       "      <td>38</td>\n",
       "      <td>242401</td>\n",
       "      <td>1338</td>\n",
       "    </tr>\n",
       "    <tr>\n",
       "      <th>3</th>\n",
       "      <td>2019-08-02</td>\n",
       "      <td>B</td>\n",
       "      <td>45</td>\n",
       "      <td>43</td>\n",
       "      <td>266748</td>\n",
       "      <td>1294</td>\n",
       "    </tr>\n",
       "    <tr>\n",
       "      <th>4</th>\n",
       "      <td>2019-08-03</td>\n",
       "      <td>A</td>\n",
       "      <td>68</td>\n",
       "      <td>62</td>\n",
       "      <td>354874</td>\n",
       "      <td>1845</td>\n",
       "    </tr>\n",
       "  </tbody>\n",
       "</table>\n",
       "</div>"
      ],
      "text/plain": [
       "        date group  orders  buyers  revenue  visitors\n",
       "0 2019-08-01     A      24      20   148579       719\n",
       "1 2019-08-01     B      21      20   101217       713\n",
       "2 2019-08-02     A      44      38   242401      1338\n",
       "3 2019-08-02     B      45      43   266748      1294\n",
       "4 2019-08-03     A      68      62   354874      1845"
      ]
     },
     "metadata": {},
     "output_type": "display_data"
    }
   ],
   "source": [
    "display(cumulative_data.head(5)) "
   ]
  },
  {
   "cell_type": "code",
   "execution_count": 36,
   "metadata": {},
   "outputs": [],
   "source": [
    "# датафрейм с кумулятивным количеством заказов и кумулятивной выручкой по дням в группе А\n",
    "cumulative_revenue_a = cumulative_data[cumulative_data['group']=='A'][['date','revenue', 'orders']]"
   ]
  },
  {
   "cell_type": "code",
   "execution_count": 37,
   "metadata": {},
   "outputs": [],
   "source": [
    "# датафрейм с кумулятивным количеством заказов и кумулятивной выручкой по дням в группе B\n",
    "cumulative_revenue_b = cumulative_data[cumulative_data['group']=='B'][['date','revenue', 'orders']]"
   ]
  },
  {
   "cell_type": "markdown",
   "metadata": {},
   "source": [
    "Построим графики кумулятивной выручки по дням и группам A/B-тестирования."
   ]
  },
  {
   "cell_type": "code",
   "execution_count": 38,
   "metadata": {},
   "outputs": [
    {
     "data": {
      "image/png": "[encoded data removed]",
      "text/plain": [
       "<Figure size 1224x720 with 1 Axes>"
      ]
     },
     "metadata": {
      "needs_background": "light"
     },
     "output_type": "display_data"
    }
   ],
   "source": [
    "plt.figure(figsize=(17,10))\n",
    "plt.grid=True\n",
    "plt.title('Графики кумулятивной выручки по группам')\n",
    "plt.xlabel('Дата заказа', color='gray')\n",
    "plt.ylabel('Выручка',color='gray')\n",
    "\n",
    "# Строим график выручки группы А\n",
    "plt.plot(cumulative_revenue_a['date'], cumulative_revenue_a['revenue'], label='A')\n",
    "\n",
    "# Строим график выручки группы B\n",
    "plt.plot(cumulative_revenue_b['date'], cumulative_revenue_b['revenue'], label='B')\n",
    "\n",
    "plt.legend();"
   ]
  },
  {
   "cell_type": "markdown",
   "metadata": {},
   "source": [
    "Выручка почти равномерно увеличивается в течение всего теста.\n",
    "Однако, график выручки группы \"В\" резко вырос однажды, затем продолжил плавный рост. Это может сигнализировать о всплесках числа заказов, либо о появлении очень дорогих заказов в выборке."
   ]
  },
  {
   "cell_type": "markdown",
   "metadata": {},
   "source": [
    "### Средний чек"
   ]
  },
  {
   "cell_type": "markdown",
   "metadata": {},
   "source": [
    "Построим графики среднего чека по группам, разделив кумулятивную выручку на кумулятивное число заказов."
   ]
  },
  {
   "cell_type": "code",
   "execution_count": 39,
   "metadata": {},
   "outputs": [
    {
     "data": {
      "image/png": "[encoded data removed]",
      "text/plain": [
       "<Figure size 1224x720 with 1 Axes>"
      ]
     },
     "metadata": {
      "needs_background": "light"
     },
     "output_type": "display_data"
    }
   ],
   "source": [
    "fig, ax = plt.subplots(figsize=(17,10))\n",
    "ax.grid(True)\n",
    "plt.title('Графики кумулятивного среднего чека по группам')\n",
    "plt.xlabel('Дата заказа', color='gray')\n",
    "plt.ylabel('Средний чек',color='gray')\n",
    "plt.plot(cumulative_revenue_a['date'], cumulative_revenue_a['revenue']/cumulative_revenue_a['orders'], label='A')\n",
    "plt.plot(cumulative_revenue_b['date'], cumulative_revenue_b['revenue']/cumulative_revenue_b['orders'], label='B')\n",
    "plt.legend();"
   ]
  },
  {
   "cell_type": "markdown",
   "metadata": {},
   "source": [
    "Средний чек по группе \"А\" становится равномерным ближе к концу теста. По группе \"В\" происходят резкие всплески, затем, падения. То же видно и на графике кумулятивной выручки. Возможно, в группу \"B\" попали крупные заказы (резкий всплеск на графике за один день)."
   ]
  },
  {
   "cell_type": "markdown",
   "metadata": {},
   "source": [
    "### Изменение среднего чека"
   ]
  },
  {
   "cell_type": "markdown",
   "metadata": {},
   "source": [
    "Построим график относительного различия для среднего чека."
   ]
  },
  {
   "cell_type": "code",
   "execution_count": 40,
   "metadata": {},
   "outputs": [],
   "source": [
    "# собираем данные в одном датафрейме\n",
    "merged_cumulative_revenue = cumulative_revenue_a.merge(cumulative_revenue_b, \n",
    "                            left_on='date', right_on='date', how='left', suffixes=['_a', '_b'])"
   ]
  },
  {
   "cell_type": "code",
   "execution_count": 41,
   "metadata": {},
   "outputs": [
    {
     "data": {
      "image/png": "[encoded data removed]",
      "text/plain": [
       "<Figure size 1224x720 with 1 Axes>"
      ]
     },
     "metadata": {
      "needs_background": "light"
     },
     "output_type": "display_data"
    }
   ],
   "source": [
    "plt.figure(figsize=(17,10))\n",
    "plt.grid=True\n",
    "plt.title('График относительного различия для среднего чека')\n",
    "plt.xlabel('Дата заказа', color='gray')\n",
    "plt.ylabel('Относительное различие среднего чека',color='gray')\n",
    "\n",
    "# cтроим отношение средних чеков\n",
    "plt.plot(merged_cumulative_revenue['date'], \n",
    "         (merged_cumulative_revenue['revenue_b']/merged_cumulative_revenue['orders_b'])/\n",
    "         (merged_cumulative_revenue['revenue_a']/merged_cumulative_revenue['orders_a'])-1)\n",
    "\n",
    "# добавляем ось X\n",
    "plt.axhline(y=0, color='black', linestyle='--');"
   ]
  },
  {
   "cell_type": "markdown",
   "metadata": {},
   "source": [
    "В нескольких точках график различия между сегментами резко «скачет». Где-то точно есть крупные заказы и выбросы!"
   ]
  },
  {
   "cell_type": "markdown",
   "metadata": {},
   "source": [
    "### Среднее количество заказов"
   ]
  },
  {
   "cell_type": "markdown",
   "metadata": {},
   "source": [
    "Построим графики кумулятивного среднего количества заказов на посетителя по группам."
   ]
  },
  {
   "cell_type": "code",
   "execution_count": 42,
   "metadata": {},
   "outputs": [],
   "source": [
    "# датафрейм с кумулятивным количеством заказов и кумулятивными посетителями по дням в группе А\n",
    "cumulative_orders_a = cumulative_data[cumulative_data['group']=='A'][['date','visitors', 'orders']]"
   ]
  },
  {
   "cell_type": "code",
   "execution_count": 43,
   "metadata": {},
   "outputs": [],
   "source": [
    "# датафрейм с кумулятивным количеством заказов и кумулятивными посетителями по дням в группе В\n",
    "cumulative_orders_b = cumulative_data[cumulative_data['group']=='B'][['date','visitors', 'orders']]"
   ]
  },
  {
   "cell_type": "code",
   "execution_count": 44,
   "metadata": {},
   "outputs": [
    {
     "data": {
      "image/png": "[encoded data removed]",
      "text/plain": [
       "<Figure size 1224x720 with 1 Axes>"
      ]
     },
     "metadata": {
      "needs_background": "light"
     },
     "output_type": "display_data"
    }
   ],
   "source": [
    "plt.figure(figsize=(17,10))\n",
    "plt.grid=True\n",
    "plt.title('Графики среднего количества заказов на посетителя по группам')\n",
    "plt.xlabel('Дата заказа', color='gray')\n",
    "plt.ylabel('Среднее количество заказов на посетителя',color='gray')\n",
    "plt.plot(cumulative_orders_a['date'], cumulative_orders_a['orders']/cumulative_orders_a['visitors'], label='A')\n",
    "plt.plot(cumulative_orders_b['date'], cumulative_orders_b['orders']/cumulative_orders_b['visitors'], label='B')\n",
    "plt.legend();"
   ]
  },
  {
   "cell_type": "markdown",
   "metadata": {},
   "source": [
    "В начале резкие скачки, затем приближается к стабилизации."
   ]
  },
  {
   "cell_type": "markdown",
   "metadata": {},
   "source": [
    "### Изменение среднего количества заказов."
   ]
  },
  {
   "cell_type": "markdown",
   "metadata": {},
   "source": [
    "Построим график относительного изменения кумулятивного среднего количества заказов на посетителя группы B к группе A."
   ]
  },
  {
   "cell_type": "code",
   "execution_count": 45,
   "metadata": {},
   "outputs": [],
   "source": [
    "# собираем данные в одном датафрейме\n",
    "merged_сumulative_orders = cumulative_orders_a.merge(cumulative_orders_b, \n",
    "                        left_on='date', right_on='date', how='left', suffixes=['_a', '_b'])"
   ]
  },
  {
   "cell_type": "code",
   "execution_count": 46,
   "metadata": {},
   "outputs": [
    {
     "data": {
      "image/png": "[encoded data removed]",
      "text/plain": [
       "<Figure size 1224x720 with 1 Axes>"
      ]
     },
     "metadata": {
      "needs_background": "light"
     },
     "output_type": "display_data"
    }
   ],
   "source": [
    "plt.figure(figsize=(17,10))\n",
    "plt.grid=True\n",
    "plt.title('График относительного изменения кумулятивного среднего количества заказов на посетителя')\n",
    "plt.xlabel('Дата заказа', color='gray')\n",
    "plt.ylabel('Изменение среднего количества заказов на посетителя',color='gray')\n",
    "\n",
    "# cтроим отношение средних чеков\n",
    "plt.plot(merged_сumulative_orders['date'], \n",
    "         (merged_сumulative_orders['orders_b']/merged_сumulative_orders['visitors_b'])/\n",
    "         (merged_сumulative_orders['orders_a']/merged_сumulative_orders['visitors_a'])-1)\n",
    "\n",
    "# добавляем ось X\n",
    "plt.axhline(y=0, color='black', linestyle='--');"
   ]
  },
  {
   "cell_type": "markdown",
   "metadata": {},
   "source": [
    "Среднее количество заказов значительно больше в группе \"В\"."
   ]
  },
  {
   "cell_type": "markdown",
   "metadata": {},
   "source": [
    "### Количество заказов"
   ]
  },
  {
   "cell_type": "markdown",
   "metadata": {},
   "source": [
    "Построим график количества заказов по пользователям"
   ]
  },
  {
   "cell_type": "code",
   "execution_count": 47,
   "metadata": {
    "scrolled": true
   },
   "outputs": [],
   "source": [
    "orders_by_users = (\n",
    "    orders.groupby('visitor_id', as_index=False)\n",
    "    .agg({'transaction_id': 'nunique'}))\n",
    "\n",
    "orders_by_users.columns = ['visitor_id', 'orders']"
   ]
  },
  {
   "cell_type": "raw",
   "metadata": {},
   "source": [
    "print(orders_by_users.sort_values(by='orders', ascending=False).head())"
   ]
  },
  {
   "cell_type": "code",
   "execution_count": 48,
   "metadata": {},
   "outputs": [
    {
     "data": {
      "image/png": "[encoded data removed]",
      "text/plain": [
       "<Figure size 1224x288 with 1 Axes>"
      ]
     },
     "metadata": {
      "needs_background": "light"
     },
     "output_type": "display_data"
    }
   ],
   "source": [
    "plt.figure(figsize=(17, 4))\n",
    "plt.grid=True\n",
    "plt.title('Количество заказов по пользователям')\n",
    "plt.xlabel('Количество пользователей', color='gray')\n",
    "plt.ylabel('Количество заказов',color='gray')\n",
    "x_values = pd.Series(range(0,len(orders_by_users)))\n",
    "\n",
    "plt.scatter(x_values, orders_by_users['orders']);"
   ]
  },
  {
   "cell_type": "markdown",
   "metadata": {},
   "source": [
    "Большинство покупателей заказывали только один раз. Однако доля пользователей с 2-3 заказами тоже значительна. \n",
    "Их точная доля не ясна — непонятно, считать их аномалиями или нет. "
   ]
  },
  {
   "cell_type": "markdown",
   "metadata": {},
   "source": [
    "### Перцентили количества заказов"
   ]
  },
  {
   "cell_type": "markdown",
   "metadata": {},
   "source": [
    "Посчитаем выборочные перцентили количества заказов на одного пользователя"
   ]
  },
  {
   "cell_type": "code",
   "execution_count": 49,
   "metadata": {},
   "outputs": [
    {
     "name": "stdout",
     "output_type": "stream",
     "text": [
      "[1. 2. 4.]\n"
     ]
    }
   ],
   "source": [
    "print(np.percentile(orders_by_users['orders'], [90, 95, 99]))"
   ]
  },
  {
   "cell_type": "markdown",
   "metadata": {},
   "source": [
    "Не более 5% пользователей оформляли больше 2 заказов, 10% пользователей заказывали более одного раза. \n",
    "Наверное, стоит выбрать 2 заказа на одного пользователя за верхнюю границу числа заказов, и отсеять аномальных пользователей по ней."
   ]
  },
  {
   "cell_type": "markdown",
   "metadata": {},
   "source": [
    "### Cтоимость заказов"
   ]
  },
  {
   "cell_type": "markdown",
   "metadata": {},
   "source": [
    "Оценим стоимость заказов."
   ]
  },
  {
   "cell_type": "code",
   "execution_count": 50,
   "metadata": {},
   "outputs": [
    {
     "data": {
      "image/png": "[encoded data removed]",
      "text/plain": [
       "<Figure size 1224x360 with 1 Axes>"
      ]
     },
     "metadata": {
      "needs_background": "light"
     },
     "output_type": "display_data"
    }
   ],
   "source": [
    "plt.figure(figsize=(17,5))\n",
    "plt.grid=True\n",
    "plt.title('Cтоимость заказов по пользователям')\n",
    "plt.xlabel('Количество оплат', color='gray')\n",
    "plt.ylabel('Cтоимость заказов',color='gray')\n",
    "x_values = pd.Series(range(0,len(orders['revenue'])))\n",
    "plt.scatter(x_values, orders['revenue']);"
   ]
  },
  {
   "cell_type": "markdown",
   "metadata": {},
   "source": [
    "Есть явные аномалии. Стоит от них избавиться."
   ]
  },
  {
   "cell_type": "code",
   "execution_count": 51,
   "metadata": {
    "scrolled": true
   },
   "outputs": [
    {
     "data": {
      "text/html": [
       "<div>\n",
       "<style scoped>\n",
       "    .dataframe tbody tr th:only-of-type {\n",
       "        vertical-align: middle;\n",
       "    }\n",
       "\n",
       "    .dataframe tbody tr th {\n",
       "        vertical-align: top;\n",
       "    }\n",
       "\n",
       "    .dataframe thead th {\n",
       "        text-align: right;\n",
       "    }\n",
       "</style>\n",
       "<table border=\"1\" class=\"dataframe\">\n",
       "  <thead>\n",
       "    <tr style=\"text-align: right;\">\n",
       "      <th></th>\n",
       "      <th>transaction_id</th>\n",
       "      <th>visitor_id</th>\n",
       "      <th>date</th>\n",
       "      <th>revenue</th>\n",
       "      <th>group</th>\n",
       "    </tr>\n",
       "  </thead>\n",
       "  <tbody>\n",
       "    <tr>\n",
       "      <th>425</th>\n",
       "      <td>590470918</td>\n",
       "      <td>1920142716</td>\n",
       "      <td>2019-08-19</td>\n",
       "      <td>1294500</td>\n",
       "      <td>B</td>\n",
       "    </tr>\n",
       "    <tr>\n",
       "      <th>1196</th>\n",
       "      <td>3936777065</td>\n",
       "      <td>2108080724</td>\n",
       "      <td>2019-08-15</td>\n",
       "      <td>202740</td>\n",
       "      <td>B</td>\n",
       "    </tr>\n",
       "    <tr>\n",
       "      <th>858</th>\n",
       "      <td>192721366</td>\n",
       "      <td>1316129916</td>\n",
       "      <td>2019-08-27</td>\n",
       "      <td>93940</td>\n",
       "      <td>A</td>\n",
       "    </tr>\n",
       "    <tr>\n",
       "      <th>1136</th>\n",
       "      <td>666610489</td>\n",
       "      <td>1307669133</td>\n",
       "      <td>2019-08-13</td>\n",
       "      <td>92550</td>\n",
       "      <td>A</td>\n",
       "    </tr>\n",
       "    <tr>\n",
       "      <th>744</th>\n",
       "      <td>3668308183</td>\n",
       "      <td>888512513</td>\n",
       "      <td>2019-08-27</td>\n",
       "      <td>86620</td>\n",
       "      <td>B</td>\n",
       "    </tr>\n",
       "  </tbody>\n",
       "</table>\n",
       "</div>"
      ],
      "text/plain": [
       "      transaction_id  visitor_id       date  revenue group\n",
       "425        590470918  1920142716 2019-08-19  1294500     B\n",
       "1196      3936777065  2108080724 2019-08-15   202740     B\n",
       "858        192721366  1316129916 2019-08-27    93940     A\n",
       "1136       666610489  1307669133 2019-08-13    92550     A\n",
       "744       3668308183   888512513 2019-08-27    86620     B"
      ]
     },
     "execution_count": 51,
     "metadata": {},
     "output_type": "execute_result"
    }
   ],
   "source": [
    "orders.sort_values(by='revenue', ascending=False).head()"
   ]
  },
  {
   "cell_type": "markdown",
   "metadata": {},
   "source": [
    "Уберём аномальные оплаты и снова посмотрим график"
   ]
  },
  {
   "cell_type": "code",
   "execution_count": 52,
   "metadata": {},
   "outputs": [],
   "source": [
    "orders_w_o_max = orders.loc[(orders['revenue'] != orders['revenue'].max())]\n",
    "orders_w_o_max = orders_w_o_max.loc[(orders_w_o_max['revenue'] != orders_w_o_max['revenue'].max())]"
   ]
  },
  {
   "cell_type": "code",
   "execution_count": 53,
   "metadata": {
    "scrolled": false
   },
   "outputs": [
    {
     "data": {
      "text/html": [
       "<div>\n",
       "<style scoped>\n",
       "    .dataframe tbody tr th:only-of-type {\n",
       "        vertical-align: middle;\n",
       "    }\n",
       "\n",
       "    .dataframe tbody tr th {\n",
       "        vertical-align: top;\n",
       "    }\n",
       "\n",
       "    .dataframe thead th {\n",
       "        text-align: right;\n",
       "    }\n",
       "</style>\n",
       "<table border=\"1\" class=\"dataframe\">\n",
       "  <thead>\n",
       "    <tr style=\"text-align: right;\">\n",
       "      <th></th>\n",
       "      <th>transaction_id</th>\n",
       "      <th>visitor_id</th>\n",
       "      <th>date</th>\n",
       "      <th>revenue</th>\n",
       "      <th>group</th>\n",
       "    </tr>\n",
       "  </thead>\n",
       "  <tbody>\n",
       "    <tr>\n",
       "      <th>858</th>\n",
       "      <td>192721366</td>\n",
       "      <td>1316129916</td>\n",
       "      <td>2019-08-27</td>\n",
       "      <td>93940</td>\n",
       "      <td>A</td>\n",
       "    </tr>\n",
       "    <tr>\n",
       "      <th>1136</th>\n",
       "      <td>666610489</td>\n",
       "      <td>1307669133</td>\n",
       "      <td>2019-08-13</td>\n",
       "      <td>92550</td>\n",
       "      <td>A</td>\n",
       "    </tr>\n",
       "    <tr>\n",
       "      <th>744</th>\n",
       "      <td>3668308183</td>\n",
       "      <td>888512513</td>\n",
       "      <td>2019-08-27</td>\n",
       "      <td>86620</td>\n",
       "      <td>B</td>\n",
       "    </tr>\n",
       "    <tr>\n",
       "      <th>682</th>\n",
       "      <td>1216533772</td>\n",
       "      <td>4266935830</td>\n",
       "      <td>2019-08-29</td>\n",
       "      <td>78990</td>\n",
       "      <td>B</td>\n",
       "    </tr>\n",
       "    <tr>\n",
       "      <th>662</th>\n",
       "      <td>1811671147</td>\n",
       "      <td>4266935830</td>\n",
       "      <td>2019-08-29</td>\n",
       "      <td>78990</td>\n",
       "      <td>A</td>\n",
       "    </tr>\n",
       "  </tbody>\n",
       "</table>\n",
       "</div>"
      ],
      "text/plain": [
       "      transaction_id  visitor_id       date  revenue group\n",
       "858        192721366  1316129916 2019-08-27    93940     A\n",
       "1136       666610489  1307669133 2019-08-13    92550     A\n",
       "744       3668308183   888512513 2019-08-27    86620     B\n",
       "682       1216533772  4266935830 2019-08-29    78990     B\n",
       "662       1811671147  4266935830 2019-08-29    78990     A"
      ]
     },
     "execution_count": 53,
     "metadata": {},
     "output_type": "execute_result"
    }
   ],
   "source": [
    "orders_w_o_max.sort_values(by='revenue', ascending=False).head()"
   ]
  },
  {
   "cell_type": "code",
   "execution_count": 54,
   "metadata": {},
   "outputs": [
    {
     "data": {
      "image/png": "[encoded data removed]",
      "text/plain": [
       "<Figure size 1224x360 with 1 Axes>"
      ]
     },
     "metadata": {
      "needs_background": "light"
     },
     "output_type": "display_data"
    }
   ],
   "source": [
    "plt.figure(figsize=(17,5))\n",
    "plt.grid=True\n",
    "plt.title('Cтоимость заказов по пользователям без аномальных чеков')\n",
    "plt.xlabel('Количество оплат', color='gray')\n",
    "plt.ylabel('Cтоимость заказов',color='gray')\n",
    "x_values = pd.Series(range(0,len(orders_w_o_max['revenue'])))\n",
    "plt.scatter(x_values, orders_w_o_max['revenue']);"
   ]
  },
  {
   "cell_type": "markdown",
   "metadata": {},
   "source": [
    "### Перцентили стоимости заказов"
   ]
  },
  {
   "cell_type": "markdown",
   "metadata": {},
   "source": [
    "Перцентили стоимости заказов по \"сырым\" данным"
   ]
  },
  {
   "cell_type": "code",
   "execution_count": 55,
   "metadata": {},
   "outputs": [
    {
     "name": "stdout",
     "output_type": "stream",
     "text": [
      "[18168.  28000.  58233.2]\n"
     ]
    }
   ],
   "source": [
    "print(np.percentile(orders['revenue'], [90, 95, 99]))"
   ]
  },
  {
   "cell_type": "markdown",
   "metadata": {},
   "source": [
    "Перцентили стоимости заказов без аномальных чеков"
   ]
  },
  {
   "cell_type": "code",
   "execution_count": 56,
   "metadata": {},
   "outputs": [
    {
     "name": "stdout",
     "output_type": "stream",
     "text": [
      "[18002.  27565.  56744.2]\n"
     ]
    }
   ],
   "source": [
    "print(np.percentile(orders_w_o_max['revenue'], [90, 95, 99]))"
   ]
  },
  {
   "cell_type": "markdown",
   "metadata": {},
   "source": [
    "Не более 5% заказов дороже 28 000 рублей и не более 1% дороже 58 233 рублей. <br>\n",
    "Принимаем за верхнюю границу 28 000 рублей."
   ]
  },
  {
   "cell_type": "markdown",
   "metadata": {},
   "source": [
    "### Cтатистическая значимость различия в среднем количестве заказов на посетителя"
   ]
  },
  {
   "cell_type": "markdown",
   "metadata": {},
   "source": [
    "Посчитаем статистическую значимость различия в среднем количестве заказов на посетителя между группами по «сырым» данным."
   ]
  },
  {
   "cell_type": "markdown",
   "metadata": {},
   "source": [
    "Сформулируем гипотезы.\n",
    "* Нулевая: различий в среднем количестве заказов на посетителя между группами нет. \n",
    "* Альтернативная: различия в среднем количестве заказов на посетителя между группами есть."
   ]
  },
  {
   "cell_type": "markdown",
   "metadata": {},
   "source": [
    "Применим критерий Манна-Уитни, т.к. в данных естть выбросы."
   ]
  },
  {
   "cell_type": "markdown",
   "metadata": {},
   "source": [
    "Объявим переменные orders_a и orders_b, в которых пользователям из разных групп будет соответствовать количество заказов. Тем, кто ничего не заказал, будут соответствовать нули. "
   ]
  },
  {
   "cell_type": "code",
   "execution_count": 57,
   "metadata": {},
   "outputs": [
    {
     "name": "stdout",
     "output_type": "stream",
     "text": [
      "Cтатистическая значимость различия в среднем количестве заказов на посетителя по «сырым» данным.\n",
      "p-value - 0.01679\n",
      "Oтносительная разница - 0.138\n",
      "Есть статистически значимое различие в среднем количестве заказов на посетителя между группами.\n",
      "Относительный выигрыш группы \"B\" равен 13.8%.\n"
     ]
    }
   ],
   "source": [
    "orders_a = pd.concat(\n",
    "    [\n",
    "        orders_by_users_a['orders'],\n",
    "        pd.Series(\n",
    "            0,\n",
    "            index=np.arange(\n",
    "                visitors_per_date_a['visitors'].sum() - len(orders_by_users_a['orders'])\n",
    "            ),\n",
    "            name='orders',\n",
    "        ),\n",
    "    ],\n",
    "    axis=0,\n",
    ")\n",
    "\n",
    "orders_b = pd.concat(\n",
    "    [\n",
    "        orders_by_users_b['orders'],\n",
    "        pd.Series(\n",
    "            0,\n",
    "            index=np.arange(\n",
    "                visitors_per_date_b['visitors'].sum() - len(orders_by_users_b['orders'])\n",
    "            ),\n",
    "            name='orders',\n",
    "        ),\n",
    "    ],\n",
    "    axis=0,\n",
    ")\n",
    "\n",
    "avg_per_user_stat_pvalue_value_raw = round(stats.mannwhitneyu(orders_a, orders_b)[1], 5)\n",
    "avg_per_user_stat_pvalue_raw = 'p-value - ' + \"{0:.5f}\".format(avg_per_user_stat_pvalue_value_raw)\n",
    "reg_per_user_differencee_value_raw = round(orders_b.mean() / orders_a.mean() - 1, 3)\n",
    "reg_per_user_differencee_raw = 'Oтносительная разница - ' + \"{0:.3f}\".format(reg_per_user_differencee_value_raw)\n",
    "reg_per_user_differencee_raw_percent = round(reg_per_user_differencee_value_raw*100, 2).astype('str')\n",
    "\n",
    "if avg_per_user_stat_pvalue_value_raw < alpha:\n",
    "    avg_per_user_stat_pvalue_raw_result = 'Есть статистически значимое различие в среднем количестве заказов на посетителя между группами.'\n",
    "else:\n",
    "    avg_per_user_stat_pvalue_raw_result = 'Не получилось отвергнуть нулевую гипотезу, вывод о различии сделать нельзя'\n",
    "\n",
    "if reg_per_user_differencee_value_raw > 0:\n",
    "    reg_per_user_differencee_raw_result = 'Относительный выигрыш группы \"B\" равен ' + reg_per_user_differencee_raw_percent + '%.'\n",
    "else:\n",
    "    reg_per_user_differencee_raw_result = 'Относительный проигрыш группы \"B\" равен ' + reg_per_user_differencee_raw_percent + '%.'\n",
    "\n",
    "per_user_stat_raw_label = 'Cтатистическая значимость различия в среднем количестве заказов на посетителя по «сырым» данным.'\n",
    "\n",
    "print(per_user_stat_raw_label)\n",
    "print(avg_per_user_stat_pvalue_raw)\n",
    "print(reg_per_user_differencee_raw)\n",
    "print(avg_per_user_stat_pvalue_raw_result)\n",
    "print(reg_per_user_differencee_raw_result)"
   ]
  },
  {
   "cell_type": "markdown",
   "metadata": {},
   "source": [
    "Есть статистически значимое различие в среднем количестве заказов на посетителя между группами. При этом, относительный выигрыш группы \"B\" равен 13,8%"
   ]
  },
  {
   "cell_type": "markdown",
   "metadata": {},
   "source": [
    "### Cтатистическая значимость различий в среднем чеке"
   ]
  },
  {
   "cell_type": "markdown",
   "metadata": {},
   "source": [
    "Посчитаем статистическую значимость различий в среднем чеке заказа между группами по «сырым» данным."
   ]
  },
  {
   "cell_type": "markdown",
   "metadata": {},
   "source": [
    "Нулевая гипотеза: различий в среднем чеке между группами нет. Альтернативная гипотеза: различия в среднем чеке между группами есть. "
   ]
  },
  {
   "cell_type": "code",
   "execution_count": 58,
   "metadata": {},
   "outputs": [
    {
     "name": "stdout",
     "output_type": "stream",
     "text": [
      "Cтатистическая значимость различий в среднем чеке заказа между группами по «сырым» данным.\n",
      "p-value - 0.72929\n",
      "Oтносительная разница - 0.259\n",
      "Не получилось отвергнуть нулевую гипотезу, вывод о различии сделать нельзя\n",
      "Относительный выигрыш группы \"B\" равен 25.87%.\n"
     ]
    }
   ],
   "source": [
    "avg_receipt_stat_pvalue_value_raw = round(stats.mannwhitneyu(orders[orders['group']=='A']['revenue'], \n",
    "                                          orders[orders['group']=='B']['revenue'])[1], 5)\n",
    "avg_receipt_stat_pvalue_raw = 'p-value - ' + \"{0:.5f}\".format(avg_receipt_stat_pvalue_value_raw)\n",
    "reg_receipt_differencee_value_raw = orders[orders['group']=='B']['revenue'].mean()/orders[orders['group']=='A']['revenue'].mean() - 1\n",
    "reg_receipt_differencee_raw = 'Oтносительная разница - ' + \"{0:.3f}\".format(reg_receipt_differencee_value_raw)\n",
    "reg_receipt_differencee_value_raw_persent = round(reg_receipt_differencee_value_raw * 100, 2).astype('str')\n",
    "\n",
    "if avg_receipt_stat_pvalue_value_raw < alpha:\n",
    "    avg_receipt_stat_pvalue_raw_result = 'Есть статистически значимое различие в среднем чеке.'\n",
    "else:\n",
    "    avg_receipt_stat_pvalue_raw_result = 'Не получилось отвергнуть нулевую гипотезу, вывод о различии сделать нельзя'\n",
    "\n",
    "if reg_receipt_differencee_value_raw > 0:\n",
    "    reg_receipt_differencee_raw_result = 'Относительный выигрыш группы \"B\" равен ' + reg_receipt_differencee_value_raw_persent + '%.'\n",
    "else:\n",
    "    reg_receipt_differencee_raw_result = 'Относительный проигрыш группы \"B\" равен ' + reg_receipt_differencee_value_raw_persent + '%.'\n",
    "\n",
    "avg_receipt_stat_raw_label = 'Cтатистическая значимость различий в среднем чеке заказа между группами по «сырым» данным.'\n",
    "\n",
    "print(avg_receipt_stat_raw_label)\n",
    "print(avg_receipt_stat_pvalue_raw)\n",
    "print(reg_receipt_differencee_raw)\n",
    "print(avg_receipt_stat_pvalue_raw_result)\n",
    "print(reg_receipt_differencee_raw_result)"
   ]
  },
  {
   "cell_type": "markdown",
   "metadata": {},
   "source": [
    "P-value значительно больше 0.05. Значит, причин отвергать нулевую гипотезу и считать, что в среднем чеке есть различия, нет. Впрочем, средний чек группы B значительно больше среднего чека группы A."
   ]
  },
  {
   "cell_type": "markdown",
   "metadata": {},
   "source": [
    "### Cтатистическая значимость различий в среднем количестве заказов на посетителя"
   ]
  },
  {
   "cell_type": "markdown",
   "metadata": {},
   "source": [
    "Посчитаем статистическую значимость различий в среднем количестве заказов на посетителя между группами по «очищенным» данным."
   ]
  },
  {
   "cell_type": "markdown",
   "metadata": {},
   "source": [
    "Примем за аномальных пользователей тех, кто совершил от 2 заказов или совершил заказ дороже 28 000 рублей. Так мы уберём 5% пользователей с наибольшим числом заказов и от 1% до 5% пользователей с дорогими заказами. Сделаем срезы пользователей с числом заказов больше 2 — users_with_many_orders и пользователей, совершивших заказы дороже 28 000 — users_with_expensive_orders. Объединим их в таблице abnormal_users. "
   ]
  },
  {
   "cell_type": "code",
   "execution_count": 59,
   "metadata": {},
   "outputs": [],
   "source": [
    "users_with_many_orders = pd.concat(\n",
    "    [\n",
    "        orders_by_users_a[orders_by_users_a['orders'] > np.percentile(orders_by_users['orders'], 95)]['visitor_id'],\n",
    "        orders_by_users_b[orders_by_users_b['orders'] > np.percentile(orders_by_users['orders'], 95)]['visitor_id'],\n",
    "    ],\n",
    "    axis=0,\n",
    ")\n",
    "users_with_expensive_orders = orders[orders['revenue'] > np.percentile(orders['revenue'], 95)]['visitor_id']\n",
    "abnormal_users = (\n",
    "    pd.concat([users_with_many_orders, users_with_expensive_orders], axis=0)\n",
    "    .drop_duplicates()\n",
    "    .sort_values()\n",
    ")"
   ]
  },
  {
   "cell_type": "markdown",
   "metadata": {},
   "source": [
    "Узнаем, сколько всего аномальных пользователей атрибутом shape."
   ]
  },
  {
   "cell_type": "code",
   "execution_count": 60,
   "metadata": {},
   "outputs": [
    {
     "name": "stdout",
     "output_type": "stream",
     "text": [
      "74\n"
     ]
    }
   ],
   "source": [
    "print(abnormal_users.shape[0])"
   ]
  },
  {
   "cell_type": "markdown",
   "metadata": {},
   "source": [
    "Узнаем относительные потери после очистки данных от аномалий"
   ]
  },
  {
   "cell_type": "code",
   "execution_count": 61,
   "metadata": {},
   "outputs": [
    {
     "data": {
      "text/plain": [
       "0.07177497575169738"
      ]
     },
     "execution_count": 61,
     "metadata": {},
     "output_type": "execute_result"
    }
   ],
   "source": [
    "abnormal_users.nunique()/orders['visitor_id'].nunique()"
   ]
  },
  {
   "cell_type": "markdown",
   "metadata": {},
   "source": [
    "7% - это много или мало? Точно больше критичных 5%."
   ]
  },
  {
   "cell_type": "markdown",
   "metadata": {},
   "source": [
    "Сформулируем гипотезы. Нулевая: различий в среднем количестве заказов на посетителя между группами нет. Альтернативная: различия в среднем между группами есть."
   ]
  },
  {
   "cell_type": "markdown",
   "metadata": {},
   "source": [
    "Узнаем, как их действия повлияли на результаты теста. Посчитаем статистическую значимость различий в среднем количестве заказов на посетителя между группами теста по очищенным данным. Сначала подготовим выборки количества заказов по пользователям по группам теста:"
   ]
  },
  {
   "cell_type": "code",
   "execution_count": 62,
   "metadata": {},
   "outputs": [],
   "source": [
    "orders_a_filtered = pd.concat(\n",
    "    [\n",
    "        orders_by_users_a[\n",
    "            np.logical_not(orders_by_users_a['visitor_id'].isin(abnormal_users))\n",
    "        ]['orders'],\n",
    "        pd.Series(\n",
    "            0,\n",
    "            index=np.arange(\n",
    "                visitors_per_date_a['visitors'].sum() - len(orders_by_users_a['orders'])\n",
    "            ),\n",
    "            name='orders',\n",
    "        ),\n",
    "    ],\n",
    "    axis=0,\n",
    ")\n",
    "\n",
    "orders_b_filtered = pd.concat(\n",
    "    [\n",
    "        orders_by_users_b[\n",
    "            np.logical_not(orders_by_users_b['visitor_id'].isin(abnormal_users))\n",
    "        ]['orders'],\n",
    "        pd.Series(\n",
    "            0,\n",
    "            index=np.arange(\n",
    "                visitors_per_date_b['visitors'].sum() - len(orders_by_users_b['orders'])\n",
    "            ),\n",
    "            name='orders',\n",
    "        ),\n",
    "    ],\n",
    "    axis=0,\n",
    ")"
   ]
  },
  {
   "cell_type": "markdown",
   "metadata": {},
   "source": [
    "Применим статистический критерий Манна-Уитни к полученным выборкам:"
   ]
  },
  {
   "cell_type": "code",
   "execution_count": 63,
   "metadata": {},
   "outputs": [
    {
     "name": "stdout",
     "output_type": "stream",
     "text": [
      "Cтатистическая значимость различий в среднем количестве заказов на посетителя между группами по «очищенным» данным.\n",
      "p-value - 0.01304\n",
      "Oтносительная разница - 0.173\n",
      "Есть статистически значимое различие в среднем количестве заказов на посетителя между группами.\n",
      "Относительный выигрыш группы \"B\" равен 17.27%.\n"
     ]
    }
   ],
   "source": [
    "avg_per_user_stat_pvalue_value_clear = round(stats.mannwhitneyu(orders_a_filtered, orders_b_filtered)[1], 5)\n",
    "avg_per_user_stat_pvalue_clear = 'p-value - ' + \"{0:.5f}\".format(avg_per_user_stat_pvalue_value_clear)\n",
    "reg_per_user_differencee_value_clear = orders_b_filtered.mean() / orders_a_filtered.mean() - 1\n",
    "reg_per_user_differencee_clear = 'Oтносительная разница - ' + \"{0:.3f}\".format(reg_per_user_differencee_value_clear)\n",
    "reg_per_user_differencee_value_clear_persent = round(reg_per_user_differencee_value_clear * 100, 2).astype('str')\n",
    "\n",
    "if avg_per_user_stat_pvalue_value_clear < alpha:\n",
    "    avg_per_user_stat_clear_result = 'Есть статистически значимое различие в среднем количестве заказов на посетителя между группами.'\n",
    "else:\n",
    "    avg_per_user_stat_clear_result = 'Не получилось отвергнуть нулевую гипотезу, вывод о различии сделать нельзя'\n",
    "\n",
    "if reg_per_user_differencee_value_clear > 0:\n",
    "    reg_per_user_differencee_clear_result = 'Относительный выигрыш группы \"B\" равен ' + reg_per_user_differencee_value_clear_persent + '%.'\n",
    "else:\n",
    "    reg_per_user_differencee_clear_result = 'Относительный проигрыш группы \"B\" равен ' + reg_per_user_differencee_value_clear_persent + '%.'\n",
    "\n",
    "per_user_stat_clear_label = 'Cтатистическая значимость различий в среднем количестве заказов на посетителя между группами по «очищенным» данным.'\n",
    "    \n",
    "print(per_user_stat_clear_label)\n",
    "print(avg_per_user_stat_pvalue_clear)\n",
    "print(reg_per_user_differencee_clear)\n",
    "print(avg_per_user_stat_clear_result)\n",
    "print(reg_per_user_differencee_clear_result)"
   ]
  },
  {
   "cell_type": "markdown",
   "metadata": {},
   "source": [
    "Результаты по среднему количеству заказов изменились не в лучшую сторону. "
   ]
  },
  {
   "cell_type": "markdown",
   "metadata": {},
   "source": [
    "Статистически значимое различие в среднем количестве заказов на посетителя между группами увеличилось. При этом, относительный выигрыш группы \"B\" равен 17,3%. Она стала ещё больше лидировать."
   ]
  },
  {
   "cell_type": "markdown",
   "metadata": {},
   "source": [
    "### Cтатистическая значимость различий в среднем чеке заказа"
   ]
  },
  {
   "cell_type": "markdown",
   "metadata": {},
   "source": [
    "Посчитаем статистическую значимость различий в среднем чеке заказа между группами по «очищенным» данным."
   ]
  },
  {
   "cell_type": "markdown",
   "metadata": {},
   "source": [
    "Нулевая гипотеза: различий в среднем чеке между группами нет. Альтернативная гипотеза: различия в среднем чеке между группами есть."
   ]
  },
  {
   "cell_type": "code",
   "execution_count": 64,
   "metadata": {},
   "outputs": [],
   "source": [
    "avg_receipt_stat_pvalue_value_clear = round(\n",
    "            stats.mannwhitneyu(\n",
    "            orders[\n",
    "                np.logical_and(\n",
    "                    orders['group'] == 'A',\n",
    "                    np.logical_not(orders['visitor_id'].isin(abnormal_users)),\n",
    "                )\n",
    "            ]['revenue'],\n",
    "            orders[\n",
    "                np.logical_and(\n",
    "                    orders['group'] == 'B',\n",
    "                    np.logical_not(orders['visitor_id'].isin(abnormal_users)),\n",
    "                )\n",
    "            ]['revenue'],\n",
    "        )[1]\n",
    ", 5)"
   ]
  },
  {
   "cell_type": "code",
   "execution_count": 65,
   "metadata": {},
   "outputs": [],
   "source": [
    "reg_receipt_differencee_value_clear = (\n",
    "         orders[\n",
    "            np.logical_and(\n",
    "                orders['group'] == 'B',\n",
    "                np.logical_not(orders['visitor_id'].isin(abnormal_users)),\n",
    "            )\n",
    "        ]['revenue'].mean()\n",
    "        / orders[\n",
    "            np.logical_and(\n",
    "                orders['group'] == 'A',\n",
    "                np.logical_not(orders['visitor_id'].isin(abnormal_users)),\n",
    "            )\n",
    "        ]['revenue'].mean()\n",
    "        - 1\n",
    ")"
   ]
  },
  {
   "cell_type": "code",
   "execution_count": 66,
   "metadata": {},
   "outputs": [
    {
     "name": "stdout",
     "output_type": "stream",
     "text": [
      "Cтатистическая значимость различий в среднем чеке заказа по «очищенным» данным.\n",
      "p-value - 0.73848\n",
      "Oтносительная разница - -0.020\n",
      "Не получилось отвергнуть нулевую гипотезу, вывод о различии сделать нельзя\n",
      "Относительный проигрыш группы \"B\" равен -1.96%.\n"
     ]
    }
   ],
   "source": [
    "avg_receipt_stat_pvalue_clear = 'p-value - ' + \"{0:.5f}\".format(avg_receipt_stat_pvalue_value_clear)\n",
    "reg_receipt_differencee_clear = 'Oтносительная разница - ' + \"{0:.3f}\".format(reg_receipt_differencee_value_clear)\n",
    "reg_receipt_differencee_value_clear_persent = round(reg_receipt_differencee_value_clear * 100, 2).astype('str')\n",
    "\n",
    "if avg_receipt_stat_pvalue_value_clear < alpha:\n",
    "    avg_receipt_stat_pvalue_clear_result = 'Есть статистически значимое различие в среднем чеке.'\n",
    "else:\n",
    "    avg_receipt_stat_pvalue_clear_result = 'Не получилось отвергнуть нулевую гипотезу, вывод о различии сделать нельзя'\n",
    "\n",
    "if reg_receipt_differencee_value_clear > 0:\n",
    "    reg_receipt_differencee_clear_result = 'Относительный выигрыш группы \"B\" равен ' + reg_receipt_differencee_value_clear_persent + '%.'\n",
    "else:\n",
    "    reg_receipt_differencee_clear_result = 'Относительный проигрыш группы \"B\" равен ' + reg_receipt_differencee_value_clear_persent + '%.'\n",
    "    \n",
    "avg_receipt_stat_clear_label = 'Cтатистическая значимость различий в среднем чеке заказа по «очищенным» данным.'\n",
    "    \n",
    "print(avg_receipt_stat_clear_label)\n",
    "print(avg_receipt_stat_pvalue_clear)\n",
    "print(reg_receipt_differencee_clear)\n",
    "print(avg_receipt_stat_pvalue_clear_result)\n",
    "print(reg_receipt_differencee_clear_result)"
   ]
  },
  {
   "cell_type": "markdown",
   "metadata": {},
   "source": [
    "P-value увеличился, но и разница между сегментами изменилась с +26% до -2%. Т.е., средний чек группы \"В\" меньше без аномальных значений."
   ]
  },
  {
   "cell_type": "code",
   "execution_count": 67,
   "metadata": {},
   "outputs": [
    {
     "name": "stdout",
     "output_type": "stream",
     "text": [
      "Cтатистическая значимость различия в среднем количестве заказов на посетителя по «сырым» данным.\n",
      "p-value - 0.01679\n",
      "Oтносительная разница - 0.138\n",
      "Есть статистически значимое различие в среднем количестве заказов на посетителя между группами.\n",
      "Относительный выигрыш группы \"B\" равен 13.8%.\n",
      "\n",
      "Cтатистическая значимость различий в среднем количестве заказов на посетителя между группами по «очищенным» данным.\n",
      "p-value - 0.01304\n",
      "Oтносительная разница - 0.173\n",
      "Есть статистически значимое различие в среднем количестве заказов на посетителя между группами.\n",
      "Относительный выигрыш группы \"B\" равен 17.27%.\n",
      "\n",
      "Cтатистическая значимость различий в среднем чеке заказа между группами по «сырым» данным.\n",
      "p-value - 0.72929\n",
      "Oтносительная разница - 0.259\n",
      "Не получилось отвергнуть нулевую гипотезу, вывод о различии сделать нельзя\n",
      "Относительный выигрыш группы \"B\" равен 25.87%.\n",
      "\n",
      "Cтатистическая значимость различий в среднем чеке заказа по «очищенным» данным.\n",
      "p-value - 0.73848\n",
      "Oтносительная разница - -0.020\n",
      "Не получилось отвергнуть нулевую гипотезу, вывод о различии сделать нельзя\n",
      "Относительный проигрыш группы \"B\" равен -1.96%.\n"
     ]
    }
   ],
   "source": [
    "print(per_user_stat_raw_label)\n",
    "print(avg_per_user_stat_pvalue_raw)\n",
    "print(reg_per_user_differencee_raw)\n",
    "print(avg_per_user_stat_pvalue_raw_result)\n",
    "print(reg_per_user_differencee_raw_result)\n",
    "print('')\n",
    "print(per_user_stat_clear_label)\n",
    "print(avg_per_user_stat_pvalue_clear)\n",
    "print(reg_per_user_differencee_clear)\n",
    "print(avg_per_user_stat_clear_result)\n",
    "print(reg_per_user_differencee_clear_result)\n",
    "print('')\n",
    "print(avg_receipt_stat_raw_label)\n",
    "print(avg_receipt_stat_pvalue_raw)\n",
    "print(reg_receipt_differencee_raw)\n",
    "print(avg_receipt_stat_pvalue_raw_result)\n",
    "print(reg_receipt_differencee_raw_result)\n",
    "print('')\n",
    "print(avg_receipt_stat_clear_label)\n",
    "print(avg_receipt_stat_pvalue_clear)\n",
    "print(reg_receipt_differencee_clear)\n",
    "print(avg_receipt_stat_pvalue_clear_result)\n",
    "print(reg_receipt_differencee_clear_result)"
   ]
  },
  {
   "cell_type": "markdown",
   "metadata": {},
   "source": [
    "### Решение по тесту"
   ]
  },
  {
   "cell_type": "markdown",
   "metadata": {},
   "source": [
    "Имеющиеся факты:<br>\n",
    "* Есть статистически значимое различие по среднему количеству заказов между группами и по «сырым», и по данным после фильтрации аномалий;\n",
    "* Нет статистически значимого различия по среднему чеку между группами ни по «сырым», ни по данным после фильтрации аномалий;\n",
    "* График различия среднего количества заказов между группами сообщает, что результаты группы B лучше группы A.\n",
    "* График различия среднего чека говорит о том, что результаты группы B лучше."
   ]
  },
  {
   "cell_type": "markdown",
   "metadata": {},
   "source": [
    "Исходя из обнаруженных фактов, тест следует остановить и зафиксировать победу группы \"В\". Продолжать смысла нет, потому как вероятность, что при имеющихся данных сегмент \"B\" на самом деле хуже сегмента \"A\" — практически нулевая."
   ]
  }
 ],
 "metadata": {
  "ExecuteTimeLog": [
   {
    "duration": 1305,
    "start_time": "2023-04-12T12:03:27.438Z"
   },
   {
    "duration": 76,
    "start_time": "2023-04-12T12:04:12.571Z"
   },
   {
    "duration": 13,
    "start_time": "2023-04-12T12:04:34.078Z"
   },
   {
    "duration": 2890,
    "start_time": "2023-04-12T12:09:07.542Z"
   },
   {
    "duration": 4,
    "start_time": "2023-04-12T12:17:01.475Z"
   },
   {
    "duration": 10,
    "start_time": "2023-04-12T12:17:03.259Z"
   },
   {
    "duration": 12,
    "start_time": "2023-04-12T12:17:14.761Z"
   },
   {
    "duration": 8,
    "start_time": "2023-04-12T12:18:37.906Z"
   },
   {
    "duration": 12,
    "start_time": "2023-04-12T12:18:45.382Z"
   },
   {
    "duration": 7,
    "start_time": "2023-04-12T12:27:48.906Z"
   },
   {
    "duration": 96,
    "start_time": "2023-04-12T12:27:56.087Z"
   },
   {
    "duration": 60,
    "start_time": "2023-04-12T12:27:56.710Z"
   },
   {
    "duration": 9,
    "start_time": "2023-04-12T12:28:01.701Z"
   },
   {
    "duration": 11,
    "start_time": "2023-04-12T12:28:10.080Z"
   },
   {
    "duration": 10,
    "start_time": "2023-04-12T12:28:28.795Z"
   },
   {
    "duration": 6,
    "start_time": "2023-04-12T12:32:21.547Z"
   },
   {
    "duration": 23,
    "start_time": "2023-04-12T12:33:39.767Z"
   },
   {
    "duration": 166,
    "start_time": "2023-04-12T12:34:29.154Z"
   },
   {
    "duration": 3,
    "start_time": "2023-04-12T12:35:09.002Z"
   },
   {
    "duration": 161,
    "start_time": "2023-04-12T12:35:29.906Z"
   },
   {
    "duration": 115,
    "start_time": "2023-04-12T12:35:57.362Z"
   },
   {
    "duration": 6,
    "start_time": "2023-04-12T12:36:10.875Z"
   },
   {
    "duration": 5,
    "start_time": "2023-04-12T12:36:25.593Z"
   },
   {
    "duration": 9,
    "start_time": "2023-04-12T12:36:51.833Z"
   },
   {
    "duration": 4,
    "start_time": "2023-04-12T12:37:18.277Z"
   },
   {
    "duration": 5,
    "start_time": "2023-04-12T12:37:32.952Z"
   },
   {
    "duration": 250,
    "start_time": "2023-04-12T12:37:50.271Z"
   },
   {
    "duration": 263,
    "start_time": "2023-04-12T12:38:17.119Z"
   },
   {
    "duration": 122,
    "start_time": "2023-04-12T12:43:42.866Z"
   },
   {
    "duration": 295,
    "start_time": "2023-04-12T12:45:04.298Z"
   },
   {
    "duration": 11,
    "start_time": "2023-04-12T12:45:46.588Z"
   },
   {
    "duration": 11,
    "start_time": "2023-04-12T12:49:50.420Z"
   },
   {
    "duration": 292,
    "start_time": "2023-04-12T12:50:11.637Z"
   },
   {
    "duration": 11,
    "start_time": "2023-04-12T12:51:29.626Z"
   },
   {
    "duration": 15,
    "start_time": "2023-04-12T12:52:05.241Z"
   },
   {
    "duration": 309,
    "start_time": "2023-04-12T12:53:05.382Z"
   },
   {
    "duration": 363,
    "start_time": "2023-04-12T12:55:26.760Z"
   },
   {
    "duration": 256,
    "start_time": "2023-04-12T12:58:29.369Z"
   },
   {
    "duration": 372,
    "start_time": "2023-04-12T12:59:05.190Z"
   },
   {
    "duration": 165,
    "start_time": "2023-04-12T13:17:52.584Z"
   },
   {
    "duration": 295,
    "start_time": "2023-04-12T13:18:50.557Z"
   },
   {
    "duration": 439,
    "start_time": "2023-04-12T13:20:06.239Z"
   },
   {
    "duration": 391,
    "start_time": "2023-04-12T13:20:19.494Z"
   },
   {
    "duration": 9,
    "start_time": "2023-04-12T13:26:19.973Z"
   },
   {
    "duration": 8,
    "start_time": "2023-04-12T13:27:58.522Z"
   },
   {
    "duration": 8,
    "start_time": "2023-04-12T13:29:06.151Z"
   },
   {
    "duration": 1986,
    "start_time": "2023-04-12T13:34:50.626Z"
   },
   {
    "duration": 4,
    "start_time": "2023-04-12T13:34:58.884Z"
   },
   {
    "duration": 4,
    "start_time": "2023-04-12T13:34:59.378Z"
   },
   {
    "duration": 3317,
    "start_time": "2023-04-12T13:35:01.055Z"
   },
   {
    "duration": 375,
    "start_time": "2023-04-12T13:35:31.444Z"
   },
   {
    "duration": 6,
    "start_time": "2023-04-12T13:41:41.699Z"
   },
   {
    "duration": 153,
    "start_time": "2023-04-12T13:41:42.931Z"
   },
   {
    "duration": 101,
    "start_time": "2023-04-12T13:41:43.369Z"
   },
   {
    "duration": 7,
    "start_time": "2023-04-12T13:41:43.799Z"
   },
   {
    "duration": 8,
    "start_time": "2023-04-12T13:41:44.331Z"
   },
   {
    "duration": 8,
    "start_time": "2023-04-12T13:41:50.682Z"
   },
   {
    "duration": 7,
    "start_time": "2023-04-12T13:42:45.780Z"
   },
   {
    "duration": 5,
    "start_time": "2023-04-12T13:42:46.666Z"
   },
   {
    "duration": 296,
    "start_time": "2023-04-12T13:42:47.882Z"
   },
   {
    "duration": 395,
    "start_time": "2023-04-12T13:43:01.239Z"
   },
   {
    "duration": 400,
    "start_time": "2023-04-12T13:44:00.277Z"
   },
   {
    "duration": 9,
    "start_time": "2023-04-12T13:45:00.487Z"
   },
   {
    "duration": 7,
    "start_time": "2023-04-12T13:45:35.228Z"
   },
   {
    "duration": 6,
    "start_time": "2023-04-12T13:45:36.266Z"
   },
   {
    "duration": 9,
    "start_time": "2023-04-12T13:45:36.743Z"
   },
   {
    "duration": 5,
    "start_time": "2023-04-12T13:45:47.690Z"
   },
   {
    "duration": 10,
    "start_time": "2023-04-12T13:45:48.195Z"
   },
   {
    "duration": 382,
    "start_time": "2023-04-12T13:46:15.769Z"
   },
   {
    "duration": 4,
    "start_time": "2023-04-12T13:47:08.778Z"
   },
   {
    "duration": 5,
    "start_time": "2023-04-12T13:47:09.319Z"
   },
   {
    "duration": 329,
    "start_time": "2023-04-12T13:47:10.028Z"
   },
   {
    "duration": 6,
    "start_time": "2023-04-12T13:47:59.550Z"
   },
   {
    "duration": 9,
    "start_time": "2023-04-12T13:48:09.837Z"
   },
   {
    "duration": 7,
    "start_time": "2023-04-12T13:48:38.269Z"
   },
   {
    "duration": 368,
    "start_time": "2023-04-12T13:49:14.672Z"
   },
   {
    "duration": 429,
    "start_time": "2023-04-12T13:49:28.632Z"
   },
   {
    "duration": 1464,
    "start_time": "2023-04-13T04:44:45.980Z"
   },
   {
    "duration": 88,
    "start_time": "2023-04-13T04:44:50.241Z"
   },
   {
    "duration": 98,
    "start_time": "2023-04-13T04:44:50.679Z"
   },
   {
    "duration": 66,
    "start_time": "2023-04-13T04:44:51.159Z"
   },
   {
    "duration": 14,
    "start_time": "2023-04-13T04:44:55.303Z"
   },
   {
    "duration": 4,
    "start_time": "2023-04-13T04:44:58.855Z"
   },
   {
    "duration": 14,
    "start_time": "2023-04-13T04:45:11.654Z"
   },
   {
    "duration": 4,
    "start_time": "2023-04-13T04:45:27.742Z"
   },
   {
    "duration": 6,
    "start_time": "2023-04-13T04:45:43.421Z"
   },
   {
    "duration": 161,
    "start_time": "2023-04-13T04:45:44.961Z"
   },
   {
    "duration": 153,
    "start_time": "2023-04-13T04:45:45.853Z"
   },
   {
    "duration": 9,
    "start_time": "2023-04-13T04:45:46.586Z"
   },
   {
    "duration": 10,
    "start_time": "2023-04-13T04:45:47.498Z"
   },
   {
    "duration": 18,
    "start_time": "2023-04-13T04:45:51.263Z"
   },
   {
    "duration": 7,
    "start_time": "2023-04-13T04:45:54.002Z"
   },
   {
    "duration": 350,
    "start_time": "2023-04-13T04:45:56.921Z"
   },
   {
    "duration": 360,
    "start_time": "2023-04-13T04:47:26.587Z"
   },
   {
    "duration": 6,
    "start_time": "2023-04-13T04:47:29.560Z"
   },
   {
    "duration": 442,
    "start_time": "2023-04-13T04:47:31.853Z"
   },
   {
    "duration": 113,
    "start_time": "2023-04-13T04:58:47.162Z"
   },
   {
    "duration": 13,
    "start_time": "2023-04-13T04:59:55.240Z"
   },
   {
    "duration": 14,
    "start_time": "2023-04-13T05:00:04.807Z"
   },
   {
    "duration": 18,
    "start_time": "2023-04-13T05:03:02.418Z"
   },
   {
    "duration": 14,
    "start_time": "2023-04-13T05:07:36.232Z"
   },
   {
    "duration": 19,
    "start_time": "2023-04-13T05:07:47.862Z"
   },
   {
    "duration": 369,
    "start_time": "2023-04-13T05:07:55.012Z"
   },
   {
    "duration": 14,
    "start_time": "2023-04-13T05:13:01.605Z"
   },
   {
    "duration": 13,
    "start_time": "2023-04-13T05:13:26.994Z"
   },
   {
    "duration": 14,
    "start_time": "2023-04-13T05:13:55.099Z"
   },
   {
    "duration": 14,
    "start_time": "2023-04-13T05:15:44.340Z"
   },
   {
    "duration": 16,
    "start_time": "2023-04-13T05:16:18.305Z"
   },
   {
    "duration": 14,
    "start_time": "2023-04-13T05:16:33.037Z"
   },
   {
    "duration": 15,
    "start_time": "2023-04-13T05:16:43.011Z"
   },
   {
    "duration": 287,
    "start_time": "2023-04-13T05:18:44.754Z"
   },
   {
    "duration": 444,
    "start_time": "2023-04-13T05:19:05.879Z"
   },
   {
    "duration": 120,
    "start_time": "2023-04-13T05:19:37.687Z"
   },
   {
    "duration": 293,
    "start_time": "2023-04-13T05:19:49.598Z"
   },
   {
    "duration": 115,
    "start_time": "2023-04-13T05:20:08.680Z"
   },
   {
    "duration": 382,
    "start_time": "2023-04-13T05:21:10.342Z"
   },
   {
    "duration": 358,
    "start_time": "2023-04-13T05:21:20.783Z"
   },
   {
    "duration": 366,
    "start_time": "2023-04-13T05:21:42.789Z"
   },
   {
    "duration": 384,
    "start_time": "2023-04-13T05:21:54.074Z"
   },
   {
    "duration": 6,
    "start_time": "2023-04-13T05:24:06.525Z"
   },
   {
    "duration": 450,
    "start_time": "2023-04-13T05:24:12.923Z"
   },
   {
    "duration": 4,
    "start_time": "2023-04-13T05:24:14.994Z"
   },
   {
    "duration": 5,
    "start_time": "2023-04-13T05:24:15.287Z"
   },
   {
    "duration": 429,
    "start_time": "2023-04-13T05:24:15.550Z"
   },
   {
    "duration": 46,
    "start_time": "2023-04-13T05:24:16.306Z"
   },
   {
    "duration": 6,
    "start_time": "2023-04-13T05:24:16.509Z"
   },
   {
    "duration": 10,
    "start_time": "2023-04-13T05:24:16.825Z"
   },
   {
    "duration": 442,
    "start_time": "2023-04-13T05:24:17.121Z"
   },
   {
    "duration": 18,
    "start_time": "2023-04-13T05:31:43.161Z"
   },
   {
    "duration": 14,
    "start_time": "2023-04-13T05:32:04.060Z"
   },
   {
    "duration": 538,
    "start_time": "2023-04-13T05:32:12.228Z"
   },
   {
    "duration": 4,
    "start_time": "2023-04-13T05:50:46.070Z"
   },
   {
    "duration": 9,
    "start_time": "2023-04-13T05:59:50.074Z"
   },
   {
    "duration": 10,
    "start_time": "2023-04-13T06:00:48.104Z"
   },
   {
    "duration": 13,
    "start_time": "2023-04-13T06:02:05.972Z"
   },
   {
    "duration": 141,
    "start_time": "2023-04-13T06:02:15.536Z"
   },
   {
    "duration": 145,
    "start_time": "2023-04-13T06:03:00.723Z"
   },
   {
    "duration": 18,
    "start_time": "2023-04-13T06:03:31.166Z"
   },
   {
    "duration": 17,
    "start_time": "2023-04-13T06:03:43.205Z"
   },
   {
    "duration": 8,
    "start_time": "2023-04-13T06:04:46.691Z"
   },
   {
    "duration": 6,
    "start_time": "2023-04-13T06:08:15.463Z"
   },
   {
    "duration": 11,
    "start_time": "2023-04-13T06:13:10.463Z"
   },
   {
    "duration": 174,
    "start_time": "2023-04-13T06:13:30.222Z"
   },
   {
    "duration": 144,
    "start_time": "2023-04-13T06:13:48.568Z"
   },
   {
    "duration": 7,
    "start_time": "2023-04-13T06:28:17.909Z"
   },
   {
    "duration": 1696,
    "start_time": "2023-04-13T06:29:55.806Z"
   },
   {
    "duration": 9,
    "start_time": "2023-04-13T06:30:30.367Z"
   },
   {
    "duration": 8,
    "start_time": "2023-04-13T06:35:30.580Z"
   },
   {
    "duration": 15,
    "start_time": "2023-04-13T06:45:42.833Z"
   },
   {
    "duration": 9,
    "start_time": "2023-04-13T06:58:49.014Z"
   },
   {
    "duration": 260,
    "start_time": "2023-04-13T06:58:52.813Z"
   },
   {
    "duration": 24,
    "start_time": "2023-04-13T06:58:54.576Z"
   },
   {
    "duration": 3,
    "start_time": "2023-04-13T07:38:46.120Z"
   },
   {
    "duration": 3,
    "start_time": "2023-04-13T07:40:08.867Z"
   },
   {
    "duration": 9,
    "start_time": "2023-04-13T07:51:12.219Z"
   },
   {
    "duration": 9,
    "start_time": "2023-04-13T07:53:34.023Z"
   },
   {
    "duration": 14,
    "start_time": "2023-04-13T07:55:11.271Z"
   },
   {
    "duration": 26,
    "start_time": "2023-04-13T07:57:06.723Z"
   },
   {
    "duration": 36,
    "start_time": "2023-04-13T08:04:39.369Z"
   },
   {
    "duration": 6,
    "start_time": "2023-04-13T08:23:29.731Z"
   },
   {
    "duration": 22,
    "start_time": "2023-04-13T08:24:58.979Z"
   },
   {
    "duration": 4,
    "start_time": "2023-04-13T08:25:33.116Z"
   },
   {
    "duration": 33,
    "start_time": "2023-04-13T08:25:41.988Z"
   },
   {
    "duration": 48,
    "start_time": "2023-04-13T08:25:49.487Z"
   },
   {
    "duration": 11,
    "start_time": "2023-04-13T08:26:09.962Z"
   },
   {
    "duration": 12,
    "start_time": "2023-04-13T08:40:34.269Z"
   },
   {
    "duration": 10,
    "start_time": "2023-04-13T08:40:48.022Z"
   },
   {
    "duration": 56,
    "start_time": "2023-04-13T08:43:51.130Z"
   },
   {
    "duration": 41,
    "start_time": "2023-04-13T08:43:56.468Z"
   },
   {
    "duration": 19,
    "start_time": "2023-04-13T08:51:27.363Z"
   },
   {
    "duration": 20,
    "start_time": "2023-04-13T08:51:42.938Z"
   },
   {
    "duration": 36,
    "start_time": "2023-04-13T09:02:09.235Z"
   },
   {
    "duration": 18,
    "start_time": "2023-04-13T09:02:22.331Z"
   },
   {
    "duration": 11,
    "start_time": "2023-04-13T09:02:46.590Z"
   },
   {
    "duration": 14,
    "start_time": "2023-04-13T09:04:20.745Z"
   },
   {
    "duration": 8,
    "start_time": "2023-04-13T09:06:25.590Z"
   },
   {
    "duration": 3,
    "start_time": "2023-04-13T09:06:44.068Z"
   },
   {
    "duration": 36,
    "start_time": "2023-04-13T09:10:57.700Z"
   },
   {
    "duration": 34,
    "start_time": "2023-04-13T09:12:38.432Z"
   },
   {
    "duration": 4364,
    "start_time": "2023-04-13T09:22:26.140Z"
   },
   {
    "duration": 17,
    "start_time": "2023-04-13T09:23:18.132Z"
   },
   {
    "duration": 8,
    "start_time": "2023-04-13T09:23:38.518Z"
   },
   {
    "duration": 21,
    "start_time": "2023-04-13T09:24:25.168Z"
   },
   {
    "duration": 3,
    "start_time": "2023-04-13T09:26:33.892Z"
   },
   {
    "duration": 24,
    "start_time": "2023-04-13T09:28:26.938Z"
   },
   {
    "duration": 414,
    "start_time": "2023-04-13T09:42:33.073Z"
   },
   {
    "duration": 13,
    "start_time": "2023-04-13T09:51:48.614Z"
   },
   {
    "duration": 503,
    "start_time": "2023-04-13T09:52:12.619Z"
   },
   {
    "duration": 402,
    "start_time": "2023-04-13T09:52:41.072Z"
   },
   {
    "duration": 7,
    "start_time": "2023-04-13T09:52:58.711Z"
   },
   {
    "duration": 150,
    "start_time": "2023-04-13T09:54:13.706Z"
   },
   {
    "duration": 112,
    "start_time": "2023-04-13T09:54:40.514Z"
   },
   {
    "duration": 124,
    "start_time": "2023-04-13T14:45:49.618Z"
   },
   {
    "duration": 1320,
    "start_time": "2023-04-13T15:19:56.428Z"
   },
   {
    "duration": 3,
    "start_time": "2023-04-13T15:25:11.358Z"
   },
   {
    "duration": 99,
    "start_time": "2023-04-13T15:25:24.210Z"
   },
   {
    "duration": 59,
    "start_time": "2023-04-13T15:25:33.664Z"
   },
   {
    "duration": 88,
    "start_time": "2023-04-13T15:25:34.245Z"
   },
   {
    "duration": 64,
    "start_time": "2023-04-13T15:25:34.780Z"
   },
   {
    "duration": 12,
    "start_time": "2023-04-13T15:25:42.609Z"
   },
   {
    "duration": 4,
    "start_time": "2023-04-13T15:26:29.760Z"
   },
   {
    "duration": 13,
    "start_time": "2023-04-13T15:26:30.304Z"
   },
   {
    "duration": 10,
    "start_time": "2023-04-13T15:27:12.566Z"
   },
   {
    "duration": 12,
    "start_time": "2023-04-13T15:30:34.307Z"
   },
   {
    "duration": 11,
    "start_time": "2023-04-13T15:45:07.452Z"
   },
   {
    "duration": 72,
    "start_time": "2023-04-13T15:48:35.778Z"
   },
   {
    "duration": 8,
    "start_time": "2023-04-13T15:56:29.606Z"
   },
   {
    "duration": 4,
    "start_time": "2023-04-13T15:56:32.527Z"
   },
   {
    "duration": 11,
    "start_time": "2023-04-13T15:56:41.338Z"
   },
   {
    "duration": 8,
    "start_time": "2023-04-13T15:58:55.376Z"
   },
   {
    "duration": 4,
    "start_time": "2023-04-13T16:03:54.022Z"
   },
   {
    "duration": 4,
    "start_time": "2023-04-13T16:05:28.702Z"
   },
   {
    "duration": 5,
    "start_time": "2023-04-13T16:07:47.391Z"
   },
   {
    "duration": 4,
    "start_time": "2023-04-13T16:08:37.919Z"
   },
   {
    "duration": 6,
    "start_time": "2023-04-13T16:09:04.289Z"
   },
   {
    "duration": 4,
    "start_time": "2023-04-13T16:09:34.770Z"
   },
   {
    "duration": 5,
    "start_time": "2023-04-13T16:09:54.681Z"
   },
   {
    "duration": 82,
    "start_time": "2023-04-13T16:10:24.787Z"
   },
   {
    "duration": 7,
    "start_time": "2023-04-13T16:10:31.205Z"
   },
   {
    "duration": 5,
    "start_time": "2023-04-13T16:10:59.083Z"
   },
   {
    "duration": 153,
    "start_time": "2023-04-13T16:13:43.733Z"
   },
   {
    "duration": 4,
    "start_time": "2023-04-13T16:14:45.558Z"
   },
   {
    "duration": 5,
    "start_time": "2023-04-13T16:15:04.288Z"
   },
   {
    "duration": 11,
    "start_time": "2023-04-13T16:43:34.138Z"
   },
   {
    "duration": 11,
    "start_time": "2023-04-13T16:43:59.741Z"
   },
   {
    "duration": 11,
    "start_time": "2023-04-13T16:45:07.342Z"
   },
   {
    "duration": 33,
    "start_time": "2023-04-13T16:52:41.169Z"
   },
   {
    "duration": 46,
    "start_time": "2023-04-13T16:54:15.571Z"
   },
   {
    "duration": 53,
    "start_time": "2023-04-13T16:54:23.001Z"
   },
   {
    "duration": 14,
    "start_time": "2023-04-13T16:54:23.775Z"
   },
   {
    "duration": 11,
    "start_time": "2023-04-13T16:54:24.838Z"
   },
   {
    "duration": 12,
    "start_time": "2023-04-13T16:54:34.211Z"
   },
   {
    "duration": 11,
    "start_time": "2023-04-13T16:54:37.286Z"
   },
   {
    "duration": 9,
    "start_time": "2023-04-13T16:55:14.871Z"
   },
   {
    "duration": 39,
    "start_time": "2023-04-13T16:56:22.107Z"
   },
   {
    "duration": 10,
    "start_time": "2023-04-13T16:56:31.937Z"
   },
   {
    "duration": 22,
    "start_time": "2023-04-13T16:56:53.805Z"
   },
   {
    "duration": 11,
    "start_time": "2023-04-13T16:57:02.640Z"
   },
   {
    "duration": 370,
    "start_time": "2023-04-13T17:08:04.393Z"
   },
   {
    "duration": 322,
    "start_time": "2023-04-13T17:08:31.742Z"
   },
   {
    "duration": 325,
    "start_time": "2023-04-13T17:09:15.975Z"
   },
   {
    "duration": 423,
    "start_time": "2023-04-13T17:16:12.951Z"
   },
   {
    "duration": 354,
    "start_time": "2023-04-13T17:18:28.894Z"
   },
   {
    "duration": 339,
    "start_time": "2023-04-13T17:20:15.060Z"
   },
   {
    "duration": 380,
    "start_time": "2023-04-13T17:20:28.830Z"
   },
   {
    "duration": 374,
    "start_time": "2023-04-13T17:21:36.640Z"
   },
   {
    "duration": 350,
    "start_time": "2023-04-13T17:21:50.567Z"
   },
   {
    "duration": 371,
    "start_time": "2023-04-13T17:23:45.173Z"
   },
   {
    "duration": 329,
    "start_time": "2023-04-13T17:24:20.217Z"
   },
   {
    "duration": 342,
    "start_time": "2023-04-13T17:25:30.236Z"
   },
   {
    "duration": 341,
    "start_time": "2023-04-13T17:28:08.344Z"
   },
   {
    "duration": 357,
    "start_time": "2023-04-13T17:42:49.657Z"
   },
   {
    "duration": 928,
    "start_time": "2023-04-13T17:45:08.982Z"
   },
   {
    "duration": 11,
    "start_time": "2023-04-13T17:46:30.852Z"
   },
   {
    "duration": 9,
    "start_time": "2023-04-13T18:02:50.229Z"
   },
   {
    "duration": 8,
    "start_time": "2023-04-13T18:03:44.126Z"
   },
   {
    "duration": 8,
    "start_time": "2023-04-13T18:03:46.563Z"
   },
   {
    "duration": 3,
    "start_time": "2023-04-13T18:03:47.325Z"
   },
   {
    "duration": 11,
    "start_time": "2023-04-13T18:03:49.033Z"
   },
   {
    "duration": 3,
    "start_time": "2023-04-13T18:03:50.570Z"
   },
   {
    "duration": 5,
    "start_time": "2023-04-13T18:03:52.606Z"
   },
   {
    "duration": 6,
    "start_time": "2023-04-13T18:03:53.003Z"
   },
   {
    "duration": 132,
    "start_time": "2023-04-13T18:03:54.139Z"
   },
   {
    "duration": 4,
    "start_time": "2023-04-13T18:03:54.977Z"
   },
   {
    "duration": 6,
    "start_time": "2023-04-13T18:03:59.182Z"
   },
   {
    "duration": 162,
    "start_time": "2023-04-13T18:03:59.905Z"
   },
   {
    "duration": 142,
    "start_time": "2023-04-13T18:04:00.509Z"
   },
   {
    "duration": 7,
    "start_time": "2023-04-13T18:04:01.116Z"
   },
   {
    "duration": 9,
    "start_time": "2023-04-13T18:04:03.386Z"
   },
   {
    "duration": 5,
    "start_time": "2023-04-13T18:04:09.189Z"
   },
   {
    "duration": 5,
    "start_time": "2023-04-13T18:04:09.736Z"
   },
   {
    "duration": 342,
    "start_time": "2023-04-13T18:04:11.180Z"
   },
   {
    "duration": 257,
    "start_time": "2023-04-13T18:04:13.655Z"
   },
   {
    "duration": 4,
    "start_time": "2023-04-13T18:04:53.711Z"
   },
   {
    "duration": 2,
    "start_time": "2023-04-13T18:04:54.508Z"
   },
   {
    "duration": 22,
    "start_time": "2023-04-13T18:04:57.652Z"
   },
   {
    "duration": 32,
    "start_time": "2023-04-13T18:04:58.182Z"
   },
   {
    "duration": 17,
    "start_time": "2023-04-13T18:04:58.660Z"
   },
   {
    "duration": 12,
    "start_time": "2023-04-13T18:04:59.404Z"
   },
   {
    "duration": 11,
    "start_time": "2023-04-13T18:05:01.612Z"
   },
   {
    "duration": 10,
    "start_time": "2023-04-13T18:05:05.441Z"
   },
   {
    "duration": 10,
    "start_time": "2023-04-13T18:05:17.129Z"
   },
   {
    "duration": 4,
    "start_time": "2023-04-13T18:05:18.006Z"
   },
   {
    "duration": 11,
    "start_time": "2023-04-13T18:05:18.782Z"
   },
   {
    "duration": 3,
    "start_time": "2023-04-13T18:05:20.449Z"
   },
   {
    "duration": 5,
    "start_time": "2023-04-13T18:05:22.075Z"
   },
   {
    "duration": 6,
    "start_time": "2023-04-13T18:05:22.413Z"
   },
   {
    "duration": 137,
    "start_time": "2023-04-13T18:05:23.703Z"
   },
   {
    "duration": 5,
    "start_time": "2023-04-13T18:05:24.715Z"
   },
   {
    "duration": 6,
    "start_time": "2023-04-13T18:05:28.302Z"
   },
   {
    "duration": 174,
    "start_time": "2023-04-13T18:05:28.864Z"
   },
   {
    "duration": 133,
    "start_time": "2023-04-13T18:05:29.482Z"
   },
   {
    "duration": 8,
    "start_time": "2023-04-13T18:05:30.313Z"
   },
   {
    "duration": 9,
    "start_time": "2023-04-13T18:05:30.855Z"
   },
   {
    "duration": 6,
    "start_time": "2023-04-13T18:05:32.061Z"
   },
   {
    "duration": 5,
    "start_time": "2023-04-13T18:05:32.629Z"
   },
   {
    "duration": 248,
    "start_time": "2023-04-13T18:05:33.758Z"
   },
   {
    "duration": 263,
    "start_time": "2023-04-13T18:05:37.001Z"
   },
   {
    "duration": 7,
    "start_time": "2023-04-13T18:05:41.003Z"
   },
   {
    "duration": 403,
    "start_time": "2023-04-13T18:05:41.623Z"
   },
   {
    "duration": 5,
    "start_time": "2023-04-13T18:05:52.266Z"
   },
   {
    "duration": 5,
    "start_time": "2023-04-13T18:05:53.032Z"
   },
   {
    "duration": 290,
    "start_time": "2023-04-13T18:05:55.651Z"
   },
   {
    "duration": 7,
    "start_time": "2023-04-13T18:05:58.622Z"
   },
   {
    "duration": 376,
    "start_time": "2023-04-13T18:05:59.873Z"
   },
   {
    "duration": 7,
    "start_time": "2023-04-13T18:06:05.103Z"
   },
   {
    "duration": 194,
    "start_time": "2023-04-13T18:06:06.902Z"
   },
   {
    "duration": 255,
    "start_time": "2023-04-13T18:08:50.964Z"
   },
   {
    "duration": 153,
    "start_time": "2023-04-13T18:09:57.207Z"
   },
   {
    "duration": 145,
    "start_time": "2023-04-13T18:10:30.906Z"
   },
   {
    "duration": 168,
    "start_time": "2023-04-13T18:11:00.922Z"
   },
   {
    "duration": 155,
    "start_time": "2023-04-13T18:12:47.159Z"
   },
   {
    "duration": 165,
    "start_time": "2023-04-13T18:13:02.542Z"
   },
   {
    "duration": 166,
    "start_time": "2023-04-13T18:15:55.619Z"
   },
   {
    "duration": 4,
    "start_time": "2023-04-13T18:17:40.723Z"
   },
   {
    "duration": 14,
    "start_time": "2023-04-13T18:18:58.410Z"
   },
   {
    "duration": 14,
    "start_time": "2023-04-13T18:19:12.756Z"
   },
   {
    "duration": 9,
    "start_time": "2023-04-13T18:19:39.478Z"
   },
   {
    "duration": 3,
    "start_time": "2023-04-13T18:28:31.378Z"
   },
   {
    "duration": 11,
    "start_time": "2023-04-13T18:28:42.258Z"
   },
   {
    "duration": 159,
    "start_time": "2023-04-13T18:57:37.257Z"
   },
   {
    "duration": 16,
    "start_time": "2023-04-13T19:06:29.005Z"
   },
   {
    "duration": 9,
    "start_time": "2023-04-13T19:21:19.393Z"
   },
   {
    "duration": 27,
    "start_time": "2023-04-13T19:45:18.810Z"
   },
   {
    "duration": 26,
    "start_time": "2023-04-13T19:45:34.973Z"
   },
   {
    "duration": 26,
    "start_time": "2023-04-13T19:46:42.596Z"
   },
   {
    "duration": 25,
    "start_time": "2023-04-13T19:46:52.669Z"
   },
   {
    "duration": 1160,
    "start_time": "2023-04-15T09:12:26.684Z"
   },
   {
    "duration": 3,
    "start_time": "2023-04-15T09:12:27.846Z"
   },
   {
    "duration": 24,
    "start_time": "2023-04-15T09:12:27.850Z"
   },
   {
    "duration": 15,
    "start_time": "2023-04-15T09:12:27.876Z"
   },
   {
    "duration": 102,
    "start_time": "2023-04-15T09:12:27.893Z"
   },
   {
    "duration": 96,
    "start_time": "2023-04-15T09:12:27.997Z"
   },
   {
    "duration": 69,
    "start_time": "2023-04-15T09:12:28.095Z"
   },
   {
    "duration": 14,
    "start_time": "2023-04-15T09:12:28.166Z"
   },
   {
    "duration": 30,
    "start_time": "2023-04-15T09:12:28.182Z"
   },
   {
    "duration": 14,
    "start_time": "2023-04-15T09:12:28.214Z"
   },
   {
    "duration": 31,
    "start_time": "2023-04-15T09:12:28.230Z"
   },
   {
    "duration": 9,
    "start_time": "2023-04-15T09:12:28.263Z"
   },
   {
    "duration": 14,
    "start_time": "2023-04-15T09:12:28.274Z"
   },
   {
    "duration": 13,
    "start_time": "2023-04-15T09:12:28.302Z"
   },
   {
    "duration": 21,
    "start_time": "2023-04-15T09:12:28.317Z"
   },
   {
    "duration": 12,
    "start_time": "2023-04-15T09:12:28.340Z"
   },
   {
    "duration": 25,
    "start_time": "2023-04-15T09:12:28.353Z"
   },
   {
    "duration": 28,
    "start_time": "2023-04-15T09:12:28.380Z"
   },
   {
    "duration": 22,
    "start_time": "2023-04-15T09:12:28.409Z"
   },
   {
    "duration": 23,
    "start_time": "2023-04-15T09:12:28.433Z"
   },
   {
    "duration": 25,
    "start_time": "2023-04-15T09:12:28.458Z"
   },
   {
    "duration": 27,
    "start_time": "2023-04-15T09:12:28.485Z"
   },
   {
    "duration": 11,
    "start_time": "2023-04-15T09:12:28.515Z"
   },
   {
    "duration": 37,
    "start_time": "2023-04-15T09:12:28.529Z"
   },
   {
    "duration": 333,
    "start_time": "2023-04-15T09:12:28.568Z"
   },
   {
    "duration": 7,
    "start_time": "2023-04-15T09:12:28.903Z"
   },
   {
    "duration": 12,
    "start_time": "2023-04-15T09:12:28.912Z"
   },
   {
    "duration": 60,
    "start_time": "2023-04-15T09:12:28.925Z"
   },
   {
    "duration": 401,
    "start_time": "2023-04-15T09:12:28.987Z"
   },
   {
    "duration": 3,
    "start_time": "2023-04-15T09:12:29.390Z"
   },
   {
    "duration": 24,
    "start_time": "2023-04-15T09:12:29.395Z"
   },
   {
    "duration": 402,
    "start_time": "2023-04-15T09:12:29.420Z"
   },
   {
    "duration": 301,
    "start_time": "2023-04-15T09:12:29.824Z"
   },
   {
    "duration": 66,
    "start_time": "2023-04-15T09:12:30.127Z"
   },
   {
    "duration": 33,
    "start_time": "2023-04-15T09:12:30.195Z"
   },
   {
    "duration": 27,
    "start_time": "2023-04-15T09:12:30.230Z"
   },
   {
    "duration": 31,
    "start_time": "2023-04-15T09:12:30.258Z"
   },
   {
    "duration": 616,
    "start_time": "2023-04-15T09:12:30.292Z"
   },
   {
    "duration": 295,
    "start_time": "2023-04-15T09:12:30.910Z"
   },
   {
    "duration": 8,
    "start_time": "2023-04-15T09:12:31.207Z"
   },
   {
    "duration": 449,
    "start_time": "2023-04-15T09:12:31.220Z"
   },
   {
    "duration": 28,
    "start_time": "2023-04-15T09:12:31.671Z"
   },
   {
    "duration": 23,
    "start_time": "2023-04-15T09:12:31.700Z"
   },
   {
    "duration": 347,
    "start_time": "2023-04-15T09:12:31.725Z"
   },
   {
    "duration": 8,
    "start_time": "2023-04-15T09:12:32.074Z"
   },
   {
    "duration": 391,
    "start_time": "2023-04-15T09:12:32.083Z"
   },
   {
    "duration": 19,
    "start_time": "2023-04-15T09:12:32.476Z"
   },
   {
    "duration": 158,
    "start_time": "2023-04-15T09:12:32.500Z"
   },
   {
    "duration": 5,
    "start_time": "2023-04-15T09:12:32.660Z"
   },
   {
    "duration": 195,
    "start_time": "2023-04-15T09:12:32.667Z"
   },
   {
    "duration": 8,
    "start_time": "2023-04-15T09:12:32.864Z"
   },
   {
    "duration": 32,
    "start_time": "2023-04-15T09:12:32.887Z"
   },
   {
    "duration": 47,
    "start_time": "2023-04-15T09:12:32.921Z"
   },
   {
    "duration": 228,
    "start_time": "2023-04-15T09:12:32.970Z"
   },
   {
    "duration": 5,
    "start_time": "2023-04-15T09:12:33.200Z"
   },
   {
    "duration": 24,
    "start_time": "2023-04-15T09:12:33.206Z"
   },
   {
    "duration": 101,
    "start_time": "2023-04-15T09:12:33.232Z"
   },
   {
    "duration": 12,
    "start_time": "2023-04-15T09:12:33.335Z"
   },
   {
    "duration": 31,
    "start_time": "2023-04-15T09:12:33.349Z"
   },
   {
    "duration": 32,
    "start_time": "2023-04-15T09:12:33.382Z"
   },
   {
    "duration": 20,
    "start_time": "2023-04-15T09:12:33.416Z"
   },
   {
    "duration": 21,
    "start_time": "2023-04-15T09:12:33.438Z"
   },
   {
    "duration": 49,
    "start_time": "2023-04-15T09:12:33.460Z"
   },
   {
    "duration": 17,
    "start_time": "2023-04-15T09:12:33.510Z"
   },
   {
    "duration": 42,
    "start_time": "2023-04-15T09:12:33.529Z"
   },
   {
    "duration": 27,
    "start_time": "2023-04-15T09:12:33.573Z"
   },
   {
    "duration": 29,
    "start_time": "2023-04-15T09:12:33.602Z"
   },
   {
    "duration": 4,
    "start_time": "2023-04-15T10:05:41.507Z"
   },
   {
    "duration": 3,
    "start_time": "2023-04-15T10:05:41.579Z"
   },
   {
    "duration": 3,
    "start_time": "2023-04-15T10:05:41.675Z"
   },
   {
    "duration": 3,
    "start_time": "2023-04-15T10:05:41.739Z"
   },
   {
    "duration": 27,
    "start_time": "2023-04-15T10:05:42.337Z"
   },
   {
    "duration": 38,
    "start_time": "2023-04-15T10:05:42.437Z"
   },
   {
    "duration": 16,
    "start_time": "2023-04-15T10:05:42.517Z"
   },
   {
    "duration": 10,
    "start_time": "2023-04-15T10:05:42.597Z"
   },
   {
    "duration": 10,
    "start_time": "2023-04-15T10:05:42.669Z"
   },
   {
    "duration": 11,
    "start_time": "2023-04-15T10:05:42.757Z"
   },
   {
    "duration": 6,
    "start_time": "2023-04-15T10:05:43.077Z"
   },
   {
    "duration": 5,
    "start_time": "2023-04-15T10:05:43.237Z"
   },
   {
    "duration": 6,
    "start_time": "2023-04-15T10:05:43.579Z"
   },
   {
    "duration": 6,
    "start_time": "2023-04-15T10:05:43.966Z"
   },
   {
    "duration": 8,
    "start_time": "2023-04-15T10:05:44.697Z"
   },
   {
    "duration": 3,
    "start_time": "2023-04-15T10:05:45.517Z"
   },
   {
    "duration": 11,
    "start_time": "2023-04-15T10:05:45.636Z"
   },
   {
    "duration": 13,
    "start_time": "2023-04-15T10:05:46.517Z"
   },
   {
    "duration": 10,
    "start_time": "2023-04-15T10:05:48.110Z"
   },
   {
    "duration": 4,
    "start_time": "2023-04-15T10:05:48.797Z"
   },
   {
    "duration": 14,
    "start_time": "2023-04-15T10:05:49.309Z"
   },
   {
    "duration": 4,
    "start_time": "2023-04-15T10:05:49.525Z"
   },
   {
    "duration": 5,
    "start_time": "2023-04-15T10:05:50.197Z"
   },
   {
    "duration": 6,
    "start_time": "2023-04-15T10:05:50.537Z"
   },
   {
    "duration": 126,
    "start_time": "2023-04-15T10:05:51.812Z"
   },
   {
    "duration": 6,
    "start_time": "2023-04-15T10:05:52.436Z"
   },
   {
    "duration": 3,
    "start_time": "2023-04-15T10:05:55.677Z"
   },
   {
    "duration": 5,
    "start_time": "2023-04-15T10:06:12.517Z"
   },
   {
    "duration": 8,
    "start_time": "2023-04-15T10:06:34.858Z"
   },
   {
    "duration": 7,
    "start_time": "2023-04-15T10:06:51.735Z"
   },
   {
    "duration": 7,
    "start_time": "2023-04-15T10:07:00.054Z"
   },
   {
    "duration": 10,
    "start_time": "2023-04-15T10:07:16.294Z"
   },
   {
    "duration": 6,
    "start_time": "2023-04-15T10:07:37.454Z"
   },
   {
    "duration": 7,
    "start_time": "2023-04-15T10:07:43.534Z"
   },
   {
    "duration": 169,
    "start_time": "2023-04-15T10:08:29.105Z"
   },
   {
    "duration": 3,
    "start_time": "2023-04-15T10:08:30.655Z"
   },
   {
    "duration": 10,
    "start_time": "2023-04-15T10:08:53.369Z"
   },
   {
    "duration": 7,
    "start_time": "2023-04-15T10:08:58.789Z"
   },
   {
    "duration": 7,
    "start_time": "2023-04-15T10:09:02.629Z"
   },
   {
    "duration": 151,
    "start_time": "2023-04-15T10:09:53.205Z"
   },
   {
    "duration": 5,
    "start_time": "2023-04-15T10:09:56.347Z"
   },
   {
    "duration": 48,
    "start_time": "2023-04-15T10:10:35.409Z"
   },
   {
    "duration": 4,
    "start_time": "2023-04-15T10:10:38.425Z"
   },
   {
    "duration": 3,
    "start_time": "2023-04-15T10:12:19.489Z"
   },
   {
    "duration": 3,
    "start_time": "2023-04-15T10:17:18.112Z"
   },
   {
    "duration": 2,
    "start_time": "2023-04-15T10:17:18.165Z"
   },
   {
    "duration": 3,
    "start_time": "2023-04-15T10:17:18.255Z"
   },
   {
    "duration": 3,
    "start_time": "2023-04-15T10:17:18.335Z"
   },
   {
    "duration": 26,
    "start_time": "2023-04-15T10:17:18.935Z"
   },
   {
    "duration": 38,
    "start_time": "2023-04-15T10:17:19.016Z"
   },
   {
    "duration": 16,
    "start_time": "2023-04-15T10:17:19.081Z"
   },
   {
    "duration": 10,
    "start_time": "2023-04-15T10:17:19.184Z"
   },
   {
    "duration": 11,
    "start_time": "2023-04-15T10:17:19.241Z"
   },
   {
    "duration": 10,
    "start_time": "2023-04-15T10:17:19.352Z"
   },
   {
    "duration": 5,
    "start_time": "2023-04-15T10:17:19.505Z"
   },
   {
    "duration": 5,
    "start_time": "2023-04-15T10:17:19.592Z"
   },
   {
    "duration": 6,
    "start_time": "2023-04-15T10:17:19.776Z"
   },
   {
    "duration": 7,
    "start_time": "2023-04-15T10:17:19.841Z"
   },
   {
    "duration": 8,
    "start_time": "2023-04-15T10:17:20.096Z"
   },
   {
    "duration": 3,
    "start_time": "2023-04-15T10:17:20.631Z"
   },
   {
    "duration": 11,
    "start_time": "2023-04-15T10:17:20.703Z"
   },
   {
    "duration": 13,
    "start_time": "2023-04-15T10:17:21.335Z"
   },
   {
    "duration": 10,
    "start_time": "2023-04-15T10:17:23.215Z"
   },
   {
    "duration": 4,
    "start_time": "2023-04-15T10:17:23.536Z"
   },
   {
    "duration": 13,
    "start_time": "2023-04-15T10:17:23.881Z"
   },
   {
    "duration": 4,
    "start_time": "2023-04-15T10:17:24.015Z"
   },
   {
    "duration": 6,
    "start_time": "2023-04-15T10:17:24.391Z"
   },
   {
    "duration": 7,
    "start_time": "2023-04-15T10:17:24.666Z"
   },
   {
    "duration": 134,
    "start_time": "2023-04-15T10:17:25.151Z"
   },
   {
    "duration": 6,
    "start_time": "2023-04-15T10:17:25.512Z"
   },
   {
    "duration": 4,
    "start_time": "2023-04-15T10:17:25.703Z"
   },
   {
    "duration": 4,
    "start_time": "2023-04-15T10:17:26.215Z"
   },
   {
    "duration": 196,
    "start_time": "2023-04-15T10:17:26.432Z"
   },
   {
    "duration": 5,
    "start_time": "2023-04-15T10:17:27.712Z"
   },
   {
    "duration": 46,
    "start_time": "2023-04-16T10:38:03.539Z"
   },
   {
    "duration": 1285,
    "start_time": "2023-04-16T10:38:15.431Z"
   },
   {
    "duration": 3,
    "start_time": "2023-04-16T10:38:17.309Z"
   },
   {
    "duration": 2,
    "start_time": "2023-04-16T10:38:18.509Z"
   },
   {
    "duration": 2,
    "start_time": "2023-04-16T10:38:19.835Z"
   },
   {
    "duration": 99,
    "start_time": "2023-04-16T10:38:34.610Z"
   },
   {
    "duration": 99,
    "start_time": "2023-04-16T10:38:35.531Z"
   },
   {
    "duration": 78,
    "start_time": "2023-04-16T10:38:36.518Z"
   },
   {
    "duration": 14,
    "start_time": "2023-04-16T10:38:37.506Z"
   },
   {
    "duration": 13,
    "start_time": "2023-04-16T10:38:38.183Z"
   },
   {
    "duration": 12,
    "start_time": "2023-04-16T10:38:38.723Z"
   },
   {
    "duration": 8,
    "start_time": "2023-04-16T10:38:39.951Z"
   },
   {
    "duration": 7,
    "start_time": "2023-04-16T10:38:40.706Z"
   },
   {
    "duration": 7,
    "start_time": "2023-04-16T10:38:42.167Z"
   },
   {
    "duration": 7,
    "start_time": "2023-04-16T10:38:43.010Z"
   },
   {
    "duration": 12,
    "start_time": "2023-04-16T10:38:46.806Z"
   },
   {
    "duration": 4,
    "start_time": "2023-04-16T10:38:49.591Z"
   },
   {
    "duration": 17,
    "start_time": "2023-04-16T10:38:50.439Z"
   },
   {
    "duration": 12,
    "start_time": "2023-04-16T10:38:53.450Z"
   },
   {
    "duration": 8,
    "start_time": "2023-04-16T10:38:57.902Z"
   },
   {
    "duration": 3,
    "start_time": "2023-04-16T10:38:59.699Z"
   },
   {
    "duration": 13,
    "start_time": "2023-04-16T10:39:01.099Z"
   },
   {
    "duration": 4,
    "start_time": "2023-04-16T10:39:01.634Z"
   },
   {
    "duration": 4,
    "start_time": "2023-04-16T10:39:03.145Z"
   },
   {
    "duration": 5,
    "start_time": "2023-04-16T10:39:03.798Z"
   },
   {
    "duration": 121,
    "start_time": "2023-04-16T10:39:06.400Z"
   },
   {
    "duration": 5,
    "start_time": "2023-04-16T10:39:07.811Z"
   },
   {
    "duration": 4,
    "start_time": "2023-04-16T10:39:08.699Z"
   },
   {
    "duration": 3,
    "start_time": "2023-04-16T10:39:14.739Z"
   },
   {
    "duration": 6,
    "start_time": "2023-04-16T10:39:17.006Z"
   },
   {
    "duration": 4,
    "start_time": "2023-04-16T10:41:54.493Z"
   },
   {
    "duration": 26,
    "start_time": "2023-04-16T10:44:47.200Z"
   },
   {
    "duration": 6,
    "start_time": "2023-04-16T10:44:49.693Z"
   },
   {
    "duration": 27,
    "start_time": "2023-04-16T10:45:02.830Z"
   },
   {
    "duration": 6,
    "start_time": "2023-04-16T10:45:04.436Z"
   },
   {
    "duration": 106,
    "start_time": "2023-04-16T10:52:29.327Z"
   },
   {
    "duration": 18,
    "start_time": "2023-04-16T10:52:54.941Z"
   },
   {
    "duration": 53,
    "start_time": "2023-04-17T04:00:31.145Z"
   },
   {
    "duration": 1524,
    "start_time": "2023-04-17T04:00:55.552Z"
   },
   {
    "duration": 5,
    "start_time": "2023-04-17T04:00:57.079Z"
   },
   {
    "duration": 6,
    "start_time": "2023-04-17T04:00:57.086Z"
   },
   {
    "duration": 4,
    "start_time": "2023-04-17T04:00:57.095Z"
   },
   {
    "duration": 66,
    "start_time": "2023-04-17T04:00:57.100Z"
   },
   {
    "duration": 67,
    "start_time": "2023-04-17T04:00:57.173Z"
   },
   {
    "duration": 67,
    "start_time": "2023-04-17T04:00:57.242Z"
   },
   {
    "duration": 14,
    "start_time": "2023-04-17T04:00:57.311Z"
   },
   {
    "duration": 15,
    "start_time": "2023-04-17T04:00:57.327Z"
   },
   {
    "duration": 22,
    "start_time": "2023-04-17T04:00:57.345Z"
   },
   {
    "duration": 9,
    "start_time": "2023-04-17T04:00:57.374Z"
   },
   {
    "duration": 11,
    "start_time": "2023-04-17T04:00:57.385Z"
   },
   {
    "duration": 8,
    "start_time": "2023-04-17T04:00:57.398Z"
   },
   {
    "duration": 15,
    "start_time": "2023-04-17T04:00:57.407Z"
   },
   {
    "duration": 74,
    "start_time": "2023-04-17T04:00:57.424Z"
   },
   {
    "duration": 23,
    "start_time": "2023-04-17T04:00:57.500Z"
   },
   {
    "duration": 16,
    "start_time": "2023-04-17T04:00:57.524Z"
   },
   {
    "duration": 25,
    "start_time": "2023-04-17T04:00:57.542Z"
   },
   {
    "duration": 23,
    "start_time": "2023-04-17T04:00:57.569Z"
   },
   {
    "duration": 50,
    "start_time": "2023-04-17T04:00:57.595Z"
   },
   {
    "duration": 24,
    "start_time": "2023-04-17T04:00:57.647Z"
   },
   {
    "duration": 23,
    "start_time": "2023-04-17T04:00:57.674Z"
   },
   {
    "duration": 5,
    "start_time": "2023-04-17T04:00:57.699Z"
   },
   {
    "duration": 8,
    "start_time": "2023-04-17T04:00:57.706Z"
   },
   {
    "duration": 166,
    "start_time": "2023-04-17T04:00:57.715Z"
   },
   {
    "duration": 6,
    "start_time": "2023-04-17T04:00:57.883Z"
   },
   {
    "duration": 5,
    "start_time": "2023-04-17T04:00:57.891Z"
   },
   {
    "duration": 3,
    "start_time": "2023-04-17T04:00:57.901Z"
   },
   {
    "duration": 8,
    "start_time": "2023-04-17T04:00:57.906Z"
   },
   {
    "duration": 7,
    "start_time": "2023-04-17T04:00:57.916Z"
   },
   {
    "duration": 59,
    "start_time": "2023-04-17T04:00:57.924Z"
   },
   {
    "duration": 201,
    "start_time": "2023-04-17T04:00:57.985Z"
   },
   {
    "duration": 153,
    "start_time": "2023-04-17T04:00:58.188Z"
   },
   {
    "duration": 7,
    "start_time": "2023-04-17T04:00:58.343Z"
   },
   {
    "duration": 16,
    "start_time": "2023-04-17T04:00:58.361Z"
   },
   {
    "duration": 26,
    "start_time": "2023-04-17T04:00:58.379Z"
   },
   {
    "duration": 85,
    "start_time": "2023-04-17T04:00:58.408Z"
   },
   {
    "duration": 475,
    "start_time": "2023-04-17T04:00:58.495Z"
   },
   {
    "duration": 315,
    "start_time": "2023-04-17T04:00:58.972Z"
   },
   {
    "duration": 9,
    "start_time": "2023-04-17T04:00:59.290Z"
   },
   {
    "duration": 449,
    "start_time": "2023-04-17T04:00:59.301Z"
   },
   {
    "duration": 16,
    "start_time": "2023-04-17T04:00:59.756Z"
   },
   {
    "duration": 15,
    "start_time": "2023-04-17T04:00:59.774Z"
   },
   {
    "duration": 343,
    "start_time": "2023-04-17T04:00:59.791Z"
   },
   {
    "duration": 9,
    "start_time": "2023-04-17T04:01:00.137Z"
   },
   {
    "duration": 399,
    "start_time": "2023-04-17T04:01:00.148Z"
   },
   {
    "duration": 14,
    "start_time": "2023-04-17T04:01:00.549Z"
   },
   {
    "duration": 245,
    "start_time": "2023-04-17T04:01:00.569Z"
   },
   {
    "duration": 6,
    "start_time": "2023-04-17T04:01:00.815Z"
   },
   {
    "duration": 190,
    "start_time": "2023-04-17T04:01:00.822Z"
   },
   {
    "duration": 10,
    "start_time": "2023-04-17T04:01:01.014Z"
   },
   {
    "duration": 78,
    "start_time": "2023-04-17T04:01:01.027Z"
   },
   {
    "duration": 65,
    "start_time": "2023-04-17T04:01:01.106Z"
   },
   {
    "duration": 251,
    "start_time": "2023-04-17T04:01:01.180Z"
   },
   {
    "duration": 7,
    "start_time": "2023-04-17T04:01:01.435Z"
   },
   {
    "duration": 28,
    "start_time": "2023-04-17T04:01:01.444Z"
   },
   {
    "duration": 121,
    "start_time": "2023-04-17T04:01:01.475Z"
   },
   {
    "duration": 83,
    "start_time": "2023-04-17T04:01:01.597Z"
   },
   {
    "duration": 90,
    "start_time": "2023-04-17T04:01:01.682Z"
   },
   {
    "duration": 66,
    "start_time": "2023-04-17T04:01:01.776Z"
   },
   {
    "duration": 59,
    "start_time": "2023-04-17T04:01:01.844Z"
   },
   {
    "duration": 45,
    "start_time": "2023-04-17T04:01:01.905Z"
   },
   {
    "duration": 69,
    "start_time": "2023-04-17T04:01:01.953Z"
   },
   {
    "duration": 51,
    "start_time": "2023-04-17T04:01:02.024Z"
   },
   {
    "duration": 11,
    "start_time": "2023-04-17T04:01:02.078Z"
   },
   {
    "duration": 24,
    "start_time": "2023-04-17T04:01:02.091Z"
   },
   {
    "duration": 23,
    "start_time": "2023-04-17T04:01:02.117Z"
   },
   {
    "duration": 1359,
    "start_time": "2023-04-17T05:17:59.179Z"
   },
   {
    "duration": 7,
    "start_time": "2023-04-17T05:18:01.168Z"
   },
   {
    "duration": 3,
    "start_time": "2023-04-17T05:18:01.825Z"
   },
   {
    "duration": 3,
    "start_time": "2023-04-17T05:18:02.513Z"
   },
   {
    "duration": 89,
    "start_time": "2023-04-17T05:18:06.111Z"
   },
   {
    "duration": 102,
    "start_time": "2023-04-17T05:18:06.543Z"
   },
   {
    "duration": 87,
    "start_time": "2023-04-17T05:18:07.655Z"
   },
   {
    "duration": 16,
    "start_time": "2023-04-17T05:18:08.385Z"
   },
   {
    "duration": 13,
    "start_time": "2023-04-17T05:18:09.009Z"
   },
   {
    "duration": 14,
    "start_time": "2023-04-17T05:18:09.784Z"
   },
   {
    "duration": 9,
    "start_time": "2023-04-17T05:18:11.186Z"
   },
   {
    "duration": 8,
    "start_time": "2023-04-17T05:18:11.919Z"
   },
   {
    "duration": 6,
    "start_time": "2023-04-17T05:18:13.294Z"
   },
   {
    "duration": 8,
    "start_time": "2023-04-17T05:18:14.030Z"
   },
   {
    "duration": 13,
    "start_time": "2023-04-17T05:18:16.240Z"
   },
   {
    "duration": 8,
    "start_time": "2023-04-17T05:18:19.153Z"
   },
   {
    "duration": 17,
    "start_time": "2023-04-17T05:18:19.902Z"
   },
   {
    "duration": 11,
    "start_time": "2023-04-17T05:18:26.091Z"
   },
   {
    "duration": 9,
    "start_time": "2023-04-17T05:18:33.621Z"
   },
   {
    "duration": 5,
    "start_time": "2023-04-17T05:18:35.088Z"
   },
   {
    "duration": 15,
    "start_time": "2023-04-17T05:18:37.070Z"
   },
   {
    "duration": 4,
    "start_time": "2023-04-17T05:18:38.116Z"
   },
   {
    "duration": 4,
    "start_time": "2023-04-17T05:18:41.587Z"
   },
   {
    "duration": 7,
    "start_time": "2023-04-17T05:18:42.386Z"
   },
   {
    "duration": 154,
    "start_time": "2023-04-17T05:18:44.514Z"
   },
   {
    "duration": 6,
    "start_time": "2023-04-17T05:18:45.844Z"
   },
   {
    "duration": 4,
    "start_time": "2023-04-17T05:18:46.633Z"
   },
   {
    "duration": 4,
    "start_time": "2023-04-17T05:18:53.749Z"
   },
   {
    "duration": 5,
    "start_time": "2023-04-17T05:18:54.581Z"
   },
   {
    "duration": 4,
    "start_time": "2023-04-17T05:19:29.509Z"
   },
   {
    "duration": 4,
    "start_time": "2023-04-17T05:19:57.735Z"
   },
   {
    "duration": 4,
    "start_time": "2023-04-17T05:21:28.698Z"
   },
   {
    "duration": 6,
    "start_time": "2023-04-17T05:22:06.369Z"
   },
   {
    "duration": 5,
    "start_time": "2023-04-17T05:22:35.679Z"
   },
   {
    "duration": 6,
    "start_time": "2023-04-17T05:22:53.733Z"
   },
   {
    "duration": 94,
    "start_time": "2023-04-17T05:27:20.206Z"
   },
   {
    "duration": 7,
    "start_time": "2023-04-17T05:27:34.039Z"
   },
   {
    "duration": 7,
    "start_time": "2023-04-17T05:28:19.605Z"
   },
   {
    "duration": 12,
    "start_time": "2023-04-17T05:29:19.056Z"
   },
   {
    "duration": 12,
    "start_time": "2023-04-17T05:29:35.416Z"
   },
   {
    "duration": 6,
    "start_time": "2023-04-17T05:29:41.801Z"
   },
   {
    "duration": 7,
    "start_time": "2023-04-17T05:30:01.528Z"
   },
   {
    "duration": 6,
    "start_time": "2023-04-17T05:30:24.842Z"
   },
   {
    "duration": 8,
    "start_time": "2023-04-17T05:30:48.478Z"
   },
   {
    "duration": 7,
    "start_time": "2023-04-17T05:31:10.702Z"
   },
   {
    "duration": 105,
    "start_time": "2023-04-17T05:37:32.680Z"
   },
   {
    "duration": 8,
    "start_time": "2023-04-17T05:38:02.753Z"
   },
   {
    "duration": 206,
    "start_time": "2023-04-17T05:38:03.732Z"
   },
   {
    "duration": 125,
    "start_time": "2023-04-17T05:38:05.930Z"
   },
   {
    "duration": 8,
    "start_time": "2023-04-17T05:38:06.831Z"
   },
   {
    "duration": 11,
    "start_time": "2023-04-17T05:38:07.965Z"
   },
   {
    "duration": 7,
    "start_time": "2023-04-17T05:38:19.003Z"
   },
   {
    "duration": 5,
    "start_time": "2023-04-17T05:38:19.529Z"
   },
   {
    "duration": 362,
    "start_time": "2023-04-17T05:38:20.618Z"
   },
   {
    "duration": 309,
    "start_time": "2023-04-17T05:38:24.027Z"
   },
   {
    "duration": 11,
    "start_time": "2023-04-17T05:38:26.653Z"
   },
   {
    "duration": 414,
    "start_time": "2023-04-17T05:38:27.637Z"
   },
   {
    "duration": 6,
    "start_time": "2023-04-17T05:38:31.447Z"
   },
   {
    "duration": 5,
    "start_time": "2023-04-17T05:38:32.084Z"
   },
   {
    "duration": 300,
    "start_time": "2023-04-17T05:38:32.682Z"
   },
   {
    "duration": 7,
    "start_time": "2023-04-17T05:38:35.248Z"
   },
   {
    "duration": 395,
    "start_time": "2023-04-17T05:38:35.654Z"
   },
   {
    "duration": 9,
    "start_time": "2023-04-17T05:38:50.706Z"
   },
   {
    "duration": 198,
    "start_time": "2023-04-17T05:38:52.779Z"
   },
   {
    "duration": 5,
    "start_time": "2023-04-17T05:38:57.927Z"
   },
   {
    "duration": 173,
    "start_time": "2023-04-17T05:39:01.611Z"
   },
   {
    "duration": 15,
    "start_time": "2023-04-17T05:39:05.747Z"
   },
   {
    "duration": 8,
    "start_time": "2023-04-17T05:39:08.526Z"
   },
   {
    "duration": 12,
    "start_time": "2023-04-17T05:39:09.278Z"
   },
   {
    "duration": 7,
    "start_time": "2023-04-17T05:39:39.403Z"
   },
   {
    "duration": 14,
    "start_time": "2023-04-17T05:39:43.632Z"
   },
   {
    "duration": 185,
    "start_time": "2023-04-17T05:39:48.081Z"
   },
   {
    "duration": 5,
    "start_time": "2023-04-17T05:40:01.103Z"
   },
   {
    "duration": 5,
    "start_time": "2023-04-17T05:40:02.645Z"
   },
   {
    "duration": 112,
    "start_time": "2023-04-17T05:42:07.431Z"
   },
   {
    "duration": 21,
    "start_time": "2023-04-17T05:42:16.764Z"
   },
   {
    "duration": 10,
    "start_time": "2023-04-17T05:42:20.522Z"
   },
   {
    "duration": 3,
    "start_time": "2023-04-17T05:42:21.808Z"
   },
   {
    "duration": 5,
    "start_time": "2023-04-17T05:42:23.084Z"
   },
   {
    "duration": 10,
    "start_time": "2023-04-17T05:42:30.282Z"
   },
   {
    "duration": 28,
    "start_time": "2023-04-17T05:42:32.110Z"
   },
   {
    "duration": 23,
    "start_time": "2023-04-17T05:42:42.247Z"
   },
   {
    "duration": 9,
    "start_time": "2023-04-17T05:42:43.099Z"
   },
   {
    "duration": 6,
    "start_time": "2023-04-17T05:42:44.025Z"
   },
   {
    "duration": 8,
    "start_time": "2023-04-17T05:42:47.099Z"
   },
   {
    "duration": 1129,
    "start_time": "2023-04-17T05:50:17.311Z"
   },
   {
    "duration": 2,
    "start_time": "2023-04-17T05:50:18.443Z"
   },
   {
    "duration": 20,
    "start_time": "2023-04-17T05:50:18.447Z"
   },
   {
    "duration": 6,
    "start_time": "2023-04-17T05:50:18.469Z"
   },
   {
    "duration": 26,
    "start_time": "2023-04-17T05:50:18.478Z"
   },
   {
    "duration": 31,
    "start_time": "2023-04-17T05:50:18.506Z"
   },
   {
    "duration": 13,
    "start_time": "2023-04-17T05:50:18.539Z"
   },
   {
    "duration": 18,
    "start_time": "2023-04-17T05:50:18.554Z"
   },
   {
    "duration": 11,
    "start_time": "2023-04-17T05:50:18.574Z"
   },
   {
    "duration": 22,
    "start_time": "2023-04-17T05:50:18.588Z"
   },
   {
    "duration": 12,
    "start_time": "2023-04-17T05:50:18.612Z"
   },
   {
    "duration": 16,
    "start_time": "2023-04-17T05:50:18.625Z"
   },
   {
    "duration": 8,
    "start_time": "2023-04-17T05:50:18.643Z"
   },
   {
    "duration": 8,
    "start_time": "2023-04-17T05:50:18.652Z"
   },
   {
    "duration": 13,
    "start_time": "2023-04-17T05:50:18.668Z"
   },
   {
    "duration": 3,
    "start_time": "2023-04-17T05:50:18.682Z"
   },
   {
    "duration": 13,
    "start_time": "2023-04-17T05:50:18.687Z"
   },
   {
    "duration": 11,
    "start_time": "2023-04-17T05:50:18.702Z"
   },
   {
    "duration": 12,
    "start_time": "2023-04-17T05:50:18.715Z"
   },
   {
    "duration": 35,
    "start_time": "2023-04-17T05:50:18.729Z"
   },
   {
    "duration": 11,
    "start_time": "2023-04-17T05:50:18.772Z"
   },
   {
    "duration": 5,
    "start_time": "2023-04-17T05:50:18.784Z"
   },
   {
    "duration": 5,
    "start_time": "2023-04-17T05:50:18.791Z"
   },
   {
    "duration": 15,
    "start_time": "2023-04-17T05:50:18.797Z"
   },
   {
    "duration": 146,
    "start_time": "2023-04-17T05:50:18.814Z"
   },
   {
    "duration": 8,
    "start_time": "2023-04-17T05:50:18.962Z"
   },
   {
    "duration": 4,
    "start_time": "2023-04-17T05:50:18.972Z"
   },
   {
    "duration": 9,
    "start_time": "2023-04-17T05:50:18.979Z"
   },
   {
    "duration": 5,
    "start_time": "2023-04-17T05:50:18.989Z"
   },
   {
    "duration": 8,
    "start_time": "2023-04-17T05:50:18.995Z"
   },
   {
    "duration": 7,
    "start_time": "2023-04-17T05:50:19.005Z"
   },
   {
    "duration": 187,
    "start_time": "2023-04-17T05:50:19.014Z"
   },
   {
    "duration": 121,
    "start_time": "2023-04-17T05:50:19.202Z"
   },
   {
    "duration": 7,
    "start_time": "2023-04-17T05:50:19.325Z"
   },
   {
    "duration": 37,
    "start_time": "2023-04-17T05:50:19.334Z"
   },
   {
    "duration": 6,
    "start_time": "2023-04-17T05:50:19.373Z"
   },
   {
    "duration": 7,
    "start_time": "2023-04-17T05:50:19.380Z"
   },
   {
    "duration": 349,
    "start_time": "2023-04-17T05:50:19.388Z"
   },
   {
    "duration": 267,
    "start_time": "2023-04-17T05:50:19.739Z"
   },
   {
    "duration": 6,
    "start_time": "2023-04-17T05:50:20.008Z"
   },
   {
    "duration": 390,
    "start_time": "2023-04-17T05:50:20.016Z"
   },
   {
    "duration": 5,
    "start_time": "2023-04-17T05:50:20.408Z"
   },
   {
    "duration": 8,
    "start_time": "2023-04-17T05:50:20.415Z"
   },
   {
    "duration": 329,
    "start_time": "2023-04-17T05:50:20.425Z"
   },
   {
    "duration": 6,
    "start_time": "2023-04-17T05:50:20.756Z"
   },
   {
    "duration": 358,
    "start_time": "2023-04-17T05:50:20.764Z"
   },
   {
    "duration": 6,
    "start_time": "2023-04-17T05:50:21.123Z"
   },
   {
    "duration": 162,
    "start_time": "2023-04-17T05:50:21.131Z"
   },
   {
    "duration": 4,
    "start_time": "2023-04-17T05:50:21.295Z"
   },
   {
    "duration": 193,
    "start_time": "2023-04-17T05:50:21.301Z"
   },
   {
    "duration": 10,
    "start_time": "2023-04-17T05:50:21.495Z"
   },
   {
    "duration": 6,
    "start_time": "2023-04-17T05:50:21.507Z"
   },
   {
    "duration": 11,
    "start_time": "2023-04-17T05:50:21.514Z"
   },
   {
    "duration": 183,
    "start_time": "2023-04-17T05:50:21.527Z"
   },
   {
    "duration": 5,
    "start_time": "2023-04-17T05:50:21.711Z"
   },
   {
    "duration": 3,
    "start_time": "2023-04-17T05:50:21.718Z"
   },
   {
    "duration": 110,
    "start_time": "2023-04-17T05:50:21.723Z"
   },
   {
    "duration": 30,
    "start_time": "2023-04-17T05:50:21.835Z"
   },
   {
    "duration": 14,
    "start_time": "2023-04-17T05:50:21.867Z"
   },
   {
    "duration": 3,
    "start_time": "2023-04-17T05:50:21.883Z"
   },
   {
    "duration": 15,
    "start_time": "2023-04-17T05:50:21.887Z"
   },
   {
    "duration": 8,
    "start_time": "2023-04-17T05:50:21.904Z"
   },
   {
    "duration": 29,
    "start_time": "2023-04-17T05:50:21.914Z"
   },
   {
    "duration": 27,
    "start_time": "2023-04-17T05:50:21.945Z"
   },
   {
    "duration": 24,
    "start_time": "2023-04-17T05:50:21.974Z"
   },
   {
    "duration": 7,
    "start_time": "2023-04-17T05:50:22.000Z"
   },
   {
    "duration": 15,
    "start_time": "2023-04-17T05:50:22.009Z"
   }
  ],
  "kernelspec": {
   "display_name": "Python 3 (ipykernel)",
   "language": "python",
   "name": "python3"
  },
  "language_info": {
   "codemirror_mode": {
    "name": "ipython",
    "version": 3
   },
   "file_extension": ".py",
   "mimetype": "text/x-python",
   "name": "python",
   "nbconvert_exporter": "python",
   "pygments_lexer": "ipython3",
   "version": "3.9.13"
  },
  "toc": {
   "base_numbering": 1,
   "nav_menu": {},
   "number_sections": true,
   "sideBar": true,
   "skip_h1_title": true,
   "title_cell": "Table of Contents",
   "title_sidebar": "Contents",
   "toc_cell": false,
   "toc_position": {
    "height": "calc(100% - 180px)",
    "left": "10px",
    "top": "150px",
    "width": "274px"
   },
   "toc_section_display": true,
   "toc_window_display": true
  }
 },
 "nbformat": 4,
 "nbformat_minor": 2
}
